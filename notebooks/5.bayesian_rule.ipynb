{
 "cells": [
  {
   "cell_type": "markdown",
   "id": "n0vsDcLboVy1",
   "metadata": {
    "id": "n0vsDcLboVy1"
   },
   "source": [
    "# **5. Bayes Rules**\n",
    "\n",
    "Introduction to Probability Course - Sekolah Data - Pacmann Academy"
   ]
  },
  {
   "cell_type": "code",
   "execution_count": 2,
   "id": "4a8d2599",
   "metadata": {},
   "outputs": [],
   "source": [
    "import sys\n",
    "sys.path.insert(0, \"/home/ubuntu/learning/probability-and-random-variables/\")\n",
    "\n",
    "from probs_module.module_proba_5 import hitung_probabilitas\n",
    "from probs_module.module_proba_5 import hitung_total_probabilitas\n",
    "from probs_module.module_proba_5 import hitung_probabilitas_posterior\n",
    "from probs_module.module_proba_5 import plot_range_probabilitas_posterior\n",
    "from probs_module.module_proba_5 import hitung_jumlah_kejadian\n",
    "from probs_module.module_proba_5 import plot_interaktif_probabilitas_posterior\n",
    "from probs_module.module_proba_5 import summary_data"
   ]
  },
  {
   "cell_type": "markdown",
   "id": "0HD_U2NKx4Ke",
   "metadata": {
    "id": "0HD_U2NKx4Ke"
   },
   "source": [
    "Install Library Tabulate"
   ]
  },
  {
   "cell_type": "code",
   "execution_count": null,
   "id": "f5rPWthLx3CL",
   "metadata": {
    "colab": {
     "base_uri": "https://localhost:8080/"
    },
    "id": "f5rPWthLx3CL",
    "outputId": "326b4475-37b1-4ae2-d1ee-c7da94124799"
   },
   "outputs": [
    {
     "name": "stdout",
     "output_type": "stream",
     "text": [
      "Looking in indexes: https://pypi.org/simple, https://us-python.pkg.dev/colab-wheels/public/simple/\n",
      "Requirement already satisfied: tabulate in /usr/local/lib/python3.7/dist-packages (0.8.10)\n"
     ]
    }
   ],
   "source": [
    "# !pip install tabulate"
   ]
  },
  {
   "cell_type": "markdown",
   "id": "26229c14",
   "metadata": {
    "id": "26229c14"
   },
   "source": [
    "---\n",
    "## **Case Barang Rusak - Law of Total Probability**"
   ]
  },
  {
   "cell_type": "markdown",
   "id": "1218077b",
   "metadata": {
    "id": "1218077b"
   },
   "source": [
    "- Suatu pabrik menggunakan 4 mesin untuk memproduksi barang sejenis.\n",
    "- Produksi harian dari mesin pertama, kedua, ketiga dan keempat masing-masing sebesar 1.000, 1.200, 1.800, dan 2.000 buah.\n",
    "- Produksi dari mesin pertama, kedua, ketiga dan keempat masing-masing mengalami kerusakan sebanyak 1%, 0.5%, 0.5%, dan 1%. Lalu\n",
    "\n",
    "Berapa total probabilitas dari barang yang rusak?"
   ]
  },
  {
   "cell_type": "markdown",
   "id": "99a061af",
   "metadata": {
    "id": "99a061af"
   },
   "source": [
    "Misal:\n",
    "\n",
    "    - i = 1,2,3,4\n",
    "    - Mesin_i = produksi barang dari mesin ke i\n",
    "    - rusak = produksi barang yang rusak"
   ]
  },
  {
   "cell_type": "markdown",
   "id": "gO9shbDdosjZ",
   "metadata": {
    "id": "gO9shbDdosjZ"
   },
   "source": [
    "Kita tinjau kembali persamaan total probabilitas, dimana:\n",
    "\n",
    "$$\n",
    "\\begin{align*}\n",
    "P(A) &= P(B_{1})P(A \\ | \\ B_{1}) + P(B_{2})P(A \\ | \\ B_{2}) + \\cdots + P(B_{n})P(A \\ | \\ B_{n}) \\\\\n",
    "     &= \\sum_{i}^{n} P(B_{i})P(A \\ | \\ B_{i})\n",
    "\\end{align*}\n",
    "$$"
   ]
  },
  {
   "cell_type": "markdown",
   "id": "lw0PRYhyo3QW",
   "metadata": {
    "id": "lw0PRYhyo3QW"
   },
   "source": [
    "Maka yang dicari adalah:\n",
    "\n",
    "$$\n",
    "P(\\text{rusak}) = P(\\text{mesin}_{1}) \\cdot P(\\text{rusak} \\ | \\ \\text{mesin}_{1})  + P(\\text{mesin}_{2}) \\cdot P(\\text{rusak} \\ | \\ \\text{mesin}_{2})\n",
    "\\\\ + P(\\text{mesin}_{3}) \\cdot P(\\text{rusak} \\ | \\ \\text{mesin}_{3})\n",
    " + P(\\text{mesin}_{4}) \\cdot P(\\text{rusak} \\ | \\ \\text{mesin}_{4})\n",
    "\\\\\n",
    "$$\n",
    "\n",
    "$$\n",
    "\\\\\n",
    "P(\\text{rusak}) = \\sum_{i} P(\\text{mesin}_{i}) P(\\text{rusak} \\ | \\ \\text{mesin}_{i})\n",
    "$$"
   ]
  },
  {
   "cell_type": "markdown",
   "id": "ae0ee1d9",
   "metadata": {
    "id": "ae0ee1d9"
   },
   "source": [
    "Dalam kasus ini kita belum memiliki nilai probabilitas dari tiap mesin, sehingga kita akan mencari nilai probabilitas dari masing-masing mesin, $P(\\text{mesin}_{i})$, terlebih dahulu:"
   ]
  },
  {
   "cell_type": "code",
   "execution_count": 3,
   "id": "9f1e34fa",
   "metadata": {
    "colab": {
     "base_uri": "https://localhost:8080/"
    },
    "id": "9f1e34fa",
    "outputId": "0274cec2-00af-406f-e61b-e4ebc485ae7f"
   },
   "outputs": [
    {
     "name": "stdout",
     "output_type": "stream",
     "text": [
      "probabilitas produksi barang dari mesin pertama adalah 0.17\n",
      "probabilitas produksi barang dari mesin kedua adalah 0.20\n",
      "probabilitas produksi barang dari mesin ketiga adalah 0.30\n",
      "probabilitas produksi barang dari mesin keempat adalah 0.33\n"
     ]
    }
   ],
   "source": [
    "# mendapatkan ruang sample\n",
    "produksi_Mesin1 = 1000\n",
    "produksi_Mesin2 = 1200\n",
    "produksi_Mesin3 = 1800\n",
    "produksi_Mesin4 = 2000\n",
    "\n",
    "total_produksi = produksi_Mesin1 + produksi_Mesin2 + produksi_Mesin3 + produksi_Mesin4\n",
    "\n",
    "# Probabilitas barang dari masing-masing mesin\n",
    "P_Mesin1 = hitung_probabilitas(total_produksi, produksi_Mesin1)\n",
    "print(f\"probabilitas produksi barang dari mesin pertama adalah {P_Mesin1:.2f}\")\n",
    "\n",
    "P_Mesin2 = hitung_probabilitas(total_produksi, produksi_Mesin2)\n",
    "print(f\"probabilitas produksi barang dari mesin kedua adalah {P_Mesin2:.2f}\")\n",
    "\n",
    "P_Mesin3 = hitung_probabilitas(total_produksi, produksi_Mesin3)\n",
    "print(f\"probabilitas produksi barang dari mesin ketiga adalah {P_Mesin3:.2f}\")\n",
    "\n",
    "P_Mesin4 = hitung_probabilitas(total_produksi, produksi_Mesin4)\n",
    "print(f\"probabilitas produksi barang dari mesin keempat adalah {P_Mesin4:.2f}\")"
   ]
  },
  {
   "cell_type": "markdown",
   "id": "eb8850c0",
   "metadata": {
    "id": "eb8850c0"
   },
   "source": [
    "Selanjutnya kita mendefinisikan probabilitas barang yang rusak dari tiap mesin, $P(\\text{rusak} \\ | \\ \\text{mesin}_{i})$"
   ]
  },
  {
   "cell_type": "code",
   "execution_count": 4,
   "id": "22ef4fd4",
   "metadata": {
    "id": "22ef4fd4"
   },
   "outputs": [],
   "source": [
    "# Langkah 2 mendefinisikan nilai probabilitas barang rusak dari masing-masing mesin\n",
    "P_Rusak_Mesin1 = 0.01\n",
    "P_Rusak_Mesin2 = 0.005\n",
    "P_Rusak_Mesin3 = 0.005\n",
    "P_Rusak_Mesin4 = 0.01"
   ]
  },
  {
   "cell_type": "markdown",
   "id": "e0253915-8179-4356-8de2-f15ef6cdb462",
   "metadata": {
    "id": "e0253915-8179-4356-8de2-f15ef6cdb462"
   },
   "source": [
    "Untuk menghitung total probabilitas barang rusak dapat digunakan:\n",
    "\n",
    "$$\n",
    "P(\\text{rusak}) = P(\\text{mesin}_{1}) \\cdot P(\\text{rusak} \\ | \\ \\text{mesin}_{1})  + P(\\text{mesin}_{2}) \\cdot P(\\text{rusak} \\ | \\ \\text{mesin}_{2})\n",
    "\\\\ + P(\\text{mesin}_{3}) \\cdot P(\\text{rusak} \\ | \\ \\text{mesin}_{3})\n",
    " + P(\\text{mesin}_{4}) \\cdot P(\\text{rusak} \\ | \\ \\text{mesin}_{4})\n",
    "$$"
   ]
  },
  {
   "cell_type": "markdown",
   "id": "2c60f5f4",
   "metadata": {
    "id": "2c60f5f4"
   },
   "source": [
    "Sehingga nilai total probabilitasnya:"
   ]
  },
  {
   "cell_type": "code",
   "execution_count": 5,
   "id": "23f61443",
   "metadata": {
    "colab": {
     "base_uri": "https://localhost:8080/"
    },
    "id": "23f61443",
    "outputId": "90c52a3d-aae9-43c6-c732-a365d00fc83d"
   },
   "outputs": [
    {
     "name": "stdout",
     "output_type": "stream",
     "text": [
      "Total probabilitas dari barang yang rusak adalah 0.0075\n"
     ]
    }
   ],
   "source": [
    "# P_Rusak = probabilitas total barang rusak\n",
    "P_Rusak = P_Mesin1*P_Rusak_Mesin1 + P_Mesin2*P_Rusak_Mesin2 \\\n",
    "          + P_Mesin3*P_Rusak_Mesin3 + P_Mesin4*P_Rusak_Mesin4\n",
    "\n",
    "print(f\"Total probabilitas dari barang yang rusak adalah {P_Rusak:.4f}\")"
   ]
  },
  {
   "cell_type": "markdown",
   "id": "552f3b7f",
   "metadata": {
    "id": "552f3b7f"
   },
   "source": [
    "---\n",
    "## **Case Email Spam - Bayes' Rule**"
   ]
  },
  {
   "cell_type": "markdown",
   "id": "k3FbXsL8MhZ8",
   "metadata": {
    "id": "k3FbXsL8MhZ8"
   },
   "source": [
    "Saat ini Bobi sedang mengembangkan aplikasi pendeteksi email spam dan dia sedang mengujinya ke akun emailnya sendiri. Bobi mengasumsikan bahwa 3% dari 5000 email yang masuk ke akunnya adalah spam.\n",
    "\n",
    "<center>\n",
    "<img src=\"https://miro.medium.com/v2/resize:fit:920/1*CS-OYdiRLCBMBiOpEURy0g.png\">\n",
    "</center>\n",
    "\n",
    "[sumber gambar](https://miro.medium.com/v2/resize:fit:920/1*CS-OYdiRLCBMBiOpEURy0g.png)\n",
    "\n",
    "Setelah melakukan beberapa percobaan Bobi menyimpulkan bahwa\n",
    "- jika email tersebut adalah spam, aplikasinya dapat mendeteksinya sebagai spam dengan tingkat akurasi (sensitifity) 95%, dan\n",
    "- jika email tersebut non spam maka aplikasinya dapat mendeteksinya sebagai non spam dengan akurasi (specificity) 98%.\n",
    "\n",
    "Jika sebuah email baru masuk dan dideteksi sebagai spam, berapa probabilitas email tersebut benar-benar spam?"
   ]
  },
  {
   "cell_type": "markdown",
   "id": "2646de07",
   "metadata": {
    "id": "2646de07"
   },
   "source": [
    "Misal:\n",
    "\n",
    "    - spam = {email spam}\n",
    "    - terdeteksi = {email terdeteksi sebagai spam}"
   ]
  },
  {
   "cell_type": "markdown",
   "id": "XxTc6DISpiU8",
   "metadata": {
    "id": "XxTc6DISpiU8"
   },
   "source": [
    "Maka yang akan dicari adalah:\n",
    "\n",
    "$$\n",
    "P(\\text{spam|terdeteksi}) = \\cfrac{P(\\text{spam}) P(\\text{terdeteksi} \\ | \\ \\text{spam})}{P(\\text{terdeteksi})}\n",
    "$$"
   ]
  },
  {
   "cell_type": "markdown",
   "id": "d63bfd58",
   "metadata": {
    "id": "d63bfd58"
   },
   "source": [
    "Dimana:\n",
    "\n",
    "     p(spam) = prior\n",
    "     p(terdeteksi|spam) = likelihood\n",
    "     p(terdeteksi) = evidence = marginal likelihood\n",
    "     p(spam|terdeteksi) = posterior"
   ]
  },
  {
   "cell_type": "markdown",
   "id": "72d839ff",
   "metadata": {
    "id": "72d839ff"
   },
   "source": [
    "Diketahui bahwa persentase email spam sebanyak 3%, sehingga:\n",
    "    \n",
    "    P(spam) = 0.03"
   ]
  },
  {
   "cell_type": "markdown",
   "id": "90d53d92",
   "metadata": {
    "id": "90d53d92"
   },
   "source": [
    "Selain itu sensitivity dari aplikasi yaitu 95%\n",
    "    \n",
    "    P(terdeteksi | spam) = 0.95"
   ]
  },
  {
   "cell_type": "markdown",
   "id": "6fa30931",
   "metadata": {
    "id": "6fa30931"
   },
   "source": [
    "Aplikasi juga memiliki specificity sebesar 98%\n",
    "\n",
    "    P(tidak terdeteksi | non spam) = 0.98"
   ]
  },
  {
   "cell_type": "markdown",
   "id": "zRO3ltvlpxNm",
   "metadata": {
    "id": "zRO3ltvlpxNm"
   },
   "source": [
    "Gambaran akurasi dari aplikasinya sebagai berikut:\n",
    "\n",
    "![](https://sekolahdata-assets.s3.ap-southeast-1.amazonaws.com/notebook-images/mds-probability/live_05_04_bayes.png)"
   ]
  },
  {
   "cell_type": "markdown",
   "id": "b5c82632",
   "metadata": {
    "id": "b5c82632"
   },
   "source": [
    "Dari tabel diatas dapat disimpulkan:\n",
    "- Masih terdapat 5% email spam yang tidak terdeteksi sebagai spam (False Negative)\n",
    "- Masih terdapat 2% email not-spam yang terdeteksi sebagai spam (False Positive)"
   ]
  },
  {
   "cell_type": "markdown",
   "id": "kcF39sy1qHjS",
   "metadata": {
    "id": "kcF39sy1qHjS"
   },
   "source": [
    "Pada kasus ini belum diketahui nilai P(terdeteksi). Namun ini bisa didapatkan dengan menggunakan rumus total probabilitas:\n",
    "\n",
    "![](https://sekolahdata-assets.s3.ap-southeast-1.amazonaws.com/notebook-images/mds-probability/live_05_05_Bayes.png)\n",
    "\n",
    "dimana:\n",
    "\n",
    "$$\n",
    "\\begin{align*}\n",
    "P(\\text{terdeteksi}) &= P(\\text{terdeteksi} \\ | \\ \\text{spam}) P(\\text{spam}) +  P(\\text{terdeteksi} \\ | \\ \\text{non-spam}) P(\\text{non-spam})\\\\\n",
    " &= \\text{sensitivity} \\cdot \\text{prior} + (1-\\text{specificity}) \\cdot (1-\\text{prior})\n",
    "\\end{align*}\n",
    "$$\n",
    "\n",
    "> Note:\n",
    "> - Sensitivity merupakan akurasi detektor dalam mendeteksi positif email spam\n",
    "> - Specificity merupakan akurasi detektor dalam mendeteksi negatif email non-spam"
   ]
  },
  {
   "cell_type": "markdown",
   "id": "a10e334c",
   "metadata": {
    "id": "a10e334c"
   },
   "source": [
    "---\n",
    "### **2. 1 Menghitung Probabilitas dengan Bayes' Rule**"
   ]
  },
  {
   "cell_type": "code",
   "execution_count": 6,
   "id": "b013b2fe-4ea5-4e96-bfee-29781b9086a0",
   "metadata": {
    "colab": {
     "base_uri": "https://localhost:8080/"
    },
    "id": "b013b2fe-4ea5-4e96-bfee-29781b9086a0",
    "outputId": "d29a9f34-6bca-4e96-abed-b123bea0cce2"
   },
   "outputs": [
    {
     "name": "stdout",
     "output_type": "stream",
     "text": [
      "probabilitas email yang masuk adalah spam jika terdeteksi positif sebesar 0.59\n"
     ]
    }
   ],
   "source": [
    "p_spam = 0.03 # P(spam)\n",
    "sensitivity = 0.95 # P(terdeteksi | spam)\n",
    "specificity = 0.98 # P(tidak terdeteksi | non-spam)\n",
    "\n",
    "p_terdeteksi = hitung_total_probabilitas(sensitivity, p_spam,\n",
    "                                           (1-specificity), (1-p_spam)) # P(terdeteksi)\n",
    "\n",
    "p_spam_jika_terdeteksi = hitung_probabilitas_posterior(p_spam, sensitivity, p_terdeteksi)\n",
    "\n",
    "print(f\"probabilitas email yang masuk adalah spam jika terdeteksi positif sebesar {p_spam_jika_terdeteksi:.2f}\")"
   ]
  },
  {
   "cell_type": "markdown",
   "id": "4da94f8f",
   "metadata": {
    "id": "4da94f8f"
   },
   "source": [
    "- Hasil perhitungan di atas menunjukkan, meskipun sebuah email terdeteksi sebagai spam oleh aplikasi, Namun probabilitas bahwa email tersebut benar-benar spam tidak terlalu besar.\n",
    "\n",
    "- Dengan kata lain, dengan nilai probabilitas tersebut, kita juga tidak terlalu yakin bahwa email yang dideteksi sebagai spam, benar-benar email spam.\n",
    "\n",
    "- **Menurut Kalian, mengapa bisa demikian?**"
   ]
  },
  {
   "cell_type": "markdown",
   "id": "45b0cbbe",
   "metadata": {
    "id": "45b0cbbe"
   },
   "source": [
    "- Dari persamaan terlihat bahwa nilai prior (salah satu input) berbanding lurus terhadap posterior. Maka semakin besar nilai prior membuat nilai posterior juga akan meningkat."
   ]
  },
  {
   "cell_type": "markdown",
   "id": "9f22e6ba",
   "metadata": {
    "id": "9f22e6ba"
   },
   "source": [
    "---\n",
    "### **2.2 Pengaruh prior terhadap posterior**"
   ]
  },
  {
   "cell_type": "markdown",
   "id": "5bcca1ab",
   "metadata": {
    "id": "5bcca1ab"
   },
   "source": [
    "Pada kasus ini, **prior** merupakan **rasio** antara **jumlah email spam** terhadap **seluruh email** yang ada"
   ]
  },
  {
   "cell_type": "markdown",
   "id": "b98aa18b",
   "metadata": {
    "id": "b98aa18b"
   },
   "source": [
    "Kita lihat perubahan nilai posterior jika nilai prior dinaikkan menjadi **0.06, 0.09,** dan **0.12**\n",
    "> Note : kita asumsikan jumlah email, sensitivity, dan specificity tetap sama"
   ]
  },
  {
   "cell_type": "markdown",
   "id": "7a6c2529",
   "metadata": {
    "id": "7a6c2529"
   },
   "source": [
    "1. Kita buat fungsi untuk menghitung nilai posterior"
   ]
  },
  {
   "cell_type": "markdown",
   "id": "02d56d2b",
   "metadata": {
    "id": "02d56d2b"
   },
   "source": [
    "2. Hitung nilai posterior"
   ]
  },
  {
   "cell_type": "code",
   "execution_count": 7,
   "id": "f525af4d-8dda-4eb6-93c0-3c470d1115ea",
   "metadata": {
    "colab": {
     "base_uri": "https://localhost:8080/"
    },
    "id": "f525af4d-8dda-4eb6-93c0-3c470d1115ea",
    "outputId": "aa96aa91-7bba-4c60-af87-71f27531e4dc"
   },
   "outputs": [
    {
     "name": "stdout",
     "output_type": "stream",
     "text": [
      "Jika nilai prior 0.06 maka posteriornya 0.75\n",
      "Jika nilai prior 0.09 maka posteriornya 0.82\n",
      "Jika nilai prior 0.12 maka posteriornya 0.87\n"
     ]
    }
   ],
   "source": [
    "prior1 = 0.06\n",
    "prior2 = 0.09\n",
    "prior3 = 0.12\n",
    "sensitivity = 0.95\n",
    "specificity = 0.98\n",
    "\n",
    "# Menghitung nilai posterior berdasarkan nilai prior1\n",
    "p_terdeteksi = hitung_total_probabilitas(sensitivity, prior1,\n",
    "                                           (1-specificity), (1-prior1))\n",
    "posterior1 = hitung_probabilitas_posterior(prior1, sensitivity, p_terdeteksi)\n",
    "print(f\"Jika nilai prior {prior1} maka posteriornya {posterior1:.2f}\")\n",
    "\n",
    "\n",
    "# Menghitung nilai posterior berdasarkan nilai prior1\n",
    "p_terdeteksi = hitung_total_probabilitas(sensitivity, prior2,\n",
    "                                           (1-specificity), (1-prior2))\n",
    "posterior2 = hitung_probabilitas_posterior(prior2, sensitivity, p_terdeteksi)\n",
    "print(f\"Jika nilai prior {prior2} maka posteriornya {posterior2:.2f}\")\n",
    "\n",
    "# Menghitung nilai posterior berdasarkan nilai prior1\n",
    "p_terdeteksi = hitung_total_probabilitas(sensitivity, prior3,\n",
    "                                           (1-specificity), (1-prior3))\n",
    "posterior3 = hitung_probabilitas_posterior(prior3, sensitivity, p_terdeteksi)\n",
    "print(f\"Jika nilai prior {prior3} maka posteriornya {posterior3:.2f}\")"
   ]
  },
  {
   "cell_type": "markdown",
   "id": "1bad38b8-23f7-4bc7-afdb-7e547ffdf0f8",
   "metadata": {
    "id": "1bad38b8-23f7-4bc7-afdb-7e547ffdf0f8"
   },
   "source": [
    "Terlihat semakin tinggi nilai prior maka akan semakin tinggi probability posteriornya"
   ]
  },
  {
   "cell_type": "markdown",
   "id": "ce6cfab8",
   "metadata": {
    "id": "ce6cfab8"
   },
   "source": [
    "3. Visualisasi prior-posterior"
   ]
  },
  {
   "cell_type": "markdown",
   "id": "GEVDoGxNEPH_",
   "metadata": {
    "id": "GEVDoGxNEPH_"
   },
   "source": [
    "Ingat dalam kasus ini:\n",
    "\n",
    "- P(spam) = prior\n",
    "- P(spam | terdeteksi) = posterior"
   ]
  },
  {
   "cell_type": "code",
   "execution_count": 8,
   "id": "83c2e12b",
   "metadata": {
    "colab": {
     "base_uri": "https://localhost:8080/",
     "height": 295
    },
    "id": "83c2e12b",
    "outputId": "82e54f60-71d8-499e-da84-4d71084bb757"
   },
   "outputs": [
    {
     "data": {
      "image/png": "[encoded data removed]",
      "text/plain": [
       "<Figure size 640x480 with 1 Axes>"
      ]
     },
     "metadata": {},
     "output_type": "display_data"
    }
   ],
   "source": [
    "sensitivity = 0.95\n",
    "specificity = 0.98\n",
    "batas_bawah_prior = 0.001\n",
    "batas_atas_prior = 1.001\n",
    "step_tiap_prior = 0.001\n",
    "\n",
    "plot_range_probabilitas_posterior(batas_bawah_prior,\n",
    "                           batas_atas_prior,\n",
    "                           step_tiap_prior,\n",
    "                           sensitivity=sensitivity,\n",
    "                           specificity=specificity,\n",
    "                           by=\"prior\")"
   ]
  },
  {
   "cell_type": "markdown",
   "id": "4f84675f",
   "metadata": {
    "id": "4f84675f"
   },
   "source": [
    "Dari visualisasi diatas, dapat dikatakan bahwa meskipun nilai sensitivity dan specificity aplikasi sangat akurat, Namun jika proporsi dari email spam yang masuk sedikit dibanding keseluruhan email maka nilai posterior akan cenderung kecil."
   ]
  },
  {
   "cell_type": "markdown",
   "id": "a223c539",
   "metadata": {
    "id": "a223c539"
   },
   "source": [
    "Visualisasi interaktif, pengaruh prior terhadap posterior"
   ]
  },
  {
   "cell_type": "code",
   "execution_count": 9,
   "id": "afd8eefe",
   "metadata": {
    "colab": {
     "base_uri": "https://localhost:8080/",
     "height": 327,
     "referenced_widgets": [
      "0ca4fbaa310c4e95a2f5da8e7b3ebfbb",
      "8de8b2eb55894af781bbe1d923adb845",
      "0e3fbbfd5cca4688ae7be9f18ab1c177",
      "8dd5fc2992c64200b665a01598119d17",
      "930b30d489e24e55a7cd50a054b1b131",
      "f67de988290747498be6a75c16c2b615",
      "60f7d62c51a143118a91bc466101e26d"
     ]
    },
    "id": "afd8eefe",
    "outputId": "8f862497-3259-4925-9d67-964e12872def"
   },
   "outputs": [
    {
     "data": {
      "application/vnd.jupyter.widget-view+json": {
       "model_id": "62b9f83e4766407f926e04e444fde8e8",
       "version_major": 2,
       "version_minor": 0
      },
      "text/plain": [
       "HBox(children=(FloatSlider(value=0.0, description='prior', max=1.0, step=0.001),))"
      ]
     },
     "metadata": {},
     "output_type": "display_data"
    },
    {
     "data": {
      "application/vnd.jupyter.widget-view+json": {
       "model_id": "4e5e1d01349440888f7ba4f3b7bbc2ba",
       "version_major": 2,
       "version_minor": 0
      },
      "text/plain": [
       "Output()"
      ]
     },
     "metadata": {},
     "output_type": "display_data"
    }
   ],
   "source": [
    "sensitivity = 0.95\n",
    "specificity = 0.98\n",
    "batas_bawah_prior = 0.001\n",
    "batas_atas_prior = 1.001\n",
    "step_tiap_prior = 0.001\n",
    "plot_interaktif_probabilitas_posterior(batas_bawah_prior,\n",
    "                           batas_atas_prior,\n",
    "                           step_tiap_prior,\n",
    "                           sensitivity=sensitivity,\n",
    "                           specificity=specificity,\n",
    "                           by=\"prior\")"
   ]
  },
  {
   "cell_type": "markdown",
   "id": "92a6dfdf",
   "metadata": {
    "id": "92a6dfdf"
   },
   "source": [
    "---\n",
    "### **2.3 Apakah jumlah data berpengaruh?**"
   ]
  },
  {
   "cell_type": "markdown",
   "id": "e0eb5828",
   "metadata": {
    "id": "e0eb5828"
   },
   "source": [
    "Jika kita tinjau kasus sekarang, dimana:\n",
    "\n",
    "    n_email = 5000\n",
    "    P(spam) = 0.03\n",
    "    sensitivity = 0.95\n",
    "    specificity = 0.98\n",
    "\n",
    "Dalam kasus ini kita gunakan fungsi **hitung_jumlah_kejadian** untuk menghitung jumlah kejadian berdasarkan nilai probabilitasnya.\n",
    "\n",
    "Terdapat dua input yaitu:\n",
    "- sample space, dan\n",
    "- probabilitas kejadian (event)\n",
    "\n",
    "Conton Penggunaan:\n",
    "\n",
    "hitung_jumlah_kejadian(sample_space, probabilitas_event)\n",
    "\n",
    "Maka didapatkan:\n",
    "    "
   ]
  },
  {
   "cell_type": "code",
   "execution_count": 10,
   "id": "0ff5fb45",
   "metadata": {
    "colab": {
     "base_uri": "https://localhost:8080/"
    },
    "id": "0ff5fb45",
    "outputId": "e52346cf-0b28-4545-a4e8-a6f6332347d8"
   },
   "outputs": [
    {
     "name": "stdout",
     "output_type": "stream",
     "text": [
      "Jumlah email spam adalah 150\n",
      "Jumlah email non spam adalah 4850\n"
     ]
    }
   ],
   "source": [
    "jumlah_total_email = 5000\n",
    "P_spam = 0.03\n",
    "sensitivity = 0.95\n",
    "specificity = 0.98\n",
    "\n",
    "# sehingga:\n",
    "jumlah_email_spam = hitung_jumlah_kejadian(jumlah_total_email, P_spam)\n",
    "print(f\"Jumlah email spam adalah {jumlah_email_spam}\")\n",
    "\n",
    "jumlah_email_non_spam = jumlah_total_email - jumlah_email_spam\n",
    "print(f\"Jumlah email non spam adalah {jumlah_email_non_spam}\")"
   ]
  },
  {
   "cell_type": "markdown",
   "id": "fb81c8cc",
   "metadata": {
    "id": "fb81c8cc"
   },
   "source": [
    "Terlihat perbandingannya cukup jauh. Hal ini mengakibatkan:"
   ]
  },
  {
   "cell_type": "code",
   "execution_count": 11,
   "id": "6bb81dd3",
   "metadata": {
    "colab": {
     "base_uri": "https://localhost:8080/"
    },
    "id": "6bb81dd3",
    "outputId": "a4370717-1205-4e74-c3d2-03bd5eba8bca"
   },
   "outputs": [
    {
     "name": "stdout",
     "output_type": "stream",
     "text": [
      "Jumlah email spam yang terdeteksi adalah: 142\n",
      "Jumlah email spam yang tidak terdeteksi adalah: 8\n",
      "Jumlah email non spam yang terdeteksi sebagai spam adalah: 97\n",
      "Jumlah email non spam yang tidak terdeteksi sebagai spam adalah: 4753\n"
     ]
    }
   ],
   "source": [
    "jumlah_spam_terdeteksi = hitung_jumlah_kejadian(jumlah_email_spam, sensitivity)\n",
    "print(f\"Jumlah email spam yang terdeteksi adalah: {jumlah_spam_terdeteksi}\")\n",
    "\n",
    "jumlah_spam_tidak_terdeteksi = hitung_jumlah_kejadian(jumlah_email_spam, 1-sensitivity)\n",
    "print(f\"Jumlah email spam yang tidak terdeteksi adalah: {jumlah_spam_tidak_terdeteksi}\")\n",
    "\n",
    "jumlah_nonspam_terdeteksi_spam = hitung_jumlah_kejadian(jumlah_email_non_spam, 1-specificity)\n",
    "print(f\"Jumlah email non spam yang terdeteksi sebagai spam adalah: {jumlah_nonspam_terdeteksi_spam}\")\n",
    "\n",
    "jumlah_nonspam_tidak_terdeteksi_spam = hitung_jumlah_kejadian(jumlah_email_non_spam, specificity)\n",
    "print(f\"Jumlah email non spam yang tidak terdeteksi sebagai spam adalah: {jumlah_nonspam_tidak_terdeteksi_spam}\")"
   ]
  },
  {
   "cell_type": "markdown",
   "id": "EtBjL6dMrrnp",
   "metadata": {
    "id": "EtBjL6dMrrnp"
   },
   "source": [
    "![](https://sekolahdata-assets.s3.ap-southeast-1.amazonaws.com/notebook-images/mds-probability/live_05_06_Bayes.png)"
   ]
  },
  {
   "cell_type": "markdown",
   "id": "0dae5093",
   "metadata": {
    "id": "0dae5093"
   },
   "source": [
    "\n",
    "> Note\n",
    "> - email **spam** yang **terdeteksi spam** disebut **True Positive**\n",
    "> - email **spam** yang **tidak terdeteksi spam** disebut **False Negative**\n",
    "> - email **non-spam** yang **terdeteksi spam** disebut **False Positive**\n",
    "> - email **non-spam** yang **tidak terdeteksi spam** disebut **True Negative**\n",
    "\n",
    "Reff : https://p7x7q5i4.rocketcdn.me/en/wp-content/uploads/sites/2/2020/01/false-positive-smartpedia.jpg"
   ]
  },
  {
   "cell_type": "code",
   "execution_count": 12,
   "id": "8dcbff8e",
   "metadata": {
    "colab": {
     "base_uri": "https://localhost:8080/"
    },
    "id": "8dcbff8e",
    "outputId": "79d6860f-da8b-4824-ba01-0e681cdc2d81"
   },
   "outputs": [
    {
     "name": "stdout",
     "output_type": "stream",
     "text": [
      "Pada kasus ini proporsi email spam terhadap seluruh email yang terdeteksi spam (posterior) = 0.59\n"
     ]
    }
   ],
   "source": [
    "P_spam = 0.03\n",
    "sensitivity = 0.95\n",
    "specificity = 0.98\n",
    "p_terdeteksi = hitung_total_probabilitas(sensitivity, P_spam,\n",
    "                                           (1-specificity), (1-P_spam))\n",
    "\n",
    "posterior = hitung_probabilitas_posterior(P_spam, sensitivity, p_terdeteksi)\n",
    "print(f\"Pada kasus ini proporsi email spam terhadap seluruh email yang terdeteksi spam (posterior) = {posterior:.2f}\" )"
   ]
  },
  {
   "cell_type": "markdown",
   "id": "73626080",
   "metadata": {
    "id": "73626080"
   },
   "source": [
    "##### Bagaimana jika $P(\\text{spam}) = 0.1$?"
   ]
  },
  {
   "cell_type": "code",
   "execution_count": 13,
   "id": "7a4bea8d",
   "metadata": {
    "colab": {
     "base_uri": "https://localhost:8080/"
    },
    "id": "7a4bea8d",
    "outputId": "7c00502a-5b55-45a7-fdda-0eebf51d60dd"
   },
   "outputs": [
    {
     "name": "stdout",
     "output_type": "stream",
     "text": [
      "Jumlah email spam adalah 500\n",
      "Jumlah email spam adalah 4500\n"
     ]
    }
   ],
   "source": [
    "jumlah_total_email = 5000\n",
    "P_spam = 0.1\n",
    "sensitivity = 0.95\n",
    "specificity = 0.98\n",
    "\n",
    "# sehingga:\n",
    "jumlah_email_spam = hitung_jumlah_kejadian(jumlah_total_email, P_spam)\n",
    "print(f\"Jumlah email spam adalah {jumlah_email_spam}\")\n",
    "\n",
    "jumlah_email_non_spam = jumlah_total_email - jumlah_email_spam\n",
    "print(f\"Jumlah email spam adalah {jumlah_email_non_spam}\")"
   ]
  },
  {
   "cell_type": "code",
   "execution_count": 14,
   "id": "72689720",
   "metadata": {
    "colab": {
     "base_uri": "https://localhost:8080/"
    },
    "id": "72689720",
    "outputId": "2476c4c6-187b-49c0-de32-4ba7470f5fed"
   },
   "outputs": [
    {
     "name": "stdout",
     "output_type": "stream",
     "text": [
      "Jumlah email spam yang terdeteksi adalah: 475\n",
      "Jumlah email spam yang tidak terdeteksi adalah: 25\n",
      "Jumlah email non spam yang terdeteksi sebagai spam adalah: 90\n",
      "Jumlah email non spam yang tidak terdeteksi sebagai spam adalah: 4410\n"
     ]
    }
   ],
   "source": [
    "jumlah_spam_terdeteksi = hitung_jumlah_kejadian(jumlah_email_spam, sensitivity)\n",
    "print(f\"Jumlah email spam yang terdeteksi adalah: {jumlah_spam_terdeteksi}\")\n",
    "\n",
    "jumlah_spam_tidak_terdeteksi = hitung_jumlah_kejadian(jumlah_email_spam, 1-sensitivity)\n",
    "print(f\"Jumlah email spam yang tidak terdeteksi adalah: {jumlah_spam_tidak_terdeteksi}\")\n",
    "\n",
    "jumlah_nonspam_terdeteksi_spam = hitung_jumlah_kejadian(jumlah_email_non_spam, 1-specificity)\n",
    "print(f\"Jumlah email non spam yang terdeteksi sebagai spam adalah: {jumlah_nonspam_terdeteksi_spam}\")\n",
    "\n",
    "jumlah_nonspam_tidak_terdeteksi_spam = hitung_jumlah_kejadian(jumlah_email_non_spam, specificity)\n",
    "print(f\"Jumlah email non spam yang tidak terdeteksi sebagai spam adalah: {jumlah_nonspam_tidak_terdeteksi_spam}\")"
   ]
  },
  {
   "cell_type": "markdown",
   "id": "-CTEm3Lyr70o",
   "metadata": {
    "id": "-CTEm3Lyr70o"
   },
   "source": [
    "![](https://sekolahdata-assets.s3.ap-southeast-1.amazonaws.com/notebook-images/mds-probability/live_05_07_Bayes.png)"
   ]
  },
  {
   "cell_type": "code",
   "execution_count": 15,
   "id": "176708ab",
   "metadata": {
    "colab": {
     "base_uri": "https://localhost:8080/"
    },
    "id": "176708ab",
    "outputId": "1ea198e8-0ad1-47bd-81a9-cf90cccb0e4a"
   },
   "outputs": [
    {
     "name": "stdout",
     "output_type": "stream",
     "text": [
      "Pada kasus ini proporsi email spam terhadap seluruh email yang terdeteksi spam (posterior) = 0.84\n"
     ]
    }
   ],
   "source": [
    "P_spam = 0.1\n",
    "sensitivity = 0.95\n",
    "specificity = 0.98\n",
    "p_terdeteksi = hitung_total_probabilitas(sensitivity, P_spam,\n",
    "                                           (1-specificity), (1-P_spam))\n",
    "\n",
    "posterior = hitung_probabilitas_posterior(P_spam, sensitivity, p_terdeteksi)\n",
    "print(f\"Pada kasus ini proporsi email spam terhadap seluruh email yang terdeteksi spam (posterior) = {posterior:.2f}\" )"
   ]
  },
  {
   "cell_type": "markdown",
   "id": "9f95bc97",
   "metadata": {
    "id": "9f95bc97"
   },
   "source": [
    "Dari kasus ini bisa dilihat bahwa nilai prior atau proporsi email spam terhadap keseluruhan email mempengaruhi nilai posterior"
   ]
  },
  {
   "cell_type": "markdown",
   "id": "828a87cb",
   "metadata": {
    "id": "828a87cb"
   },
   "source": [
    "##### Bagaimana jika n_data=10000 dan $P(\\text{spam})=0.1$?"
   ]
  },
  {
   "cell_type": "markdown",
   "id": "b34a6fd3",
   "metadata": {
    "id": "b34a6fd3"
   },
   "source": [
    "Pada kasus ini proporsi email spam tetap sama, namun jumlah keseluruhan email berubah"
   ]
  },
  {
   "cell_type": "code",
   "execution_count": 16,
   "id": "f66ee2f4",
   "metadata": {
    "colab": {
     "base_uri": "https://localhost:8080/"
    },
    "id": "f66ee2f4",
    "outputId": "ac491597-1543-439e-d837-dd7f47ce3547"
   },
   "outputs": [
    {
     "name": "stdout",
     "output_type": "stream",
     "text": [
      "Jumlah email spam adalah 1000\n",
      "Jumlah email spam adalah 9000\n"
     ]
    }
   ],
   "source": [
    "jumlah_total_email = 10000\n",
    "P_spam = 0.1\n",
    "sensitivity = 0.95\n",
    "specificity = 0.98\n",
    "\n",
    "# sehingga:\n",
    "jumlah_email_spam = hitung_jumlah_kejadian(jumlah_total_email, P_spam)\n",
    "print(f\"Jumlah email spam adalah {jumlah_email_spam}\")\n",
    "\n",
    "jumlah_email_non_spam = jumlah_total_email - jumlah_email_spam\n",
    "print(f\"Jumlah email spam adalah {jumlah_email_non_spam}\")"
   ]
  },
  {
   "cell_type": "code",
   "execution_count": 17,
   "id": "76e1674a",
   "metadata": {
    "colab": {
     "base_uri": "https://localhost:8080/"
    },
    "id": "76e1674a",
    "outputId": "22f24670-f4e6-4b2e-f95c-cc29ae93a94f"
   },
   "outputs": [
    {
     "name": "stdout",
     "output_type": "stream",
     "text": [
      "Jumlah email spam yang terdeteksi adalah: 950\n",
      "Jumlah email spam yang tidak terdeteksi adalah: 50\n",
      "Jumlah email non spam yang terdeteksi sebagai spam adalah: 180\n",
      "Jumlah email non spam yang tidak terdeteksi sebagai spam adalah: 8820\n"
     ]
    }
   ],
   "source": [
    "jumlah_spam_terdeteksi = hitung_jumlah_kejadian(jumlah_email_spam, sensitivity)\n",
    "print(f\"Jumlah email spam yang terdeteksi adalah: {jumlah_spam_terdeteksi}\")\n",
    "\n",
    "jumlah_spam_tidak_terdeteksi = hitung_jumlah_kejadian(jumlah_email_spam, 1-sensitivity)\n",
    "print(f\"Jumlah email spam yang tidak terdeteksi adalah: {jumlah_spam_tidak_terdeteksi}\")\n",
    "\n",
    "jumlah_nonspam_terdeteksi_spam = hitung_jumlah_kejadian(jumlah_email_non_spam, 1-specificity)\n",
    "print(f\"Jumlah email non spam yang terdeteksi sebagai spam adalah: {jumlah_nonspam_terdeteksi_spam}\")\n",
    "\n",
    "jumlah_nonspam_tidak_terdeteksi_spam = hitung_jumlah_kejadian(jumlah_email_non_spam, specificity)\n",
    "print(f\"Jumlah email non spam yang tidak terdeteksi sebagai spam adalah: {jumlah_nonspam_tidak_terdeteksi_spam}\")"
   ]
  },
  {
   "cell_type": "markdown",
   "id": "JHxBUrNAsMIk",
   "metadata": {
    "id": "JHxBUrNAsMIk"
   },
   "source": [
    "![](https://sekolahdata-assets.s3.ap-southeast-1.amazonaws.com/notebook-images/mds-probability/live_05_08_Bayes.png)"
   ]
  },
  {
   "cell_type": "code",
   "execution_count": 18,
   "id": "893798df",
   "metadata": {
    "colab": {
     "base_uri": "https://localhost:8080/"
    },
    "id": "893798df",
    "outputId": "26a72a93-7742-48e5-d00e-3829451e6009"
   },
   "outputs": [
    {
     "name": "stdout",
     "output_type": "stream",
     "text": [
      "Pada kasus ini proporsi email spam terhadap seluruh email yang terdeteksi spam (posterior) = 0.84\n"
     ]
    }
   ],
   "source": [
    "P_spam = 0.1\n",
    "sensitivity = 0.95\n",
    "specificity = 0.98\n",
    "p_terdeteksi = hitung_total_probabilitas(sensitivity, P_spam,\n",
    "                                           (1-specificity), (1-P_spam))\n",
    "\n",
    "posterior = hitung_probabilitas_posterior(P_spam, sensitivity, p_terdeteksi)\n",
    "print(f\"Pada kasus ini proporsi email spam terhadap seluruh email yang terdeteksi spam (posterior) = {posterior:.2f}\" )"
   ]
  },
  {
   "cell_type": "markdown",
   "id": "1cb0cd5a",
   "metadata": {
    "id": "1cb0cd5a"
   },
   "source": [
    "Dari sini terlihat bahwa jumlah data tidak berpengaruh terhadap probability posterior"
   ]
  },
  {
   "cell_type": "markdown",
   "id": "b36bb3a7",
   "metadata": {
    "id": "b36bb3a7"
   },
   "source": [
    "---\n",
    "### **2.4 Pengaruh Sensitivity terhadap Posterior**"
   ]
  },
  {
   "cell_type": "markdown",
   "id": "69ede46e",
   "metadata": {
    "id": "69ede46e"
   },
   "source": [
    "Dalam kasus ini, Sensitivity adalah keakuratan aplikasi dalam mendeteksi positif email spam setelah diteketahui bahwa email tersebut benar-benar spam.\n",
    "    \n",
    "    Sensitivity = P(terdeteksi | spam)\n",
    "\n",
    "Jika ditinjau dari persamaan maka sensitivity berbanding lurus terhadap nilai posterior sehingga:"
   ]
  },
  {
   "cell_type": "code",
   "execution_count": 19,
   "id": "8707d478",
   "metadata": {
    "colab": {
     "base_uri": "https://localhost:8080/",
     "height": 295
    },
    "id": "8707d478",
    "outputId": "0e8cdf95-5577-434e-fb37-176ed370ddaf"
   },
   "outputs": [
    {
     "data": {
      "image/png": "[encoded data removed]",
      "text/plain": [
       "<Figure size 640x480 with 1 Axes>"
      ]
     },
     "metadata": {},
     "output_type": "display_data"
    }
   ],
   "source": [
    "prior = 0.03\n",
    "specificity = 0.98\n",
    "batas_bawah_sensitivity = 0.001\n",
    "batas_atas_sensitivity = 1.001\n",
    "step_tiap_sensitivity = 0.001\n",
    "\n",
    "plot_range_probabilitas_posterior(batas_bawah_sensitivity,\n",
    "                           batas_atas_sensitivity,\n",
    "                           step_tiap_sensitivity,\n",
    "                           prior=prior,\n",
    "                           specificity=specificity,\n",
    "                           by=\"sensitivity\")"
   ]
  },
  {
   "cell_type": "markdown",
   "id": "5feef2db",
   "metadata": {
    "id": "5feef2db"
   },
   "source": [
    "Bagaimana sensitivity dapat mempengaruhi nilai posterior?\n",
    "\n",
    "Kita Coba lihat pada kasus dimana sensitivity=0.95 dan sensitivity=0.7. Dalam kasus ini:\n",
    "\n",
    "    prior = 0.03\n",
    "    specificity = 0.98"
   ]
  },
  {
   "cell_type": "markdown",
   "id": "fb5fb6a2",
   "metadata": {
    "id": "fb5fb6a2"
   },
   "source": [
    "####  2.4.1 Sensitivity = 0.95"
   ]
  },
  {
   "cell_type": "markdown",
   "id": "HDcT9zVIsa8S",
   "metadata": {
    "id": "HDcT9zVIsa8S"
   },
   "source": [
    "![](https://sekolahdata-assets.s3.ap-southeast-1.amazonaws.com/notebook-images/mds-probability/live_05_09_Bayes.png)"
   ]
  },
  {
   "cell_type": "markdown",
   "id": "813f0e60",
   "metadata": {
    "id": "813f0e60"
   },
   "source": [
    "Dari penjelasan pada kasus prior=0.03 sebelumnya, saat nilai sensitivity=0.95, banyak email yang benar-benar spam yang berhasil dideteksi sebagai spam."
   ]
  },
  {
   "cell_type": "code",
   "execution_count": 20,
   "id": "6d2a3bb1",
   "metadata": {
    "colab": {
     "base_uri": "https://localhost:8080/"
    },
    "id": "6d2a3bb1",
    "outputId": "f0cdd2e1-50db-435a-9391-293ac3f9b35e"
   },
   "outputs": [
    {
     "name": "stdout",
     "output_type": "stream",
     "text": [
      "Jumlah email spam adalah 150\n",
      "Jumlah email spam adalah 4850\n"
     ]
    }
   ],
   "source": [
    "jumlah_total_email = 5000\n",
    "P_spam = 0.03\n",
    "sensitivity = 0.95\n",
    "specificity = 0.98\n",
    "\n",
    "# sehingga:\n",
    "jumlah_email_spam = hitung_jumlah_kejadian(jumlah_total_email, P_spam)\n",
    "print(f\"Jumlah email spam adalah {jumlah_email_spam}\")\n",
    "\n",
    "jumlah_email_non_spam = jumlah_total_email - jumlah_email_spam\n",
    "print(f\"Jumlah email spam adalah {jumlah_email_non_spam}\")"
   ]
  },
  {
   "cell_type": "code",
   "execution_count": 21,
   "id": "144a5cee",
   "metadata": {
    "colab": {
     "base_uri": "https://localhost:8080/"
    },
    "id": "144a5cee",
    "outputId": "c6aa8c99-7632-41ab-81af-bffdce6de4e2"
   },
   "outputs": [
    {
     "name": "stdout",
     "output_type": "stream",
     "text": [
      "Jumlah email spam yang terdeteksi adalah: 142\n",
      "Jumlah email spam yang tidak terdeteksi adalah: 8\n",
      "Jumlah email non spam yang terdeteksi sebagai spam adalah: 97\n",
      "Jumlah email non spam yang tidak terdeteksi sebagai spam adalah: 4753\n"
     ]
    }
   ],
   "source": [
    "jumlah_spam_terdeteksi = hitung_jumlah_kejadian(jumlah_email_spam, sensitivity)\n",
    "print(f\"Jumlah email spam yang terdeteksi adalah: {jumlah_spam_terdeteksi}\")\n",
    "\n",
    "jumlah_spam_tidak_terdeteksi = hitung_jumlah_kejadian(jumlah_email_spam, 1-sensitivity)\n",
    "print(f\"Jumlah email spam yang tidak terdeteksi adalah: {jumlah_spam_tidak_terdeteksi}\")\n",
    "\n",
    "jumlah_nonspam_terdeteksi_spam = hitung_jumlah_kejadian(jumlah_email_non_spam, 1-specificity)\n",
    "print(f\"Jumlah email non spam yang terdeteksi sebagai spam adalah: {jumlah_nonspam_terdeteksi_spam}\")\n",
    "\n",
    "jumlah_nonspam_tidak_terdeteksi_spam = hitung_jumlah_kejadian(jumlah_email_non_spam, specificity)\n",
    "print(f\"Jumlah email non spam yang tidak terdeteksi sebagai spam adalah: {jumlah_nonspam_tidak_terdeteksi_spam}\")"
   ]
  },
  {
   "cell_type": "code",
   "execution_count": 22,
   "id": "1bc6ca6c",
   "metadata": {
    "colab": {
     "base_uri": "https://localhost:8080/"
    },
    "id": "1bc6ca6c",
    "outputId": "40e21042-acb1-497f-e69c-d6bcab72b2ec"
   },
   "outputs": [
    {
     "name": "stdout",
     "output_type": "stream",
     "text": [
      "Pada kasus ini proporsi email spam terhadap seluruh email yang terdeteksi spam(posterior) = 0.59\n"
     ]
    }
   ],
   "source": [
    "P_spam = 0.03\n",
    "sensitivity = 0.95\n",
    "specificity = 0.98\n",
    "\n",
    "p_terdeteksi = hitung_total_probabilitas(sensitivity, P_spam,\n",
    "                                           (1-specificity), (1-P_spam))\n",
    "\n",
    "posterior = hitung_probabilitas_posterior(P_spam, sensitivity, p_terdeteksi)\n",
    "print(f\"Pada kasus ini proporsi email spam terhadap seluruh email yang terdeteksi spam(posterior) = {posterior:.2f}\" )"
   ]
  },
  {
   "cell_type": "markdown",
   "id": "c85c7ed1",
   "metadata": {
    "id": "c85c7ed1"
   },
   "source": [
    "####  2.4.2 Sensitivity = 0.7"
   ]
  },
  {
   "cell_type": "code",
   "execution_count": 23,
   "id": "d9d21662",
   "metadata": {
    "colab": {
     "base_uri": "https://localhost:8080/"
    },
    "id": "d9d21662",
    "outputId": "16745f2d-ae6c-4f74-85db-d4affa935512"
   },
   "outputs": [
    {
     "name": "stdout",
     "output_type": "stream",
     "text": [
      "Jumlah email spam adalah 150\n",
      "Jumlah email spam adalah 4850\n"
     ]
    }
   ],
   "source": [
    "jumlah_total_email = 5000\n",
    "P_spam = 0.03\n",
    "sensitivity = 0.7\n",
    "specificity = 0.98\n",
    "\n",
    "# sehingga:\n",
    "jumlah_email_spam = hitung_jumlah_kejadian(jumlah_total_email, P_spam)\n",
    "print(f\"Jumlah email spam adalah {jumlah_email_spam}\")\n",
    "\n",
    "jumlah_email_non_spam = jumlah_total_email - jumlah_email_spam\n",
    "print(f\"Jumlah email spam adalah {jumlah_email_non_spam}\")"
   ]
  },
  {
   "cell_type": "code",
   "execution_count": 24,
   "id": "08528595",
   "metadata": {
    "colab": {
     "base_uri": "https://localhost:8080/"
    },
    "id": "08528595",
    "outputId": "030ef64c-f469-4e9b-9cfa-8db188ce5e13"
   },
   "outputs": [
    {
     "name": "stdout",
     "output_type": "stream",
     "text": [
      "Jumlah email spam yang terdeteksi adalah: 105\n",
      "Jumlah email spam yang tidak terdeteksi adalah: 45\n",
      "Jumlah email non spam yang terdeteksi sebagai spam adalah: 97\n",
      "Jumlah email non spam yang tidak terdeteksi sebagai spam adalah: 4753\n"
     ]
    }
   ],
   "source": [
    "jumlah_spam_terdeteksi = hitung_jumlah_kejadian(jumlah_email_spam, sensitivity)\n",
    "print(f\"Jumlah email spam yang terdeteksi adalah: {jumlah_spam_terdeteksi}\")\n",
    "\n",
    "jumlah_spam_tidak_terdeteksi = hitung_jumlah_kejadian(jumlah_email_spam, 1-sensitivity)\n",
    "print(f\"Jumlah email spam yang tidak terdeteksi adalah: {jumlah_spam_tidak_terdeteksi}\")\n",
    "\n",
    "jumlah_nonspam_terdeteksi_spam = hitung_jumlah_kejadian(jumlah_email_non_spam, 1-specificity)\n",
    "print(f\"Jumlah email non spam yang terdeteksi sebagai spam adalah: {jumlah_nonspam_terdeteksi_spam}\")\n",
    "\n",
    "jumlah_nonspam_tidak_terdeteksi_spam = hitung_jumlah_kejadian(jumlah_email_non_spam, specificity)\n",
    "print(f\"Jumlah email non spam yang tidak terdeteksi sebagai spam adalah: {jumlah_nonspam_tidak_terdeteksi_spam}\")"
   ]
  },
  {
   "cell_type": "markdown",
   "id": "ha3lJ_4hskVS",
   "metadata": {
    "id": "ha3lJ_4hskVS"
   },
   "source": [
    "![](https://sekolahdata-assets.s3.ap-southeast-1.amazonaws.com/notebook-images/mds-probability/live_05_10_Bayes.png)"
   ]
  },
  {
   "cell_type": "markdown",
   "id": "acac5fa5",
   "metadata": {
    "id": "acac5fa5"
   },
   "source": [
    "- Terlihat bahwa sensitivity rendah menyebabkan banyak email yang benar-benar spam tidak dideteksi sebagai spam.\n",
    "- Sehingga proporsi email spam di ruang sample terdeteksi berkurang."
   ]
  },
  {
   "cell_type": "code",
   "execution_count": 25,
   "id": "57eca399",
   "metadata": {
    "colab": {
     "base_uri": "https://localhost:8080/"
    },
    "id": "57eca399",
    "outputId": "e54919f3-033e-43f1-9fc5-a8f11e66c202"
   },
   "outputs": [
    {
     "name": "stdout",
     "output_type": "stream",
     "text": [
      "Pada kasus ini proporsi email spam terhadap seluruh email yang terdeteksi spam(posterior) = 0.52\n"
     ]
    }
   ],
   "source": [
    "P_spam = 0.03\n",
    "sensitivity = 0.7\n",
    "specificity = 0.98\n",
    "\n",
    "p_terdeteksi = hitung_total_probabilitas(sensitivity, P_spam,\n",
    "                                           (1-specificity), (1-P_spam))\n",
    "\n",
    "posterior = hitung_probabilitas_posterior(P_spam, sensitivity, p_terdeteksi)\n",
    "print(f\"Pada kasus ini proporsi email spam terhadap seluruh email yang terdeteksi spam(posterior) = {posterior:.2f}\" )"
   ]
  },
  {
   "cell_type": "markdown",
   "id": "1d137634",
   "metadata": {
    "id": "1d137634"
   },
   "source": [
    "Interactive plot Sensitivity vs Posterior"
   ]
  },
  {
   "cell_type": "code",
   "execution_count": 26,
   "id": "79de73f1",
   "metadata": {
    "colab": {
     "base_uri": "https://localhost:8080/",
     "height": 327,
     "referenced_widgets": [
      "d3eecdbb9ece4cc3bdee0ec1e7649458",
      "88ea882a0c0b4e1bb31326940849749b",
      "dba20ef8622c424abccc6e50aff26da3",
      "6826b150ee5c42c6804d6cb26a43bb66",
      "0c96c43fe88e4d4cacb1ae35e7b33666",
      "6e9b1723661048ab9413629364fdcc7b",
      "4a78b2d34895498cb0a054f010450ed9"
     ]
    },
    "id": "79de73f1",
    "outputId": "56900179-4381-4ee4-fe3f-7b9268cf8cdd"
   },
   "outputs": [
    {
     "data": {
      "application/vnd.jupyter.widget-view+json": {
       "model_id": "a5dd240620a445be8af770903881ee55",
       "version_major": 2,
       "version_minor": 0
      },
      "text/plain": [
       "HBox(children=(FloatSlider(value=0.0, description='sensitivity', max=1.0, step=0.001),))"
      ]
     },
     "metadata": {},
     "output_type": "display_data"
    },
    {
     "data": {
      "application/vnd.jupyter.widget-view+json": {
       "model_id": "aa655ee90a5f42f4ac6a79bfc7e1744f",
       "version_major": 2,
       "version_minor": 0
      },
      "text/plain": [
       "Output()"
      ]
     },
     "metadata": {},
     "output_type": "display_data"
    }
   ],
   "source": [
    "prior = 0.03\n",
    "specificity = 0.98\n",
    "batas_bawah_prior = 0.001\n",
    "batas_atas_prior = 1.001\n",
    "step_tiap_prior = 0.001\n",
    "plot_interaktif_probabilitas_posterior(batas_bawah_prior,\n",
    "                           batas_atas_prior,\n",
    "                           step_tiap_prior,\n",
    "                           prior=prior,\n",
    "                           specificity=specificity,\n",
    "                           by=\"sensitivity\")"
   ]
  },
  {
   "cell_type": "markdown",
   "id": "1b4e3170",
   "metadata": {
    "id": "1b4e3170"
   },
   "source": [
    "---\n",
    "### **2.5 Pengaruh Evidence terhadap Posterior**"
   ]
  },
  {
   "cell_type": "markdown",
   "id": "1bb4db24",
   "metadata": {
    "id": "1bb4db24"
   },
   "source": [
    "Dalam kasus ini, probabilitas dari evidence, $P(\\text{terdeteksi})$, dipengaruhi oleh sensitivity dan specificity, dimana:"
   ]
  },
  {
   "cell_type": "markdown",
   "id": "7241c44d",
   "metadata": {
    "id": "7241c44d"
   },
   "source": [
    "    P(terdeteksi) = sensitivity*prior + (1-specificity)*(1-prior)"
   ]
  },
  {
   "cell_type": "markdown",
   "id": "b0cf1369",
   "metadata": {
    "id": "b0cf1369"
   },
   "source": [
    "Kita telah melihat pengaruh dari sensitivity terhadap posterior, sekarang kita akan melihat pengaruh specificity terhadap posterior"
   ]
  },
  {
   "cell_type": "markdown",
   "id": "70d14158",
   "metadata": {
    "id": "70d14158"
   },
   "source": [
    "#### 2.5.1 Pengaruh specificity terhadap posterior"
   ]
  },
  {
   "cell_type": "markdown",
   "id": "2bdcba53",
   "metadata": {
    "id": "2bdcba53"
   },
   "source": [
    "Dalam kasus sekarang, specificity adalah kemampuan aplikasi dalam mendeteksi email yang benar-benar non-spam sebagai email non-spam\n",
    "\n",
    "Dalam hal ini jika specificity sebesar 0.98, maka dapat dikatakan bahwa 98% email non-spam dideteksi sebagai non-spam.\n",
    "\n",
    "Dengan kata lain masih terdapat 2% email non-spam dideteksi sebagai spam"
   ]
  },
  {
   "cell_type": "markdown",
   "id": "048d6d6a",
   "metadata": {
    "id": "048d6d6a"
   },
   "source": [
    "Kita lihat pengaruh dari specificity. Disini kita gunakan:\n",
    "    \n",
    "    prior = 0.03\n",
    "    sensitivity=0.95"
   ]
  },
  {
   "cell_type": "code",
   "execution_count": 27,
   "id": "0289d481",
   "metadata": {
    "colab": {
     "base_uri": "https://localhost:8080/",
     "height": 295
    },
    "id": "0289d481",
    "outputId": "69b4d25c-1fe5-4102-e7a3-6e6df1b10d28"
   },
   "outputs": [
    {
     "data": {
      "image/png": "[encoded data removed]",
      "text/plain": [
       "<Figure size 640x480 with 1 Axes>"
      ]
     },
     "metadata": {},
     "output_type": "display_data"
    }
   ],
   "source": [
    "prior = 0.03\n",
    "sensitivity = 0.95\n",
    "batas_bawah_specificity = 0.001\n",
    "batas_atas_specificity= 1.001\n",
    "step_tiap_specificity = 0.001\n",
    "\n",
    "plot_range_probabilitas_posterior(batas_bawah_specificity,\n",
    "                           batas_atas_specificity,\n",
    "                           step_tiap_specificity,\n",
    "                           prior=prior,\n",
    "                           sensitivity=sensitivity,\n",
    "                           by=\"specificity\")"
   ]
  },
  {
   "cell_type": "markdown",
   "id": "d89f48f3",
   "metadata": {
    "id": "d89f48f3"
   },
   "source": [
    "Terlihat bahwa, Jika nilai specificity tinggi maka nilai posterior juga akan tinggi"
   ]
  },
  {
   "cell_type": "markdown",
   "id": "8a20c78e",
   "metadata": {
    "id": "8a20c78e"
   },
   "source": [
    "Mengapa demikian?"
   ]
  },
  {
   "cell_type": "markdown",
   "id": "33ce2bab",
   "metadata": {
    "id": "33ce2bab"
   },
   "source": [
    "Specificity akan mempengaruhi jumlah email non-spam yang dideteksi sebagai spam didalam ruang sample terdeteksi.\n",
    "\n",
    "Kita akan lihat pada kasus dimana specificity=0.98 dan specificity=0.7. Dalam kasus ini:\n",
    "\n",
    "    prior = 0.03\n",
    "    sensitivity = 0.95"
   ]
  },
  {
   "cell_type": "markdown",
   "id": "6b423d01",
   "metadata": {
    "id": "6b423d01"
   },
   "source": [
    "#### 2.5.1.1 Specificity = 0.98"
   ]
  },
  {
   "cell_type": "markdown",
   "id": "aYfzMvPDs2QQ",
   "metadata": {
    "id": "aYfzMvPDs2QQ"
   },
   "source": [
    "![](https://sekolahdata-assets.s3.ap-southeast-1.amazonaws.com/notebook-images/mds-probability/live_05_11_Bayes.png)"
   ]
  },
  {
   "cell_type": "markdown",
   "id": "759ec379",
   "metadata": {
    "id": "759ec379"
   },
   "source": [
    "Dari penjelasan pada kasus prior=0.03 sebelumnya, saat nilai specificity=0.98, Hanya sedikit  email non-spam yang dideteksi sebagai spam."
   ]
  },
  {
   "cell_type": "code",
   "execution_count": 28,
   "id": "5b736e29",
   "metadata": {
    "colab": {
     "base_uri": "https://localhost:8080/"
    },
    "id": "5b736e29",
    "outputId": "7cdc6138-8371-4489-9cae-1b962c7504a0"
   },
   "outputs": [
    {
     "name": "stdout",
     "output_type": "stream",
     "text": [
      "Jumlah email spam adalah 150\n",
      "Jumlah email spam adalah 4850\n"
     ]
    }
   ],
   "source": [
    "jumlah_total_email = 5000\n",
    "P_spam = 0.03\n",
    "sensitivity = 0.95\n",
    "specificity = 0.98\n",
    "\n",
    "# sehingga:\n",
    "jumlah_email_spam = hitung_jumlah_kejadian(jumlah_total_email, P_spam)\n",
    "print(f\"Jumlah email spam adalah {jumlah_email_spam}\")\n",
    "\n",
    "jumlah_email_non_spam = jumlah_total_email - jumlah_email_spam\n",
    "print(f\"Jumlah email spam adalah {jumlah_email_non_spam}\")"
   ]
  },
  {
   "cell_type": "code",
   "execution_count": 29,
   "id": "cd7f31de",
   "metadata": {
    "colab": {
     "base_uri": "https://localhost:8080/"
    },
    "id": "cd7f31de",
    "outputId": "b077fd22-5717-42f5-c7c8-c662e6e72f07"
   },
   "outputs": [
    {
     "name": "stdout",
     "output_type": "stream",
     "text": [
      "Jumlah email spam yang terdeteksi adalah: 142\n",
      "Jumlah email spam yang tidak terdeteksi adalah: 8\n",
      "Jumlah email non spam yang terdeteksi sebagai spam adalah: 97\n",
      "Jumlah email non spam yang tidak terdeteksi sebagai spam adalah: 4753\n"
     ]
    }
   ],
   "source": [
    "jumlah_spam_terdeteksi = hitung_jumlah_kejadian(jumlah_email_spam, sensitivity)\n",
    "print(f\"Jumlah email spam yang terdeteksi adalah: {jumlah_spam_terdeteksi}\")\n",
    "\n",
    "jumlah_spam_tidak_terdeteksi = hitung_jumlah_kejadian(jumlah_email_spam, 1-sensitivity)\n",
    "print(f\"Jumlah email spam yang tidak terdeteksi adalah: {jumlah_spam_tidak_terdeteksi}\")\n",
    "\n",
    "jumlah_nonspam_terdeteksi_spam = hitung_jumlah_kejadian(jumlah_email_non_spam, 1-specificity)\n",
    "print(f\"Jumlah email non spam yang terdeteksi sebagai spam adalah: {jumlah_nonspam_terdeteksi_spam}\")\n",
    "\n",
    "jumlah_nonspam_tidak_terdeteksi_spam = hitung_jumlah_kejadian(jumlah_email_non_spam, specificity)\n",
    "print(f\"Jumlah email non spam yang tidak terdeteksi sebagai spam adalah: {jumlah_nonspam_tidak_terdeteksi_spam}\")"
   ]
  },
  {
   "cell_type": "code",
   "execution_count": 30,
   "id": "f84911f0",
   "metadata": {
    "colab": {
     "base_uri": "https://localhost:8080/"
    },
    "id": "f84911f0",
    "outputId": "59a63d38-d267-4784-8e13-883d6a2ffa1e"
   },
   "outputs": [
    {
     "name": "stdout",
     "output_type": "stream",
     "text": [
      "Pada kasus ini proporsi email spam terhadap seluruh email yang terdeteksi spam(posterior) = 0.59\n"
     ]
    }
   ],
   "source": [
    "P_spam = 0.03\n",
    "sensitivity = 0.95\n",
    "specificity = 0.98\n",
    "\n",
    "p_terdeteksi = hitung_total_probabilitas(sensitivity, P_spam,\n",
    "                                           (1-specificity), (1-P_spam))\n",
    "\n",
    "posterior = hitung_probabilitas_posterior(P_spam, sensitivity, p_terdeteksi)\n",
    "print(f\"Pada kasus ini proporsi email spam terhadap seluruh email yang terdeteksi spam(posterior) = {posterior:.2f}\" )"
   ]
  },
  {
   "cell_type": "markdown",
   "id": "786c1d96",
   "metadata": {
    "id": "786c1d96"
   },
   "source": [
    "#### 2.5.1.1 Specificity = 0.7"
   ]
  },
  {
   "cell_type": "code",
   "execution_count": 31,
   "id": "332250a2",
   "metadata": {
    "colab": {
     "base_uri": "https://localhost:8080/"
    },
    "id": "332250a2",
    "outputId": "79f5297f-8410-4e10-8b5e-3b9124a64996"
   },
   "outputs": [
    {
     "name": "stdout",
     "output_type": "stream",
     "text": [
      "Jumlah email spam adalah 150\n",
      "Jumlah email spam adalah 4850\n"
     ]
    }
   ],
   "source": [
    "jumlah_total_email = 5000\n",
    "P_spam = 0.03\n",
    "sensitivity = 0.95\n",
    "specificity = 0.7\n",
    "\n",
    "# sehingga:\n",
    "jumlah_email_spam = hitung_jumlah_kejadian(jumlah_total_email, P_spam)\n",
    "print(f\"Jumlah email spam adalah {jumlah_email_spam}\")\n",
    "\n",
    "jumlah_email_non_spam = jumlah_total_email - jumlah_email_spam\n",
    "print(f\"Jumlah email spam adalah {jumlah_email_non_spam}\")"
   ]
  },
  {
   "cell_type": "code",
   "execution_count": 32,
   "id": "db06056a",
   "metadata": {
    "colab": {
     "base_uri": "https://localhost:8080/"
    },
    "id": "db06056a",
    "outputId": "6e3b1f2f-b31a-4bac-9ddc-479a389b8a44"
   },
   "outputs": [
    {
     "name": "stdout",
     "output_type": "stream",
     "text": [
      "Jumlah email spam yang terdeteksi adalah: 142\n",
      "Jumlah email spam yang tidak terdeteksi adalah: 8\n",
      "Jumlah email non spam yang terdeteksi sebagai spam adalah: 1455\n",
      "Jumlah email non spam yang tidak terdeteksi sebagai spam adalah: 3395\n"
     ]
    }
   ],
   "source": [
    "jumlah_spam_terdeteksi = hitung_jumlah_kejadian(jumlah_email_spam, sensitivity)\n",
    "print(f\"Jumlah email spam yang terdeteksi adalah: {jumlah_spam_terdeteksi}\")\n",
    "\n",
    "jumlah_spam_tidak_terdeteksi = hitung_jumlah_kejadian(jumlah_email_spam, 1-sensitivity)\n",
    "print(f\"Jumlah email spam yang tidak terdeteksi adalah: {jumlah_spam_tidak_terdeteksi}\")\n",
    "\n",
    "jumlah_nonspam_terdeteksi_spam = hitung_jumlah_kejadian(jumlah_email_non_spam, 1-specificity)\n",
    "print(f\"Jumlah email non spam yang terdeteksi sebagai spam adalah: {jumlah_nonspam_terdeteksi_spam}\")\n",
    "\n",
    "jumlah_nonspam_tidak_terdeteksi_spam = hitung_jumlah_kejadian(jumlah_email_non_spam, specificity)\n",
    "print(f\"Jumlah email non spam yang tidak terdeteksi sebagai spam adalah: {jumlah_nonspam_tidak_terdeteksi_spam}\")"
   ]
  },
  {
   "cell_type": "markdown",
   "id": "zECHlxPgs-p3",
   "metadata": {
    "id": "zECHlxPgs-p3"
   },
   "source": [
    "![](https://sekolahdata-assets.s3.ap-southeast-1.amazonaws.com/notebook-images/mds-probability/live_05_12_Bayes.png)"
   ]
  },
  {
   "cell_type": "markdown",
   "id": "87b6071f",
   "metadata": {
    "id": "87b6071f"
   },
   "source": [
    "- Terlihat bahwa specificity yang rendah mengakibatkan meningkatnya jumlah email non-spam yang terdeteksi sebagai spam\n",
    "- Hal ini mengakibatkan ruang sample terdeteksi semakin membesar, Namun lebih banyak diisi dengan email non-spam\n",
    "\n",
    "Sehingga:"
   ]
  },
  {
   "cell_type": "code",
   "execution_count": 33,
   "id": "450c562a",
   "metadata": {
    "colab": {
     "base_uri": "https://localhost:8080/"
    },
    "id": "450c562a",
    "outputId": "6ce9c997-d261-48cf-f7b2-5cdb025637ca"
   },
   "outputs": [
    {
     "name": "stdout",
     "output_type": "stream",
     "text": [
      "Pada kasus ini proporsi email spam terhadap seluruh email yang terdeteksi spam(posterior) = 0.09\n"
     ]
    }
   ],
   "source": [
    "P_spam = 0.03\n",
    "sensitivity = 0.95\n",
    "specificity = 0.7\n",
    "\n",
    "p_terdeteksi = hitung_total_probabilitas(sensitivity, P_spam,\n",
    "                                           (1-specificity), (1-P_spam))\n",
    "\n",
    "posterior = hitung_probabilitas_posterior(P_spam, sensitivity, p_terdeteksi)\n",
    "print(f\"Pada kasus ini proporsi email spam terhadap seluruh email yang terdeteksi spam(posterior) = {posterior:.2f}\" )"
   ]
  },
  {
   "cell_type": "code",
   "execution_count": 34,
   "id": "81f6ec87",
   "metadata": {
    "colab": {
     "base_uri": "https://localhost:8080/",
     "height": 327,
     "referenced_widgets": [
      "e9974303db6e4e94ae7a6c5d905b04ab",
      "a32ada66ca414d8abc9ef00810793337",
      "0f57575639394120ac6052471129cae0",
      "b22a7e1e98fb46aebbdaab6e9437de51",
      "3dfd22504cba4f1b82d8a8f30bceb55a",
      "eb2013eb8b1a434899fbd86007857e79",
      "fd8d59a9b2404b18b3643a829d5830d6"
     ]
    },
    "id": "81f6ec87",
    "outputId": "3686f2e7-73e2-4a08-966d-5b85a0582ec8"
   },
   "outputs": [
    {
     "data": {
      "application/vnd.jupyter.widget-view+json": {
       "model_id": "44459362893a44f5a2078557e40893fc",
       "version_major": 2,
       "version_minor": 0
      },
      "text/plain": [
       "HBox(children=(FloatSlider(value=0.0, description='specificity', max=1.0, step=0.001),))"
      ]
     },
     "metadata": {},
     "output_type": "display_data"
    },
    {
     "data": {
      "application/vnd.jupyter.widget-view+json": {
       "model_id": "ba7bf9d9972a4ab18c1da69736b58bcd",
       "version_major": 2,
       "version_minor": 0
      },
      "text/plain": [
       "Output()"
      ]
     },
     "metadata": {},
     "output_type": "display_data"
    }
   ],
   "source": [
    "prior = 0.03\n",
    "sensitivity = 0.95\n",
    "batas_bawah_prior = 0.001\n",
    "batas_atas_prior = 1.001\n",
    "step_tiap_prior = 0.001\n",
    "plot_interaktif_probabilitas_posterior(batas_bawah_prior,\n",
    "                           batas_atas_prior,\n",
    "                           step_tiap_prior,\n",
    "                           prior=prior,\n",
    "                           sensitivity=sensitivity,\n",
    "                           by=\"specificity\")"
   ]
  },
  {
   "cell_type": "markdown",
   "id": "8d4d099b",
   "metadata": {
    "id": "8d4d099b"
   },
   "source": [
    "----"
   ]
  },
  {
   "cell_type": "markdown",
   "id": "3JY3x8oUKQF_",
   "metadata": {
    "id": "3JY3x8oUKQF_"
   },
   "source": [
    "---\n",
    "### **Interactive Posterior Probability**"
   ]
  },
  {
   "cell_type": "markdown",
   "id": "f132acf4",
   "metadata": {
    "id": "f132acf4"
   },
   "source": [
    "Pada visualisasi dibawah ini, anda dapat mencoba kombinasi prior, sensitivity, dan specificity dan melihat pengaruhnya terhadap nilai posterior."
   ]
  },
  {
   "cell_type": "code",
   "execution_count": 35,
   "id": "1e475c43",
   "metadata": {
    "colab": {
     "base_uri": "https://localhost:8080/",
     "height": 176,
     "referenced_widgets": [
      "c3368d4b47164a749d7136853041cc29",
      "c2adab3b08aa4a22bd04d8bdc5529970",
      "01f1ebffe6074bc3b5c6c92ce96a8119",
      "0561a07349154c06b145f8dc74ddf329",
      "508e160e5cbc4ea1accae97e2d1e528d",
      "d3c1df04f66a4232895bea09b30b7389",
      "4b12ca4112ab4f8a993e7fa19a261a45",
      "55c1f783fa684ac8a29f435ae1b0e39d",
      "93fe142f743e47d5a8f8834af0c5bfab",
      "a36e19db3aeb46acaad9ca6e941c5a0d",
      "4a14f3f9a0e3454ab01f98b91e117291",
      "0a3636b1cf5542889d315d3674955726",
      "5f86065c2a054674aea3950ea5b92b67"
     ]
    },
    "id": "1e475c43",
    "outputId": "b1893cb7-5532-4ad9-c08e-b4324785d909"
   },
   "outputs": [
    {
     "data": {
      "application/vnd.jupyter.widget-view+json": {
       "model_id": "c36932c36e07469a89930309d547973d",
       "version_major": 2,
       "version_minor": 0
      },
      "text/plain": [
       "HBox(children=(FloatSlider(value=0.001, description='prior', max=1.001, min=0.001, step=0.001), FloatSlider(va…"
      ]
     },
     "metadata": {},
     "output_type": "display_data"
    },
    {
     "data": {
      "application/vnd.jupyter.widget-view+json": {
       "model_id": "1773261a41ec4129b3ff1c87878e19f1",
       "version_major": 2,
       "version_minor": 0
      },
      "text/plain": [
       "Output()"
      ]
     },
     "metadata": {},
     "output_type": "display_data"
    }
   ],
   "source": [
    "prior = 0.03\n",
    "sensitivity = 0.95\n",
    "batas_bawah_prior = 0.001\n",
    "batas_atas_prior = 1.001\n",
    "step_tiap_prior = 0.001\n",
    "plot_interaktif_probabilitas_posterior(batas_bawah_prior,\n",
    "                           batas_atas_prior,\n",
    "                           step_tiap_prior,\n",
    "                           by=\"all\")"
   ]
  },
  {
   "cell_type": "markdown",
   "id": "uhe6OC2AHpgJ",
   "metadata": {
    "id": "uhe6OC2AHpgJ"
   },
   "source": [
    "---\n",
    "## **Case Transaksi Toko**"
   ]
  },
  {
   "cell_type": "markdown",
   "id": "36btWS_LITQx",
   "metadata": {
    "id": "36btWS_LITQx"
   },
   "source": [
    "Data berikut merupakan [data transaksi produk Pipa dan Semen](https://drive.google.com/file/d/1bioUp5WK2pc68OQtHeQXunHsHfIdeJyt/preview) di dua toko berbeda"
   ]
  },
  {
   "cell_type": "code",
   "execution_count": 37,
   "id": "e31c0bb3",
   "metadata": {
    "colab": {
     "base_uri": "https://localhost:8080/"
    },
    "id": "e31c0bb3",
    "outputId": "4b40805e-483b-4f0b-b5a5-001f6a5669fc"
   },
   "outputs": [
    {
     "name": "stdout",
     "output_type": "stream",
     "text": [
      "Hasil Data Operasi      Pipa    Semen\n",
      "--------------------  ------  -------\n",
      "Mampang                  451     1299\n",
      "Citayem                  483     1203\n"
     ]
    }
   ],
   "source": [
    "summary_data('../data/transaksi_toko.csv')"
   ]
  },
  {
   "cell_type": "markdown",
   "id": "GqnBTchtIcqc",
   "metadata": {
    "id": "GqnBTchtIcqc"
   },
   "source": [
    "---\n",
    "#### **1. Berapa peluang transaksi produk pipa?**"
   ]
  },
  {
   "cell_type": "code",
   "execution_count": 38,
   "id": "oZ0CX3ANIt9A",
   "metadata": {
    "colab": {
     "base_uri": "https://localhost:8080/"
    },
    "id": "oZ0CX3ANIt9A",
    "outputId": "ca60cd30-b939-4dbd-9988-7c00a188533f"
   },
   "outputs": [
    {
     "name": "stdout",
     "output_type": "stream",
     "text": [
      "Jumlah ruang sample: 3436\n"
     ]
    }
   ],
   "source": [
    "# Mencari ruang sample\n",
    "n_sample = 451 + 483 + 1299 + 1203\n",
    "\n",
    "print(f\"Jumlah ruang sample: {n_sample}\")"
   ]
  },
  {
   "cell_type": "code",
   "execution_count": 39,
   "id": "FtzEJuQSIw2E",
   "metadata": {
    "colab": {
     "base_uri": "https://localhost:8080/"
    },
    "id": "FtzEJuQSIw2E",
    "outputId": "9ef4b978-04bb-413d-cbf7-e1815c385ae6"
   },
   "outputs": [
    {
     "name": "stdout",
     "output_type": "stream",
     "text": [
      "jumlah terjadi-nya transaksi produk Pipa: 934\n"
     ]
    }
   ],
   "source": [
    "# mencari jumlah kejadian transaksi produk pipa\n",
    "n_A = 451 + 483\n",
    "\n",
    "print(f\"jumlah terjadi-nya transaksi produk Pipa: {n_A}\")"
   ]
  },
  {
   "cell_type": "code",
   "execution_count": 40,
   "id": "JdOf4gY9Iyph",
   "metadata": {
    "colab": {
     "base_uri": "https://localhost:8080/"
    },
    "id": "JdOf4gY9Iyph",
    "outputId": "b5fb4220-975a-4234-ad1b-f50cd8ec26b4"
   },
   "outputs": [
    {
     "name": "stdout",
     "output_type": "stream",
     "text": [
      "peluang orang membeli produk pipa adalah : 0.27\n"
     ]
    }
   ],
   "source": [
    "# Cari Peluang transaksi produk pipa dengan membagi n_A dengan n_sample\n",
    "peluang_A = n_A / n_sample\n",
    "\n",
    "print(f\"peluang orang membeli produk pipa adalah : {peluang_A:.2f}\")"
   ]
  },
  {
   "cell_type": "markdown",
   "id": "0Nl4392YI2m2",
   "metadata": {
    "id": "0Nl4392YI2m2"
   },
   "source": [
    "> Dapat disimpulkan bahwa peluang dilakukan transaksi pipa sebesar 0.27"
   ]
  },
  {
   "cell_type": "markdown",
   "id": "xhJfH2GpJDxU",
   "metadata": {
    "id": "xhJfH2GpJDxU"
   },
   "source": [
    "---\n",
    "#### **2. Berapa peluang transaksi produk pipa jika diketahui transaksi dilakukan di cabang Citayem**"
   ]
  },
  {
   "cell_type": "code",
   "execution_count": 41,
   "id": "mo4t38bPI056",
   "metadata": {
    "colab": {
     "base_uri": "https://localhost:8080/"
    },
    "id": "mo4t38bPI056",
    "outputId": "862da8c3-60b8-4b56-e081-0af9db3bbdf9"
   },
   "outputs": [
    {
     "name": "stdout",
     "output_type": "stream",
     "text": [
      "\n",
      "jumlah terjadi-nya transaksi di cabang Citayem: 1686\n"
     ]
    }
   ],
   "source": [
    "# mencari kejadian transaksi di cabang Citayem\n",
    "n_B =  483+1203\n",
    "\n",
    "print(\"\")\n",
    "print(f\"jumlah terjadi-nya transaksi di cabang Citayem: {n_B}\")"
   ]
  },
  {
   "cell_type": "code",
   "execution_count": 42,
   "id": "Cg3pK3ZKJGgp",
   "metadata": {
    "colab": {
     "base_uri": "https://localhost:8080/"
    },
    "id": "Cg3pK3ZKJGgp",
    "outputId": "761ed2ef-8b5e-45cb-97fa-c02e061a3844"
   },
   "outputs": [
    {
     "name": "stdout",
     "output_type": "stream",
     "text": [
      "\n",
      "jumlah terjadi-nya transaksi produk Pipa di cabang Citayem: 483\n"
     ]
    }
   ],
   "source": [
    "# Mencari jumlah transaksi produk pipa di Cabang Citayem\n",
    "n_A_B =  483\n",
    "\n",
    "print(\"\")\n",
    "print(f\"jumlah terjadi-nya transaksi produk Pipa di cabang Citayem: {n_A_B}\")"
   ]
  },
  {
   "cell_type": "code",
   "execution_count": 43,
   "id": "wUnrDaPyJIXM",
   "metadata": {
    "colab": {
     "base_uri": "https://localhost:8080/"
    },
    "id": "wUnrDaPyJIXM",
    "outputId": "f4ce9130-d325-42fa-b124-0d8344ff5bf6"
   },
   "outputs": [
    {
     "name": "stdout",
     "output_type": "stream",
     "text": [
      "peluang orang membeli produk Pipa di toko Citayem adalah : 0.29\n"
     ]
    }
   ],
   "source": [
    "# Cari Peluang envent A_dan_B dengan membagi n_A_B dengan n_B\n",
    "peluang_A_diketahui_B = n_A_B / n_B\n",
    "\n",
    "print(f\"peluang orang membeli produk Pipa di toko Citayem adalah : {peluang_A_diketahui_B:.2f}\")"
   ]
  },
  {
   "cell_type": "markdown",
   "id": "GJ4oI4j0JWdd",
   "metadata": {
    "id": "GJ4oI4j0JWdd"
   },
   "source": [
    "> Disini bisa dikatakan jika seseorang pergi ke toko di cabang Citayem, kemungkinan kecil mereka malakukan transaksi produk Pipa.\n",
    "\n",
    "> Hal ini dapat dilihat dari probabilitas transaksi produk pipa jika diketahui transaksi dilakukan di cabang Citayem: 0.29"
   ]
  },
  {
   "cell_type": "markdown",
   "id": "Dy4I6VPGJMES",
   "metadata": {
    "id": "Dy4I6VPGJMES"
   },
   "source": [
    "---\n",
    "#### **3. Jika barang yang beli adalah produk pipa, berapa peluang transaksi dilakukan di cabang Citayem?**"
   ]
  },
  {
   "cell_type": "code",
   "execution_count": 44,
   "id": "DkWn4YEyJQoo",
   "metadata": {
    "colab": {
     "base_uri": "https://localhost:8080/"
    },
    "id": "DkWn4YEyJQoo",
    "outputId": "f6a07523-7e31-44a0-8f26-0cbfde353ff8"
   },
   "outputs": [
    {
     "name": "stdout",
     "output_type": "stream",
     "text": [
      "peluang orang melakukan transaksi di Citayem adalah : 0.49\n"
     ]
    }
   ],
   "source": [
    "# Cari Peluang transaksi produk pipa dengan membagi n_B dengan n_sample\n",
    "peluang_B = n_B / n_sample\n",
    "\n",
    "print(f\"peluang orang melakukan transaksi di Citayem adalah : {peluang_B:.2f}\")"
   ]
  },
  {
   "cell_type": "code",
   "execution_count": 45,
   "id": "4McB46rGJSh-",
   "metadata": {
    "colab": {
     "base_uri": "https://localhost:8080/"
    },
    "id": "4McB46rGJSh-",
    "outputId": "29a737a3-72d0-4992-9610-6f13540646cd"
   },
   "outputs": [
    {
     "name": "stdout",
     "output_type": "stream",
     "text": [
      "peluang transaksi dilakukan di Cabang Citayem jika diketahui produk yang dibeli adalah Pipa: 0.52\n"
     ]
    }
   ],
   "source": [
    "P_B_diketahui_A = (peluang_B * peluang_A_diketahui_B) / peluang_A\n",
    "\n",
    "print(f\"peluang transaksi dilakukan di Cabang Citayem jika diketahui produk yang dibeli adalah Pipa: {P_B_diketahui_A:.2f}\")"
   ]
  },
  {
   "cell_type": "markdown",
   "id": "cnbK9otxJ6Xn",
   "metadata": {
    "id": "cnbK9otxJ6Xn"
   },
   "source": [
    "> Dari hasil perhitungan diatas dapat dikatakan jika diketahui produk yang ditransaksikan adalah pipa maka kemungkinan transaksi dilakukan di cabang Citayem sebesar 0.52"
   ]
  }
 ],
 "metadata": {
  "colab": {
   "provenance": []
  },
  "kernelspec": {
   "display_name": "Python 3 (ipykernel)",
   "language": "python",
   "name": "python3"
  },
  "language_info": {
   "codemirror_mode": {
    "name": "ipython",
    "version": 3
   },
   "file_extension": ".py",
   "mimetype": "text/x-python",
   "name": "python",
   "nbconvert_exporter": "python",
   "pygments_lexer": "ipython3",
   "version": "3.10.14"
  },
  "widgets": {
   "application/vnd.jupyter.widget-state+json": {
    "01f1ebffe6074bc3b5c6c92ce96a8119": {
     "model_module": "@jupyter-widgets/controls",
     "model_module_version": "1.5.0",
     "model_name": "FloatSliderModel",
     "state": {
      "_dom_classes": [],
      "_model_module": "@jupyter-widgets/controls",
      "_model_module_version": "1.5.0",
      "_model_name": "FloatSliderModel",
      "_view_count": null,
      "_view_module": "@jupyter-widgets/controls",
      "_view_module_version": "1.5.0",
      "_view_name": "FloatSliderView",
      "continuous_update": true,
      "description": "sensitivity",
      "description_tooltip": null,
      "disabled": false,
      "layout": "IPY_MODEL_55c1f783fa684ac8a29f435ae1b0e39d",
      "max": 1.001,
      "min": 0.001,
      "orientation": "horizontal",
      "readout": true,
      "readout_format": ".2f",
      "step": 0.001,
      "style": "IPY_MODEL_93fe142f743e47d5a8f8834af0c5bfab",
      "value": 0.001
     }
    },
    "0561a07349154c06b145f8dc74ddf329": {
     "model_module": "@jupyter-widgets/controls",
     "model_module_version": "1.5.0",
     "model_name": "FloatSliderModel",
     "state": {
      "_dom_classes": [],
      "_model_module": "@jupyter-widgets/controls",
      "_model_module_version": "1.5.0",
      "_model_name": "FloatSliderModel",
      "_view_count": null,
      "_view_module": "@jupyter-widgets/controls",
      "_view_module_version": "1.5.0",
      "_view_name": "FloatSliderView",
      "continuous_update": true,
      "description": "specificity",
      "description_tooltip": null,
      "disabled": false,
      "layout": "IPY_MODEL_a36e19db3aeb46acaad9ca6e941c5a0d",
      "max": 1.001,
      "min": 0.001,
      "orientation": "horizontal",
      "readout": true,
      "readout_format": ".2f",
      "step": 0.001,
      "style": "IPY_MODEL_4a14f3f9a0e3454ab01f98b91e117291",
      "value": 0.001
     }
    },
    "0a3636b1cf5542889d315d3674955726": {
     "model_module": "@jupyter-widgets/output",
     "model_module_version": "1.0.0",
     "model_name": "OutputModel",
     "state": {
      "_dom_classes": [],
      "_model_module": "@jupyter-widgets/output",
      "_model_module_version": "1.0.0",
      "_model_name": "OutputModel",
      "_view_count": null,
      "_view_module": "@jupyter-widgets/output",
      "_view_module_version": "1.0.0",
      "_view_name": "OutputView",
      "layout": "IPY_MODEL_5f86065c2a054674aea3950ea5b92b67",
      "msg_id": "",
      "outputs": [
       {
        "name": "stdout",
        "output_type": "stream",
        "text": [
         "\n",
         "                Jika nilai prior = 0.001\n",
         "                nilai sensitivity = 0.001 \n",
         "                nilai specificity = 0.001\n",
         "\n",
         "                Maka nilai probabilitas posteriornya adalah 0.000\n",
         "            \n"
        ]
       }
      ]
     }
    },
    "0c96c43fe88e4d4cacb1ae35e7b33666": {
     "model_module": "@jupyter-widgets/controls",
     "model_module_version": "1.5.0",
     "model_name": "SliderStyleModel",
     "state": {
      "_model_module": "@jupyter-widgets/controls",
      "_model_module_version": "1.5.0",
      "_model_name": "SliderStyleModel",
      "_view_count": null,
      "_view_module": "@jupyter-widgets/base",
      "_view_module_version": "1.2.0",
      "_view_name": "StyleView",
      "description_width": "",
      "handle_color": null
     }
    },
    "0ca4fbaa310c4e95a2f5da8e7b3ebfbb": {
     "model_module": "@jupyter-widgets/controls",
     "model_module_version": "1.5.0",
     "model_name": "HBoxModel",
     "state": {
      "_dom_classes": [],
      "_model_module": "@jupyter-widgets/controls",
      "_model_module_version": "1.5.0",
      "_model_name": "HBoxModel",
      "_view_count": null,
      "_view_module": "@jupyter-widgets/controls",
      "_view_module_version": "1.5.0",
      "_view_name": "HBoxView",
      "box_style": "",
      "children": [
       "IPY_MODEL_8de8b2eb55894af781bbe1d923adb845"
      ],
      "layout": "IPY_MODEL_0e3fbbfd5cca4688ae7be9f18ab1c177"
     }
    },
    "0e3fbbfd5cca4688ae7be9f18ab1c177": {
     "model_module": "@jupyter-widgets/base",
     "model_module_version": "1.2.0",
     "model_name": "LayoutModel",
     "state": {
      "_model_module": "@jupyter-widgets/base",
      "_model_module_version": "1.2.0",
      "_model_name": "LayoutModel",
      "_view_count": null,
      "_view_module": "@jupyter-widgets/base",
      "_view_module_version": "1.2.0",
      "_view_name": "LayoutView",
      "align_content": null,
      "align_items": null,
      "align_self": null,
      "border": null,
      "bottom": null,
      "display": null,
      "flex": null,
      "flex_flow": null,
      "grid_area": null,
      "grid_auto_columns": null,
      "grid_auto_flow": null,
      "grid_auto_rows": null,
      "grid_column": null,
      "grid_gap": null,
      "grid_row": null,
      "grid_template_areas": null,
      "grid_template_columns": null,
      "grid_template_rows": null,
      "height": null,
      "justify_content": null,
      "justify_items": null,
      "left": null,
      "margin": null,
      "max_height": null,
      "max_width": null,
      "min_height": null,
      "min_width": null,
      "object_fit": null,
      "object_position": null,
      "order": null,
      "overflow": null,
      "overflow_x": null,
      "overflow_y": null,
      "padding": null,
      "right": null,
      "top": null,
      "visibility": null,
      "width": null
     }
    },
    "0f57575639394120ac6052471129cae0": {
     "model_module": "@jupyter-widgets/base",
     "model_module_version": "1.2.0",
     "model_name": "LayoutModel",
     "state": {
      "_model_module": "@jupyter-widgets/base",
      "_model_module_version": "1.2.0",
      "_model_name": "LayoutModel",
      "_view_count": null,
      "_view_module": "@jupyter-widgets/base",
      "_view_module_version": "1.2.0",
      "_view_name": "LayoutView",
      "align_content": null,
      "align_items": null,
      "align_self": null,
      "border": null,
      "bottom": null,
      "display": null,
      "flex": null,
      "flex_flow": null,
      "grid_area": null,
      "grid_auto_columns": null,
      "grid_auto_flow": null,
      "grid_auto_rows": null,
      "grid_column": null,
      "grid_gap": null,
      "grid_row": null,
      "grid_template_areas": null,
      "grid_template_columns": null,
      "grid_template_rows": null,
      "height": null,
      "justify_content": null,
      "justify_items": null,
      "left": null,
      "margin": null,
      "max_height": null,
      "max_width": null,
      "min_height": null,
      "min_width": null,
      "object_fit": null,
      "object_position": null,
      "order": null,
      "overflow": null,
      "overflow_x": null,
      "overflow_y": null,
      "padding": null,
      "right": null,
      "top": null,
      "visibility": null,
      "width": null
     }
    },
    "3dfd22504cba4f1b82d8a8f30bceb55a": {
     "model_module": "@jupyter-widgets/controls",
     "model_module_version": "1.5.0",
     "model_name": "SliderStyleModel",
     "state": {
      "_model_module": "@jupyter-widgets/controls",
      "_model_module_version": "1.5.0",
      "_model_name": "SliderStyleModel",
      "_view_count": null,
      "_view_module": "@jupyter-widgets/base",
      "_view_module_version": "1.2.0",
      "_view_name": "StyleView",
      "description_width": "",
      "handle_color": null
     }
    },
    "4a14f3f9a0e3454ab01f98b91e117291": {
     "model_module": "@jupyter-widgets/controls",
     "model_module_version": "1.5.0",
     "model_name": "SliderStyleModel",
     "state": {
      "_model_module": "@jupyter-widgets/controls",
      "_model_module_version": "1.5.0",
      "_model_name": "SliderStyleModel",
      "_view_count": null,
      "_view_module": "@jupyter-widgets/base",
      "_view_module_version": "1.2.0",
      "_view_name": "StyleView",
      "description_width": "",
      "handle_color": null
     }
    },
    "4a78b2d34895498cb0a054f010450ed9": {
     "model_module": "@jupyter-widgets/base",
     "model_module_version": "1.2.0",
     "model_name": "LayoutModel",
     "state": {
      "_model_module": "@jupyter-widgets/base",
      "_model_module_version": "1.2.0",
      "_model_name": "LayoutModel",
      "_view_count": null,
      "_view_module": "@jupyter-widgets/base",
      "_view_module_version": "1.2.0",
      "_view_name": "LayoutView",
      "align_content": null,
      "align_items": null,
      "align_self": null,
      "border": null,
      "bottom": null,
      "display": null,
      "flex": null,
      "flex_flow": null,
      "grid_area": null,
      "grid_auto_columns": null,
      "grid_auto_flow": null,
      "grid_auto_rows": null,
      "grid_column": null,
      "grid_gap": null,
      "grid_row": null,
      "grid_template_areas": null,
      "grid_template_columns": null,
      "grid_template_rows": null,
      "height": null,
      "justify_content": null,
      "justify_items": null,
      "left": null,
      "margin": null,
      "max_height": null,
      "max_width": null,
      "min_height": null,
      "min_width": null,
      "object_fit": null,
      "object_position": null,
      "order": null,
      "overflow": null,
      "overflow_x": null,
      "overflow_y": null,
      "padding": null,
      "right": null,
      "top": null,
      "visibility": null,
      "width": null
     }
    },
    "4b12ca4112ab4f8a993e7fa19a261a45": {
     "model_module": "@jupyter-widgets/controls",
     "model_module_version": "1.5.0",
     "model_name": "SliderStyleModel",
     "state": {
      "_model_module": "@jupyter-widgets/controls",
      "_model_module_version": "1.5.0",
      "_model_name": "SliderStyleModel",
      "_view_count": null,
      "_view_module": "@jupyter-widgets/base",
      "_view_module_version": "1.2.0",
      "_view_name": "StyleView",
      "description_width": "",
      "handle_color": null
     }
    },
    "508e160e5cbc4ea1accae97e2d1e528d": {
     "model_module": "@jupyter-widgets/base",
     "model_module_version": "1.2.0",
     "model_name": "LayoutModel",
     "state": {
      "_model_module": "@jupyter-widgets/base",
      "_model_module_version": "1.2.0",
      "_model_name": "LayoutModel",
      "_view_count": null,
      "_view_module": "@jupyter-widgets/base",
      "_view_module_version": "1.2.0",
      "_view_name": "LayoutView",
      "align_content": null,
      "align_items": null,
      "align_self": null,
      "border": null,
      "bottom": null,
      "display": null,
      "flex": null,
      "flex_flow": null,
      "grid_area": null,
      "grid_auto_columns": null,
      "grid_auto_flow": null,
      "grid_auto_rows": null,
      "grid_column": null,
      "grid_gap": null,
      "grid_row": null,
      "grid_template_areas": null,
      "grid_template_columns": null,
      "grid_template_rows": null,
      "height": null,
      "justify_content": null,
      "justify_items": null,
      "left": null,
      "margin": null,
      "max_height": null,
      "max_width": null,
      "min_height": null,
      "min_width": null,
      "object_fit": null,
      "object_position": null,
      "order": null,
      "overflow": null,
      "overflow_x": null,
      "overflow_y": null,
      "padding": null,
      "right": null,
      "top": null,
      "visibility": null,
      "width": null
     }
    },
    "55c1f783fa684ac8a29f435ae1b0e39d": {
     "model_module": "@jupyter-widgets/base",
     "model_module_version": "1.2.0",
     "model_name": "LayoutModel",
     "state": {
      "_model_module": "@jupyter-widgets/base",
      "_model_module_version": "1.2.0",
      "_model_name": "LayoutModel",
      "_view_count": null,
      "_view_module": "@jupyter-widgets/base",
      "_view_module_version": "1.2.0",
      "_view_name": "LayoutView",
      "align_content": null,
      "align_items": null,
      "align_self": null,
      "border": null,
      "bottom": null,
      "display": null,
      "flex": null,
      "flex_flow": null,
      "grid_area": null,
      "grid_auto_columns": null,
      "grid_auto_flow": null,
      "grid_auto_rows": null,
      "grid_column": null,
      "grid_gap": null,
      "grid_row": null,
      "grid_template_areas": null,
      "grid_template_columns": null,
      "grid_template_rows": null,
      "height": null,
      "justify_content": null,
      "justify_items": null,
      "left": null,
      "margin": null,
      "max_height": null,
      "max_width": null,
      "min_height": null,
      "min_width": null,
      "object_fit": null,
      "object_position": null,
      "order": null,
      "overflow": null,
      "overflow_x": null,
      "overflow_y": null,
      "padding": null,
      "right": null,
      "top": null,
      "visibility": null,
      "width": null
     }
    },
    "5f86065c2a054674aea3950ea5b92b67": {
     "model_module": "@jupyter-widgets/base",
     "model_module_version": "1.2.0",
     "model_name": "LayoutModel",
     "state": {
      "_model_module": "@jupyter-widgets/base",
      "_model_module_version": "1.2.0",
      "_model_name": "LayoutModel",
      "_view_count": null,
      "_view_module": "@jupyter-widgets/base",
      "_view_module_version": "1.2.0",
      "_view_name": "LayoutView",
      "align_content": null,
      "align_items": null,
      "align_self": null,
      "border": null,
      "bottom": null,
      "display": null,
      "flex": null,
      "flex_flow": null,
      "grid_area": null,
      "grid_auto_columns": null,
      "grid_auto_flow": null,
      "grid_auto_rows": null,
      "grid_column": null,
      "grid_gap": null,
      "grid_row": null,
      "grid_template_areas": null,
      "grid_template_columns": null,
      "grid_template_rows": null,
      "height": null,
      "justify_content": null,
      "justify_items": null,
      "left": null,
      "margin": null,
      "max_height": null,
      "max_width": null,
      "min_height": null,
      "min_width": null,
      "object_fit": null,
      "object_position": null,
      "order": null,
      "overflow": null,
      "overflow_x": null,
      "overflow_y": null,
      "padding": null,
      "right": null,
      "top": null,
      "visibility": null,
      "width": null
     }
    },
    "60f7d62c51a143118a91bc466101e26d": {
     "model_module": "@jupyter-widgets/base",
     "model_module_version": "1.2.0",
     "model_name": "LayoutModel",
     "state": {
      "_model_module": "@jupyter-widgets/base",
      "_model_module_version": "1.2.0",
      "_model_name": "LayoutModel",
      "_view_count": null,
      "_view_module": "@jupyter-widgets/base",
      "_view_module_version": "1.2.0",
      "_view_name": "LayoutView",
      "align_content": null,
      "align_items": null,
      "align_self": null,
      "border": null,
      "bottom": null,
      "display": null,
      "flex": null,
      "flex_flow": null,
      "grid_area": null,
      "grid_auto_columns": null,
      "grid_auto_flow": null,
      "grid_auto_rows": null,
      "grid_column": null,
      "grid_gap": null,
      "grid_row": null,
      "grid_template_areas": null,
      "grid_template_columns": null,
      "grid_template_rows": null,
      "height": null,
      "justify_content": null,
      "justify_items": null,
      "left": null,
      "margin": null,
      "max_height": null,
      "max_width": null,
      "min_height": null,
      "min_width": null,
      "object_fit": null,
      "object_position": null,
      "order": null,
      "overflow": null,
      "overflow_x": null,
      "overflow_y": null,
      "padding": null,
      "right": null,
      "top": null,
      "visibility": null,
      "width": null
     }
    },
    "6826b150ee5c42c6804d6cb26a43bb66": {
     "model_module": "@jupyter-widgets/base",
     "model_module_version": "1.2.0",
     "model_name": "LayoutModel",
     "state": {
      "_model_module": "@jupyter-widgets/base",
      "_model_module_version": "1.2.0",
      "_model_name": "LayoutModel",
      "_view_count": null,
      "_view_module": "@jupyter-widgets/base",
      "_view_module_version": "1.2.0",
      "_view_name": "LayoutView",
      "align_content": null,
      "align_items": null,
      "align_self": null,
      "border": null,
      "bottom": null,
      "display": null,
      "flex": null,
      "flex_flow": null,
      "grid_area": null,
      "grid_auto_columns": null,
      "grid_auto_flow": null,
      "grid_auto_rows": null,
      "grid_column": null,
      "grid_gap": null,
      "grid_row": null,
      "grid_template_areas": null,
      "grid_template_columns": null,
      "grid_template_rows": null,
      "height": null,
      "justify_content": null,
      "justify_items": null,
      "left": null,
      "margin": null,
      "max_height": null,
      "max_width": null,
      "min_height": null,
      "min_width": null,
      "object_fit": null,
      "object_position": null,
      "order": null,
      "overflow": null,
      "overflow_x": null,
      "overflow_y": null,
      "padding": null,
      "right": null,
      "top": null,
      "visibility": null,
      "width": null
     }
    },
    "6e9b1723661048ab9413629364fdcc7b": {
     "model_module": "@jupyter-widgets/output",
     "model_module_version": "1.0.0",
     "model_name": "OutputModel",
     "state": {
      "_dom_classes": [],
      "_model_module": "@jupyter-widgets/output",
      "_model_module_version": "1.0.0",
      "_model_name": "OutputModel",
      "_view_count": null,
      "_view_module": "@jupyter-widgets/output",
      "_view_module_version": "1.0.0",
      "_view_name": "OutputView",
      "layout": "IPY_MODEL_4a78b2d34895498cb0a054f010450ed9",
      "msg_id": "",
      "outputs": [
       {
        "data": {
         "image/png": "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\n",
         "text/plain": "<Figure size 432x288 with 1 Axes>"
        },
        "metadata": {
         "needs_background": "light"
        },
        "output_type": "display_data"
       }
      ]
     }
    },
    "88ea882a0c0b4e1bb31326940849749b": {
     "model_module": "@jupyter-widgets/controls",
     "model_module_version": "1.5.0",
     "model_name": "FloatSliderModel",
     "state": {
      "_dom_classes": [],
      "_model_module": "@jupyter-widgets/controls",
      "_model_module_version": "1.5.0",
      "_model_name": "FloatSliderModel",
      "_view_count": null,
      "_view_module": "@jupyter-widgets/controls",
      "_view_module_version": "1.5.0",
      "_view_name": "FloatSliderView",
      "continuous_update": true,
      "description": "sensitivity",
      "description_tooltip": null,
      "disabled": false,
      "layout": "IPY_MODEL_6826b150ee5c42c6804d6cb26a43bb66",
      "max": 1,
      "min": 0,
      "orientation": "horizontal",
      "readout": true,
      "readout_format": ".2f",
      "step": 0.001,
      "style": "IPY_MODEL_0c96c43fe88e4d4cacb1ae35e7b33666",
      "value": 0
     }
    },
    "8dd5fc2992c64200b665a01598119d17": {
     "model_module": "@jupyter-widgets/base",
     "model_module_version": "1.2.0",
     "model_name": "LayoutModel",
     "state": {
      "_model_module": "@jupyter-widgets/base",
      "_model_module_version": "1.2.0",
      "_model_name": "LayoutModel",
      "_view_count": null,
      "_view_module": "@jupyter-widgets/base",
      "_view_module_version": "1.2.0",
      "_view_name": "LayoutView",
      "align_content": null,
      "align_items": null,
      "align_self": null,
      "border": null,
      "bottom": null,
      "display": null,
      "flex": null,
      "flex_flow": null,
      "grid_area": null,
      "grid_auto_columns": null,
      "grid_auto_flow": null,
      "grid_auto_rows": null,
      "grid_column": null,
      "grid_gap": null,
      "grid_row": null,
      "grid_template_areas": null,
      "grid_template_columns": null,
      "grid_template_rows": null,
      "height": null,
      "justify_content": null,
      "justify_items": null,
      "left": null,
      "margin": null,
      "max_height": null,
      "max_width": null,
      "min_height": null,
      "min_width": null,
      "object_fit": null,
      "object_position": null,
      "order": null,
      "overflow": null,
      "overflow_x": null,
      "overflow_y": null,
      "padding": null,
      "right": null,
      "top": null,
      "visibility": null,
      "width": null
     }
    },
    "8de8b2eb55894af781bbe1d923adb845": {
     "model_module": "@jupyter-widgets/controls",
     "model_module_version": "1.5.0",
     "model_name": "FloatSliderModel",
     "state": {
      "_dom_classes": [],
      "_model_module": "@jupyter-widgets/controls",
      "_model_module_version": "1.5.0",
      "_model_name": "FloatSliderModel",
      "_view_count": null,
      "_view_module": "@jupyter-widgets/controls",
      "_view_module_version": "1.5.0",
      "_view_name": "FloatSliderView",
      "continuous_update": true,
      "description": "prior",
      "description_tooltip": null,
      "disabled": false,
      "layout": "IPY_MODEL_8dd5fc2992c64200b665a01598119d17",
      "max": 1,
      "min": 0,
      "orientation": "horizontal",
      "readout": true,
      "readout_format": ".2f",
      "step": 0.001,
      "style": "IPY_MODEL_930b30d489e24e55a7cd50a054b1b131",
      "value": 0
     }
    },
    "930b30d489e24e55a7cd50a054b1b131": {
     "model_module": "@jupyter-widgets/controls",
     "model_module_version": "1.5.0",
     "model_name": "SliderStyleModel",
     "state": {
      "_model_module": "@jupyter-widgets/controls",
      "_model_module_version": "1.5.0",
      "_model_name": "SliderStyleModel",
      "_view_count": null,
      "_view_module": "@jupyter-widgets/base",
      "_view_module_version": "1.2.0",
      "_view_name": "StyleView",
      "description_width": "",
      "handle_color": null
     }
    },
    "93fe142f743e47d5a8f8834af0c5bfab": {
     "model_module": "@jupyter-widgets/controls",
     "model_module_version": "1.5.0",
     "model_name": "SliderStyleModel",
     "state": {
      "_model_module": "@jupyter-widgets/controls",
      "_model_module_version": "1.5.0",
      "_model_name": "SliderStyleModel",
      "_view_count": null,
      "_view_module": "@jupyter-widgets/base",
      "_view_module_version": "1.2.0",
      "_view_name": "StyleView",
      "description_width": "",
      "handle_color": null
     }
    },
    "a32ada66ca414d8abc9ef00810793337": {
     "model_module": "@jupyter-widgets/controls",
     "model_module_version": "1.5.0",
     "model_name": "FloatSliderModel",
     "state": {
      "_dom_classes": [],
      "_model_module": "@jupyter-widgets/controls",
      "_model_module_version": "1.5.0",
      "_model_name": "FloatSliderModel",
      "_view_count": null,
      "_view_module": "@jupyter-widgets/controls",
      "_view_module_version": "1.5.0",
      "_view_name": "FloatSliderView",
      "continuous_update": true,
      "description": "specificity",
      "description_tooltip": null,
      "disabled": false,
      "layout": "IPY_MODEL_b22a7e1e98fb46aebbdaab6e9437de51",
      "max": 1,
      "min": 0,
      "orientation": "horizontal",
      "readout": true,
      "readout_format": ".2f",
      "step": 0.001,
      "style": "IPY_MODEL_3dfd22504cba4f1b82d8a8f30bceb55a",
      "value": 0
     }
    },
    "a36e19db3aeb46acaad9ca6e941c5a0d": {
     "model_module": "@jupyter-widgets/base",
     "model_module_version": "1.2.0",
     "model_name": "LayoutModel",
     "state": {
      "_model_module": "@jupyter-widgets/base",
      "_model_module_version": "1.2.0",
      "_model_name": "LayoutModel",
      "_view_count": null,
      "_view_module": "@jupyter-widgets/base",
      "_view_module_version": "1.2.0",
      "_view_name": "LayoutView",
      "align_content": null,
      "align_items": null,
      "align_self": null,
      "border": null,
      "bottom": null,
      "display": null,
      "flex": null,
      "flex_flow": null,
      "grid_area": null,
      "grid_auto_columns": null,
      "grid_auto_flow": null,
      "grid_auto_rows": null,
      "grid_column": null,
      "grid_gap": null,
      "grid_row": null,
      "grid_template_areas": null,
      "grid_template_columns": null,
      "grid_template_rows": null,
      "height": null,
      "justify_content": null,
      "justify_items": null,
      "left": null,
      "margin": null,
      "max_height": null,
      "max_width": null,
      "min_height": null,
      "min_width": null,
      "object_fit": null,
      "object_position": null,
      "order": null,
      "overflow": null,
      "overflow_x": null,
      "overflow_y": null,
      "padding": null,
      "right": null,
      "top": null,
      "visibility": null,
      "width": null
     }
    },
    "b22a7e1e98fb46aebbdaab6e9437de51": {
     "model_module": "@jupyter-widgets/base",
     "model_module_version": "1.2.0",
     "model_name": "LayoutModel",
     "state": {
      "_model_module": "@jupyter-widgets/base",
      "_model_module_version": "1.2.0",
      "_model_name": "LayoutModel",
      "_view_count": null,
      "_view_module": "@jupyter-widgets/base",
      "_view_module_version": "1.2.0",
      "_view_name": "LayoutView",
      "align_content": null,
      "align_items": null,
      "align_self": null,
      "border": null,
      "bottom": null,
      "display": null,
      "flex": null,
      "flex_flow": null,
      "grid_area": null,
      "grid_auto_columns": null,
      "grid_auto_flow": null,
      "grid_auto_rows": null,
      "grid_column": null,
      "grid_gap": null,
      "grid_row": null,
      "grid_template_areas": null,
      "grid_template_columns": null,
      "grid_template_rows": null,
      "height": null,
      "justify_content": null,
      "justify_items": null,
      "left": null,
      "margin": null,
      "max_height": null,
      "max_width": null,
      "min_height": null,
      "min_width": null,
      "object_fit": null,
      "object_position": null,
      "order": null,
      "overflow": null,
      "overflow_x": null,
      "overflow_y": null,
      "padding": null,
      "right": null,
      "top": null,
      "visibility": null,
      "width": null
     }
    },
    "c2adab3b08aa4a22bd04d8bdc5529970": {
     "model_module": "@jupyter-widgets/controls",
     "model_module_version": "1.5.0",
     "model_name": "FloatSliderModel",
     "state": {
      "_dom_classes": [],
      "_model_module": "@jupyter-widgets/controls",
      "_model_module_version": "1.5.0",
      "_model_name": "FloatSliderModel",
      "_view_count": null,
      "_view_module": "@jupyter-widgets/controls",
      "_view_module_version": "1.5.0",
      "_view_name": "FloatSliderView",
      "continuous_update": true,
      "description": "prior",
      "description_tooltip": null,
      "disabled": false,
      "layout": "IPY_MODEL_d3c1df04f66a4232895bea09b30b7389",
      "max": 1.001,
      "min": 0.001,
      "orientation": "horizontal",
      "readout": true,
      "readout_format": ".2f",
      "step": 0.001,
      "style": "IPY_MODEL_4b12ca4112ab4f8a993e7fa19a261a45",
      "value": 0.001
     }
    },
    "c3368d4b47164a749d7136853041cc29": {
     "model_module": "@jupyter-widgets/controls",
     "model_module_version": "1.5.0",
     "model_name": "HBoxModel",
     "state": {
      "_dom_classes": [],
      "_model_module": "@jupyter-widgets/controls",
      "_model_module_version": "1.5.0",
      "_model_name": "HBoxModel",
      "_view_count": null,
      "_view_module": "@jupyter-widgets/controls",
      "_view_module_version": "1.5.0",
      "_view_name": "HBoxView",
      "box_style": "",
      "children": [
       "IPY_MODEL_c2adab3b08aa4a22bd04d8bdc5529970",
       "IPY_MODEL_01f1ebffe6074bc3b5c6c92ce96a8119",
       "IPY_MODEL_0561a07349154c06b145f8dc74ddf329"
      ],
      "layout": "IPY_MODEL_508e160e5cbc4ea1accae97e2d1e528d"
     }
    },
    "d3c1df04f66a4232895bea09b30b7389": {
     "model_module": "@jupyter-widgets/base",
     "model_module_version": "1.2.0",
     "model_name": "LayoutModel",
     "state": {
      "_model_module": "@jupyter-widgets/base",
      "_model_module_version": "1.2.0",
      "_model_name": "LayoutModel",
      "_view_count": null,
      "_view_module": "@jupyter-widgets/base",
      "_view_module_version": "1.2.0",
      "_view_name": "LayoutView",
      "align_content": null,
      "align_items": null,
      "align_self": null,
      "border": null,
      "bottom": null,
      "display": null,
      "flex": null,
      "flex_flow": null,
      "grid_area": null,
      "grid_auto_columns": null,
      "grid_auto_flow": null,
      "grid_auto_rows": null,
      "grid_column": null,
      "grid_gap": null,
      "grid_row": null,
      "grid_template_areas": null,
      "grid_template_columns": null,
      "grid_template_rows": null,
      "height": null,
      "justify_content": null,
      "justify_items": null,
      "left": null,
      "margin": null,
      "max_height": null,
      "max_width": null,
      "min_height": null,
      "min_width": null,
      "object_fit": null,
      "object_position": null,
      "order": null,
      "overflow": null,
      "overflow_x": null,
      "overflow_y": null,
      "padding": null,
      "right": null,
      "top": null,
      "visibility": null,
      "width": null
     }
    },
    "d3eecdbb9ece4cc3bdee0ec1e7649458": {
     "model_module": "@jupyter-widgets/controls",
     "model_module_version": "1.5.0",
     "model_name": "HBoxModel",
     "state": {
      "_dom_classes": [],
      "_model_module": "@jupyter-widgets/controls",
      "_model_module_version": "1.5.0",
      "_model_name": "HBoxModel",
      "_view_count": null,
      "_view_module": "@jupyter-widgets/controls",
      "_view_module_version": "1.5.0",
      "_view_name": "HBoxView",
      "box_style": "",
      "children": [
       "IPY_MODEL_88ea882a0c0b4e1bb31326940849749b"
      ],
      "layout": "IPY_MODEL_dba20ef8622c424abccc6e50aff26da3"
     }
    },
    "dba20ef8622c424abccc6e50aff26da3": {
     "model_module": "@jupyter-widgets/base",
     "model_module_version": "1.2.0",
     "model_name": "LayoutModel",
     "state": {
      "_model_module": "@jupyter-widgets/base",
      "_model_module_version": "1.2.0",
      "_model_name": "LayoutModel",
      "_view_count": null,
      "_view_module": "@jupyter-widgets/base",
      "_view_module_version": "1.2.0",
      "_view_name": "LayoutView",
      "align_content": null,
      "align_items": null,
      "align_self": null,
      "border": null,
      "bottom": null,
      "display": null,
      "flex": null,
      "flex_flow": null,
      "grid_area": null,
      "grid_auto_columns": null,
      "grid_auto_flow": null,
      "grid_auto_rows": null,
      "grid_column": null,
      "grid_gap": null,
      "grid_row": null,
      "grid_template_areas": null,
      "grid_template_columns": null,
      "grid_template_rows": null,
      "height": null,
      "justify_content": null,
      "justify_items": null,
      "left": null,
      "margin": null,
      "max_height": null,
      "max_width": null,
      "min_height": null,
      "min_width": null,
      "object_fit": null,
      "object_position": null,
      "order": null,
      "overflow": null,
      "overflow_x": null,
      "overflow_y": null,
      "padding": null,
      "right": null,
      "top": null,
      "visibility": null,
      "width": null
     }
    },
    "e9974303db6e4e94ae7a6c5d905b04ab": {
     "model_module": "@jupyter-widgets/controls",
     "model_module_version": "1.5.0",
     "model_name": "HBoxModel",
     "state": {
      "_dom_classes": [],
      "_model_module": "@jupyter-widgets/controls",
      "_model_module_version": "1.5.0",
      "_model_name": "HBoxModel",
      "_view_count": null,
      "_view_module": "@jupyter-widgets/controls",
      "_view_module_version": "1.5.0",
      "_view_name": "HBoxView",
      "box_style": "",
      "children": [
       "IPY_MODEL_a32ada66ca414d8abc9ef00810793337"
      ],
      "layout": "IPY_MODEL_0f57575639394120ac6052471129cae0"
     }
    },
    "eb2013eb8b1a434899fbd86007857e79": {
     "model_module": "@jupyter-widgets/output",
     "model_module_version": "1.0.0",
     "model_name": "OutputModel",
     "state": {
      "_dom_classes": [],
      "_model_module": "@jupyter-widgets/output",
      "_model_module_version": "1.0.0",
      "_model_name": "OutputModel",
      "_view_count": null,
      "_view_module": "@jupyter-widgets/output",
      "_view_module_version": "1.0.0",
      "_view_name": "OutputView",
      "layout": "IPY_MODEL_fd8d59a9b2404b18b3643a829d5830d6",
      "msg_id": "",
      "outputs": [
       {
        "data": {
         "image/png": "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\n",
         "text/plain": "<Figure size 432x288 with 1 Axes>"
        },
        "metadata": {
         "needs_background": "light"
        },
        "output_type": "display_data"
       }
      ]
     }
    },
    "f67de988290747498be6a75c16c2b615": {
     "model_module": "@jupyter-widgets/output",
     "model_module_version": "1.0.0",
     "model_name": "OutputModel",
     "state": {
      "_dom_classes": [],
      "_model_module": "@jupyter-widgets/output",
      "_model_module_version": "1.0.0",
      "_model_name": "OutputModel",
      "_view_count": null,
      "_view_module": "@jupyter-widgets/output",
      "_view_module_version": "1.0.0",
      "_view_name": "OutputView",
      "layout": "IPY_MODEL_60f7d62c51a143118a91bc466101e26d",
      "msg_id": "",
      "outputs": [
       {
        "data": {
         "image/png": "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\n",
         "text/plain": "<Figure size 432x288 with 1 Axes>"
        },
        "metadata": {
         "needs_background": "light"
        },
        "output_type": "display_data"
       }
      ]
     }
    },
    "fd8d59a9b2404b18b3643a829d5830d6": {
     "model_module": "@jupyter-widgets/base",
     "model_module_version": "1.2.0",
     "model_name": "LayoutModel",
     "state": {
      "_model_module": "@jupyter-widgets/base",
      "_model_module_version": "1.2.0",
      "_model_name": "LayoutModel",
      "_view_count": null,
      "_view_module": "@jupyter-widgets/base",
      "_view_module_version": "1.2.0",
      "_view_name": "LayoutView",
      "align_content": null,
      "align_items": null,
      "align_self": null,
      "border": null,
      "bottom": null,
      "display": null,
      "flex": null,
      "flex_flow": null,
      "grid_area": null,
      "grid_auto_columns": null,
      "grid_auto_flow": null,
      "grid_auto_rows": null,
      "grid_column": null,
      "grid_gap": null,
      "grid_row": null,
      "grid_template_areas": null,
      "grid_template_columns": null,
      "grid_template_rows": null,
      "height": null,
      "justify_content": null,
      "justify_items": null,
      "left": null,
      "margin": null,
      "max_height": null,
      "max_width": null,
      "min_height": null,
      "min_width": null,
      "object_fit": null,
      "object_position": null,
      "order": null,
      "overflow": null,
      "overflow_x": null,
      "overflow_y": null,
      "padding": null,
      "right": null,
      "top": null,
      "visibility": null,
      "width": null
     }
    }
   }
  }
 },
 "nbformat": 4,
 "nbformat_minor": 5
}
