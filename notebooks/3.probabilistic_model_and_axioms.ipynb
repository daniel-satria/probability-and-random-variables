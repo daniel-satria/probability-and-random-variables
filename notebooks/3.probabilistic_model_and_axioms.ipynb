{
 "cells": [
  {
   "cell_type": "markdown",
   "metadata": {},
   "source": [
    "# **Probabilistic Model and Axioms**"
   ]
  },
  {
   "cell_type": "markdown",
   "metadata": {},
   "source": [
    "**Outline**\n",
    "\n",
    "1. Case 1 - Simulasi Lempar Dadu\n",
    "2. Case 2 - Keuntungan Perusahaan\n",
    "3. Case 3 - Popularitas Menu Makanan"
   ]
  },
  {
   "cell_type": "markdown",
   "metadata": {},
   "source": [
    "- **Probabilistic Model:** Model yang menjelaskan kondisi **uncertain** dengan **lebih sistematis**\n",
    "- **Random Experiment:** Proses melakukan observasi ke sesuatu yang masih **uncertain**\n",
    "\n",
    "    Contoh:\n",
    "    - Observasi pelemparan dadu 6 sisi \n",
    "    - Observasi terjadinya gol di pertandingan Sepak Bola\n",
    "    - Observasi banyaknya email masuk dalam sehari\n",
    "    - dll\n",
    "- **Sample Space:** Kumpulan possible outcomes yang mungkin bisa terjadi dalam suatu experiment. Umumnya di notasikan dalam bentuk $\\Omega$ (Omega)\n",
    "\n",
    "    Contoh:\n",
    "    - Kemungkinan gol yang bisa terjadi dalam satu pertandingan Sepak Bola\n",
    "    - Waktu menunggu kedatangan Bus di Halte\n",
    "    - dll\n",
    "- **Event:** Kejadian yang terjadi di dalam Sample Space\n",
    "\n",
    "    Contoh:\n",
    "    - Event terjadinya Gol yang dicetak oleh Striker\n",
    "    - Event terjadinya Gol yang dicetak oleh Midfielder\n",
    "    - dll\n",
    "    \n",
    "- Setelah memiliki **Sample Space** dan **Event**, maka selanjutntya adalah membuat Probability Model\n",
    "- Pendekatan Probability Model yang paling sederhana adalah dengan menghitung proporsi frekuensi kejadian Event di dalam Sample Space\n",
    "\n",
    "##### Probability Formula\n",
    "\n",
    "$$P(E)=\\frac{n(E)}{n(\\Omega)}$$"
   ]
  },
  {
   "cell_type": "markdown",
   "metadata": {},
   "source": [
    "## **Study Case #1: Pelemparan Dadu**\n",
    "---"
   ]
  },
  {
   "cell_type": "markdown",
   "metadata": {},
   "source": [
    "<center>\n",
    "<img src=\"https://cdn-icons-png.flaticon.com/512/7101/7101743.png\" alt=\"drawing\" width=\"200\"/>\n",
    "</center>\n",
    "\n",
    "Kita melakukan pelemparan **satu** dadu 6 sisi, ditanya:\n",
    "- Berapa peluang munculnya angka $6$ saat melempar dadu?  \n",
    "\n",
    "Untuk menjawab pertanyaan tersebut, kita bisa menjawab dengan dua pendekatan, yaitu:\n",
    "- Melakukan **simulasi** melemparkan dadu secara berkali - kali\n",
    "- Menggunakan rumus Probability untuk mencari nilainya"
   ]
  },
  {
   "cell_type": "markdown",
   "metadata": {},
   "source": [
    "### **Pendekatan 1: Simulasi**"
   ]
  },
  {
   "cell_type": "markdown",
   "metadata": {},
   "source": [
    "- Lalu, berapakah nilai peluang munculnya angka $6$ jika melakukan pelemparan sebanyak 5x?\n",
    "\n",
    "- Dengan bantuan Python, kita bisa melakukan simulasi pelemparan tersebut"
   ]
  },
  {
   "cell_type": "code",
   "execution_count": 2,
   "metadata": {},
   "outputs": [],
   "source": [
    "# IMPORT LIBRARY\n",
    "\n",
    "import numpy as np\n",
    "import pandas as pd\n",
    "import matplotlib.pyplot as plt"
   ]
  },
  {
   "cell_type": "markdown",
   "metadata": {},
   "source": [
    "Sekarang kita coba lakukan simulasi pelemparan sebanyak 5x"
   ]
  },
  {
   "cell_type": "code",
   "execution_count": 3,
   "metadata": {},
   "outputs": [
    {
     "name": "stdout",
     "output_type": "stream",
     "text": [
      "[4 1 6 2 1]\n"
     ]
    }
   ],
   "source": [
    "hasil_pelemparan = np.random.randint(1, 7, 5) # membuat angka random dari 1 - 6 sebanyak 5 kali\n",
    "\n",
    "print(hasil_pelemparan)"
   ]
  },
  {
   "cell_type": "markdown",
   "metadata": {},
   "source": [
    "Untuk menghitung berapa kali kemunculan mata dadu dalam 5x pelemparan, kita bisa menggunakan `np.unique()`"
   ]
  },
  {
   "cell_type": "code",
   "execution_count": 4,
   "metadata": {},
   "outputs": [
    {
     "data": {
      "text/plain": [
       "(array([1, 2, 4, 6]), array([2, 1, 1, 1]))"
      ]
     },
     "execution_count": 4,
     "metadata": {},
     "output_type": "execute_result"
    }
   ],
   "source": [
    "event_yang_muncul, frekuensi_muncul = np.unique(hasil_pelemparan, return_counts=True) \n",
    "# parameter return_counts berguna untuk menghitung berapa banyak unique value yang muncul\n",
    "\n",
    "event_yang_muncul, frekuensi_muncul"
   ]
  },
  {
   "cell_type": "markdown",
   "metadata": {},
   "source": [
    "Sekarang, kita coba menghitung nilai Probability dari pelemparan dadu 5x"
   ]
  },
  {
   "cell_type": "code",
   "execution_count": 5,
   "metadata": {},
   "outputs": [
    {
     "data": {
      "text/plain": [
       "array([0.4, 0.2, 0.2, 0.2])"
      ]
     },
     "execution_count": 5,
     "metadata": {},
     "output_type": "execute_result"
    }
   ],
   "source": [
    "proba_event = frekuensi_muncul / 5\n",
    "\n",
    "proba_event"
   ]
  },
  {
   "cell_type": "markdown",
   "metadata": {},
   "source": [
    "Agar lebih mudah untuk melakukan interpretasi, kita gunakan visualisasi"
   ]
  },
  {
   "cell_type": "code",
   "execution_count": 6,
   "metadata": {},
   "outputs": [
    {
     "data": {
      "image/png": "[encoded data removed]",
      "text/plain": [
       "<Figure size 640x480 with 1 Axes>"
      ]
     },
     "metadata": {},
     "output_type": "display_data"
    }
   ],
   "source": [
    "plt.bar(event_yang_muncul, proba_event)\n",
    "plt.title(\"Simulasi Pelemparan Dadu sebanyak 5 kali\")\n",
    "plt.xticks(np.arange(1, 7))\n",
    "plt.xlabel(\"Angka Mata Dadu\")\n",
    "plt.ylabel(\"Probability\")\n",
    "plt.show()"
   ]
  },
  {
   "cell_type": "markdown",
   "metadata": {},
   "source": [
    "- Nah, kalau kita lihat nilai probability dari masing - masing mata dadu ada yang belum memiliki nilai peluang\n",
    "- Maka, kita coba lakukan pelemparan lebih banyak lagi (100x, 1.000x, 10.000x, ...)"
   ]
  },
  {
   "cell_type": "markdown",
   "metadata": {},
   "source": [
    "Agar code nya terlihat lebih rapi dan mudah dipanggil, maka akan \"dibungkus\" dengan `function`"
   ]
  },
  {
   "cell_type": "code",
   "execution_count": 7,
   "metadata": {},
   "outputs": [],
   "source": [
    "def probability_model_dadu(jumlah_pelemparan):\n",
    "    \"\"\"\n",
    "    Simulasi pelemparan dadu 6 sisi sebanyak n kali\n",
    "\n",
    "    Parameters\n",
    "    ----------\n",
    "        jumlah_pelemparan   : int \n",
    "                              jumlah pelemparan yang dilakukan\n",
    "    \"\"\"\n",
    "    \n",
    "    # melakukan pelemparan dadu sebanyak jumlah_pelemparan \n",
    "    hasil_pelemparan = np.random.randint(1, 7, jumlah_pelemparan)\n",
    "\n",
    "    # untuk mengetahui berapa kali kemunculan mata dadu dalam jumlah_pelemparan\n",
    "    event_yang_muncul, frekuensi_muncul = np.unique(hasil_pelemparan, return_counts=True)\n",
    "    \n",
    "    # menghitung probability\n",
    "    proba_event = frekuensi_muncul / jumlah_pelemparan\n",
    "\n",
    "    # melakukan visualisasi\n",
    "    plt.bar(event_yang_muncul, proba_event)\n",
    "    plt.title(f\"Simulasi Pelemparan Dadu sebanyak {jumlah_pelemparan} kali\")\n",
    "    plt.xticks(np.arange(1, 7))\n",
    "    plt.xlabel(\"Angka Mata Dadu\")\n",
    "    plt.ylabel(\"Probability\")\n",
    "    plt.show()"
   ]
  },
  {
   "cell_type": "markdown",
   "metadata": {},
   "source": [
    "Sekarang kita coba lakukan eksperimen pelemparan dadu sebanyak 1000x dengan menggunakan function `probability_model_dadu`"
   ]
  },
  {
   "cell_type": "code",
   "execution_count": 8,
   "metadata": {},
   "outputs": [
    {
     "data": {
      "image/png": "[encoded data removed]",
      "text/plain": [
       "<Figure size 640x480 with 1 Axes>"
      ]
     },
     "metadata": {},
     "output_type": "display_data"
    }
   ],
   "source": [
    "probability_model_dadu(jumlah_pelemparan=1000)"
   ]
  },
  {
   "cell_type": "markdown",
   "metadata": {},
   "source": [
    "- Kalau kita lihat, sekarang masing - masing mata dadu memiliki nilai Probability\n",
    "- Jika kita bandingkan dengan pelemparan sebanyak `5x`, nilai Probability dari masing - masing mata dadu juga ikut berubah"
   ]
  },
  {
   "cell_type": "markdown",
   "metadata": {},
   "source": [
    "- Sekarang kita coba lakukan simulasi pelemparan dengan jumlah yang besar. Seperti melemparkan sebanyak `100.000` dan `1.000.000` kali"
   ]
  },
  {
   "cell_type": "markdown",
   "metadata": {},
   "source": [
    "#### Pelemparan 100.000x"
   ]
  },
  {
   "cell_type": "code",
   "execution_count": 9,
   "metadata": {},
   "outputs": [
    {
     "data": {
      "image/png": "[encoded data removed]",
      "text/plain": [
       "<Figure size 640x480 with 1 Axes>"
      ]
     },
     "metadata": {},
     "output_type": "display_data"
    }
   ],
   "source": [
    "probability_model_dadu(jumlah_pelemparan=100000)"
   ]
  },
  {
   "cell_type": "markdown",
   "metadata": {},
   "source": [
    "#### Pelemparan 1.000.000x"
   ]
  },
  {
   "cell_type": "code",
   "execution_count": 10,
   "metadata": {},
   "outputs": [
    {
     "data": {
      "image/png": "[encoded data removed]",
      "text/plain": [
       "<Figure size 640x480 with 1 Axes>"
      ]
     },
     "metadata": {},
     "output_type": "display_data"
    }
   ],
   "source": [
    "probability_model_dadu(jumlah_pelemparan=1000000)"
   ]
  },
  {
   "cell_type": "markdown",
   "metadata": {},
   "source": [
    "- Dapat dilihat bahwa setelah melakukan simulasi pelemparan sebanyak `100.000` dan `1.000.000` nilai Probability nya mulai sama dan cenderung stabil\n",
    "- Nilai Probability dari masing - masing mata dadu juga memiliki nilai yang relatif sama, yaitu $0.16666666666666666$ \n",
    "- Dapat disimpulkan, semakin banyak jumlah simulasi atau eksperimen yang dilakukan maka nilai Probability nya akan mulai stabil\n",
    "\n",
    "---"
   ]
  },
  {
   "cell_type": "markdown",
   "metadata": {},
   "source": [
    "### **Pendekatan 2: Probability Formula**\n",
    "---"
   ]
  },
  {
   "cell_type": "markdown",
   "metadata": {},
   "source": [
    "- Selain menggunakan pendekeatan Simulasi, kita juga bisa langsung mencari nilai Probability nya menggunakan Probability Formula\n",
    "- Jika teman - teman lupa, langkah pertama kita harus menentukan Sample Space nya terlebih dahulu"
   ]
  },
  {
   "cell_type": "markdown",
   "metadata": {},
   "source": [
    "- Karena disini kita melakukan eksperimen pelemparan **satu** dadu 6 sisi, maka Sample Space nya sebagai berikut\n",
    "\n",
    "$$\\Omega=\\{1,2,3,4,5,6\\} \\\\\n",
    "n(\\Omega)=6\n",
    "$$"
   ]
  },
  {
   "cell_type": "markdown",
   "metadata": {},
   "source": [
    "- Lalu langkah selanjutnya untuk mencari nilai Probability kita membutuhkan **Event**\n",
    "- Karena yang diminta adalah mencari nilai Probability Angka 6 saat melempar dadu, maka Event nya sebagai berikut\n",
    "$$E=\\{6\\} \\\\ \n",
    "n(E)=1\n",
    "$$"
   ]
  },
  {
   "cell_type": "markdown",
   "metadata": {},
   "source": [
    "- Setelah mendapatkan Sample Space dan Event, maka langkah selanjutnya adalah memasukkannya ke Probability Formula\n",
    "$$\n",
    "P(E)=\\frac{n(E)}{n(\\Omega)} \\\\ \n",
    "P(6)=\\frac{1}{6}= 0.16666666666666666\n",
    "$$"
   ]
  },
  {
   "cell_type": "code",
   "execution_count": 11,
   "metadata": {},
   "outputs": [
    {
     "data": {
      "text/plain": [
       "0.16666666666666666"
      ]
     },
     "execution_count": 11,
     "metadata": {},
     "output_type": "execute_result"
    }
   ],
   "source": [
    "1/6"
   ]
  },
  {
   "cell_type": "markdown",
   "metadata": {},
   "source": [
    "---\n",
    "#### Kesimpulan\n",
    "- Untuk mencari nilai Probability dari pelemparan dadu, kita bisa menggunakan dua pendekatan yaitu dengan pendekatan Simulasi dan pendekatan menggunakan Formula\n",
    "- Dari kedua pendekatan tersebut didapatkan hasil yang sama yaitu sekitar $P(6)=0.16666666666666666$\n",
    "---"
   ]
  },
  {
   "cell_type": "markdown",
   "metadata": {},
   "source": [
    "## **Study Case #2: Keuntungan Perusahaan**\n",
    "\n",
    "---"
   ]
  },
  {
   "cell_type": "markdown",
   "metadata": {},
   "source": [
    "- Dibawah ini adalah data mengenai keuntungan dari banyak perusahaan\n",
    "- Dimana, dari jumlah keuntungan yang didapatkan per tahun akan dikategorikan seperti tabel dibawah ini"
   ]
  },
  {
   "cell_type": "markdown",
   "metadata": {},
   "source": [
    "| **Kategori** | **Keuntungan per Tahun** | **Jumlah Perusahaan** |\n",
    "|--------------|--------------------------|-----------------------|\n",
    "|       A      | < 10 Juta                |                    60 |\n",
    "|       B      | 10 Juta s.d 19 Juta      |                   100 |\n",
    "|       C      | 20 Juta s.d 29 Juta      |                   160 |\n",
    "|       D      | 30 Juta s.d 39 Juta      |                   140 |\n",
    "|       E      | > 40 Juta                |                    40 |\n",
    "| Total        |                          |                   500 |"
   ]
  },
  {
   "cell_type": "markdown",
   "metadata": {},
   "source": [
    "#### **Pertanyaan 1:** Berapakah nilai Probability dari Perusahaan yang memiliki keuntungan dibawah 10 Juta?"
   ]
  },
  {
   "cell_type": "markdown",
   "metadata": {},
   "source": [
    "##### Jawaban\n",
    "\n",
    "- Dapat dilihat bahwa Perusahaan yang memiliki keuntungan dibawah 10 Juta adalah `Kategori A`\n",
    "- Jika kita menjawab dengan Probability Formula, maka akan seperti berikut\n",
    "$$P(A)=\\frac{n(A)}{n(\\Omega)}$$"
   ]
  },
  {
   "cell_type": "code",
   "execution_count": 13,
   "metadata": {},
   "outputs": [],
   "source": [
    "# Data dari tabel\n",
    "n_A = 60\n",
    "n_sample_space = 500"
   ]
  },
  {
   "cell_type": "markdown",
   "metadata": {},
   "source": [
    "- Setelah menentukan Sample Space dan Event, kita masukkan ke Probability Formula"
   ]
  },
  {
   "cell_type": "code",
   "execution_count": 15,
   "metadata": {},
   "outputs": [
    {
     "name": "stdout",
     "output_type": "stream",
     "text": [
      "Nilai Probability dari Perusahaan yang memiliki keuntungan dibawah 10 Juta adalah 0.12\n"
     ]
    }
   ],
   "source": [
    "p_A = n_A / n_sample_space\n",
    "\n",
    "print(f\"Nilai Probability dari Perusahaan yang memiliki keuntungan dibawah 10 Juta adalah {p_A}\")"
   ]
  },
  {
   "cell_type": "markdown",
   "metadata": {},
   "source": [
    "---\n",
    "#### **Pertanyaan 2:** Berapakah nilai Probability dari Perusahaan yang memiliki keuntungan 10 Juta s.d 19 Juta **atau** diatas 40 Juta?"
   ]
  },
  {
   "cell_type": "markdown",
   "metadata": {},
   "source": [
    "- Karena yang diminta adalah Perusahaan yang memiliki keuntungan 10 Juta s.d 19 Juta maka termasuk `Kategori B`\n",
    "- Perusahaan yang memiliki keuntungan diatas 40 Juta termasuk `Kategori E`\n",
    "- `Atau` biasanya dinotasikan sebagai $\\cup$, sehingga kita akan mencari $P(B \\cup E)$"
   ]
  },
  {
   "cell_type": "markdown",
   "metadata": {},
   "source": [
    "## **Study Case #3: Popularitas Menu Makanan**\n",
    "---"
   ]
  },
  {
   "cell_type": "markdown",
   "metadata": {},
   "source": [
    "- Diberikan data Popularitas Menu Makanan di dalam file [`popularitas-menu.csv`](https://drive.google.com/file/d/1pZh31V434zqA1sZXmZmlB8riY3Fzwzfk/preview)\n",
    "- Untuk membaca file dengan format `.csv` kita bisa menggunakan library `Pandas`"
   ]
  },
  {
   "cell_type": "code",
   "execution_count": 17,
   "metadata": {},
   "outputs": [
    {
     "data": {
      "text/html": [
       "<div>\n",
       "<style scoped>\n",
       "    .dataframe tbody tr th:only-of-type {\n",
       "        vertical-align: middle;\n",
       "    }\n",
       "\n",
       "    .dataframe tbody tr th {\n",
       "        vertical-align: top;\n",
       "    }\n",
       "\n",
       "    .dataframe thead th {\n",
       "        text-align: right;\n",
       "    }\n",
       "</style>\n",
       "<table border=\"1\" class=\"dataframe\">\n",
       "  <thead>\n",
       "    <tr style=\"text-align: right;\">\n",
       "      <th></th>\n",
       "      <th>No</th>\n",
       "      <th>Nama Menu</th>\n",
       "    </tr>\n",
       "  </thead>\n",
       "  <tbody>\n",
       "    <tr>\n",
       "      <th>0</th>\n",
       "      <td>1</td>\n",
       "      <td>Nasi Pecel</td>\n",
       "    </tr>\n",
       "    <tr>\n",
       "      <th>1</th>\n",
       "      <td>2</td>\n",
       "      <td>Nasi Gule</td>\n",
       "    </tr>\n",
       "    <tr>\n",
       "      <th>2</th>\n",
       "      <td>3</td>\n",
       "      <td>Nasi Rawon</td>\n",
       "    </tr>\n",
       "    <tr>\n",
       "      <th>3</th>\n",
       "      <td>4</td>\n",
       "      <td>Nasi Soto</td>\n",
       "    </tr>\n",
       "    <tr>\n",
       "      <th>4</th>\n",
       "      <td>5</td>\n",
       "      <td>Nasi Soto</td>\n",
       "    </tr>\n",
       "  </tbody>\n",
       "</table>\n",
       "</div>"
      ],
      "text/plain": [
       "   No   Nama Menu\n",
       "0   1  Nasi Pecel\n",
       "1   2   Nasi Gule\n",
       "2   3  Nasi Rawon\n",
       "3   4   Nasi Soto\n",
       "4   5   Nasi Soto"
      ]
     },
     "execution_count": 17,
     "metadata": {},
     "output_type": "execute_result"
    }
   ],
   "source": [
    "# Membaca Data\n",
    "data_makanan = pd.read_csv('../data/popularitas-menu.csv')\n",
    "\n",
    "data_makanan.head() # untuk mengambil data 5 teratas"
   ]
  },
  {
   "cell_type": "code",
   "execution_count": 18,
   "metadata": {},
   "outputs": [
    {
     "name": "stdout",
     "output_type": "stream",
     "text": [
      "<class 'pandas.core.frame.DataFrame'>\n",
      "RangeIndex: 200 entries, 0 to 199\n",
      "Data columns (total 2 columns):\n",
      " #   Column     Non-Null Count  Dtype \n",
      "---  ------     --------------  ----- \n",
      " 0   No         200 non-null    int64 \n",
      " 1   Nama Menu  200 non-null    object\n",
      "dtypes: int64(1), object(1)\n",
      "memory usage: 3.2+ KB\n"
     ]
    }
   ],
   "source": [
    "# Menampilkan informasi data yang dimiliki\n",
    "data_makanan.info()"
   ]
  },
  {
   "cell_type": "code",
   "execution_count": 19,
   "metadata": {},
   "outputs": [
    {
     "data": {
      "text/plain": [
       "Nama Menu\n",
       "Nasi Soto     60\n",
       "Nasi Gule     52\n",
       "Nasi Rawon    49\n",
       "Nasi Pecel    39\n",
       "Name: count, dtype: int64"
      ]
     },
     "execution_count": 19,
     "metadata": {},
     "output_type": "execute_result"
    }
   ],
   "source": [
    "# Menampilkan Kolom Nama Menu berisi apa saja dan berapa jumlahnya\n",
    "data_makanan[\"Nama Menu\"].value_counts()"
   ]
  },
  {
   "cell_type": "markdown",
   "metadata": {},
   "source": [
    "- Terdapat 2 kolom data, yaitu `No` dan `Nama Menu`\n",
    "- Terdapat 200 data\n",
    "- Kolom `Nama Menu` terdiri dari `Nasi Pecel`, `Nasi Gule`, `Nasi Soto`, dan `Nasi Rawon`"
   ]
  },
  {
   "cell_type": "markdown",
   "metadata": {},
   "source": [
    "---\n",
    "#### **Pertanyaan 1:** Berapakah nilai Probability Popularitas dari **menu Nasi Pecel**?"
   ]
  },
  {
   "cell_type": "markdown",
   "metadata": {},
   "source": [
    "Asumsikan $A=\\{\\text{Menu Nasi Pecel}\\}$"
   ]
  },
  {
   "cell_type": "code",
   "execution_count": 20,
   "metadata": {},
   "outputs": [
    {
     "name": "stdout",
     "output_type": "stream",
     "text": [
      "Jumlah Sample Space yang dimiliki adalah 200\n"
     ]
    }
   ],
   "source": [
    "# Langkah 1/3\n",
    "# Mencari Sample Space\n",
    "\n",
    "n_sample_space = len(data_makanan)\n",
    "\n",
    "print(f\"Jumlah Sample Space yang dimiliki adalah {n_sample_space}\")"
   ]
  },
  {
   "cell_type": "code",
   "execution_count": 21,
   "metadata": {},
   "outputs": [
    {
     "name": "stdout",
     "output_type": "stream",
     "text": [
      "Contoh data pada Event A\n",
      "      No   Nama Menu\n",
      "0      1  Nasi Pecel\n",
      "5      6  Nasi Pecel\n",
      "7      8  Nasi Pecel\n",
      "13    14  Nasi Pecel\n",
      "15    16  Nasi Pecel\n",
      "17    18  Nasi Pecel\n",
      "23    24  Nasi Pecel\n",
      "28    29  Nasi Pecel\n",
      "31    32  Nasi Pecel\n",
      "41    42  Nasi Pecel\n",
      "49    50  Nasi Pecel\n",
      "50    51  Nasi Pecel\n",
      "56    57  Nasi Pecel\n",
      "70    71  Nasi Pecel\n",
      "71    72  Nasi Pecel\n",
      "72    73  Nasi Pecel\n",
      "73    74  Nasi Pecel\n",
      "76    77  Nasi Pecel\n",
      "78    79  Nasi Pecel\n",
      "83    84  Nasi Pecel\n",
      "86    87  Nasi Pecel\n",
      "87    88  Nasi Pecel\n",
      "95    96  Nasi Pecel\n",
      "96    97  Nasi Pecel\n",
      "100  101  Nasi Pecel\n",
      "105  106  Nasi Pecel\n",
      "108  109  Nasi Pecel\n",
      "126  127  Nasi Pecel\n",
      "128  129  Nasi Pecel\n",
      "132  133  Nasi Pecel\n",
      "140  141  Nasi Pecel\n",
      "144  145  Nasi Pecel\n",
      "151  152  Nasi Pecel\n",
      "152  153  Nasi Pecel\n",
      "158  159  Nasi Pecel\n",
      "164  165  Nasi Pecel\n",
      "166  167  Nasi Pecel\n",
      "176  177  Nasi Pecel\n",
      "197  198  Nasi Pecel\n",
      "\n",
      "\n",
      "Jumlah kejadian yang terjadi di Event Nasi Pecel 39\n"
     ]
    }
   ],
   "source": [
    "# Langkah 2/3\n",
    "# Melakukan \"filter\" menu Nasi Pecel\n",
    "\n",
    "kondisi_A = data_makanan[\"Nama Menu\"] == \"Nasi Pecel\"\n",
    "\n",
    "event_A = data_makanan[kondisi_A]\n",
    "\n",
    "# Melihat hasilnya setelah melakukan \"filter\"\n",
    "print(\"Contoh data pada Event A\")\n",
    "print(event_A)\n",
    "\n",
    "# Mencari jumlah kejadian yang terjadi di Event Nasi Pecel\n",
    "n_A = len(event_A)\n",
    "print(\"\\n\")\n",
    "print(f\"Jumlah kejadian yang terjadi di Event Nasi Pecel {n_A}\")"
   ]
  },
  {
   "cell_type": "code",
   "execution_count": 22,
   "metadata": {},
   "outputs": [
    {
     "name": "stdout",
     "output_type": "stream",
     "text": [
      "Nilai Probability dari Popularitas menu Nasi Pecel adalah 0.195\n"
     ]
    }
   ],
   "source": [
    "# Langkah 3/3\n",
    "# Mencari nilai Probability dengan cara membagi n_A dengan n_sample_space\n",
    "\n",
    "p_A = n_A / n_sample_space\n",
    "\n",
    "print(f\"Nilai Probability dari Popularitas menu Nasi Pecel adalah {p_A}\")"
   ]
  },
  {
   "cell_type": "markdown",
   "metadata": {},
   "source": [
    "Dapat disimpulkan bahwa nilai Probability dari Popularitas menu Nasi Pecel adalah 0.195\n",
    "$$P(A)=0.195$$"
   ]
  },
  {
   "cell_type": "markdown",
   "metadata": {},
   "source": [
    "---\n",
    "#### **Pertanyaan 2:** Berapakah nilai Probability Popularitas dari **menu Nasi Soto**?"
   ]
  },
  {
   "cell_type": "markdown",
   "metadata": {},
   "source": [
    "Asumsikan $B=\\{\\text{Menu Nasi Soto}\\}$\n",
    "\n",
    "Karena masih menggunakan Sample Space yang sama, maka kita akan menggunakan `n_sample_space`"
   ]
  },
  {
   "cell_type": "code",
   "execution_count": 25,
   "metadata": {},
   "outputs": [
    {
     "data": {
      "text/plain": [
       "array(['Nasi Pecel', 'Nasi Gule', 'Nasi Rawon', 'Nasi Soto'], dtype=object)"
      ]
     },
     "execution_count": 25,
     "metadata": {},
     "output_type": "execute_result"
    }
   ],
   "source": [
    "data_makanan[\"Nama Menu\"].unique()"
   ]
  },
  {
   "cell_type": "code",
   "execution_count": 30,
   "metadata": {},
   "outputs": [
    {
     "name": "stdout",
     "output_type": "stream",
     "text": [
      "Contoh data pada Event B\n",
      "      No  Nama Menu\n",
      "3      4  Nasi Soto\n",
      "4      5  Nasi Soto\n",
      "6      7  Nasi Soto\n",
      "9     10  Nasi Soto\n",
      "14    15  Nasi Soto\n",
      "20    21  Nasi Soto\n",
      "22    23  Nasi Soto\n",
      "24    25  Nasi Soto\n",
      "29    30  Nasi Soto\n",
      "35    36  Nasi Soto\n",
      "38    39  Nasi Soto\n",
      "40    41  Nasi Soto\n",
      "42    43  Nasi Soto\n",
      "43    44  Nasi Soto\n",
      "54    55  Nasi Soto\n",
      "55    56  Nasi Soto\n",
      "57    58  Nasi Soto\n",
      "60    61  Nasi Soto\n",
      "62    63  Nasi Soto\n",
      "68    69  Nasi Soto\n",
      "77    78  Nasi Soto\n",
      "79    80  Nasi Soto\n",
      "81    82  Nasi Soto\n",
      "82    83  Nasi Soto\n",
      "90    91  Nasi Soto\n",
      "102  103  Nasi Soto\n",
      "107  108  Nasi Soto\n",
      "112  113  Nasi Soto\n",
      "113  114  Nasi Soto\n",
      "116  117  Nasi Soto\n",
      "117  118  Nasi Soto\n",
      "119  120  Nasi Soto\n",
      "120  121  Nasi Soto\n",
      "124  125  Nasi Soto\n",
      "125  126  Nasi Soto\n",
      "130  131  Nasi Soto\n",
      "134  135  Nasi Soto\n",
      "135  136  Nasi Soto\n",
      "137  138  Nasi Soto\n",
      "145  146  Nasi Soto\n",
      "146  147  Nasi Soto\n",
      "148  149  Nasi Soto\n",
      "149  150  Nasi Soto\n",
      "155  156  Nasi Soto\n",
      "156  157  Nasi Soto\n",
      "157  158  Nasi Soto\n",
      "159  160  Nasi Soto\n",
      "167  168  Nasi Soto\n",
      "168  169  Nasi Soto\n",
      "169  170  Nasi Soto\n",
      "170  171  Nasi Soto\n",
      "171  172  Nasi Soto\n",
      "173  174  Nasi Soto\n",
      "180  181  Nasi Soto\n",
      "181  182  Nasi Soto\n",
      "187  188  Nasi Soto\n",
      "189  190  Nasi Soto\n",
      "190  191  Nasi Soto\n",
      "193  194  Nasi Soto\n",
      "196  197  Nasi Soto\n",
      "\n",
      "\n",
      "Jumlah kejadian yang terjadi di Event Nasi Pecel 60\n"
     ]
    }
   ],
   "source": [
    "# Langkah 1/2\n",
    "# Melakukan \"filter\" menu Nasi Soto\n",
    "\n",
    "event_B = data_makanan[data_makanan[\"Nama Menu\"] == \"Nasi Soto\"]\n",
    "\n",
    "# Melihat hasilnya setelah melakukan \"filter\"\n",
    "print(\"Contoh data pada Event B\")\n",
    "print(event_B)\n",
    "\n",
    "# Mencari jumlah kejadian yang terjadi di Event Nasi Soto\n",
    "n_B = len(event_B)\n",
    "print(\"\\n\")\n",
    "print(f\"Jumlah kejadian yang terjadi di Event Nasi Pecel {n_B}\")"
   ]
  },
  {
   "cell_type": "code",
   "execution_count": 31,
   "metadata": {},
   "outputs": [
    {
     "name": "stdout",
     "output_type": "stream",
     "text": [
      "Nilai Probability dari Popularitas menu Nasi Soto adalah 0.3\n"
     ]
    }
   ],
   "source": [
    "# Langkah 2/2\n",
    "# Mencari nilai Probability dengan cara membagi n_B dengan n_sample_space\n",
    "\n",
    "p_B = n_B / n_sample_space\n",
    "\n",
    "print(f\"Nilai Probability dari Popularitas menu Nasi Soto adalah {p_B}\")"
   ]
  },
  {
   "cell_type": "markdown",
   "metadata": {},
   "source": [
    "---\n",
    "#### **Pertanyaan 3:** Berapakah nilai Probability Popularitas dari **menu Nasi Pecel atau Nasi Gule**?"
   ]
  },
  {
   "cell_type": "markdown",
   "metadata": {},
   "source": [
    "- Asumsikan $A= \\{\\text{Menu Nasi Pecel}\\}$\n",
    "- Asumsikan $C= \\{\\text{Menu Nasi Gule}\\}$\n",
    "\n",
    "Karena masih menggunakan Sample Space yang sama, maka kita akan menggunakan `n_sample_space`"
   ]
  },
  {
   "cell_type": "code",
   "execution_count": 32,
   "metadata": {},
   "outputs": [
    {
     "name": "stdout",
     "output_type": "stream",
     "text": [
      "Contoh data pada Event A\n",
      "    No   Nama Menu\n",
      "0    1  Nasi Pecel\n",
      "5    6  Nasi Pecel\n",
      "7    8  Nasi Pecel\n",
      "13  14  Nasi Pecel\n",
      "15  16  Nasi Pecel\n",
      "Contoh data pada Event C\n",
      "    No  Nama Menu\n",
      "1    2  Nasi Gule\n",
      "8    9  Nasi Gule\n",
      "12  13  Nasi Gule\n",
      "16  17  Nasi Gule\n",
      "21  22  Nasi Gule\n",
      "\n",
      "Jumlah kejadian yang terjadi di Event Nasi Pecel 39\n",
      "\n",
      "Jumlah kejadian yang terjadi di Event Nasi Gule 52\n"
     ]
    }
   ],
   "source": [
    "# Langkah 1/2\n",
    "# Melakukan \"filter\" menu Nasi Pecel\n",
    "\n",
    "kondisi_A = data_makanan[\"Nama Menu\"] == \"Nasi Pecel\"\n",
    "event_A = data_makanan[kondisi_A]\n",
    "\n",
    "kondisi_C = data_makanan[\"Nama Menu\"] == \"Nasi Gule\"\n",
    "event_C = data_makanan[kondisi_C]\n",
    "\n",
    "# Melihat hasilnya setelah melakukan \"filter\"\n",
    "print(\"Contoh data pada Event A\")\n",
    "print(event_A.head()) # mengambil 5 data teratas\n",
    "\n",
    "print(\"Contoh data pada Event C\")\n",
    "print(event_C.head()) # mengambil 5 data teratas\n",
    "\n",
    "# Mencari jumlah kejadian yang terjadi di Event Nasi Pecel dan Event Nasi Gule\n",
    "n_A = len(event_A)\n",
    "n_C = len(event_C)\n",
    "print(\"\")\n",
    "print(f\"Jumlah kejadian yang terjadi di Event Nasi Pecel {n_A}\")\n",
    "\n",
    "print(\"\")\n",
    "print(f\"Jumlah kejadian yang terjadi di Event Nasi Gule {n_C}\")"
   ]
  },
  {
   "cell_type": "code",
   "execution_count": 33,
   "metadata": {},
   "outputs": [
    {
     "name": "stdout",
     "output_type": "stream",
     "text": [
      "Nilai Probability dari Popularitas menu Nasi Pecel adalah 0.195\n",
      "Nilai Probability dari Popularitas menu Nasi Gule adalah 0.26\n"
     ]
    }
   ],
   "source": [
    "# Langkah 2/2\n",
    "# Mencari nilai Probability dengan cara membagi n_A dengan n_sample_space untuk masing - masing Event\n",
    "\n",
    "p_A = n_A / n_sample_space\n",
    "p_C = n_C / n_sample_space\n",
    "\n",
    "print(f\"Nilai Probability dari Popularitas menu Nasi Pecel adalah {p_A}\")\n",
    "print(f\"Nilai Probability dari Popularitas menu Nasi Gule adalah {p_C}\")"
   ]
  },
  {
   "cell_type": "markdown",
   "metadata": {},
   "source": [
    "Karena yang diminta adalah mencari nilai Probability Popularitas **menu Nasi Pecel atau menu Nasi Gule** maka $P(A \\cup C)$"
   ]
  },
  {
   "cell_type": "code",
   "execution_count": 34,
   "metadata": {},
   "outputs": [
    {
     "name": "stdout",
     "output_type": "stream",
     "text": [
      "Nilai Probability dari Popularitas menu Nasi Pecel atau menu Nasi Gule adalah 0.455\n"
     ]
    }
   ],
   "source": [
    "p_A_union_C = p_A + p_C\n",
    "\n",
    "print(f\"Nilai Probability dari Popularitas menu Nasi Pecel atau menu Nasi Gule adalah {p_A_union_C}\")"
   ]
  },
  {
   "cell_type": "markdown",
   "metadata": {},
   "source": [
    "Dapat disimpulkan bahwa Probability dari Popularitas menu Nasi Pecel dan menu Nasi Gule adalah 0.455\n",
    "$$P(A \\cup C) = 0.455$$"
   ]
  }
 ],
 "metadata": {
  "kernelspec": {
   "display_name": ".venv",
   "language": "python",
   "name": "python3"
  },
  "language_info": {
   "codemirror_mode": {
    "name": "ipython",
    "version": 3
   },
   "file_extension": ".py",
   "mimetype": "text/x-python",
   "name": "python",
   "nbconvert_exporter": "python",
   "pygments_lexer": "ipython3",
   "version": "3.9.5"
  }
 },
 "nbformat": 4,
 "nbformat_minor": 2
}
