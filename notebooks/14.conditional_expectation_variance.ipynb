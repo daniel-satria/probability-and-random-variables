{
 "cells": [
  {
   "cell_type": "markdown",
   "metadata": {
    "id": "Eal3Y0-dpG_x"
   },
   "source": [
    "# **14. Conditional Expectations and Variance**"
   ]
  },
  {
   "cell_type": "markdown",
   "metadata": {
    "id": "bRLenm_ipHAD"
   },
   "source": [
    "**Outline**\n",
    "\n",
    "1. Conditional Expectations and Variance\n",
    "2. Sum of a Random Number of Independent Random Variables\n",
    "3. Case 1: Mengirimkan pesan\n",
    "4. Case 2: Memotong Tali\n",
    "5. Case 3: Berbelanja di Mall"
   ]
  },
  {
   "cell_type": "markdown",
   "metadata": {
    "id": "fu6xVXwVpHAE"
   },
   "source": [
    "## **Conditional Expectatitions and Variance**\n",
    "---"
   ]
  },
  {
   "cell_type": "markdown",
   "metadata": {
    "id": "W2bRNlqppHAG"
   },
   "source": [
    "### **Conditional Expectation**\n",
    "\n",
    "Dari materi yang sudah dipelajari di video:\n",
    "\n",
    "- Expectation atau Expected Value adalah **rata rata** nilai dari Variable Random\n",
    "- Misal $X$ dan $Y$ adalah variabel random, **Conditional Expectation** $X$ jika diketahui $Y$ bernilai $y$ dapat dihitung dengan: \n",
    "$$\\text{E}[X | Y]= \\sum_x{p_{X | Y}(x | y)}$$\n",
    "- Unconditional expected value dapat dicari melalui **Total Expectation Theorem**\n",
    "$$\\text{E}[X]= \\sum_y{p_{Y}(y)\\text{E}[X | Y = y]}$$"
   ]
  },
  {
   "cell_type": "markdown",
   "metadata": {
    "id": "6z-f9oHFpHAH"
   },
   "source": [
    "### **Conditional Variance**\n",
    "- Variance adalah nilai kuadrat dari rata rata sebaran nilai variable random dari rata-ratanya (expected value)\n",
    "- Variance merepresentasikan persebaran data\n",
    "- Variance sulit untuk diinterpretasikan, gunakan standar deviasi untuk memudahkan interpretasi dalam skala data asli\n",
    "- Variance dari Variable Random bisa dicari dengan menghitung:\n",
    "$$ \\text{Var}(X) = \\text{E}[(X-\\text{E}[X])^2]$$\n",
    "- Misal $X$ dan $Y$ adalah variabel random, **Conditional Variance** $X$ jika diketahui $Y$ bernilai $y$ dapat dihitung dengan: \n",
    "$$\\text{Var}(X | Y = y)=\\text{E}[(X-\\text{E}[X | Y = y])^2 | Y = y] $$\n",
    "- Unconditional variance dapat dicari menggunakan **Law of Conditional Variances**\n",
    "$$\\text{Var}(X) = \\text{E}[\\text{Var}(X | Y)]+\\text{Var}(\\text{E}[X | Y])$$"
   ]
  },
  {
   "cell_type": "markdown",
   "metadata": {
    "id": "G0XpP8jSpHAI"
   },
   "source": [
    "### **Sum of a Random Number of Independent Random Variables**"
   ]
  },
  {
   "cell_type": "code",
   "execution_count": 1,
   "metadata": {
    "id": "N-pcdKdTpHAJ"
   },
   "outputs": [],
   "source": [
    "import sys\n",
    "import pandas as pd\n",
    "import numpy as np\n",
    "import random\n",
    "import seaborn as sns\n",
    "import matplotlib.pyplot as plt\n",
    "import warnings\n",
    "warnings.filterwarnings(\"ignore\")\n",
    "\n",
    "sys.path.insert(0, \"/home/ubuntu/learning/probability-and-random-variables/\")\n",
    "from probs_module.module_proba_14 import expectation_visualization"
   ]
  },
  {
   "cell_type": "markdown",
   "metadata": {
    "id": "_Zmml38MpHAN"
   },
   "source": [
    "## **Study Case 1** : Mengirimkan pesan\n",
    "___"
   ]
  },
  {
   "cell_type": "markdown",
   "metadata": {
    "id": "ofj5Go3XpHAO"
   },
   "source": [
    "Sebuah pesan dikirimkan oleh komputer yang berlokasi di Bandung menggunakan jaringan ditujukan ke Jakarta, Surabaya, dan Malang memiliki probabilitas secara berurutan:\n",
    "- Jakarta 0.5\n",
    "- Surabaya 0.3\n",
    "- Malang 0.2 \n",
    "\n",
    "Waktu Transit Pesan bernilai random. Rata-rata dari waktu transit: \n",
    "- Jakarta 0.05\n",
    "- Surabaya  0.1\n",
    "- Malang 0.3\n",
    "\n",
    "Berapa **expected value** dari **Waktu Transit Pesan (WTP)**?"
   ]
  },
  {
   "cell_type": "markdown",
   "metadata": {
    "id": "UOSYGwAApHAQ"
   },
   "source": [
    "Pertama, kita definisikan array dari probabilitas,"
   ]
  },
  {
   "cell_type": "code",
   "execution_count": 2,
   "metadata": {
    "id": "EtW7wbLCpHAR"
   },
   "outputs": [],
   "source": [
    "prob = [0.5, 0.3, 0.2]"
   ]
  },
  {
   "cell_type": "markdown",
   "metadata": {
    "id": "4_jBWEA-pHAR"
   },
   "source": [
    "Kemudian, kita definisikan array rata-rata dari waktu transit pesan secara berurutan"
   ]
  },
  {
   "cell_type": "code",
   "execution_count": 3,
   "metadata": {
    "id": "FKKCb7EipHAS"
   },
   "outputs": [],
   "source": [
    "conditional_exp = [0.05, 0.1, 0.3]"
   ]
  },
  {
   "cell_type": "markdown",
   "metadata": {
    "id": "My8ICt4_pHAT"
   },
   "source": [
    "Selanjutnya, kita definisikan fungsi utk menghitung unconditional expected value menggunakan **total expectation theorem**"
   ]
  },
  {
   "cell_type": "code",
   "execution_count": 4,
   "metadata": {
    "id": "e5i_UlIXCXa6"
   },
   "outputs": [],
   "source": [
    "TotalExp = (0.5*0.05)+(0.3*0.1)+(0.2*0.3)"
   ]
  },
  {
   "cell_type": "code",
   "execution_count": 5,
   "metadata": {
    "id": "GZkC_dKNpHAU",
    "outputId": "618ee3e4-9988-4bb3-99a0-b684b881abad"
   },
   "outputs": [
    {
     "data": {
      "text/plain": [
       "0.11499999999999999"
      ]
     },
     "execution_count": 5,
     "metadata": {},
     "output_type": "execute_result"
    }
   ],
   "source": [
    "TotalExp"
   ]
  },
  {
   "cell_type": "markdown",
   "metadata": {
    "id": "IzzIz9RNpHAV"
   },
   "source": [
    "Maka, **expected value dari waktu transit pesan adalah 0.115**"
   ]
  },
  {
   "cell_type": "markdown",
   "metadata": {
    "id": "BaYXQZbiCXa7"
   },
   "source": [
    "Nilai yang sama akan kita dapatkan jika mencari rata rata waktu transitnya jika kita mengetahui keseluruhan datanya"
   ]
  },
  {
   "cell_type": "markdown",
   "metadata": {
    "id": "T6PFKkf1CXa8"
   },
   "source": [
    "|Tujuan|Waktu Transit (s)|\n",
    "|-|-|\n",
    "|Jakarta|0.05\n",
    "|Jakarta|0.03\n",
    "|Jakarta|0.07\n",
    "|Jakarta|0.09\n",
    "|Jakarta|0.01\n",
    "|Surabaya|0.1\n",
    "|Surabaya|0.17\n",
    "|Surabaya|0.03\n",
    "|Malang|0.31\n",
    "|Malang|0.29\n"
   ]
  },
  {
   "cell_type": "code",
   "execution_count": 6,
   "metadata": {
    "id": "4h1K2--7CXa8",
    "outputId": "682302a1-7702-4230-9dd5-4475fac88289"
   },
   "outputs": [
    {
     "data": {
      "text/plain": [
       "0.11500000000000002"
      ]
     },
     "execution_count": 6,
     "metadata": {},
     "output_type": "execute_result"
    }
   ],
   "source": [
    "mean = (0.05+0.03+0.07+0.09+0.01+0.1+0.17+0.03+0.31+0.29)/10\n",
    "mean"
   ]
  },
  {
   "cell_type": "markdown",
   "metadata": {
    "id": "6wAlANCZpHAW"
   },
   "source": [
    "## **Study Case 2: Memotong Tali**\n",
    "\n",
    "___"
   ]
  },
  {
   "cell_type": "markdown",
   "metadata": {
    "id": "azHPHMfgpHAW"
   },
   "source": [
    "Misalkan anda memiliki tali sepanjang *l* yang panjang nya berkisar 0 - 1000 cm.\n",
    "Teman anda, sambil menutup mata, diminta untuk memotong tali yang anda miliki.\n",
    "Sebut lokasi potongan tersebut adalah Y.\n",
    "Kemudian, tali tersebut akan diambil salah satu bagiannya. Sehingga, didapat tali sepanjang y. \n",
    "Dari sisa tali tersebut, akan dipotong kembali secara random. Lokasi potongannya adalah X."
   ]
  },
  {
   "cell_type": "markdown",
   "metadata": {
    "id": "916lSpt7CXa9"
   },
   "source": [
    "#### Generate panjang 1 tali"
   ]
  },
  {
   "cell_type": "code",
   "execution_count": 7,
   "metadata": {
    "id": "1I9cK0LkCXa-",
    "outputId": "4128851d-27e1-4206-e07a-5e7b3115a0c8"
   },
   "outputs": [
    {
     "data": {
      "text/plain": [
       "array([548.81350393])"
      ]
     },
     "execution_count": 7,
     "metadata": {},
     "output_type": "execute_result"
    }
   ],
   "source": [
    "np.random.seed(0)\n",
    "L = np.random.uniform(0,1000,size = 1)\n",
    "L"
   ]
  },
  {
   "cell_type": "markdown",
   "metadata": {
    "id": "4iDBr2ZQCXa-"
   },
   "source": [
    "#### Cek panjang tali"
   ]
  },
  {
   "cell_type": "code",
   "execution_count": 8,
   "metadata": {
    "id": "e091pFVnCXa-",
    "outputId": "ad8f371a-9148-420f-a793-595b496efa2d"
   },
   "outputs": [
    {
     "data": {
      "text/plain": [
       "np.float64(548.8135039273247)"
      ]
     },
     "execution_count": 8,
     "metadata": {},
     "output_type": "execute_result"
    }
   ],
   "source": [
    "L[0]"
   ]
  },
  {
   "cell_type": "markdown",
   "metadata": {
    "id": "QhsWfL4hCXa-"
   },
   "source": [
    "#### Potong tali tersebut di titik Y"
   ]
  },
  {
   "cell_type": "code",
   "execution_count": 9,
   "metadata": {
    "id": "QMLiysTACXa_",
    "outputId": "23e39d2d-5ba2-43bc-b020-75c90b3e2d6a"
   },
   "outputs": [
    {
     "data": {
      "text/plain": [
       "450.51130911163244"
      ]
     },
     "execution_count": 9,
     "metadata": {},
     "output_type": "execute_result"
    }
   ],
   "source": [
    "Y = random.uniform(0,float(L[0])) \n",
    "Y"
   ]
  },
  {
   "cell_type": "markdown",
   "metadata": {
    "id": "6ZZwgR8WCXa_"
   },
   "source": [
    "#### Potong tali yang di pilih di titik X"
   ]
  },
  {
   "cell_type": "code",
   "execution_count": 10,
   "metadata": {
    "id": "GGYd87iFCXa_",
    "outputId": "824a02bd-95aa-4b38-ce74-054bc30ed429"
   },
   "outputs": [
    {
     "data": {
      "text/plain": [
       "371.9042928369019"
      ]
     },
     "execution_count": 10,
     "metadata": {},
     "output_type": "execute_result"
    }
   ],
   "source": [
    "X = random.uniform(0,float(Y))\n",
    "X"
   ]
  },
  {
   "cell_type": "markdown",
   "metadata": {
    "id": "07BvdyBNCXa_"
   },
   "source": [
    "- panjang tali X bergantung pada tali y yang sebelumnya di potong\n",
    "- panjang tali X tidak mungkin melebihi nilai y"
   ]
  },
  {
   "cell_type": "markdown",
   "metadata": {
    "id": "FG5uEE1SCXbA"
   },
   "source": [
    "Sekarang coba simulasikan jika ada 100 tali dan kita lakukan skenario yang sama pada 100 tali tersebut"
   ]
  },
  {
   "cell_type": "code",
   "execution_count": 11,
   "metadata": {
    "id": "wznkESQ5CXbA",
    "outputId": "0d4ae639-e77d-4dff-de74-6a3fd1b4aaca"
   },
   "outputs": [
    {
     "data": {
      "image/png": "[encoded data removed]",
      "text/plain": [
       "<Figure size 640x480 with 1 Axes>"
      ]
     },
     "metadata": {},
     "output_type": "display_data"
    }
   ],
   "source": [
    "# simulasi program\n",
    "# misal panjang l berada di angka antara 0 dan 1000 dan akan dipotong pada Y\n",
    "\n",
    "N = 100 # banyaknya tali\n",
    "\n",
    "L = np.random.uniform(0,1000,size = N) # generate nilai random yang menyatakan panjang 100 tali, dgn asumsi berdistribusi uniform\n",
    "\n",
    "sns.distplot(L, label = \"panjang tali awal\") # plot distribusi L warna biru\n",
    "\n",
    "X_list = [] # definisikan array utk X\n",
    "Y_list = [] # definisikan array utk Y\n",
    "\n",
    "for i in range(N): \n",
    "    \n",
    "    # potong tali secara random dengan panjang Y\n",
    "    Y = random.uniform(0,float(L[i]))\n",
    "    \n",
    "    # simpan nilai y untuk masing2 tali\n",
    "    Y_list.append(Y)\n",
    "    \n",
    "    # potong kembali tali secara random di X\n",
    "    X = random.uniform(0,float(Y))\n",
    "\n",
    "    # simpan nilai x untuk masing2 y\n",
    "    X_list.append(X)\n",
    "    \n",
    "# visualisasi\n",
    "sns.distplot(Y_list, label = \"setelah potongan pertama (Y)\") # warna orange\n",
    "sns.distplot(X_list, label = \"setelah potongan kedua (X)\") # warna hijau\n",
    "plt.legend()\n",
    "plt.show()"
   ]
  },
  {
   "cell_type": "markdown",
   "metadata": {
    "id": "p3_zbZgfCXbA"
   },
   "source": [
    "#### Coba hitung rata rata nilai X"
   ]
  },
  {
   "cell_type": "code",
   "execution_count": 12,
   "metadata": {
    "id": "NiqvcsegCXbA",
    "outputId": "9b438929-73d3-4ec9-8380-ffed34227bf0"
   },
   "outputs": [
    {
     "data": {
      "text/plain": [
       "np.float64(113.53310532370816)"
      ]
     },
     "execution_count": 12,
     "metadata": {},
     "output_type": "execute_result"
    }
   ],
   "source": [
    "np.mean(X_list)"
   ]
  },
  {
   "cell_type": "markdown",
   "metadata": {
    "id": "TZQTnB4QCXbB"
   },
   "source": [
    "ingat bahwa value pada X_list bergantung pada Y, maka np.mean(X_list) adalah E[E[X|Y]]"
   ]
  },
  {
   "cell_type": "markdown",
   "metadata": {
    "id": "fKxLJ8PsCXbB"
   },
   "source": [
    "#### Rata rata nilai Y"
   ]
  },
  {
   "cell_type": "code",
   "execution_count": 13,
   "metadata": {
    "id": "BJzY65b_CXbB",
    "outputId": "df01ca5b-1809-447d-835b-1fdb075439d3"
   },
   "outputs": [
    {
     "data": {
      "text/plain": [
       "np.float64(228.14734890655606)"
      ]
     },
     "execution_count": 13,
     "metadata": {},
     "output_type": "execute_result"
    }
   ],
   "source": [
    "np.mean(Y_list)"
   ]
  },
  {
   "cell_type": "markdown",
   "metadata": {
    "id": "qrkpnpe0CXbC"
   },
   "source": [
    "#### Rata rata nilai L"
   ]
  },
  {
   "cell_type": "code",
   "execution_count": 14,
   "metadata": {
    "id": "bhvu-PTVCXbC",
    "outputId": "cdd28736-57d5-4e3e-b40c-eaa72f229792"
   },
   "outputs": [
    {
     "data": {
      "text/plain": [
       "np.float64(474.0838698412066)"
      ]
     },
     "execution_count": 14,
     "metadata": {},
     "output_type": "execute_result"
    }
   ],
   "source": [
    "np.mean(L)"
   ]
  },
  {
   "cell_type": "markdown",
   "metadata": {
    "id": "96iviNvIpHAY"
   },
   "source": [
    "Untuk menentukan expected value panjang X, kita juga dapat menggunakan **law of iterated expectation**"
   ]
  },
  {
   "cell_type": "markdown",
   "metadata": {
    "id": "k4qj1sbcC3EJ"
   },
   "source": [
    "Berdasarkan materi pada video, akan diperoleh nilai $E[X]=E[E[X|Y]]=\\frac{l}{4}$.\n",
    "Mari kita cocokkan"
   ]
  },
  {
   "cell_type": "code",
   "execution_count": 15,
   "metadata": {
    "colab": {
     "base_uri": "https://localhost:8080/"
    },
    "id": "VS-3RB3GBIlU",
    "outputId": "aaab7e89-3585-441b-f140-52c189d97c5a"
   },
   "outputs": [
    {
     "data": {
      "text/plain": [
       "np.float64(118.52096746030165)"
      ]
     },
     "execution_count": 15,
     "metadata": {},
     "output_type": "execute_result"
    }
   ],
   "source": [
    "# rata rata dari panjang tali (L) dibagi 4\n",
    "mean_L = np.mean(L)\n",
    "mean_L/4"
   ]
  },
  {
   "cell_type": "code",
   "execution_count": 16,
   "metadata": {
    "id": "XVw7VyosCXbD",
    "outputId": "c9f166f3-44c1-4f7f-de3c-291d5d592ee3"
   },
   "outputs": [
    {
     "name": "stdout",
     "output_type": "stream",
     "text": [
      "Hasil dari perhitungan rata rata X_list 113.53310532370816\n",
      "Hasil dari law of iterated expectation 118.52096746030165\n"
     ]
    }
   ],
   "source": [
    "print(f\"Hasil dari perhitungan rata rata X_list {np.mean(X_list)}\")\n",
    "print(f\"Hasil dari law of iterated expectation {mean_L/4}\")"
   ]
  },
  {
   "cell_type": "markdown",
   "metadata": {
    "id": "jhF8Hd2jCXbD"
   },
   "source": [
    "- nilai `np.mean(X_list)` dan `mean_L/4` memiliki selisih yang tipis, \n",
    "- maka terbukti bahwa law of iterated expectation digunakan untuk mencari unconditional expectation jika diketahui conditional expectationnya."
   ]
  },
  {
   "cell_type": "markdown",
   "metadata": {
    "id": "3aav_kyTCXbD"
   },
   "source": [
    "Visualisasi rata rata panjang tali X dan panjang tali awalnya"
   ]
  },
  {
   "cell_type": "code",
   "execution_count": 17,
   "metadata": {
    "colab": {
     "base_uri": "https://localhost:8080/",
     "height": 368
    },
    "id": "hn5NlvmKGupv",
    "outputId": "4958c151-3391-44e4-9644-81b86756e73e"
   },
   "outputs": [
    {
     "data": {
      "image/png": "[encoded data removed]",
      "text/plain": [
       "<Figure size 640x480 with 1 Axes>"
      ]
     },
     "metadata": {},
     "output_type": "display_data"
    }
   ],
   "source": [
    "expectation_visualization(L, X_list)"
   ]
  },
  {
   "cell_type": "markdown",
   "metadata": {
    "id": "3Sb2TcoepHAZ"
   },
   "source": [
    "## **Study Case 3: Berbelanja di Mall**\n",
    "---"
   ]
  },
  {
   "cell_type": "markdown",
   "metadata": {
    "id": "2YHPuS7YpHAZ"
   },
   "source": [
    "Anda pergi ke sebuah mall dengan membawa sejumlah uang. \n",
    "Disana, anda ingin berkunjung ke berbagai toko. \n",
    "Anda membawa **sejumlah random uang** dan **belum memiliki daftar toko** untuk dituju maupun barang yang ingin dibeli. \n",
    "Satu hal yang pasti, anda ingin berbelanja. \n",
    "Dapatkah anda menentukan estimasi uang yang akan anda habiskan? "
   ]
  },
  {
   "cell_type": "markdown",
   "metadata": {
    "id": "WGveXSnApHAa"
   },
   "source": [
    "Pada kasus ini, \n",
    "- Jumlah toko akan dimisalkan sebanyak $N$\n",
    "- Uang yang anda habiskan akan dimisalkan sebagai variabel random $Y$\n",
    "- Uang yang anda belanjakan pada toko ke - $N$ akan dimisalkan sebagai $X_N$"
   ]
  },
  {
   "cell_type": "code",
   "execution_count": 18,
   "metadata": {
    "colab": {
     "base_uri": "https://localhost:8080/",
     "height": 356
    },
    "id": "vvZiL9yqpHAa",
    "outputId": "b76c9626-5b70-419a-a6d1-d6851261b59b"
   },
   "outputs": [
    {
     "name": "stdout",
     "output_type": "stream",
     "text": [
      "Anda ke 37 toko\n",
      "Dengan total uang yang anda belanjakan: 20666.646537932367\n"
     ]
    }
   ],
   "source": [
    "N = random.randint(0,100) # banyaknya toko\n",
    "\n",
    "X = np.random.uniform(0,1000,size = int(N)) # generate uang yang ingin dihabiskan diantara 0-1000 ke N toko dgn asumsi dist. uniform\n",
    "\n",
    "Y = sum(X) # y adalah jumlahan seluruh uang yang dihabiskan disetiap tokonya\n",
    "\n",
    "print(f\"Anda ke {N} toko\")\n",
    "print(f\"Dengan total uang yang anda belanjakan: {Y}\")"
   ]
  },
  {
   "cell_type": "code",
   "execution_count": 19,
   "metadata": {
    "id": "Y0M-s_tQCXbF",
    "outputId": "896daa14-5d6e-44ab-f233-036252ae9846"
   },
   "outputs": [
    {
     "data": {
      "text/html": [
       "<div>\n",
       "<style scoped>\n",
       "    .dataframe tbody tr th:only-of-type {\n",
       "        vertical-align: middle;\n",
       "    }\n",
       "\n",
       "    .dataframe tbody tr th {\n",
       "        vertical-align: top;\n",
       "    }\n",
       "\n",
       "    .dataframe thead th {\n",
       "        text-align: right;\n",
       "    }\n",
       "</style>\n",
       "<table border=\"1\" class=\"dataframe\">\n",
       "  <thead>\n",
       "    <tr style=\"text-align: right;\">\n",
       "      <th></th>\n",
       "      <th>Uang yang dihabiskan</th>\n",
       "    </tr>\n",
       "  </thead>\n",
       "  <tbody>\n",
       "    <tr>\n",
       "      <th>0</th>\n",
       "      <td>270.007973</td>\n",
       "    </tr>\n",
       "    <tr>\n",
       "      <th>1</th>\n",
       "      <td>735.194022</td>\n",
       "    </tr>\n",
       "    <tr>\n",
       "      <th>2</th>\n",
       "      <td>962.188545</td>\n",
       "    </tr>\n",
       "    <tr>\n",
       "      <th>3</th>\n",
       "      <td>248.753144</td>\n",
       "    </tr>\n",
       "    <tr>\n",
       "      <th>4</th>\n",
       "      <td>576.157334</td>\n",
       "    </tr>\n",
       "    <tr>\n",
       "      <th>5</th>\n",
       "      <td>592.041931</td>\n",
       "    </tr>\n",
       "    <tr>\n",
       "      <th>6</th>\n",
       "      <td>572.251906</td>\n",
       "    </tr>\n",
       "    <tr>\n",
       "      <th>7</th>\n",
       "      <td>223.081633</td>\n",
       "    </tr>\n",
       "    <tr>\n",
       "      <th>8</th>\n",
       "      <td>952.749012</td>\n",
       "    </tr>\n",
       "    <tr>\n",
       "      <th>9</th>\n",
       "      <td>447.125379</td>\n",
       "    </tr>\n",
       "    <tr>\n",
       "      <th>10</th>\n",
       "      <td>846.408672</td>\n",
       "    </tr>\n",
       "    <tr>\n",
       "      <th>11</th>\n",
       "      <td>699.479275</td>\n",
       "    </tr>\n",
       "    <tr>\n",
       "      <th>12</th>\n",
       "      <td>297.436951</td>\n",
       "    </tr>\n",
       "    <tr>\n",
       "      <th>13</th>\n",
       "      <td>813.797820</td>\n",
       "    </tr>\n",
       "    <tr>\n",
       "      <th>14</th>\n",
       "      <td>396.505741</td>\n",
       "    </tr>\n",
       "    <tr>\n",
       "      <th>15</th>\n",
       "      <td>881.103197</td>\n",
       "    </tr>\n",
       "    <tr>\n",
       "      <th>16</th>\n",
       "      <td>581.272873</td>\n",
       "    </tr>\n",
       "    <tr>\n",
       "      <th>17</th>\n",
       "      <td>881.735362</td>\n",
       "    </tr>\n",
       "    <tr>\n",
       "      <th>18</th>\n",
       "      <td>692.531590</td>\n",
       "    </tr>\n",
       "    <tr>\n",
       "      <th>19</th>\n",
       "      <td>725.254280</td>\n",
       "    </tr>\n",
       "    <tr>\n",
       "      <th>20</th>\n",
       "      <td>501.324382</td>\n",
       "    </tr>\n",
       "    <tr>\n",
       "      <th>21</th>\n",
       "      <td>956.083635</td>\n",
       "    </tr>\n",
       "    <tr>\n",
       "      <th>22</th>\n",
       "      <td>643.990199</td>\n",
       "    </tr>\n",
       "    <tr>\n",
       "      <th>23</th>\n",
       "      <td>423.855049</td>\n",
       "    </tr>\n",
       "    <tr>\n",
       "      <th>24</th>\n",
       "      <td>606.393214</td>\n",
       "    </tr>\n",
       "    <tr>\n",
       "      <th>25</th>\n",
       "      <td>19.193198</td>\n",
       "    </tr>\n",
       "    <tr>\n",
       "      <th>26</th>\n",
       "      <td>301.574817</td>\n",
       "    </tr>\n",
       "    <tr>\n",
       "      <th>27</th>\n",
       "      <td>660.173537</td>\n",
       "    </tr>\n",
       "    <tr>\n",
       "      <th>28</th>\n",
       "      <td>290.077607</td>\n",
       "    </tr>\n",
       "    <tr>\n",
       "      <th>29</th>\n",
       "      <td>618.015429</td>\n",
       "    </tr>\n",
       "    <tr>\n",
       "      <th>30</th>\n",
       "      <td>428.768701</td>\n",
       "    </tr>\n",
       "    <tr>\n",
       "      <th>31</th>\n",
       "      <td>135.474064</td>\n",
       "    </tr>\n",
       "    <tr>\n",
       "      <th>32</th>\n",
       "      <td>298.282326</td>\n",
       "    </tr>\n",
       "    <tr>\n",
       "      <th>33</th>\n",
       "      <td>569.964911</td>\n",
       "    </tr>\n",
       "    <tr>\n",
       "      <th>34</th>\n",
       "      <td>590.872761</td>\n",
       "    </tr>\n",
       "    <tr>\n",
       "      <th>35</th>\n",
       "      <td>574.325249</td>\n",
       "    </tr>\n",
       "    <tr>\n",
       "      <th>36</th>\n",
       "      <td>653.200820</td>\n",
       "    </tr>\n",
       "  </tbody>\n",
       "</table>\n",
       "</div>"
      ],
      "text/plain": [
       "    Uang yang dihabiskan\n",
       "0             270.007973\n",
       "1             735.194022\n",
       "2             962.188545\n",
       "3             248.753144\n",
       "4             576.157334\n",
       "5             592.041931\n",
       "6             572.251906\n",
       "7             223.081633\n",
       "8             952.749012\n",
       "9             447.125379\n",
       "10            846.408672\n",
       "11            699.479275\n",
       "12            297.436951\n",
       "13            813.797820\n",
       "14            396.505741\n",
       "15            881.103197\n",
       "16            581.272873\n",
       "17            881.735362\n",
       "18            692.531590\n",
       "19            725.254280\n",
       "20            501.324382\n",
       "21            956.083635\n",
       "22            643.990199\n",
       "23            423.855049\n",
       "24            606.393214\n",
       "25             19.193198\n",
       "26            301.574817\n",
       "27            660.173537\n",
       "28            290.077607\n",
       "29            618.015429\n",
       "30            428.768701\n",
       "31            135.474064\n",
       "32            298.282326\n",
       "33            569.964911\n",
       "34            590.872761\n",
       "35            574.325249\n",
       "36            653.200820"
      ]
     },
     "execution_count": 19,
     "metadata": {},
     "output_type": "execute_result"
    }
   ],
   "source": [
    "pd.DataFrame(X, columns=[\"Uang yang dihabiskan\"])"
   ]
  },
  {
   "cell_type": "code",
   "execution_count": 20,
   "metadata": {
    "id": "a2ehzmy5CXbF",
    "outputId": "0767025d-1fee-4f53-f977-8352cb62269d"
   },
   "outputs": [
    {
     "name": "stdout",
     "output_type": "stream",
     "text": [
      "Rata rata uang yang anda belanjakan disetiap tokonya: 558.5580145387127\n"
     ]
    }
   ],
   "source": [
    "print(f\"Rata rata uang yang anda belanjakan disetiap tokonya: {X.mean()}\")"
   ]
  },
  {
   "cell_type": "markdown",
   "metadata": {
    "id": "CEv7TWyuCXbF"
   },
   "source": [
    "Distribusi uang yang dihabiskan"
   ]
  },
  {
   "cell_type": "code",
   "execution_count": 21,
   "metadata": {
    "id": "UKb1pu1aCXbF",
    "outputId": "16a2dc33-608e-4f34-e705-e383b7af1b69"
   },
   "outputs": [
    {
     "data": {
      "text/plain": [
       "<matplotlib.lines.Line2D at 0x7fd8dff7fc40>"
      ]
     },
     "execution_count": 21,
     "metadata": {},
     "output_type": "execute_result"
    },
    {
     "data": {
      "image/png": "[encoded data removed]",
      "text/plain": [
       "<Figure size 640x480 with 1 Axes>"
      ]
     },
     "metadata": {},
     "output_type": "display_data"
    }
   ],
   "source": [
    "sns.histplot(X) # plot distribusi X warna biru\n",
    "plt.axvline(X.mean(), color=\"k\", linestyle=\"--\") # plot nilai rata rata X "
   ]
  },
  {
   "cell_type": "markdown",
   "metadata": {
    "id": "4698KO55pHAb"
   },
   "source": [
    "Untuk menentukan expected value Y, berdasarkan video materi, kita dapat menggunakan **total expectation theorem** atau **law of iterated expectation**.\n",
    "Akan dibuktikan bahwa keempat value yang ada di video bernilai sama."
   ]
  },
  {
   "cell_type": "markdown",
   "metadata": {
    "id": "mEhUNhaLCXbG"
   },
   "source": [
    "$$ \\text{E}[Y|N=n] = n \\times \\text{E}[X] $$"
   ]
  },
  {
   "cell_type": "code",
   "execution_count": 22,
   "metadata": {
    "colab": {
     "base_uri": "https://localhost:8080/"
    },
    "id": "tTBnwTrLpHAb",
    "outputId": "1af08d58-c336-491c-a810-f142a9edcd69"
   },
   "outputs": [
    {
     "data": {
      "text/plain": [
       "np.float64(20666.646537932367)"
      ]
     },
     "execution_count": 22,
     "metadata": {},
     "output_type": "execute_result"
    }
   ],
   "source": [
    "exp_y = N*np.mean(X)\n",
    "exp_y"
   ]
  },
  {
   "cell_type": "markdown",
   "metadata": {
    "id": "C2wm2QX8CXbG"
   },
   "source": [
    "$$ \\text{E}[Y] = \\sum_n p_n(n) \\times \\text{E}[Y|N=n] $$\n",
    "$$ \\text{E}[Y] = \\sum_n p_n(n) \\times n \\times \\text{E}[X] $$"
   ]
  },
  {
   "cell_type": "code",
   "execution_count": 23,
   "metadata": {
    "id": "Lp7cO8UcCXbG"
   },
   "outputs": [],
   "source": [
    "prob_N = X/Y "
   ]
  },
  {
   "cell_type": "code",
   "execution_count": 24,
   "metadata": {
    "id": "a9Alvo-rCXbG",
    "outputId": "07d3d5e7-473e-47d1-ae8f-2979784c70e7"
   },
   "outputs": [
    {
     "data": {
      "text/html": [
       "<div>\n",
       "<style scoped>\n",
       "    .dataframe tbody tr th:only-of-type {\n",
       "        vertical-align: middle;\n",
       "    }\n",
       "\n",
       "    .dataframe tbody tr th {\n",
       "        vertical-align: top;\n",
       "    }\n",
       "\n",
       "    .dataframe thead th {\n",
       "        text-align: right;\n",
       "    }\n",
       "</style>\n",
       "<table border=\"1\" class=\"dataframe\">\n",
       "  <thead>\n",
       "    <tr style=\"text-align: right;\">\n",
       "      <th></th>\n",
       "      <th>Uang yang dihabiskan</th>\n",
       "      <th>Peluang uang dihabiskan di toko ke-i (p_n)</th>\n",
       "    </tr>\n",
       "  </thead>\n",
       "  <tbody>\n",
       "    <tr>\n",
       "      <th>0</th>\n",
       "      <td>270.007973</td>\n",
       "      <td>0.013065</td>\n",
       "    </tr>\n",
       "    <tr>\n",
       "      <th>1</th>\n",
       "      <td>735.194022</td>\n",
       "      <td>0.035574</td>\n",
       "    </tr>\n",
       "    <tr>\n",
       "      <th>2</th>\n",
       "      <td>962.188545</td>\n",
       "      <td>0.046558</td>\n",
       "    </tr>\n",
       "    <tr>\n",
       "      <th>3</th>\n",
       "      <td>248.753144</td>\n",
       "      <td>0.012036</td>\n",
       "    </tr>\n",
       "    <tr>\n",
       "      <th>4</th>\n",
       "      <td>576.157334</td>\n",
       "      <td>0.027879</td>\n",
       "    </tr>\n",
       "    <tr>\n",
       "      <th>5</th>\n",
       "      <td>592.041931</td>\n",
       "      <td>0.028647</td>\n",
       "    </tr>\n",
       "    <tr>\n",
       "      <th>6</th>\n",
       "      <td>572.251906</td>\n",
       "      <td>0.027690</td>\n",
       "    </tr>\n",
       "    <tr>\n",
       "      <th>7</th>\n",
       "      <td>223.081633</td>\n",
       "      <td>0.010794</td>\n",
       "    </tr>\n",
       "    <tr>\n",
       "      <th>8</th>\n",
       "      <td>952.749012</td>\n",
       "      <td>0.046101</td>\n",
       "    </tr>\n",
       "    <tr>\n",
       "      <th>9</th>\n",
       "      <td>447.125379</td>\n",
       "      <td>0.021635</td>\n",
       "    </tr>\n",
       "    <tr>\n",
       "      <th>10</th>\n",
       "      <td>846.408672</td>\n",
       "      <td>0.040955</td>\n",
       "    </tr>\n",
       "    <tr>\n",
       "      <th>11</th>\n",
       "      <td>699.479275</td>\n",
       "      <td>0.033846</td>\n",
       "    </tr>\n",
       "    <tr>\n",
       "      <th>12</th>\n",
       "      <td>297.436951</td>\n",
       "      <td>0.014392</td>\n",
       "    </tr>\n",
       "    <tr>\n",
       "      <th>13</th>\n",
       "      <td>813.797820</td>\n",
       "      <td>0.039377</td>\n",
       "    </tr>\n",
       "    <tr>\n",
       "      <th>14</th>\n",
       "      <td>396.505741</td>\n",
       "      <td>0.019186</td>\n",
       "    </tr>\n",
       "    <tr>\n",
       "      <th>15</th>\n",
       "      <td>881.103197</td>\n",
       "      <td>0.042634</td>\n",
       "    </tr>\n",
       "    <tr>\n",
       "      <th>16</th>\n",
       "      <td>581.272873</td>\n",
       "      <td>0.028126</td>\n",
       "    </tr>\n",
       "    <tr>\n",
       "      <th>17</th>\n",
       "      <td>881.735362</td>\n",
       "      <td>0.042665</td>\n",
       "    </tr>\n",
       "    <tr>\n",
       "      <th>18</th>\n",
       "      <td>692.531590</td>\n",
       "      <td>0.033510</td>\n",
       "    </tr>\n",
       "    <tr>\n",
       "      <th>19</th>\n",
       "      <td>725.254280</td>\n",
       "      <td>0.035093</td>\n",
       "    </tr>\n",
       "    <tr>\n",
       "      <th>20</th>\n",
       "      <td>501.324382</td>\n",
       "      <td>0.024258</td>\n",
       "    </tr>\n",
       "    <tr>\n",
       "      <th>21</th>\n",
       "      <td>956.083635</td>\n",
       "      <td>0.046262</td>\n",
       "    </tr>\n",
       "    <tr>\n",
       "      <th>22</th>\n",
       "      <td>643.990199</td>\n",
       "      <td>0.031161</td>\n",
       "    </tr>\n",
       "    <tr>\n",
       "      <th>23</th>\n",
       "      <td>423.855049</td>\n",
       "      <td>0.020509</td>\n",
       "    </tr>\n",
       "    <tr>\n",
       "      <th>24</th>\n",
       "      <td>606.393214</td>\n",
       "      <td>0.029342</td>\n",
       "    </tr>\n",
       "    <tr>\n",
       "      <th>25</th>\n",
       "      <td>19.193198</td>\n",
       "      <td>0.000929</td>\n",
       "    </tr>\n",
       "    <tr>\n",
       "      <th>26</th>\n",
       "      <td>301.574817</td>\n",
       "      <td>0.014592</td>\n",
       "    </tr>\n",
       "    <tr>\n",
       "      <th>27</th>\n",
       "      <td>660.173537</td>\n",
       "      <td>0.031944</td>\n",
       "    </tr>\n",
       "    <tr>\n",
       "      <th>28</th>\n",
       "      <td>290.077607</td>\n",
       "      <td>0.014036</td>\n",
       "    </tr>\n",
       "    <tr>\n",
       "      <th>29</th>\n",
       "      <td>618.015429</td>\n",
       "      <td>0.029904</td>\n",
       "    </tr>\n",
       "    <tr>\n",
       "      <th>30</th>\n",
       "      <td>428.768701</td>\n",
       "      <td>0.020747</td>\n",
       "    </tr>\n",
       "    <tr>\n",
       "      <th>31</th>\n",
       "      <td>135.474064</td>\n",
       "      <td>0.006555</td>\n",
       "    </tr>\n",
       "    <tr>\n",
       "      <th>32</th>\n",
       "      <td>298.282326</td>\n",
       "      <td>0.014433</td>\n",
       "    </tr>\n",
       "    <tr>\n",
       "      <th>33</th>\n",
       "      <td>569.964911</td>\n",
       "      <td>0.027579</td>\n",
       "    </tr>\n",
       "    <tr>\n",
       "      <th>34</th>\n",
       "      <td>590.872761</td>\n",
       "      <td>0.028591</td>\n",
       "    </tr>\n",
       "    <tr>\n",
       "      <th>35</th>\n",
       "      <td>574.325249</td>\n",
       "      <td>0.027790</td>\n",
       "    </tr>\n",
       "    <tr>\n",
       "      <th>36</th>\n",
       "      <td>653.200820</td>\n",
       "      <td>0.031607</td>\n",
       "    </tr>\n",
       "  </tbody>\n",
       "</table>\n",
       "</div>"
      ],
      "text/plain": [
       "    Uang yang dihabiskan  Peluang uang dihabiskan di toko ke-i (p_n)\n",
       "0             270.007973                                    0.013065\n",
       "1             735.194022                                    0.035574\n",
       "2             962.188545                                    0.046558\n",
       "3             248.753144                                    0.012036\n",
       "4             576.157334                                    0.027879\n",
       "5             592.041931                                    0.028647\n",
       "6             572.251906                                    0.027690\n",
       "7             223.081633                                    0.010794\n",
       "8             952.749012                                    0.046101\n",
       "9             447.125379                                    0.021635\n",
       "10            846.408672                                    0.040955\n",
       "11            699.479275                                    0.033846\n",
       "12            297.436951                                    0.014392\n",
       "13            813.797820                                    0.039377\n",
       "14            396.505741                                    0.019186\n",
       "15            881.103197                                    0.042634\n",
       "16            581.272873                                    0.028126\n",
       "17            881.735362                                    0.042665\n",
       "18            692.531590                                    0.033510\n",
       "19            725.254280                                    0.035093\n",
       "20            501.324382                                    0.024258\n",
       "21            956.083635                                    0.046262\n",
       "22            643.990199                                    0.031161\n",
       "23            423.855049                                    0.020509\n",
       "24            606.393214                                    0.029342\n",
       "25             19.193198                                    0.000929\n",
       "26            301.574817                                    0.014592\n",
       "27            660.173537                                    0.031944\n",
       "28            290.077607                                    0.014036\n",
       "29            618.015429                                    0.029904\n",
       "30            428.768701                                    0.020747\n",
       "31            135.474064                                    0.006555\n",
       "32            298.282326                                    0.014433\n",
       "33            569.964911                                    0.027579\n",
       "34            590.872761                                    0.028591\n",
       "35            574.325249                                    0.027790\n",
       "36            653.200820                                    0.031607"
      ]
     },
     "execution_count": 24,
     "metadata": {},
     "output_type": "execute_result"
    }
   ],
   "source": [
    "pd.DataFrame({\"Uang yang dihabiskan\":X, \n",
    "              \"Peluang uang dihabiskan di toko ke-i (p_n)\":X/Y})"
   ]
  },
  {
   "cell_type": "code",
   "execution_count": 25,
   "metadata": {
    "id": "Ne2W6aW-CXbH",
    "outputId": "13105d95-b25d-4af6-d318-c0ae356bfaf5"
   },
   "outputs": [
    {
     "data": {
      "text/plain": [
       "np.float64(20666.64653793236)"
      ]
     },
     "execution_count": 25,
     "metadata": {},
     "output_type": "execute_result"
    }
   ],
   "source": [
    "exp_y = sum(prob_N)*N*np.mean(X)\n",
    "exp_y"
   ]
  },
  {
   "cell_type": "markdown",
   "metadata": {
    "id": "emYw1_8XCXbH"
   },
   "source": [
    "Law of iterated expectation\n",
    "\n",
    "$$ \\text{E}[Y] = \\sum_n p_n(n) \\times n \\times \\text{E}[X] $$"
   ]
  },
  {
   "cell_type": "code",
   "execution_count": 26,
   "metadata": {
    "id": "OlZB6tfbCXbH",
    "outputId": "dc157121-4c79-4a23-b8c4-005defca262a"
   },
   "outputs": [
    {
     "name": "stdout",
     "output_type": "stream",
     "text": [
      "20666.646537932367\n"
     ]
    }
   ],
   "source": [
    "print(np.mean(N*(np.mean(X))))"
   ]
  },
  {
   "cell_type": "markdown",
   "metadata": {
    "id": "KJWx7AjGCXbH"
   },
   "source": [
    "Total Expectation Theorem"
   ]
  },
  {
   "cell_type": "markdown",
   "metadata": {
    "id": "Op9CvgUyCXbH"
   },
   "source": [
    "$$\\text{E}[Y]= \\text{E}[X]\\text{E}[N]$$"
   ]
  },
  {
   "cell_type": "code",
   "execution_count": 27,
   "metadata": {
    "id": "v3i_RuF4CXbI",
    "outputId": "672c9ca4-ee1b-438b-fe60-e2de8975d30a"
   },
   "outputs": [
    {
     "name": "stdout",
     "output_type": "stream",
     "text": [
      "20666.646537932367\n"
     ]
    }
   ],
   "source": [
    "print(np.mean(X)*np.mean(N))"
   ]
  },
  {
   "cell_type": "markdown",
   "metadata": {
    "id": "YYuH-RVTPqnF"
   },
   "source": [
    "Sebab bernilai sama, maka kita dapat menghitung estimasi uang yang dihabiskan (expected value) baik menggunakan **total expectation theorem** atau **law of iterated expectation**."
   ]
  }
 ],
 "metadata": {
  "colab": {
   "collapsed_sections": [],
   "provenance": []
  },
  "kernelspec": {
   "display_name": ".venv",
   "language": "python",
   "name": "python3"
  },
  "language_info": {
   "codemirror_mode": {
    "name": "ipython",
    "version": 3
   },
   "file_extension": ".py",
   "mimetype": "text/x-python",
   "name": "python",
   "nbconvert_exporter": "python",
   "pygments_lexer": "ipython3",
   "version": "3.10.14"
  }
 },
 "nbformat": 4,
 "nbformat_minor": 1
}
