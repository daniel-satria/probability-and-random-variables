{
 "cells": [
  {
   "cell_type": "markdown",
   "metadata": {
    "id": "QYtbCCndk9SJ"
   },
   "source": [
    "# **Random Variables**"
   ]
  },
  {
   "cell_type": "markdown",
   "metadata": {
    "id": "4x2gzrI2DDvF"
   },
   "source": [
    "**Outline**\n",
    "\n",
    "1. Review Variable Random\n",
    "2. Case 1 - An Even Split at Coin Tossing\n",
    "3. Case 2 - Chuck-a-luck\n",
    "4. Case 3 - Defect Screw"
   ]
  },
  {
   "cell_type": "markdown",
   "metadata": {
    "id": "OcSzcNxXCysR"
   },
   "source": [
    "## Library and Function Needed"
   ]
  },
  {
   "cell_type": "markdown",
   "metadata": {
    "id": "IKmONN_nkY3U"
   },
   "source": [
    "- Kita perlu memanggil library dan fungsi yang diperlukan untuk menjalankan code dalam notebook ini, yang meliputi kebutuhan:\n",
    "  - membaca data\n",
    "  - membuat data simulasi\n",
    "  - membuat visualisasi\n",
    "- Beberapa fungsi diambil dari beberapa pertemuan yang lalu"
   ]
  },
  {
   "cell_type": "code",
   "execution_count": 1,
   "metadata": {
    "id": "vXLb4q3WZM9I"
   },
   "outputs": [],
   "source": [
    "# load data\n",
    "import pandas as pd\n",
    "import numpy as np\n",
    "import itertools\n",
    "import random\n",
    "from collections import Counter\n",
    "\n",
    "# load distribution\n",
    "from scipy.stats import binom\n",
    "\n",
    "# visualization\n",
    "import matplotlib.pyplot as plt\n",
    "import matplotlib.patches as mpatches"
   ]
  },
  {
   "cell_type": "code",
   "execution_count": 2,
   "metadata": {
    "id": "KkvKtchoY7Az"
   },
   "outputs": [],
   "source": [
    "class Dist(Counter): \n",
    "    \"A Distribution of {outcome: frequency} pairs.\"\n",
    "\n",
    "def cases(outcomes): \n",
    "    \"The total frequency of all the outcomes.\"\n",
    "    return sum(Dist(outcomes).values())\n",
    "\n",
    "def favorable(event, space):\n",
    "    \"A distribution of outcomes from the sample space that are in the event.\"\n",
    "    space = Dist(space)\n",
    "    return Dist({x: space[x] \n",
    "                 for x in space if x in event})\n",
    "\n",
    "def Fraction(n, d): \n",
    "    \"Calculating the probability given outcome n and sample space d\"\n",
    "    return n / d\n",
    "\n",
    "def P(event, space): \n",
    "    \"The probability of an event, given a sample space.\"\n",
    "    return Fraction(cases(favorable(event, space)), \n",
    "                    cases(space))"
   ]
  },
  {
   "cell_type": "code",
   "execution_count": 3,
   "metadata": {
    "id": "Qwr0VVLXZBz8"
   },
   "outputs": [],
   "source": [
    "def single_coin(p):\n",
    "    return \"H\" if random.random() <= p else \"T\"\n",
    "\n",
    "def coin_tosses(n_coins, head_proba=0.5):\n",
    "    \"\"\"\n",
    "    Simulating single n_coin toss\n",
    "    \"\"\"\n",
    "    coins_face = \"\"\n",
    "    for _ in range(n_coins):\n",
    "        coin_res = single_coin(head_proba)\n",
    "        coins_face += coin_res\n",
    "    \n",
    "    return coins_face\n",
    "\n",
    "def coin_sim(n_sim, n_coins, head_proba=0.5):\n",
    "    \"\"\"\n",
    "    Simulating n_coin toss with n_sim trials\n",
    "    \"\"\"\n",
    "    outcomes = []\n",
    "    for i in range(n_sim):\n",
    "        one_toss = coin_tosses(n_coins, head_proba)\n",
    "        outcomes.append(one_toss)\n",
    "    \n",
    "    return Dist(outcomes)\n"
   ]
  },
  {
   "cell_type": "code",
   "execution_count": 4,
   "metadata": {
    "id": "y6nSufwFa8X0"
   },
   "outputs": [],
   "source": [
    "def toss_exp(n, n_coin):\n",
    "    head_proba = []\n",
    "    tail_proba = []\n",
    "    n_toss = []\n",
    "    for i in range(n):\n",
    "        coin_toss = coin_sim(i+1,1)\n",
    "        p_head = P({'H'}, coin_toss)\n",
    "        p_tail = P({'T'}, coin_toss)\n",
    "        head_proba.append(p_head)\n",
    "        tail_proba.append(p_tail)\n",
    "        n_toss.append(i+1)\n",
    "\n",
    "    plt.plot(n_toss, head_proba, 'k', label='Head Probability')\n",
    "    plt.plot(n_toss, tail_proba, 'r', label='Tail Probability')\n",
    "    plt.plot(n_toss, [0.5]*n, 'b--', label='Theoretical')\n",
    "    plt.legend()\n",
    "    plt.show()"
   ]
  },
  {
   "cell_type": "code",
   "execution_count": 5,
   "metadata": {
    "id": "KwAXd4_rQKnA"
   },
   "outputs": [],
   "source": [
    "def probability_model_dadu(jumlah_pelemparan):\n",
    "    \"\"\"\n",
    "    Simulasi pelemparan dadu 6 sisi sebanyak n kali\n",
    "\n",
    "    Parameters\n",
    "    ----------\n",
    "    jumlah_pelemparan = masukkan ingin melakukan eksperimen pelemparan berapa kali\n",
    "    \"\"\"\n",
    "    \n",
    "    # melakukan pelemparan dadu sebanyak jumlah_pelemparan \n",
    "    hasil_pelemparan = np.random.randint(1, 7, jumlah_pelemparan)\n",
    "\n",
    "    # untuk mengetahui berapa kali kemunculan mata dadu dalam jumlah_pelemparan\n",
    "    event_yang_muncul, frekuensi_muncul = np.unique(hasil_pelemparan, return_counts=True)\n",
    "    \n",
    "    # menghitung probability\n",
    "    proba_event = frekuensi_muncul / jumlah_pelemparan\n",
    "\n",
    "    # melakukan visualisasi\n",
    "    plt.bar(event_yang_muncul, proba_event)\n",
    "    plt.title(f\"Simulasi Pelemparan Dadu sebanyak {jumlah_pelemparan} kali\")\n",
    "    plt.xticks(np.arange(1, 7))\n",
    "    plt.xlabel(\"Angka Mata Dadu\")\n",
    "    plt.ylabel(\"Probability\")\n",
    "    plt.show()"
   ]
  },
  {
   "cell_type": "markdown",
   "metadata": {
    "id": "02fuPBjpJfbJ"
   },
   "source": [
    "## **Review Variable Random**\n",
    "---"
   ]
  },
  {
   "cell_type": "markdown",
   "metadata": {
    "id": "Jgmb29ZrJoVG"
   },
   "source": [
    "### **Definisi**\n",
    "\n",
    "Dari materi yang sudah dipelajari di video:\n",
    "\n",
    "- Variable Random merupakan sebuah **fungsi**.\n",
    "- Dimana **kejadian dalam ruang sampel dipetakan menjadi angka numerik**. \n",
    "- Baik bersifat **Diskrit** dan **Kontinu**\n",
    "- Misal, pada pelemparan 2 koin. kita ingin memetakan banyak angka yang muncul maka \n",
    "\n",
    "$$\\Omega = {HH,TH,HT,TT}$$\n",
    "- akan menjadi Variable Random $$X =\\{0,1,2\\}$$\n",
    "- dimana X menyatakan banyak angka yang muncul dari 2 koin yang dilempar"
   ]
  },
  {
   "cell_type": "markdown",
   "metadata": {
    "id": "-u3ZdyoSJp_K"
   },
   "source": [
    "\n",
    "### **PMF**"
   ]
  },
  {
   "cell_type": "markdown",
   "metadata": {
    "id": "ek_w5f3gg57G"
   },
   "source": [
    "- Untuk mendefinisikan peluang pada nilai di variable random, kita bisa gunakan PMF\n",
    "- PMF adalah fungsi yang memetakan nilai pada variable random diskrit menjadi nilai **peluang**\n",
    "- Misalnya, kita ingin mencari peluang tidak ada angka yang muncul dari pelemparan 2 koin \n",
    "$$P(X=0) = P(TT) = \\frac{1}{4}$$\n",
    "- Notasi PMF dapat dituliskan seperti ini $P(X=x)$ atau seperti ini $p_{x}(x)$\n",
    "- PMF memenuhi axioma probabilitas, dimana \n",
    "   - Nilai PMF harus non negatif\n",
    "   - Penjumlahan PMF pada semua nilai variable random adalah 1"
   ]
  },
  {
   "cell_type": "markdown",
   "metadata": {
    "id": "A3quyP8kJrYw"
   },
   "source": [
    "### **Distribusi Variable Random**"
   ]
  },
  {
   "cell_type": "markdown",
   "metadata": {
    "id": "994zUvT2h-5G"
   },
   "source": [
    "- Distribusi peluang dari setiap nilai pada variable random dinamakan distribusi variable random\n",
    "- Ada banyak contoh distribusi **variable random diskrit**, diantaranya adalah: \n",
    "\n",
    "#### Variable random **Bernoulli**\n",
    "  - dipakai ketika memodelkan kejadian independen yang **hanya punya dua alternatif** sukses atau gagal\n",
    "\n",
    "#### Variable random **Binomial**\n",
    "  - dipakai ketika memodelkan kejadian independen yang **hanya punya dua alternatif** sukses atau gagal, yang dilakukan pada **n percobaan**\n",
    "\n",
    "#### Variable random **Uniform**\n",
    "  - dipakai ketika memodelkan kejadian independen yang **peluang kejadian** satu sama lainnya adalah **sama**\n",
    "\n",
    "#### Variable random Geometrik\n",
    "  - dipakai ketika memodelkan **banyak percobaan sampai** mendapatkan ke**sukses**an **pertama kali**"
   ]
  },
  {
   "cell_type": "markdown",
   "metadata": {
    "id": "JJK6j5s_jgJQ"
   },
   "source": [
    "## **Study Case 1: An Even Split at Coin Tossing**\n",
    "___\n"
   ]
  },
  {
   "cell_type": "markdown",
   "metadata": {
    "id": "ChGFmHrHEGH8"
   },
   "source": [
    "Ketika 4 koin di lempar\n",
    "- Berapa peluang keluar 2 angka dari 4 koin?\n",
    "- Coba kita tebak, apakah peluangnya 0.5? karena bisa ada 2 angka 2 gambar\n",
    "\n",
    "Untuk menjawab pertanyaan tersebut, kita bisa menjawab dengan dua pendekatan, yaitu:\n",
    "\n",
    "- Melakukan simulasi melemparkan koin secara berkali - kali lalu menghitung proporsi kemunculannya\n",
    "- Menggunakan konsep pmf para random variables untuk mencari nilainya\n",
    "____"
   ]
  },
  {
   "cell_type": "markdown",
   "metadata": {
    "id": "kjCauICcqo1S"
   },
   "source": [
    "### 1. Simulation"
   ]
  },
  {
   "cell_type": "markdown",
   "metadata": {
    "id": "g10i9dxUjuPK"
   },
   "source": [
    "- Mari coba selesaikan dengan simulasi untuk memodelkan kejadiannya dan hitung peluang nya berdasarkan hasil kemunculan dari simulasi"
   ]
  },
  {
   "cell_type": "markdown",
   "metadata": {
    "id": "_MT8UW2LZGB7"
   },
   "source": [
    "* Kita simulasikan pelemparan 1 koin dahulu sebanyak satu juta kali, dan kita lihat hasilnya.\n",
    "* Mengapa satu juta kali? mari kita lihat ploting peluang saat 1 koin dilempar 10, 100 dan 1000 kali"
   ]
  },
  {
   "cell_type": "code",
   "execution_count": 6,
   "metadata": {
    "colab": {
     "base_uri": "https://localhost:8080/",
     "height": 265
    },
    "id": "VPbkxazxbfBG",
    "outputId": "9a9ebf7f-1248-485c-cfdf-52b64cb18fea"
   },
   "outputs": [
    {
     "data": {
      "image/png": "[encoded data removed]",
      "text/plain": [
       "<Figure size 640x480 with 1 Axes>"
      ]
     },
     "metadata": {},
     "output_type": "display_data"
    }
   ],
   "source": [
    "toss_exp(10, 1)"
   ]
  },
  {
   "cell_type": "code",
   "execution_count": 7,
   "metadata": {
    "colab": {
     "base_uri": "https://localhost:8080/",
     "height": 265
    },
    "id": "kjbTxXxqeyTw",
    "outputId": "3d3e4b52-f22f-4dc1-e234-8e682b3b0a81"
   },
   "outputs": [
    {
     "data": {
      "image/png": "[encoded data removed]",
      "text/plain": [
       "<Figure size 640x480 with 1 Axes>"
      ]
     },
     "metadata": {},
     "output_type": "display_data"
    }
   ],
   "source": [
    "toss_exp(100, 1)"
   ]
  },
  {
   "cell_type": "code",
   "execution_count": 8,
   "metadata": {
    "colab": {
     "base_uri": "https://localhost:8080/",
     "height": 265
    },
    "id": "XtKOey3ge1W3",
    "outputId": "9dd91a37-e6e6-4052-e691-775183337358"
   },
   "outputs": [
    {
     "data": {
      "image/png": "[encoded data removed]",
      "text/plain": [
       "<Figure size 640x480 with 1 Axes>"
      ]
     },
     "metadata": {},
     "output_type": "display_data"
    }
   ],
   "source": [
    "toss_exp(1000, 1)"
   ]
  },
  {
   "cell_type": "code",
   "execution_count": 9,
   "metadata": {
    "colab": {
     "base_uri": "https://localhost:8080/"
    },
    "id": "-ys7IJO-ZJ_Q",
    "outputId": "ab52d24c-cf19-4549-ce9f-43533b8df15a"
   },
   "outputs": [
    {
     "data": {
      "text/plain": [
       "Dist({'H': 500216, 'T': 499784})"
      ]
     },
     "execution_count": 9,
     "metadata": {},
     "output_type": "execute_result"
    }
   ],
   "source": [
    "single_coin_tosses = coin_sim(1000000,1)\n",
    "single_coin_tosses"
   ]
  },
  {
   "cell_type": "code",
   "execution_count": 10,
   "metadata": {
    "colab": {
     "base_uri": "https://localhost:8080/"
    },
    "id": "PZR1z9v9aKau",
    "outputId": "ffac5705-712c-451d-837e-5d968923b9d8"
   },
   "outputs": [
    {
     "name": "stdout",
     "output_type": "stream",
     "text": [
      "Head Probability: 0.500216 \n",
      " Tail Probability: 0.499784\n"
     ]
    }
   ],
   "source": [
    "p_head = P({'H'}, single_coin_tosses)\n",
    "p_tail = P({'T'}, single_coin_tosses)\n",
    "\n",
    "print(f\"Head Probability: {p_head} \\n Tail Probability: {p_tail}\")"
   ]
  },
  {
   "cell_type": "markdown",
   "metadata": {
    "id": "ca5BXsNNbf9s"
   },
   "source": [
    "Dari hasil diatas, semakin besar pelemparannya, kita bisa melihat bahwa nilai peluang angka atau gambar semakin dekat dengan nilai peluang secara teori yaitu $0.5$."
   ]
  },
  {
   "cell_type": "code",
   "execution_count": 11,
   "metadata": {
    "colab": {
     "base_uri": "https://localhost:8080/",
     "height": 295
    },
    "id": "Gxg021PSG1Ov",
    "outputId": "3631348f-8b07-4c3a-f8c1-27877e893544"
   },
   "outputs": [
    {
     "data": {
      "image/png": "[encoded data removed]",
      "text/plain": [
       "<Figure size 640x480 with 1 Axes>"
      ]
     },
     "metadata": {},
     "output_type": "display_data"
    }
   ],
   "source": [
    "plt.bar([0,1],[P({'H'}, single_coin_tosses),P({'T'}, single_coin_tosses)])\n",
    "plt.title(\"Probabilitas Hasil Pelemparan 1 Koin Satu Juta Kali\")\n",
    "plt.xticks(np.arange(0, 1))\n",
    "plt.xlabel(\"Angka atau Gambar\")\n",
    "plt.ylabel(\"Probability\")\n",
    "plt.show()"
   ]
  },
  {
   "cell_type": "markdown",
   "metadata": {
    "id": "EPjnwuBucPar"
   },
   "source": [
    "* Selanjutnya coba simulasi melempar 4 koin sebanyak 1 juta kali"
   ]
  },
  {
   "cell_type": "code",
   "execution_count": 12,
   "metadata": {
    "colab": {
     "base_uri": "https://localhost:8080/"
    },
    "id": "kgfao-jOcV99",
    "outputId": "c1c48729-e4ef-43ed-b38c-ec8479bc734c"
   },
   "outputs": [
    {
     "data": {
      "text/plain": [
       "Dist({'TTTT': 62879,\n",
       "      'TTHT': 62717,\n",
       "      'HHTH': 62677,\n",
       "      'HTHT': 62665,\n",
       "      'HTTH': 62633,\n",
       "      'HTHH': 62631,\n",
       "      'THTT': 62627,\n",
       "      'TTHH': 62576,\n",
       "      'THHT': 62481,\n",
       "      'TTTH': 62437,\n",
       "      'HHHT': 62427,\n",
       "      'THTH': 62402,\n",
       "      'THHH': 62372,\n",
       "      'HHTT': 62316,\n",
       "      'HHHH': 62091,\n",
       "      'HTTT': 62069})"
      ]
     },
     "execution_count": 12,
     "metadata": {},
     "output_type": "execute_result"
    }
   ],
   "source": [
    "n_coin_tosses = coin_sim(1000000, 4)\n",
    "n_coin_tosses"
   ]
  },
  {
   "cell_type": "markdown",
   "metadata": {
    "id": "4sUoEX8ucWZD"
   },
   "source": [
    "* Kemudian, kita hitung probabilitas muncul 2 angka dari 4 koin tersebut dari proporsi kemunculannya\n",
    "* Ingat kemunculan 2 angka pada 4 koin bisa dari **beberapa kombinasi** "
   ]
  },
  {
   "cell_type": "code",
   "execution_count": 13,
   "metadata": {
    "colab": {
     "base_uri": "https://localhost:8080/"
    },
    "id": "WJaOTQwDdAsn",
    "outputId": "e2e7ecf1-707d-4877-cb91-b72d40f3a4ac"
   },
   "outputs": [
    {
     "name": "stdout",
     "output_type": "stream",
     "text": [
      "Head Probability: 0.37507300000000005\n"
     ]
    }
   ],
   "source": [
    "p_head = P({'HHTT'}, n_coin_tosses) +  P({'HTHT'}, n_coin_tosses) + P({'THTH'}, n_coin_tosses) + \\\n",
    "          P({'TTHH'}, n_coin_tosses) + P({'HTTH'}, n_coin_tosses) + P({'THHT'}, n_coin_tosses)\n",
    "\n",
    "print(f\"Head Probability: {p_head}\")"
   ]
  },
  {
   "cell_type": "markdown",
   "metadata": {
    "id": "JTNNxRUnIZgq"
   },
   "source": [
    "- Ternyata jawabannya bukan 0.5\n",
    "- Bagaimana jika yang kita lempar lebih dari 4 koin? Misalnya 100 koin \n",
    "- Mungkin bisa disimulasikan tapi perlu perubahan code untuk lebih efisien"
   ]
  },
  {
   "cell_type": "code",
   "execution_count": 14,
   "metadata": {
    "id": "zpoQzfC-3Wc9"
   },
   "outputs": [],
   "source": [
    "# untuk menjalankan code ini butuh lebih dari 5 menit\n",
    "# n_coin_tosses = coin_sim(1000000, 100)\n",
    "# n_coin_tosses"
   ]
  },
  {
   "cell_type": "markdown",
   "metadata": {
    "id": "JY4oJS7X3LkQ"
   },
   "source": [
    "\n",
    "- Apakah ada cara analitik untuk melakukan penyelesaian case ini?\n",
    "- Dari materi video kemarin kita bisa manfaatkan peluang (pmf) dari suatu distribusi variable random\n",
    "- Namun kita perlu tau termasuk variable random apa case yang kita hadapi?\n"
   ]
  },
  {
   "cell_type": "markdown",
   "metadata": {
    "id": "DjDf91jGljvb"
   },
   "source": [
    "Kumpulkan informasi yang kita ketahui:\n",
    "- Terdapat 2 outcome dari kejadian pelemparan koin: angka dan gambar, Apakah pelemparan koin di kasus ini **Variable Random Bernouli**? \n",
    "  - Variable Random Bernouli memodelkan kejadian yang punya 2 outcome saja (Angka dan Gambar)\n",
    "  - Akan benar berdistribusi Bernouli jika hanya 1 koin saja yang dilempar, di case ini tidak sampai disitu, ada beberapa informasi lain, seperti:\n",
    "- Ada 4 koin yang dilempar : n banyak percobaan\n",
    "- Probabilitas angka keluar dari sebuah lemparan koin: 0.5\n",
    "\n",
    "Ketiga ciri ini menunjukkan ciri **Variable random Binomial**, dimana distribusi ini memodelkan situasi apapun dimana\n",
    "\n",
    "- Kita punya n percobaan yang idependen\n",
    "- Setiap percobaan dapat menghasilkan 2 kejadian yakni gagal dan sukses.\n",
    "- Dan probabilitas suksesnya adalah p.\n",
    "\n",
    "\n",
    "Dimana sukses =  muncul angka, gagal = muncul gambar\n",
    "- maka banyak angka yang muncul dari 4 pelemparan kita bisa simpan dalam variable random X yang diasumsikan berdistribusi Binomial, $$X \\sim \\text{Bin}(4, 0.5)$$\n"
   ]
  },
  {
   "cell_type": "markdown",
   "metadata": {
    "id": "BYiOgVXfmL6h"
   },
   "source": [
    "- Kita bisa mencari peluang muncul nya 2 angka pada 4 koin yang dilempar adalah dengan mencari nilai PMF Variable Random X yang berdistribusi binomial dengan parameter n = 4 dan p = 0.5"
   ]
  },
  {
   "cell_type": "markdown",
   "metadata": {
    "id": "uIFBjVcvhaum"
   },
   "source": [
    "### 2. Binomial Distribution"
   ]
  },
  {
   "cell_type": "markdown",
   "metadata": {
    "id": "gmsEX6_2mC4x"
   },
   "source": [
    "### Binomial PMF\n",
    "\n",
    "$$\n",
    "P(X=x)  = \\binom{n}{x} p^x (1-p)^{n-x}\n",
    "$$\n",
    "\n",
    "\n",
    "\n",
    "Koefisien Binomial\n",
    "\n",
    "$$\n",
    "\\binom{n}{k} = \\frac{n!}{(n-k)!k!} \\text{ for } k \\leq n\n",
    "$$\n"
   ]
  },
  {
   "cell_type": "markdown",
   "metadata": {
    "id": "gFM2UQRHnkEB"
   },
   "source": [
    "- Selesaikan menggunakan PMF Distribusi Binomial\n",
    "- Hitung nilai PMF dari X saat x bernilai 2 \n",
    "- Probabilitas 2 angka muncul dari 4 koin yang dilempar $P(X=2)$ adalah "
   ]
  },
  {
   "cell_type": "code",
   "execution_count": 15,
   "metadata": {
    "colab": {
     "base_uri": "https://localhost:8080/"
    },
    "id": "ApEPj036jySD",
    "outputId": "75036866-939d-4c4b-b86c-40ba30973ba9"
   },
   "outputs": [
    {
     "data": {
      "text/plain": [
       "np.float64(0.375)"
      ]
     },
     "execution_count": 15,
     "metadata": {},
     "output_type": "execute_result"
    }
   ],
   "source": [
    "# peluang (PMF) dari bistribusi binomial saat banyak kemunculan angka x = 2 pada banyak koin n = 4 dengan peluang muncul angka p = 0.5\n",
    "\n",
    "# binom.pmf adalah fungsi untuk menghitung PMF binomial, fungsi tersebut menerima parameter x, n dan p\n",
    "binom.pmf(2, 4, 0.5)"
   ]
  },
  {
   "cell_type": "markdown",
   "metadata": {
    "id": "qQ4gyhptobIx"
   },
   "source": [
    "- Hasil perhitungan menggunakan PMF Distribusi Binomial dan hasil perhitungan peluang menggunakan [Simulasi](#scrollTo=kjCauICcqo1S) \n",
    "- Kita bisa menggunakan PMF untuk menghitung peluang dari kemunculan angka pada lebih dari 4 koin tanpa harus menggunakan simulasi yang membutuhkan cost lebih besar, misalnya 100 koin"
   ]
  },
  {
   "cell_type": "code",
   "execution_count": 16,
   "metadata": {
    "colab": {
     "base_uri": "https://localhost:8080/"
    },
    "id": "HZahxiAfpfKa",
    "outputId": "9daff5ae-1dc4-4b8e-bfd8-3f7d02d0e29f"
   },
   "outputs": [
    {
     "data": {
      "text/plain": [
       "np.float64(0.07958923738717875)"
      ]
     },
     "execution_count": 16,
     "metadata": {},
     "output_type": "execute_result"
    }
   ],
   "source": [
    "# peluang (PMF) dari bistribusi binomial saat banyak kemunculan angka x = 50 pada banyak koin n = 100 dengan peluang muncul angka p = 0.5\n",
    "binom.pmf(50, 100, 0.5)"
   ]
  },
  {
   "cell_type": "markdown",
   "metadata": {
    "id": "wxAjbWzikasZ"
   },
   "source": [
    "- Visualisasi banyak kemunculan angka pada n koin yang dilempar"
   ]
  },
  {
   "cell_type": "code",
   "execution_count": 17,
   "metadata": {
    "colab": {
     "base_uri": "https://localhost:8080/",
     "height": 295
    },
    "id": "9_of4dPNkduk",
    "outputId": "702d8a8f-d54a-4862-d288-a1dd249bc72d"
   },
   "outputs": [
    {
     "data": {
      "image/png": "[encoded data removed]",
      "text/plain": [
       "<Figure size 640x480 with 1 Axes>"
      ]
     },
     "metadata": {},
     "output_type": "display_data"
    }
   ],
   "source": [
    "n_koin = 4 # coba ganti 5, 10 dan 100 \n",
    "all_binomial_proba = np.zeros(n_koin + 1)\n",
    "for i in range(n_koin + 1):\n",
    "    all_binomial_proba[i] = binom.pmf(i, n_koin, 0.5)\n",
    "\n",
    "plt.bar(np.arange(len(all_binomial_proba)), all_binomial_proba)\n",
    "plt.title(\"Peluang Kemunculan angka dari 100 pelemparan koin\")\n",
    "plt.xlabel(\"Banyak angka\")\n",
    "plt.ylabel(\"Probability\")\n",
    "plt.show()"
   ]
  },
  {
   "cell_type": "markdown",
   "metadata": {
    "id": "HeJW83IpkG2z"
   },
   "source": [
    "### Kesimpulan \n",
    "\n",
    "- Peluang keluar 2 angka dari 4 koin adalah 0.375\n",
    "- Nilai peluang tersebut dapat dicari dari perhitungan kemunculan dari simulasi maupun memakai rumus pmf yang memodelkan kejadian pelemparan pada distribusi binomial\n",
    "- Walaupun sekilas kemunculan 2 angka pada 4 koin probabilitasnya 0.375 terkesan kecil, namun nilai tersebut paling tinggi dari pada peluang kejadian yang lain bisa kita lihat dari hasil visualisasi\n",
    "- Lebih mungkin terjadi keluar angka dan gambar di frekuensi yang sama, daripada lebih besar frekuensi kemunculan salah satunya\n",
    "___"
   ]
  },
  {
   "cell_type": "markdown",
   "metadata": {
    "id": "YDbkC6n_LTTA"
   },
   "source": [
    "### Exercise"
   ]
  },
  {
   "cell_type": "markdown",
   "metadata": {
    "id": "QArKRjtFLZAJ"
   },
   "source": [
    "1. Berapa peluang keluar 1 angka dari 4 koin yang dilempar?"
   ]
  },
  {
   "cell_type": "code",
   "execution_count": 18,
   "metadata": {
    "colab": {
     "base_uri": "https://localhost:8080/"
    },
    "id": "_N2KgFKpLdBj",
    "outputId": "657e6708-8d97-4c90-d1d4-ef37a34261e4"
   },
   "outputs": [
    {
     "name": "stdout",
     "output_type": "stream",
     "text": [
      "peluang keluar 1 angka dari 4 koin yang dilempar adalah 0.25\n"
     ]
    }
   ],
   "source": [
    "# Mencari nilai pmf saat x = 1 dengan n = 4 dan p = 0.5 menggunakan rumus pmf binomial\n",
    "\n",
    "p = binom.pmf(1, 4, 0.5)\n",
    "\n",
    "print(f\"peluang keluar 1 angka dari 4 koin yang dilempar adalah {p}\")"
   ]
  },
  {
   "cell_type": "markdown",
   "metadata": {
    "id": "DLCVTricNBjg"
   },
   "source": [
    "2. Berapa peluang keluar 5 angka dari 10 koin yang dilempar?"
   ]
  },
  {
   "cell_type": "code",
   "execution_count": 19,
   "metadata": {
    "id": "IoPYcY7iNEk2"
   },
   "outputs": [
    {
     "name": "stdout",
     "output_type": "stream",
     "text": [
      "peluang keluar 1 angka dari 4 koin yang dilempar adalah 0.24609375000000003\n"
     ]
    }
   ],
   "source": [
    "# Mencari nilai pmf saat x = 5 dengan n = 10 dan p = 0.5 menggunakan rumus pmf binomial\n",
    "\n",
    "p = binom.pmf(5, 10, 0.5)\n",
    "\n",
    "print(f\"peluang keluar 1 angka dari 4 koin yang dilempar adalah {p}\")"
   ]
  },
  {
   "cell_type": "markdown",
   "metadata": {
    "id": "zTOqVBeTsiY_"
   },
   "source": [
    "## **Study Case 2: Chuck-a-luck**\n",
    "____\n",
    "\n"
   ]
  },
  {
   "cell_type": "markdown",
   "metadata": {
    "id": "SvWqYnQCEO76"
   },
   "source": [
    "Mari bermain Chuck-a-luck! Chuck-a-luck adalah sebuah permainan dimana anda disuruh menebak salah satu angka dari {1,2,3,4,5,6} \n",
    "- Jika angka yang anda tebak muncul pada hasil pelemparan 3 dadu, anda akan mendapatkan i, i = 1,2,3 dolar sesuai dengan banyak angka tebakan yang keluar.\n",
    "- Jika angka yang ditebak tidak muncul sama sekali, maka pemain kalah sebesar 1\n",
    "dolar.\n",
    "- Analisis apakah permainan ini adil\n",
    "\n",
    "<img src=\"https://cdn.shopify.com/s/files/1/1279/9999/products/50-1010-5__51154.1395352777.1280.1280_8a6df156-4b73-4a7a-917a-6c4313db0223.jpeg?v=1571438918\" width=300/>\n",
    "\n",
    "Permainan adil ketika:\n",
    "- Tidak merugikan 2 belah pihak, pemain maupun bandar\n",
    "- Ketika melakukan banyak permainan, pemain atau bandar tidak rugi\n",
    "\n",
    "Untuk menjawab pertanyaan tersebut, kita bisa menjawab dengan dua pendekatan, yaitu:\n",
    "\n",
    "- Melakukan simulasi melemparkan dadu dan menebak secara berkali - kali lalu menghitung proporsi kemunculan tebakannya dan ketidak munculan tebakan\n",
    "- Menggunakan konsep expected value random variables untuk melihat kumulasi uang yang didapatkan"
   ]
  },
  {
   "cell_type": "markdown",
   "metadata": {
    "id": "wPr1bAwTztCF"
   },
   "source": [
    "### 1. Simulation\n",
    "- Mari coba simulasikan permainannya dan hitung hasil akhir uang yang kita terima berdasarkan hasil keluaran dari simulasi\n",
    "- Atur banyak percobaan permainan sebesar satu juta kali\n",
    "- Simulasikan dari setiap percobaan pilih acak angka tebakan dan lihat hasil lemparan 3 dadunya"
   ]
  },
  {
   "cell_type": "code",
   "execution_count": 20,
   "metadata": {
    "colab": {
     "base_uri": "https://localhost:8080/"
    },
    "id": "SuI54X7Hsgd8",
    "outputId": "80dbdfa0-0d9d-4f2d-eefe-043ad3f1afcc"
   },
   "outputs": [
    {
     "name": "stdout",
     "output_type": "stream",
     "text": [
      "Tebakan : \n",
      " [[6]\n",
      " [4]\n",
      " [5]\n",
      " ...\n",
      " [3]\n",
      " [6]\n",
      " [6]]\n",
      "\n",
      " Hasil pelemparan 3 dadu : \n",
      " [[3 6 6]\n",
      " [4 5 6]\n",
      " [6 5 1]\n",
      " ...\n",
      " [5 6 4]\n",
      " [6 1 5]\n",
      " [6 2 2]]\n"
     ]
    }
   ],
   "source": [
    "np.random.seed(1)\n",
    "\n",
    "# Banyak percobaan permainan\n",
    "n_trials = 1000000\n",
    "\n",
    "# Pilihan acak 1 angka tebakan dari dadu {1,2,3,4,5,6}\n",
    "\n",
    "# np.random.randomint adalah fungsi untuk mendapatkan angka random dengan beberapa setting parameter urutan angka acak, dan banyaknya angka acak \n",
    "choice = np.random.randint(1,7, size = (n_trials,1))\n",
    "print(f\"Tebakan : \\n {choice}\")\n",
    "\n",
    "# Hasil acak pelemparan 3 dadu\n",
    "rolls = np.random.randint(1,7, size = (n_trials, 3))\n",
    "print(f\"\\n Hasil pelemparan 3 dadu : \\n {rolls}\")"
   ]
  },
  {
   "cell_type": "markdown",
   "metadata": {
    "id": "eTGdlXSL0MjB"
   },
   "source": [
    "- Dari hasil tersebut bisa kita lihat di percobaan pertama yang ditebak angka 6 yang muncul 3,6,6 maka kita akan mendapatkan 2 dolar\n",
    "- Selanjutnya ditebak angka 4 yang muncul 4,5,6 maka kita akan mendapatkan 1 dolar\n",
    "- Hasil kumulatif yang kita dapatkan dari 2 percobaan permainan adalah 3 dolar\n",
    "- Hitung kumulatif uang yang kita dapatkan di akhir permainan"
   ]
  },
  {
   "cell_type": "code",
   "execution_count": 21,
   "metadata": {
    "colab": {
     "base_uri": "https://localhost:8080/"
    },
    "id": "8pG0SXhTs6vs",
    "outputId": "360ef2ea-c372-44bd-ec1c-e9df1d8212ee"
   },
   "outputs": [
    {
     "name": "stdout",
     "output_type": "stream",
     "text": [
      "[2 1 1 ... 0 1 1]\n"
     ]
    }
   ],
   "source": [
    "# Pengecekan banyak tebakan angka yang muncul di pelemparan 3 dadu\n",
    "count_bet = np.sum(choice==rolls, axis=1)\n",
    "print(count_bet)"
   ]
  },
  {
   "cell_type": "code",
   "execution_count": 22,
   "metadata": {
    "colab": {
     "base_uri": "https://localhost:8080/"
    },
    "id": "9uAc2w09t2-o",
    "outputId": "a8648132-eec8-48f9-8047-9436c4db8a57"
   },
   "outputs": [
    {
     "name": "stdout",
     "output_type": "stream",
     "text": [
      "-78754\n"
     ]
    }
   ],
   "source": [
    "# hitung kumulasi kemenangan dari kemunculan tebakan dan banyak kekalahan jika tebakan sama sekali tidak muncul\n",
    "\n",
    "winning_dollar = 1\n",
    "losing_dollar = -1\n",
    "number_bet_appear = np.sum(count_bet)\n",
    "number_bet_notappear = np.sum(count_bet==0)\n",
    "\n",
    "\n",
    "earn = winning_dollar*number_bet_appear + losing_dollar*number_bet_notappear\n",
    "print(earn)"
   ]
  },
  {
   "cell_type": "markdown",
   "metadata": {
    "id": "zq7xsurB1SDe"
   },
   "source": [
    "- Ternyata di akhir dari  satu juta permainan kita akan rugi 78754 dolar\n",
    "- Maka dapat disimpulkan permainan ini tidak adil, karena merugikan pemain"
   ]
  },
  {
   "cell_type": "markdown",
   "metadata": {
    "id": "5mvKvEB92-2W"
   },
   "source": [
    "- Permainan juga bisa dikatakan adil jika ekspektasi uang yang didapatkan 0 (pemain tidak rugi uang dan bandar tidak rugi) "
   ]
  },
  {
   "cell_type": "markdown",
   "metadata": {
    "id": "W_kG0CYF1hcm"
   },
   "source": [
    "- Ekspektasi hasil uang yang didapatkan bisa didapatkan dari perkalian peluang menang dengan uang yang didapatkan dijumlahkan dengan peluang kalah dengan uang yang harus diberikan"
   ]
  },
  {
   "cell_type": "code",
   "execution_count": 23,
   "metadata": {
    "colab": {
     "base_uri": "https://localhost:8080/"
    },
    "id": "TQ8EY-RL1Fo8",
    "outputId": "1327ab62-a5fd-49ab-85e5-db1aed942581"
   },
   "outputs": [
    {
     "name": "stdout",
     "output_type": "stream",
     "text": [
      "-0.07875399999999999\n"
     ]
    }
   ],
   "source": [
    "probability_winning = number_bet_appear/n_trials\n",
    "probability_lose = number_bet_notappear/n_trials\n",
    "\n",
    "mean_winnings = winning_dollar*probability_winning+losing_dollar*probability_lose\n",
    "print(mean_winnings)"
   ]
  },
  {
   "cell_type": "markdown",
   "metadata": {
    "id": "FmwrI9Uq4cLS"
   },
   "source": [
    "- Mari kita coba cari cara menghitung secara analitik.\n",
    "- Cari tau variable random apa yang dapat digunakan untuk menyelesaikan case ini\n",
    "- Kumpulkan informasi yang kita ketahui:\n",
    "  - Ada 3 dadu yang dilempar : n banyak percobaan\n",
    "  - Terdapat 2 outcome dari kejadian pelemparan sebuah dadu: angka yang ditebak **muncul** dan **tidak**\n",
    "  - Probabilitas angka keluar dari sebuah lemparan dadu: 1/6\n"
   ]
  },
  {
   "cell_type": "markdown",
   "metadata": {
    "id": "ub1wdYCd5BM0"
   },
   "source": [
    "\n",
    "Ketiga ciri ini menunjukkan ciri **Variable Random Binomial**, dimana distribusi ini memodelkan situasi apapun dimana\n",
    "\n",
    "- Kita punya n percobaan yang idependen\n",
    "- Setiap percobaan dapat menghasilkan 2 kejadian yakni gagal dan sukses.\n",
    "- Dan probabilitas suksesnya adalah p.\n",
    "\n",
    "Dimana sukses =  muncul angka yang ditebak, gagal = tidak muncul angka yang ditebak\n",
    "- maka jumlah uang dari angka tebakan yang muncul dari 3 pelemparan dadu, bisa disimpan dalam variable random X yang diasumsikan berdistribusi Binomial, $$X \\sim Bin(3, 1/6)$$\n",
    "\n",
    "- Ekspektasi pendapatan uang sama dengan mencari nilai $E[X]$ Variable Random X yang berdistribusi binomial dengan parameter n = 4 dan p = 0.5"
   ]
  },
  {
   "cell_type": "markdown",
   "metadata": {
    "id": "gxj4T5sAd7Dd"
   },
   "source": [
    "### 2. Binomial: Expected Value\n",
    "- Selesaikan dengan Perhitungan ekspektasi pada distribusi binomial\n",
    "- X adalah jumlah uang yang pemain dapatkan dari 3 kali pelemparan dadu, maka $X \\sim Bin(3, 1/6)$"
   ]
  },
  {
   "cell_type": "code",
   "execution_count": 24,
   "metadata": {
    "colab": {
     "base_uri": "https://localhost:8080/"
    },
    "id": "NCkCPLc5ezXC",
    "outputId": "d2d7cad3-25d8-436d-eba0-0d700eed27eb"
   },
   "outputs": [
    {
     "name": "stdout",
     "output_type": "stream",
     "text": [
      "-0.07870370370370351\n"
     ]
    }
   ],
   "source": [
    "p = 1/6\n",
    "n = 3\n",
    "\n",
    "# hitung rata rata pendapatan uang dari perkalian pendapatan uang dan peluangnya\n",
    "\n",
    "p_lose_1_dollar = binom.pmf(0, n, p)\n",
    "p_earn_1_dollar = binom.pmf(1, n, p)\n",
    "p_earn_2_dollar = binom.pmf(2, n, p)\n",
    "p_earn_3_dollar = binom.pmf(3, n, p)\n",
    "\n",
    "expected_earning = (-1*p_lose_1_dollar) + (1*p_earn_1_dollar) + (2*p_earn_2_dollar) + (3*p_earn_3_dollar)\n",
    "print(expected_earning)"
   ]
  },
  {
   "cell_type": "markdown",
   "metadata": {
    "id": "Lo0YNpglJR1c"
   },
   "source": [
    "### Kesimpulan\n",
    "\n",
    "- Hasil ekspektasi pendapatan yang didapatkan dari simulasi dan rumus expected value tidak bernilai positif\n",
    "- Maka setelah melakukan banyak percobaan pemain akan cenderung kalah memberikan uang ke bandar (minus)\n",
    "- Permainan akan adil jika hasil ekspektasi kemenangannya adalah 0 \n",
    "- Dapat disimpulakn bahwa permainan ini tidak adil\n",
    "\n",
    "____"
   ]
  },
  {
   "cell_type": "markdown",
   "metadata": {
    "id": "KIPjd0XjlVSB"
   },
   "source": [
    "Visualisasi kemunculan tebakan dari 3 dadu"
   ]
  },
  {
   "cell_type": "code",
   "execution_count": 25,
   "metadata": {
    "colab": {
     "base_uri": "https://localhost:8080/",
     "height": 281
    },
    "id": "YGIF_aYGlYQt",
    "outputId": "8976b6c7-1e05-4e35-95ea-35ca4a156c8a"
   },
   "outputs": [
    {
     "data": {
      "image/png": "[encoded data removed]",
      "text/plain": [
       "<Figure size 640x480 with 1 Axes>"
      ]
     },
     "metadata": {},
     "output_type": "display_data"
    }
   ],
   "source": [
    "n_dadu = 3\n",
    "all_binomial_proba = np.zeros(n_dadu + 1)\n",
    "for i in range(n_dadu + 1):\n",
    "    all_binomial_proba[i] = binom.pmf(i, n_dadu, 1/6)\n",
    "\n",
    "plt.bar(np.arange(len(all_binomial_proba)), all_binomial_proba, color=['red', 'blue', 'blue', 'blue'])\n",
    "\n",
    "plt.xlabel(\"Number of Winning\")\n",
    "plt.ylabel(\"Probability\")\n",
    "red_patch = mpatches.Patch(color='red', label='Lose')\n",
    "blue_patch = mpatches.Patch(color='blue', label='Win')\n",
    "plt.legend(handles=[red_patch, blue_patch])\n",
    "plt.show()"
   ]
  },
  {
   "cell_type": "markdown",
   "metadata": {
    "id": "hjp5qs0eGy-o"
   },
   "source": [
    "### 3. Explore\n",
    "\n",
    "Jika anda bermain permainan tersebut, pada percobaan permainan keberapa anda akan mendapatkan uang pertama kali ?"
   ]
  },
  {
   "cell_type": "markdown",
   "metadata": {
    "id": "84Jyi2aI7WlC"
   },
   "source": [
    "- Cari peluang mendapatkan uang, bisa mendapatkan 1,2, atau 3 dolar"
   ]
  },
  {
   "cell_type": "code",
   "execution_count": 26,
   "metadata": {
    "colab": {
     "base_uri": "https://localhost:8080/"
    },
    "id": "k6uyQI8nFyLC",
    "outputId": "4e72a77e-b28e-4d90-cb00-6de5813901fa"
   },
   "outputs": [
    {
     "data": {
      "text/plain": [
       "np.float64(0.4212962962962964)"
      ]
     },
     "execution_count": 26,
     "metadata": {},
     "output_type": "execute_result"
    }
   ],
   "source": [
    "p_earn_dollar = p_earn_1_dollar + p_earn_2_dollar + p_earn_3_dollar\n",
    "p_earn_dollar"
   ]
  },
  {
   "cell_type": "markdown",
   "metadata": {
    "id": "MEea-CJb7hOI"
   },
   "source": [
    "- Untuk mencari ekspektasi percobaan yang harus dilakukan untuk mendapatkan uang pertama kali, perlu kita tau distribusi apa percobaan untuk mendapatkan uang pertama kali? \n",
    "- Aplikasi Distribusi Geometrik dapat memodelkan hal tersebut\n",
    "- Dimana, mendapatkan uang = sukses "
   ]
  },
  {
   "cell_type": "markdown",
   "metadata": {
    "id": "zeZ190Knzq46"
   },
   "source": [
    "- Maka kita bisa mencari ekspektasi banyak percobaan sampai mendapatkan kesuksesan pertaman kali $$E[X]=\\frac{1}{p}$$ dari distribusi Geometrik dimana X adalah banyak percobaan untuk mendapatkan tebakan angka yang muncul pertama kali, $$X \\sim Geo(p\\_earn\\_dollar)$$"
   ]
  },
  {
   "cell_type": "code",
   "execution_count": 27,
   "metadata": {
    "colab": {
     "base_uri": "https://localhost:8080/"
    },
    "id": "ZvOBAGJ5F5TE",
    "outputId": "cc3d4314-d5fb-4f6b-f611-fe8dfef9a6e5"
   },
   "outputs": [
    {
     "name": "stdout",
     "output_type": "stream",
     "text": [
      "2.373626373626373\n"
     ]
    }
   ],
   "source": [
    "# hitung ekpektasi banyak percobaan untuk mendapatkan uang dengan probabilitas p_earn_dollar pertama kali\n",
    "# gunakan expected value geometric distribution\n",
    "\n",
    "expected_trial_until_earn_dollar = 1/p_earn_dollar \n",
    "print(expected_trial_until_earn_dollar)"
   ]
  },
  {
   "cell_type": "markdown",
   "metadata": {
    "id": "cHAGWLDRISTE"
   },
   "source": [
    "### Kesimpulan\n",
    "\n",
    "- Harus melakukan 3 kali percobaan dengan 2 kali kekalahan, menyerahkan 2 dolar sebelum mendapatkan uang di percobaan ke 3 \n",
    "- Rugi kalau mendapatkan 1 dolar aja\n",
    "- Mari cek yang mana yang lebih mungkin, mendapatkan 1 dolar atau 3 dolar"
   ]
  },
  {
   "cell_type": "code",
   "execution_count": 28,
   "metadata": {
    "colab": {
     "base_uri": "https://localhost:8080/"
    },
    "id": "f-4o4yuqHkWL",
    "outputId": "d50d932e-17e7-43c0-d0d4-7a3b65cc429f"
   },
   "outputs": [
    {
     "data": {
      "text/plain": [
       "np.float64(0.3472222222222223)"
      ]
     },
     "execution_count": 28,
     "metadata": {},
     "output_type": "execute_result"
    }
   ],
   "source": [
    "p_earn_1_dollar"
   ]
  },
  {
   "cell_type": "code",
   "execution_count": 29,
   "metadata": {
    "colab": {
     "base_uri": "https://localhost:8080/"
    },
    "id": "iZsPZIXsHpDX",
    "outputId": "05295cde-b7ad-4c4c-bebc-20cff6c30a79"
   },
   "outputs": [
    {
     "data": {
      "text/plain": [
       "np.float64(0.0046296296296296285)"
      ]
     },
     "execution_count": 29,
     "metadata": {},
     "output_type": "execute_result"
    }
   ],
   "source": [
    "p_earn_3_dollar"
   ]
  },
  {
   "cell_type": "markdown",
   "metadata": {
    "id": "KuEcHop0Jm8r"
   },
   "source": [
    "- Dari peluangnya lebih mungkin dapat 1 dolar aja\n",
    "-Jadi di walaupun kita akan mendapatkan kemenangan pertama kali di percobaan ke-3, kita akan lebih mungkin rugi -2\\$+1\\$ = -1\\$ daripada seri atau untung\n",
    "\n",
    "___"
   ]
  },
  {
   "cell_type": "markdown",
   "metadata": {
    "id": "qs7FEZ8lMcAY"
   },
   "source": [
    "### Exercise"
   ]
  },
  {
   "cell_type": "markdown",
   "metadata": {
    "id": "6RzxGZLyMkKV"
   },
   "source": [
    "Berapa ekspektasi percobaan yang harus dilakukan hingga anda akan mendapatkan uang 3 dolar pertama kali ?"
   ]
  },
  {
   "cell_type": "code",
   "execution_count": 30,
   "metadata": {
    "id": "Thk8amb_My40"
   },
   "outputs": [
    {
     "name": "stdout",
     "output_type": "stream",
     "text": [
      "Ekspektasi percobaan yang harus dilakukan untuk mendapatkan 3 dolar pertama kali adalah 216.00000000000006\n"
     ]
    }
   ],
   "source": [
    "# Mencari nilai E[X] saat p = peluang mendapatkan 3 dolar menggunakan rumus E[X] Geometri\n",
    "\n",
    "e = 1/p_earn_3_dollar\n",
    "\n",
    "print(f\"Ekspektasi percobaan yang harus dilakukan untuk mendapatkan 3 dolar pertama kali adalah {e}\")"
   ]
  },
  {
   "cell_type": "markdown",
   "metadata": {
    "id": "wZD_qVlXhHnY"
   },
   "source": [
    "## **Study Case 3: Defect Screw**\n",
    "____"
   ]
  },
  {
   "cell_type": "markdown",
   "metadata": {
    "id": "XLehTxotET6C"
   },
   "source": [
    "\n",
    "Sebuah perusahaan memproduksi sekrup dan melakukan inspeksi kualitas sekrup. Perusahaan tersebut menyimpan [data inspeksi sekrup cacat](https://docs.google.com/spreadsheets/d/162AhsxCHd88gxGmGZa_lPDuhFkzfpIW-/edit?usp=sharing&ouid=100608989434241589255&rtpof=true&sd=true) dalam file excel yang kita baca di bawah ini\n"
   ]
  },
  {
   "cell_type": "markdown",
   "metadata": {
    "id": "57mG_QbN-p7l"
   },
   "source": [
    "### Data"
   ]
  },
  {
   "cell_type": "code",
   "execution_count": 31,
   "metadata": {
    "colab": {
     "base_uri": "https://localhost:8080/",
     "height": 206
    },
    "id": "ZIGmnIID-QB0",
    "outputId": "9aa62d09-1562-4431-bdbc-9199186809b7"
   },
   "outputs": [
    {
     "data": {
      "text/html": [
       "<div>\n",
       "<style scoped>\n",
       "    .dataframe tbody tr th:only-of-type {\n",
       "        vertical-align: middle;\n",
       "    }\n",
       "\n",
       "    .dataframe tbody tr th {\n",
       "        vertical-align: top;\n",
       "    }\n",
       "\n",
       "    .dataframe thead th {\n",
       "        text-align: right;\n",
       "    }\n",
       "</style>\n",
       "<table border=\"1\" class=\"dataframe\">\n",
       "  <thead>\n",
       "    <tr style=\"text-align: right;\">\n",
       "      <th></th>\n",
       "      <th>Unnamed: 0</th>\n",
       "      <th>id_sekrup</th>\n",
       "      <th>lolos_uji_cacat</th>\n",
       "    </tr>\n",
       "  </thead>\n",
       "  <tbody>\n",
       "    <tr>\n",
       "      <th>0</th>\n",
       "      <td>0</td>\n",
       "      <td>1</td>\n",
       "      <td>1</td>\n",
       "    </tr>\n",
       "    <tr>\n",
       "      <th>1</th>\n",
       "      <td>1</td>\n",
       "      <td>2</td>\n",
       "      <td>1</td>\n",
       "    </tr>\n",
       "    <tr>\n",
       "      <th>2</th>\n",
       "      <td>2</td>\n",
       "      <td>3</td>\n",
       "      <td>1</td>\n",
       "    </tr>\n",
       "    <tr>\n",
       "      <th>3</th>\n",
       "      <td>3</td>\n",
       "      <td>4</td>\n",
       "      <td>1</td>\n",
       "    </tr>\n",
       "    <tr>\n",
       "      <th>4</th>\n",
       "      <td>4</td>\n",
       "      <td>5</td>\n",
       "      <td>1</td>\n",
       "    </tr>\n",
       "  </tbody>\n",
       "</table>\n",
       "</div>"
      ],
      "text/plain": [
       "   Unnamed: 0  id_sekrup  lolos_uji_cacat\n",
       "0           0          1                1\n",
       "1           1          2                1\n",
       "2           2          3                1\n",
       "3           3          4                1\n",
       "4           4          5                1"
      ]
     },
     "execution_count": 31,
     "metadata": {},
     "output_type": "execute_result"
    }
   ],
   "source": [
    "defect_test = pd.read_csv(\"../data/defect_test.csv\") # fungsi untuk membaca data excel \"defect_test.xlsx\"\n",
    "defect_test.head()"
   ]
  },
  {
   "cell_type": "markdown",
   "metadata": {
    "id": "rnMG56mK_tZx"
   },
   "source": [
    "- Di dua kasus sebelumnya kita mencari peluang menggunakan simulasi\n",
    "- Jika kita mempunyai data, kita bisa menghitung peluang dari data tersebut, tidak perlu melakukan simulasi untuk menghitung peluang\n"
   ]
  },
  {
   "cell_type": "markdown",
   "metadata": {
    "id": "0ZenF9Pj-bLn"
   },
   "source": [
    "- Coba kita hitung peluang sekrup cacat dari data inspeksi perusahaan tersebut"
   ]
  },
  {
   "cell_type": "code",
   "execution_count": 32,
   "metadata": {
    "colab": {
     "base_uri": "https://localhost:8080/"
    },
    "id": "gylmxJYM_0eR",
    "outputId": "c3bbaf29-d234-42d9-926b-5a2da4a39277"
   },
   "outputs": [
    {
     "data": {
      "text/plain": [
       "0.01"
      ]
     },
     "execution_count": 32,
     "metadata": {},
     "output_type": "execute_result"
    }
   ],
   "source": [
    "defect_condition = defect_test[defect_test[\"lolos_uji_cacat\"]==0] # data defect_test dengan kolom lolos_uji_cacat bernilai 0\n",
    "count_defect = len(defect_condition) # banyak data dengan kolom lolos_uji_cacat bernilai 0 \n",
    "count_rowdata = len(defect_test) # banyak data keseluruhan\n",
    "\n",
    "p_defect = count_defect/count_rowdata\n",
    "p_defect"
   ]
  },
  {
   "cell_type": "markdown",
   "metadata": {
    "id": "iqZibn4F-QYJ"
   },
   "source": [
    "### Question\n",
    "Dari data tersebut kita dapatkan peluang cacat sebesar 0.01. Perusahaan tersebut menjual sekrup-sekrup dalam bentuk kemasan berisi 10 buah sekrup dan menawarkan jaminan uang kembali jika terdapat lebih dari 1 sekrup yang cacat. Selesaikan beberapa pertanyaan berikut: \n",
    "\n",
    "1. Berapa proporsi banyak kemasan terjual yang harus diganti oleh perusahaan?\n",
    "2. Berapa ekspektasi banyak sekrup yang rusak dalam kemasan\n",
    "3. Berapa ekspektasi banyak sekrup yang harus dicek untuk mendapatkan sekrup yang cacat pertama kali\n",
    "4. Berapa ekspektasi banyak kemasan yang harus dicek untuk mendapatkan kemasan yang harus diganti pabrik pertama kali (mendapatkan lebih dari satu sekrup yang cacat)\n",
    "\n",
    "___\n",
    "\n"
   ]
  },
  {
   "cell_type": "markdown",
   "metadata": {
    "id": "mWppKkac18GP"
   },
   "source": [
    "Untuk menjawab pertanyaan diatas, apakah bisa kita selesaikan dengan menggunakan data yang kita punya? \n",
    "\n",
    "Mari coba selesaikan nomer 1. karena kemasan terjual itu memiliki kondisi sekrup cacat lebih dari satu, yang bisa kita hitung dari datanya adalah peluang sekrup cacat lebih dari satu"
   ]
  },
  {
   "cell_type": "code",
   "execution_count": 33,
   "metadata": {
    "colab": {
     "base_uri": "https://localhost:8080/"
    },
    "id": "srkRIp39zvQe",
    "outputId": "fd74a4c0-6222-43cd-d3f5-da3d864d8d3d"
   },
   "outputs": [
    {
     "data": {
      "text/plain": [
       "0.99"
      ]
     },
     "execution_count": 33,
     "metadata": {},
     "output_type": "execute_result"
    }
   ],
   "source": [
    "p_more_than_one_defect = len(defect_test[defect_test[\"lolos_uji_cacat\"]>=1])/len(defect_test)\n",
    "p_more_than_one_defect"
   ]
  },
  {
   "cell_type": "markdown",
   "metadata": {
    "id": "NrmfLcx32Rc0"
   },
   "source": [
    "Namun yang diminta oleh soal adalah kondisi lebih dari 1 sekrup cacat di dalam kemasan, maka jawaban diatas tidaklah benar"
   ]
  },
  {
   "cell_type": "markdown",
   "metadata": {
    "id": "-TOuhvIcHHsr"
   },
   "source": [
    "- Untuk menjawab pertanyaan diatas, sepertinya kita bisa menggunakan bantuan peluang dari Variable Random. \n",
    "- Tapi Variable Random apa yang bisa kita gunakan untuk menyelesaikan pertanyaan tersebut?"
   ]
  },
  {
   "cell_type": "markdown",
   "metadata": {
    "id": "q4pobw2dHGQO"
   },
   "source": [
    "Apa yang kita ketahui:\n",
    "\n",
    "- Kejadian 2 outcome : cacat dan tidak\n",
    "- Ada 10 sekrup : n percobaan\n",
    "- Probabilitas sukses (cacat) p = 0.01 \n",
    "\n",
    "Tiga poin diatas sangat mirip dengan syarat aplikasi Variable Random Binomial, maka kita bisa membuat X adalah banyak sekrup yang cacat di dalam kemasan dan $$X \\sim Bin(10, 0.01)$$\n"
   ]
  },
  {
   "cell_type": "markdown",
   "metadata": {
    "id": "6n5KbyyGEHW4"
   },
   "source": [
    "### Binomial PMF"
   ]
  },
  {
   "cell_type": "markdown",
   "metadata": {
    "id": "nj8vqboCnWA-"
   },
   "source": [
    "___\n",
    "#### **Pertanyaan 1**: Hitung proporsi banyak kemasan terjual yang harus diganti oleh pabrik. \n",
    "\n",
    "- Kita bisa gunakan peluang dari Variable Random Binomial\n",
    "- Hitung peluang banyak sekrup cacat lebih dari 1, $P(X>1)$"
   ]
  },
  {
   "cell_type": "markdown",
   "metadata": {
    "id": "GrjH1w8m6PZx"
   },
   "source": [
    "- Dengan Axiom Probability $P(X>1)$ bisa dicari dengan\n",
    "$$P(X>1) = 1 - P(X=0) - P(X=1)$$ "
   ]
  },
  {
   "cell_type": "code",
   "execution_count": 34,
   "metadata": {
    "colab": {
     "base_uri": "https://localhost:8080/"
    },
    "id": "5JAE5ZCLhKi2",
    "outputId": "d192d2bc-448e-47c6-9f00-e6d147811f7c"
   },
   "outputs": [
    {
     "data": {
      "text/plain": [
       "np.float64(0.004266200242831919)"
      ]
     },
     "execution_count": 34,
     "metadata": {},
     "output_type": "execute_result"
    }
   ],
   "source": [
    "# menghitung P(X>1)\n",
    "\n",
    "# P(X>1) = 1 - P(X=0) - (PX=1)\n",
    "\n",
    "n = 10\n",
    "p_defect = 0.01\n",
    "p_return_defect = 1 - binom.pmf(0, n, p_defect) - binom.pmf(1, n, p_defect)\n",
    "p_return_defect\n",
    "\n",
    "# Second solution\n",
    "# 1 - binom.cdf(1, n, p)"
   ]
  },
  {
   "cell_type": "markdown",
   "metadata": {
    "id": "KWw1wjkHB1K_"
   },
   "source": [
    "#### **Jawaban Pertanyaan 1**\n",
    "\n",
    "Jika kita punya 1000 kemasan maka akan ada 4-5 kemasan yang harus diganti"
   ]
  },
  {
   "cell_type": "markdown",
   "metadata": {
    "id": "F4uhQu9_nkEs"
   },
   "source": [
    "Visualisasi Distribusi sekrup Rusak dari 1 kemasan dan peluangnya"
   ]
  },
  {
   "cell_type": "code",
   "execution_count": 35,
   "metadata": {
    "colab": {
     "base_uri": "https://localhost:8080/",
     "height": 295
    },
    "id": "f37MGvaZ_b6S",
    "outputId": "c9a5edaf-3060-4bfb-b205-98b76238f1bb"
   },
   "outputs": [
    {
     "data": {
      "image/png": "[encoded data removed]",
      "text/plain": [
       "<Figure size 640x480 with 1 Axes>"
      ]
     },
     "metadata": {},
     "output_type": "display_data"
    }
   ],
   "source": [
    "N = 10\n",
    "all_binomial_proba = np.zeros(N + 1)\n",
    "for i in range(N + 1):\n",
    "    all_binomial_proba[i] = binom.pmf(i, N, 0.01)\n",
    "\n",
    "plt.bar(np.arange(len(all_binomial_proba)), all_binomial_proba, color = [\"green\",\"green\",\"red\"])\n",
    "red_patch = mpatches.Patch(color='green', label='Kemasan Tidak Ganti')\n",
    "blue_patch = mpatches.Patch(color='red', label='Kemasan Harus Diganti')\n",
    "plt.legend(handles=[red_patch, blue_patch])\n",
    "plt.title(\"sekrup cacat per kemasan\")\n",
    "plt.xlabel(\"Banyak sekrup Cacat\")\n",
    "plt.ylabel(\"Probability\")\n",
    "plt.show()"
   ]
  },
  {
   "cell_type": "markdown",
   "metadata": {
    "id": "8yp11owGMzPt"
   },
   "source": [
    "- paling mungkin mendapatkan sekrup yang tidak cacat"
   ]
  },
  {
   "cell_type": "markdown",
   "metadata": {
    "id": "FENjwu_eCi2R"
   },
   "source": [
    "___\n",
    "#### **Pertanyaan 2. Berapa ekspektasi banyak sekrup yang rusak dalam kemasan**\n",
    "\n",
    "- Kita bisa menggunakan perhitungan Expected Value"
   ]
  },
  {
   "cell_type": "markdown",
   "metadata": {
    "id": "13SteGbD7I2S"
   },
   "source": [
    "$$E[X] = n\\times p$$"
   ]
  },
  {
   "cell_type": "code",
   "execution_count": 36,
   "metadata": {
    "colab": {
     "base_uri": "https://localhost:8080/"
    },
    "id": "MdWQB7E7AFQy",
    "outputId": "f09e7845-cd65-42b7-e163-7ab9c46d1487"
   },
   "outputs": [
    {
     "name": "stdout",
     "output_type": "stream",
     "text": [
      "0.1\n"
     ]
    }
   ],
   "source": [
    "# Ekspektasi banyak sekrup rusak E[X]\n",
    "# E[X] = n x p_defect\n",
    "\n",
    "expected_screw_defect = n * p_defect\n",
    "print(10*0.01)"
   ]
  },
  {
   "cell_type": "markdown",
   "metadata": {
    "id": "qqkojbxqKiXR"
   },
   "source": [
    "#### **Jawaban Pertanyaan 2**\n",
    "- Ekspektasi sekrup yang rusak adalah 0.1 dalam kemasan\n",
    "- Kecil sekali bahkan tidak sampai 1 sekrup yang rusak"
   ]
  },
  {
   "cell_type": "markdown",
   "metadata": {
    "id": "ihfCBr-fDk5u"
   },
   "source": [
    "____\n",
    "#### **Pertanyaan 3. Berapa ekspektasi banyak sekrup yang harus dicek untuk mendapatkan sekrup yang cacat pertama kali**\n"
   ]
  },
  {
   "cell_type": "markdown",
   "metadata": {
    "id": "3yy6GMyUNBt5"
   },
   "source": [
    "\n",
    "- Berbeda dengan soal sebelumnya, konteks soal nomer 3 adalah berapa pengecekan sekrup yang dicari\n",
    "- Yang kita ketahui\n",
    "  - Kejadian 2 outcome : cacat dan tidak\n",
    "  - Probabilitas sukses (cacat) p = 0.01\n",
    "- Kita bisa menggunakan Variable Random Geometri yang memodelkan percobaan yang harus dilakukan sampai sukses pertama kali\n",
    "\n",
    "##### Geometric Expected Value\n",
    "- X adalah **banyak pengecekan sekrup** yang harus dilakukan sampai ketemu sekrup yang cacat pertama kalinya, maka $$X \\sim Geo(p = 0.01)$$\n",
    "- Soal nomer 3 mencari ekspektasi banyak pengecekan sampai ketemu sekrup yang cacat, maka kita bisa mencari $E[X]$ dari Variable Random Geometrik\n",
    "$$E[X] = \\frac{1}{p}$$\n",
    "\n"
   ]
  },
  {
   "cell_type": "code",
   "execution_count": 37,
   "metadata": {
    "colab": {
     "base_uri": "https://localhost:8080/"
    },
    "id": "b6vrLn59D_9Y",
    "outputId": "d903a0c9-2705-4603-fba8-4095ee7f280c"
   },
   "outputs": [
    {
     "data": {
      "text/plain": [
       "100.0"
      ]
     },
     "execution_count": 37,
     "metadata": {},
     "output_type": "execute_result"
    }
   ],
   "source": [
    "# Ekspektasi banyak sekrup yang dicek sampai bertemu sekrup yang cacat\n",
    "expected_sc_untillfirst_defect = 1/p_defect\n",
    "expected_sc_untillfirst_defect"
   ]
  },
  {
   "cell_type": "markdown",
   "metadata": {
    "id": "nDHQRlWXNS5P"
   },
   "source": [
    "#### **Jawaban Pertanyaan 3**\n",
    "\n",
    "- Ternyata, butuh 100 sekrup yang harus dicek untuk mendapatkan sekrup cacat pertama kali"
   ]
  },
  {
   "cell_type": "markdown",
   "metadata": {
    "id": "NO2Ki2VeDwDF"
   },
   "source": [
    "___\n",
    "#### **Pertanyaan 4. Berapa ekspektasi banyak kemasan yang harus dicek untuk mendapatkan kemasan yang harus diganti pabrik pertama kali** (mendapatkan lebih dari satu sekrup yang cacat)\n"
   ]
  },
  {
   "cell_type": "markdown",
   "metadata": {
    "id": "VWsiJWoENbJL"
   },
   "source": [
    "\n",
    "- Berbeda dengan soal sebelumnya, konteks soal nomer 4 adalah berapa **pengecekan kemasan** yang dicari\n",
    "- Yang kita ketahui\n",
    "  - Kejadian 2 outcome : kemasan diganti dan tidak diganti\n",
    "  - Probabilitas sukses (kemasan diganti) p = p_return_defect\n",
    "- Kita bisa menggunakan Variable Random Geometri yang memodelkan percobaan yang harus dilakukan sampai sukses pertama kali\n",
    "- Namun yang dimodelkan adalah banyak pengecekan kemasan bukan pengecekan sekrup (berbeda dengan konteks nomer 3)\n",
    "\n",
    "\n"
   ]
  },
  {
   "cell_type": "markdown",
   "metadata": {
    "id": "CfbiGHrNBUSH"
   },
   "source": [
    "- X adalah **banyak pengecekan kemasan** yang harus dilakukan **sampai** ketemu kemasan yang harus diganti pertama kalinya, maka X ~ Geo(p = p_return_defect)\n",
    "- Gunakan $E[X]$ Variable Geometri untuk mencari ekspektasi banyak pengecekan kemasan yang harus dilakukan\n",
    "\n",
    "$$E[X] = \\frac{1}{p}$$\n",
    "\n"
   ]
  },
  {
   "cell_type": "code",
   "execution_count": 38,
   "metadata": {
    "colab": {
     "base_uri": "https://localhost:8080/"
    },
    "id": "KNJPMSdFEhxI",
    "outputId": "e5f369e2-f229-47a9-fbe5-310031b924de"
   },
   "outputs": [
    {
     "data": {
      "text/plain": [
       "np.float64(234.4006242276608)"
      ]
     },
     "execution_count": 38,
     "metadata": {},
     "output_type": "execute_result"
    }
   ],
   "source": [
    "expected_sachet_untillfirst_return = 1/p_return_defect\n",
    "expected_sachet_untillfirst_return"
   ]
  },
  {
   "cell_type": "markdown",
   "metadata": {
    "id": "-UgI7xiVNkN3"
   },
   "source": [
    "#### **Jawaban Pertanyaan 4**\n",
    "- Perlu 234-235 pengecekan kemasan sampai mendapatkan lebih dari 1 sekrup yang cacat / kemasan harus diganti\n",
    "  - Jika dilihat dari nomer 3, kita perlu 100 sekrup (10 kemasan) yang dicek untuk mendapatkan sekrup yang cacat pertama kali\n",
    "  - Namun di pengecekan kemasan ke-10 bisa jadi 1 sekrup aja yang cacat jadi tidak perlu mengganti kemasan\n",
    "- Perlu 234-235 kemasan yang dicek untuk mendapatkan lebih dari 1 sekrup yang cacat, hal ini selaras dengan nomer 2, dari 1000 kemasan hanya ada 4-5 kemasan yang perlu diganti\n",
    "- Sekitar setiap 250 kemasan yang dicek ada 1 kemasan yang perlu diganti\n"
   ]
  },
  {
   "cell_type": "markdown",
   "metadata": {
    "id": "JkT3ys94CLiV"
   },
   "source": [
    "___\n",
    "### Explore\n",
    "- Kira kira berapa ekspektasi rentang pengecekan yang harus dilakukan?\n",
    "- Kita bisa menggunakan standar deviasi sebagai representasi sebaran dari jumlah pengecekan\n",
    "- Gunakan variance dari Variable Random Geometrik \n",
    "$$Var[X]=\\frac{1-p}{p^2}$$"
   ]
  },
  {
   "cell_type": "code",
   "execution_count": 39,
   "metadata": {
    "colab": {
     "base_uri": "https://localhost:8080/"
    },
    "id": "7objwA-eC6ct",
    "outputId": "e7eb02f8-e66f-4e42-fff1-6e3ae4a28511"
   },
   "outputs": [
    {
     "data": {
      "text/plain": [
       "np.float64(233.90008981205926)"
      ]
     },
     "execution_count": 39,
     "metadata": {},
     "output_type": "execute_result"
    }
   ],
   "source": [
    "variance_sachet_untillfirst_return = (1-p_return_defect)/p_return_defect**2\n",
    "\n",
    "# pakai standar deviasi agar unitnya sama\n",
    "std_sachet_untillfirst_return = variance_sachet_untillfirst_return**(1/2)\n",
    "std_sachet_untillfirst_return"
   ]
  },
  {
   "cell_type": "markdown",
   "metadata": {
    "id": "mMj-jFPcFZSi"
   },
   "source": [
    "Ekspektasi rentang pengecekan nya adalah 233 percobaan dari rata rata untuk mendapatkan kemasan yang perlu diganti lagi"
   ]
  },
  {
   "cell_type": "markdown",
   "metadata": {
    "id": "RBuY7FVbDfGK"
   },
   "source": [
    "___\n",
    "### **Exercise**\n",
    "Hitung ekspektasi banyak kemasan yang harus diganti oleh \n",
    "pabrik jika pabrik memproduksi 1500 kemasan."
   ]
  },
  {
   "cell_type": "code",
   "execution_count": 40,
   "metadata": {
    "id": "LgYG-ONuOcTa"
   },
   "outputs": [
    {
     "name": "stdout",
     "output_type": "stream",
     "text": [
      "Ekspektasi banyak kemasan rusak yang harus diganti jika perusahaan harus meproduksi 1000 kemasan 6.399300364247878\n"
     ]
    }
   ],
   "source": [
    "# Ekspektasi banyak kemasan rusak yang harus diganti jika perusahaan harus meproduksi 1500 kemasan\n",
    "# E[X] = n x p\n",
    "expected_return_defect = p_return_defect*1500\n",
    "expected_return_defect \n",
    "\n",
    "print(f\"Ekspektasi banyak kemasan rusak yang harus diganti jika perusahaan harus meproduksi 1000 kemasan {expected_return_defect}\")"
   ]
  },
  {
   "cell_type": "markdown",
   "metadata": {
    "id": "UqoQxuMzJOR0"
   },
   "source": [
    "## **Study Case 4: Uniform Distribution**\n",
    "\n",
    "____"
   ]
  },
  {
   "cell_type": "markdown",
   "metadata": {
    "id": "vkL4WE54e7wd"
   },
   "source": [
    "Mari coba kita simulasikan 1 koin dan 1 dadu yang dilempar beberapa kali"
   ]
  },
  {
   "cell_type": "markdown",
   "metadata": {
    "id": "zJJIl1uSQrbs"
   },
   "source": [
    "### 1 Coin Tossing"
   ]
  },
  {
   "cell_type": "code",
   "execution_count": 41,
   "metadata": {
    "colab": {
     "base_uri": "https://localhost:8080/",
     "height": 499
    },
    "id": "t5vPzMB9S9a1",
    "outputId": "7f69026f-d3cb-4c8c-c46b-10fce823d9c8"
   },
   "outputs": [
    {
     "data": {
      "image/png": "[encoded data removed]",
      "text/plain": [
       "<Figure size 1400x800 with 4 Axes>"
      ]
     },
     "metadata": {},
     "output_type": "display_data"
    }
   ],
   "source": [
    "# Plot Probabilitas kemunculan angka dan gambar pada satu koin pada beberapa kali pelemparan n\n",
    "n_coin = 1\n",
    "fig, axes = plt.subplots(nrows=2, ncols=2, figsize=(14,8), sharex=False, sharey=False)\n",
    "axes[0,0].bar([0,1],[P({'H'}, coin_sim(5,n_coin)),P({'T'}, coin_sim(5,n_coin))]); axes[0,0].set(title=\"Simulasi pelemparan 1 koin sebanyak 5 kali\")\n",
    "axes[0,1].bar([0,1],[P({'H'}, coin_sim(10,n_coin)),P({'T'}, coin_sim(10,n_coin))]); axes[0,1].set(title=\"Simulasi pelemparan 1 koin sebanyak 10 kali\")\n",
    "axes[1,0].bar([0,1],[P({'H'}, coin_sim(50,n_coin)),P({'T'}, coin_sim(50,n_coin))]); axes[1,0].set(title=\"Simulasi pelemparan 1 koin sebanyak 50 kali\")\n",
    "axes[1,1].bar([0,1],[P({'H'}, coin_sim(100,n_coin)),P({'T'}, coin_sim(100,n_coin))]); axes[1,1].set(title=\"Simulasi pelemparan 1 koin sebanyak 100 kali\")\n",
    "plt.show()"
   ]
  },
  {
   "cell_type": "markdown",
   "metadata": {
    "id": "zmaNMzVifBuH"
   },
   "source": [
    "Pada pelemparan ke 100 kali peluang dari masing masing angka dan gambar adalah sama. Kejadian pelemaparan 1 koin dapat di modelkan menggunakan distribusi Uniform, karena peluang analitisnya adalah sama "
   ]
  },
  {
   "cell_type": "markdown",
   "metadata": {
    "id": "Q-dQXxqlQo6U"
   },
   "source": [
    "### 1 Dice Tossing"
   ]
  },
  {
   "cell_type": "code",
   "execution_count": 42,
   "metadata": {
    "colab": {
     "base_uri": "https://localhost:8080/",
     "height": 295
    },
    "id": "1oCVYkyOQUws",
    "outputId": "591b72f9-c5b7-40e8-e9f1-b62b3a90292b"
   },
   "outputs": [
    {
     "data": {
      "image/png": "[encoded data removed]",
      "text/plain": [
       "<Figure size 640x480 with 1 Axes>"
      ]
     },
     "metadata": {},
     "output_type": "display_data"
    }
   ],
   "source": [
    "probability_model_dadu(jumlah_pelemparan=10)"
   ]
  },
  {
   "cell_type": "code",
   "execution_count": 43,
   "metadata": {
    "colab": {
     "base_uri": "https://localhost:8080/",
     "height": 295
    },
    "id": "a_0F8vWzQYwM",
    "outputId": "07ab3b5c-7f0e-47a1-d192-4c84ce0de7ff"
   },
   "outputs": [
    {
     "data": {
      "image/png": "[encoded data removed]",
      "text/plain": [
       "<Figure size 640x480 with 1 Axes>"
      ]
     },
     "metadata": {},
     "output_type": "display_data"
    }
   ],
   "source": [
    "probability_model_dadu(jumlah_pelemparan=100)"
   ]
  },
  {
   "cell_type": "code",
   "execution_count": 44,
   "metadata": {
    "colab": {
     "base_uri": "https://localhost:8080/",
     "height": 295
    },
    "id": "stSgtj-6QaYW",
    "outputId": "83745688-b27c-4ce3-9f7b-a727c53d9117"
   },
   "outputs": [
    {
     "data": {
      "image/png": "[encoded data removed]",
      "text/plain": [
       "<Figure size 640x480 with 1 Axes>"
      ]
     },
     "metadata": {},
     "output_type": "display_data"
    }
   ],
   "source": [
    "probability_model_dadu(jumlah_pelemparan=100000)"
   ]
  },
  {
   "cell_type": "markdown",
   "metadata": {
    "id": "IFo5q2jBfPSW"
   },
   "source": [
    "Pada pelemparan ke 100 kali peluang dari masing masing keluarnya angka pada adalah sama yaitu 1/6. Kejadian pelemaparan 1 dadu dapat di \n",
    "modelkan menggunakan distribusi Uniform, karena peluang analitis kejadiannya adalah sama "
   ]
  },
  {
   "cell_type": "markdown",
   "metadata": {
    "id": "Kf87XkPgcPjK"
   },
   "source": [
    "### Case Uniform Distribution dari Data?"
   ]
  },
  {
   "cell_type": "markdown",
   "metadata": {
    "id": "0ttF-5zsc2Gn"
   },
   "source": [
    "Aplikasi Distribusi Uniform hanya berlaku jika asumsi peluang semua kejadian sama, seperti pelemaparan koin dan dadu yang tidak cacat seperti 2 contoh diatas. Contoh lainnya:\n",
    "\n",
    "1. Peluang penumpang kapal titanic survived atau tidak adalah \n",
    "sama = 0.5\n",
    "2. Peluang terjualnya menu dalam sebuah restoran adalah sama\n",
    "3. Peluang sekrup rusak dan tidak adalah sama 0.5\n",
    "4. Peluang lampu menyala merah, kuning, hijau dalam perempatan lalu lintas adalah sama = 1/3\n",
    "\n",
    "namun untuk poin 1 - 3 sepertinya sangat sulit ditemui dalam kehidupan nyata, karena probabilitas 1 kejadian pasti lebih mungkin dari salah satu kejadian yang lain. (lebih mungkin tidak selamat daripada selamat dalam kapal titanic)\n",
    "\n",
    "- Distribusi Uniform hanya bekerja pada experiment yang didalamnya peluang kejadiannya sama, \n",
    "- Saat tidak ada alasan untuk mengungkapkan kejadian tersebut ada yang paling mungkin terjadi, bisa karena kecacatan alat, bias, dan keberpihakan kejadian "
   ]
  },
  {
   "cell_type": "markdown",
   "metadata": {
    "id": "QR2UKDA2Esr6"
   },
   "source": [
    "# Reference"
   ]
  },
  {
   "cell_type": "markdown",
   "metadata": {
    "id": "IG2JHaE0EvrQ"
   },
   "source": [
    "https://github.com/sinclam2/fifty-challenging-problems-in-probability"
   ]
  }
 ],
 "metadata": {
  "colab": {
   "collapsed_sections": [
    "02fuPBjpJfbJ",
    "JJK6j5s_jgJQ",
    "zTOqVBeTsiY_",
    "nj8vqboCnWA-",
    "KWw1wjkHB1K_",
    "FENjwu_eCi2R",
    "NO2Ki2VeDwDF"
   ],
   "name": "Introduction to Random Variables",
   "provenance": [],
   "toc_visible": true
  },
  "kernelspec": {
   "display_name": "Python 3 (ipykernel)",
   "language": "python",
   "name": "python3"
  },
  "language_info": {
   "codemirror_mode": {
    "name": "ipython",
    "version": 3
   },
   "file_extension": ".py",
   "mimetype": "text/x-python",
   "name": "python",
   "nbconvert_exporter": "python",
   "pygments_lexer": "ipython3",
   "version": "3.9.5"
  }
 },
 "nbformat": 4,
 "nbformat_minor": 1
}
