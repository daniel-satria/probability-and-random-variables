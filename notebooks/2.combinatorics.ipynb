{
 "cells": [
  {
   "cell_type": "markdown",
   "metadata": {},
   "source": [
    "# **Combinatorics**"
   ]
  },
  {
   "cell_type": "markdown",
   "metadata": {},
   "source": [
    "Dalam pembuatan sebuah set, terkadang diperlukan pengolahan terlebih dahulu. Misal, contoh sederhana:\n",
    "* Menghitung kombinasi cara pemasangan pakaian.\n",
    "* Kombinasi penarikan kartu.\n",
    "* Ada berapa kali cara 3 kejadian sukses (barang defect, customer churn) dalam 5 observasi?\n",
    "\n",
    "Dalam kombinatorik, digunakan 2 metode dasar untuk menjawab pertanyaan tersebut:\n",
    "* Permutasi\n",
    "* Kombinasi"
   ]
  },
  {
   "cell_type": "markdown",
   "metadata": {},
   "source": [
    "---\n",
    "## **Permutasi**\n",
    "\n",
    "Permutasi adalah cara penyusunan dengan urutan pada suatu kumpulan objek.\n",
    "* Misalkan kita memiliki 4 objek huruf {A,H,L,O}\n",
    "* Jika 4 huruf ini disusun, maka dapat terbentuk:\n",
    "  * AHLO\n",
    "  * HALO\n",
    "  * OLAH\n",
    "  * HOLA\n",
    "  * dll\n",
    "  \n",
    "<center><img src=\"../assets/permutation.png\" alt=\"Drawing\" style=\"width: 400px;\"/></center>\n",
    "\n",
    "Sehingga, secara matematik dapat diekspresikan sebagai:\n",
    "$$n(n-1)(n-2)\\ldots 1 = n!$$\n",
    "\n",
    "Dalam Python:"
   ]
  },
  {
   "cell_type": "code",
   "execution_count": 1,
   "metadata": {},
   "outputs": [],
   "source": [
    "from itertools import permutations\n",
    "\n",
    "huruf = {'A','H','L','O'}"
   ]
  },
  {
   "cell_type": "code",
   "execution_count": 2,
   "metadata": {},
   "outputs": [],
   "source": [
    "perm = permutations(huruf)"
   ]
  },
  {
   "cell_type": "code",
   "execution_count": 3,
   "metadata": {},
   "outputs": [
    {
     "name": "stdout",
     "output_type": "stream",
     "text": [
      "('O', 'H', 'L', 'A')\n",
      "('O', 'H', 'A', 'L')\n",
      "('O', 'L', 'H', 'A')\n",
      "('O', 'L', 'A', 'H')\n",
      "('O', 'A', 'H', 'L')\n",
      "('O', 'A', 'L', 'H')\n",
      "('H', 'O', 'L', 'A')\n",
      "('H', 'O', 'A', 'L')\n",
      "('H', 'L', 'O', 'A')\n",
      "('H', 'L', 'A', 'O')\n",
      "('H', 'A', 'O', 'L')\n",
      "('H', 'A', 'L', 'O')\n",
      "('L', 'O', 'H', 'A')\n",
      "('L', 'O', 'A', 'H')\n",
      "('L', 'H', 'O', 'A')\n",
      "('L', 'H', 'A', 'O')\n",
      "('L', 'A', 'O', 'H')\n",
      "('L', 'A', 'H', 'O')\n",
      "('A', 'O', 'H', 'L')\n",
      "('A', 'O', 'L', 'H')\n",
      "('A', 'H', 'O', 'L')\n",
      "('A', 'H', 'L', 'O')\n",
      "('A', 'L', 'O', 'H')\n",
      "('A', 'L', 'H', 'O')\n"
     ]
    }
   ],
   "source": [
    "# Menampilkan hasil permutasi\n",
    "# code ini tidak perlu dihafal\n",
    "for i in list(perm):\n",
    "    print(i)"
   ]
  },
  {
   "cell_type": "markdown",
   "metadata": {},
   "source": [
    "* Bagaimana jika hanya diambil elemen sejumlah $k$ ?\n",
    "\n",
    "<center><img src=\"../assets/perm_element_k.png\" alt=\"Drawing\" style=\"width: 200px;\"/></center>\n",
    "\n",
    "Secara matematis dapat ditulis:\n",
    "<center><img src=\"../assets/permutation_formula.png\" alt=\"Drawing\" style=\"width: 100px;\"/></center>"
   ]
  },
  {
   "cell_type": "code",
   "execution_count": 4,
   "metadata": {},
   "outputs": [
    {
     "name": "stdout",
     "output_type": "stream",
     "text": [
      "('O', 'H')\n",
      "('O', 'L')\n",
      "('O', 'A')\n",
      "('H', 'O')\n",
      "('H', 'L')\n",
      "('H', 'A')\n",
      "('L', 'O')\n",
      "('L', 'H')\n",
      "('L', 'A')\n",
      "('A', 'O')\n",
      "('A', 'H')\n",
      "('A', 'L')\n"
     ]
    }
   ],
   "source": [
    "k = 2\n",
    "perm_k = permutations(huruf, k)\n",
    "\n",
    "# Menampilkan hasil permutasi\n",
    "# code ini tidak perlu dihafal\n",
    "for i in list(perm_k):\n",
    "    print(i)"
   ]
  },
  {
   "cell_type": "markdown",
   "metadata": {},
   "source": [
    "---\n",
    "## **Kombinasi**\n",
    "\n",
    "* Banyaknya subset yang dapat dibentuk dari suatu set awal:\n",
    "* Misal, anda memiliki 3 teman $\\{ \\text{Joko, Budi, Seno} \\}$\n",
    "* Namun, anda hanya bisa mengajak 2 dari mereka untuk naik mobil anda.\n",
    "* Kombinasi yang mungkin adalah:\n",
    "  * $\\{ \\text{Joko, Budi} \\}$\n",
    "  * $\\{ \\text{Joko, Seno} \\}$\n",
    "  * $\\{ \\text{Budi, Seno} \\}$"
   ]
  },
  {
   "cell_type": "markdown",
   "metadata": {},
   "source": [
    "---\n",
    "## **Kombinasi vs Permutasi**\n",
    "\n",
    "* Kombinasi tidak terpengaruh oleh urutan.\n",
    "* Dalam kombinasi: $\\{ \\text{Joko, Budi} \\} = \\{ \\text{Budi, Joko} \\} $\n",
    "* Dalam permutasi: $\\{ \\text{Joko, Budi} \\} \\neq \\{ \\text{Budi, Joko} \\} $"
   ]
  },
  {
   "cell_type": "code",
   "execution_count": 6,
   "metadata": {},
   "outputs": [],
   "source": [
    "from itertools import combinations\n",
    "\n",
    "teman = {'Joko', 'Budi', 'Seno'}"
   ]
  },
  {
   "cell_type": "code",
   "execution_count": 7,
   "metadata": {},
   "outputs": [],
   "source": [
    "comb = combinations(teman,2)"
   ]
  },
  {
   "cell_type": "code",
   "execution_count": 9,
   "metadata": {},
   "outputs": [
    {
     "data": {
      "text/plain": [
       "<itertools.combinations at 0x7fccb407d900>"
      ]
     },
     "execution_count": 9,
     "metadata": {},
     "output_type": "execute_result"
    }
   ],
   "source": [
    "comb"
   ]
  },
  {
   "cell_type": "code",
   "execution_count": 8,
   "metadata": {},
   "outputs": [
    {
     "name": "stdout",
     "output_type": "stream",
     "text": [
      "('Budi', 'Seno')\n",
      "('Budi', 'Joko')\n",
      "('Seno', 'Joko')\n"
     ]
    }
   ],
   "source": [
    "# Menampilkan hasil kombinasi\n",
    "# code ini tidak perlu dihafal\n",
    "for i in list(comb):\n",
    "    print(i)"
   ]
  },
  {
   "cell_type": "markdown",
   "metadata": {},
   "source": [
    "Untuk menghitung jumlah kombinasi dapat digunakan ekspresi matematis:\n",
    "<center><img src=\"../assets/combination_formula.png\" alt=\"Drawing\" style=\"width: 300px;\"/></center>"
   ]
  },
  {
   "cell_type": "markdown",
   "metadata": {},
   "source": [
    "# Combinatorics Case"
   ]
  },
  {
   "cell_type": "markdown",
   "metadata": {},
   "source": [
    "--------\n",
    "## **Case 1**\n",
    "\n",
    "Anda adalah sebuat data analyst di sebuah cofee chain terkemuka bernama Kopi Janji Joni. \n",
    "\n",
    "Tim Product dari Kopi Janji Joni ingin membuat sebuah product baru dan memerlukan eksperiman untuk menguji apakah product baru tersebut sesuai dengan budget.\n",
    "\n",
    "Untuk product baru ini, tim product menguji beberapa ingridients untuk digabungkan. \n",
    "- Kopi Long Black\n",
    "- Creamy Foam\n",
    "- Gula 200G\n",
    "- Caramel\n",
    "- Salt\n",
    "- Boba\n",
    "-------"
   ]
  },
  {
   "cell_type": "markdown",
   "metadata": {},
   "source": [
    "**Soal 1**:<br>\n",
    "Jika kita ingin mengkombinasikan 4 bahan tersebut, berapa banyak eksperimen yang dilakukan?\n",
    "\n",
    "\n",
    "**Soal 2**:<br>\n",
    "Jika hanya tiga bahan yang dibutuhkan, berapa banyak eksperimen yang dilakukan. kemudian hitunglah berapa cost untuk percobaan kedua ini jika setiap eksperimen membutuhkan cost Rp. 150.000\n",
    "\n",
    "**Soal 3**:<br>\n",
    "Berdasarkan riset, Boba dan Kopi merupakan bahan yang sangat disukai sehingga di setiap eksperimen kedua bahan tersebut harus disertakan.\n",
    "\n",
    "Berapa eksperimen yang diperlukan jika Boba dan Kopi selalu diikutkan dalam setiap eksperimen dan hitunglah cost dari product development ini jika, setiap eksperimen memerlukan biaya Rp. 125.000"
   ]
  },
  {
   "cell_type": "markdown",
   "metadata": {},
   "source": [
    "---\n",
    "**Soal 1**:<br>\n",
    "Jika kita ingin mengkombinasikan 4 bahan tersebut, berapa banyak eksperimen yang dilakukan?"
   ]
  },
  {
   "cell_type": "code",
   "execution_count": 1,
   "metadata": {},
   "outputs": [],
   "source": [
    "# Jalankan\n",
    "from itertools import combinations\n",
    "\n",
    "# Masukkan list bahan yang ingin dikombinasikan\n",
    "list_bahan = {'Kopi','Foam','Sugar','Caramel','Salt','Boba'}"
   ]
  },
  {
   "cell_type": "code",
   "execution_count": 2,
   "metadata": {},
   "outputs": [],
   "source": [
    "# Masukkan jumlah bahan yang ingin dikombinasikan\n",
    "jumlah_kombinasi = 4"
   ]
  },
  {
   "cell_type": "code",
   "execution_count": 3,
   "metadata": {},
   "outputs": [],
   "source": [
    "comb = combinations(list_bahan,jumlah_kombinasi)"
   ]
  },
  {
   "cell_type": "code",
   "execution_count": 4,
   "metadata": {},
   "outputs": [
    {
     "name": "stdout",
     "output_type": "stream",
     "text": [
      "('Salt', 'Sugar', 'Boba', 'Kopi')\n",
      "('Salt', 'Sugar', 'Boba', 'Caramel')\n",
      "('Salt', 'Sugar', 'Boba', 'Foam')\n",
      "('Salt', 'Sugar', 'Kopi', 'Caramel')\n",
      "('Salt', 'Sugar', 'Kopi', 'Foam')\n",
      "('Salt', 'Sugar', 'Caramel', 'Foam')\n",
      "('Salt', 'Boba', 'Kopi', 'Caramel')\n",
      "('Salt', 'Boba', 'Kopi', 'Foam')\n",
      "('Salt', 'Boba', 'Caramel', 'Foam')\n",
      "('Salt', 'Kopi', 'Caramel', 'Foam')\n",
      "('Sugar', 'Boba', 'Kopi', 'Caramel')\n",
      "('Sugar', 'Boba', 'Kopi', 'Foam')\n",
      "('Sugar', 'Boba', 'Caramel', 'Foam')\n",
      "('Sugar', 'Kopi', 'Caramel', 'Foam')\n",
      "('Boba', 'Kopi', 'Caramel', 'Foam')\n"
     ]
    }
   ],
   "source": [
    "# Menampilkan hasil kombinasi \n",
    "# code ini tidak perlu dihafal\n",
    "for i in list(comb):\n",
    "    print(i)"
   ]
  },
  {
   "cell_type": "markdown",
   "metadata": {},
   "source": [
    "Terdapat 15 kombinasi bahan yang dapat diuji"
   ]
  },
  {
   "cell_type": "markdown",
   "metadata": {},
   "source": [
    "-------\n",
    "**Soal 2**:<br>\n",
    "Jika hanya tiga bahan yang dibutuhkan, berapa banyak eksperimen yang dilakukan. kemudian hitunglah berapa cost untuk percobaan kedua ini jika setiap eksperimen membutuhkan cost Rp. 150.000"
   ]
  },
  {
   "cell_type": "code",
   "execution_count": 5,
   "metadata": {},
   "outputs": [],
   "source": [
    "# Masukkan list bahan disini\n",
    "list_bahan = {'Kopi','Foam','Sugar','Caramel','Salt','Boba'}"
   ]
  },
  {
   "cell_type": "code",
   "execution_count": 6,
   "metadata": {},
   "outputs": [],
   "source": [
    "# Masukkan jumlah bahan yang ingin dikombinasikan\n",
    "jumlah_kombinasi = 3"
   ]
  },
  {
   "cell_type": "code",
   "execution_count": 7,
   "metadata": {},
   "outputs": [],
   "source": [
    "comb = combinations(list_bahan,jumlah_kombinasi)"
   ]
  },
  {
   "cell_type": "code",
   "execution_count": 8,
   "metadata": {},
   "outputs": [
    {
     "name": "stdout",
     "output_type": "stream",
     "text": [
      "('Salt', 'Sugar', 'Boba')\n",
      "('Salt', 'Sugar', 'Kopi')\n",
      "('Salt', 'Sugar', 'Caramel')\n",
      "('Salt', 'Sugar', 'Foam')\n",
      "('Salt', 'Boba', 'Kopi')\n",
      "('Salt', 'Boba', 'Caramel')\n",
      "('Salt', 'Boba', 'Foam')\n",
      "('Salt', 'Kopi', 'Caramel')\n",
      "('Salt', 'Kopi', 'Foam')\n",
      "('Salt', 'Caramel', 'Foam')\n",
      "('Sugar', 'Boba', 'Kopi')\n",
      "('Sugar', 'Boba', 'Caramel')\n",
      "('Sugar', 'Boba', 'Foam')\n",
      "('Sugar', 'Kopi', 'Caramel')\n",
      "('Sugar', 'Kopi', 'Foam')\n",
      "('Sugar', 'Caramel', 'Foam')\n",
      "('Boba', 'Kopi', 'Caramel')\n",
      "('Boba', 'Kopi', 'Foam')\n",
      "('Boba', 'Caramel', 'Foam')\n",
      "('Kopi', 'Caramel', 'Foam')\n"
     ]
    }
   ],
   "source": [
    "# Menampilkan hasil kombinasi \n",
    "# code ini tidak perlu dihafal\n",
    "for i in list(comb):\n",
    "    print(i)"
   ]
  },
  {
   "cell_type": "code",
   "execution_count": 9,
   "metadata": {},
   "outputs": [],
   "source": [
    "# set nilai n_eksperimen sebagai variabel tempat menyimpan banyak eksperimen.\n",
    "n_eksperimen = 20\n",
    "\n",
    "cost_per_eksperimen = 150000\n",
    "total_cost = n_eksperimen * cost_per_eksperimen"
   ]
  },
  {
   "cell_type": "code",
   "execution_count": 10,
   "metadata": {},
   "outputs": [
    {
     "data": {
      "text/plain": [
       "3000000"
      ]
     },
     "execution_count": 10,
     "metadata": {},
     "output_type": "execute_result"
    }
   ],
   "source": [
    "total_cost"
   ]
  },
  {
   "cell_type": "code",
   "execution_count": 11,
   "metadata": {},
   "outputs": [
    {
     "name": "stdout",
     "output_type": "stream",
     "text": [
      "---\n",
      "Cost yang diperlukan untuk melakukan 20 eksperimen adalah Rp 3000000\n"
     ]
    }
   ],
   "source": [
    "print(\"---\")\n",
    "print(f\"Cost yang diperlukan untuk melakukan {n_eksperimen} eksperimen adalah Rp {total_cost}\")"
   ]
  },
  {
   "cell_type": "markdown",
   "metadata": {},
   "source": [
    "--------\n",
    "**Soal 3**:<br>\n",
    "Berdasarkan riset, Boba dan Kopi merupakan bahan yang sangat disukai sehingga di setiap eksperimen kedua bahan tersebut harus disertakan.\n",
    "\n",
    "Berapa eksperimen yang diperlukan jika Boba dan Kopi selalu diikutkan dalam setiap eksperimen dan hitunglah cost dari product development ini jika, setiap eksperimen memerlukan biaya Rp. 125.000"
   ]
  },
  {
   "cell_type": "code",
   "execution_count": 12,
   "metadata": {},
   "outputs": [],
   "source": [
    "# List bahan-bahan yang ada\n",
    "list_bahan = {'Kopi','Foam','Sugar','Caramel','Salt','Boba'}\n",
    "\n",
    "# List bahan wajib yang harus ada dalam tiap eksperimen\n",
    "bahan_wajib = {'Kopi', 'Boba'}\n",
    "\n",
    "# Masukkan jumlah bahan yang ingin dikombinasikan\n",
    "jumlah_kombinasi = 4\n",
    "\n",
    "comb = combinations(list_bahan,jumlah_kombinasi)"
   ]
  },
  {
   "cell_type": "code",
   "execution_count": 13,
   "metadata": {},
   "outputs": [
    {
     "name": "stdout",
     "output_type": "stream",
     "text": [
      "('Salt', 'Sugar', 'Boba', 'Kopi')\n",
      "('Salt', 'Sugar', 'Boba', 'Caramel')\n",
      "('Salt', 'Sugar', 'Boba', 'Foam')\n",
      "('Salt', 'Sugar', 'Kopi', 'Caramel')\n",
      "('Salt', 'Sugar', 'Kopi', 'Foam')\n",
      "('Salt', 'Sugar', 'Caramel', 'Foam')\n",
      "('Salt', 'Boba', 'Kopi', 'Caramel')\n",
      "('Salt', 'Boba', 'Kopi', 'Foam')\n",
      "('Salt', 'Boba', 'Caramel', 'Foam')\n",
      "('Salt', 'Kopi', 'Caramel', 'Foam')\n",
      "('Sugar', 'Boba', 'Kopi', 'Caramel')\n",
      "('Sugar', 'Boba', 'Kopi', 'Foam')\n",
      "('Sugar', 'Boba', 'Caramel', 'Foam')\n",
      "('Sugar', 'Kopi', 'Caramel', 'Foam')\n",
      "('Boba', 'Kopi', 'Caramel', 'Foam')\n"
     ]
    }
   ],
   "source": [
    "# Menampilkan hasil kombinasi \n",
    "# code ini tidak perlu dihafal\n",
    "for i in list(comb):\n",
    "    print (i) "
   ]
  },
  {
   "cell_type": "code",
   "execution_count": 14,
   "metadata": {},
   "outputs": [],
   "source": [
    "# set nilai n_eksperimen sebagai variabel tempat menyimpan banyak eksperimen dimana mengandung bahan wajib.\n",
    "n_eksperimen = 6"
   ]
  },
  {
   "cell_type": "code",
   "execution_count": 15,
   "metadata": {},
   "outputs": [],
   "source": [
    "# Hitung total cost yang dibutuhkan\n",
    "cost_per_eksperimen = 125000\n",
    "total_cost = n_eksperimen * cost_per_eksperimen"
   ]
  },
  {
   "cell_type": "code",
   "execution_count": 16,
   "metadata": {},
   "outputs": [
    {
     "data": {
      "text/plain": [
       "750000"
      ]
     },
     "execution_count": 16,
     "metadata": {},
     "output_type": "execute_result"
    }
   ],
   "source": [
    "total_cost"
   ]
  },
  {
   "cell_type": "code",
   "execution_count": 17,
   "metadata": {},
   "outputs": [
    {
     "name": "stdout",
     "output_type": "stream",
     "text": [
      "---\n",
      "Cost yang diperlukan untuk melakukan 6 eksperimen adalah Rp 750000\n"
     ]
    }
   ],
   "source": [
    "print(\"---\")\n",
    "print(f\"Cost yang diperlukan untuk melakukan {n_eksperimen} eksperimen adalah Rp {total_cost}\")"
   ]
  }
 ],
 "metadata": {
  "kernelspec": {
   "display_name": ".venv",
   "language": "python",
   "name": "python3"
  },
  "language_info": {
   "codemirror_mode": {
    "name": "ipython",
    "version": 3
   },
   "file_extension": ".py",
   "mimetype": "text/x-python",
   "name": "python",
   "nbconvert_exporter": "python",
   "pygments_lexer": "ipython3",
   "version": "3.9.5"
  }
 },
 "nbformat": 4,
 "nbformat_minor": 2
}
