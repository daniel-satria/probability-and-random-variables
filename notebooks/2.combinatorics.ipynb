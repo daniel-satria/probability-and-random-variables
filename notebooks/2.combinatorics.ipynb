{
 "cells": [
  {
   "cell_type": "markdown",
   "metadata": {},
   "source": [
    "# **Combinatorics**"
   ]
  },
  {
   "cell_type": "markdown",
   "metadata": {},
   "source": [
    "---\n",
    "# **Kombinatorik**\n",
    "\n",
    "Dalam pembuatan sebuah set, terkadang diperlukan pengolahan terlebih dahulu. Misal, contoh sederhana:\n",
    "* Menghitung kombinasi cara pemasangan pakaian.\n",
    "* Kombinasi penarikan kartu.\n",
    "* Ada berapa kali cara 3 kejadian sukses (barang defect, customer churn) dalam 5 observasi?\n",
    "\n",
    "Dalam kombinatorik, digunakan 2 metode dasar untuk menjawab pertanyaan tersebut:\n",
    "* Permutasi\n",
    "* Kombinasi"
   ]
  },
  {
   "cell_type": "markdown",
   "metadata": {},
   "source": [
    "---\n",
    "## **Permutasi**\n",
    "\n",
    "Permutasi adalah cara penyusunan dengan urutan pada suatu kumpulan objek.\n",
    "* Misalkan kita memiliki 4 objek huruf {A,H,L,O}\n",
    "* Jika 4 huruf ini disusun, maka dapat terbentuk:\n",
    "  * AHLO\n",
    "  * HALO\n",
    "  * OLAH\n",
    "  * HOLA\n",
    "  * dll\n",
    "  \n",
    "<center><img src=\"../assets/permutation.png\" alt=\"Drawing\" style=\"width: 400px;\"/></center>\n",
    "\n",
    "Sehingga, secara matematik dapat diekspresikan sebagai:\n",
    "$$n(n-1)(n-2)\\ldots 1 = n!$$\n",
    "\n",
    "Dalam Python:"
   ]
  },
  {
   "cell_type": "code",
   "execution_count": 1,
   "metadata": {},
   "outputs": [],
   "source": [
    "from itertools import permutations\n",
    "\n",
    "huruf = {'A','H','L','O'}"
   ]
  },
  {
   "cell_type": "code",
   "execution_count": 2,
   "metadata": {},
   "outputs": [],
   "source": [
    "perm = permutations(huruf)"
   ]
  },
  {
   "cell_type": "code",
   "execution_count": 3,
   "metadata": {},
   "outputs": [
    {
     "name": "stdout",
     "output_type": "stream",
     "text": [
      "('O', 'H', 'L', 'A')\n",
      "('O', 'H', 'A', 'L')\n",
      "('O', 'L', 'H', 'A')\n",
      "('O', 'L', 'A', 'H')\n",
      "('O', 'A', 'H', 'L')\n",
      "('O', 'A', 'L', 'H')\n",
      "('H', 'O', 'L', 'A')\n",
      "('H', 'O', 'A', 'L')\n",
      "('H', 'L', 'O', 'A')\n",
      "('H', 'L', 'A', 'O')\n",
      "('H', 'A', 'O', 'L')\n",
      "('H', 'A', 'L', 'O')\n",
      "('L', 'O', 'H', 'A')\n",
      "('L', 'O', 'A', 'H')\n",
      "('L', 'H', 'O', 'A')\n",
      "('L', 'H', 'A', 'O')\n",
      "('L', 'A', 'O', 'H')\n",
      "('L', 'A', 'H', 'O')\n",
      "('A', 'O', 'H', 'L')\n",
      "('A', 'O', 'L', 'H')\n",
      "('A', 'H', 'O', 'L')\n",
      "('A', 'H', 'L', 'O')\n",
      "('A', 'L', 'O', 'H')\n",
      "('A', 'L', 'H', 'O')\n"
     ]
    }
   ],
   "source": [
    "# Menampilkan hasil permutasi\n",
    "# code ini tidak perlu dihafal\n",
    "for i in list(perm):\n",
    "    print(i)"
   ]
  },
  {
   "cell_type": "markdown",
   "metadata": {},
   "source": [
    "* Bagaimana jika hanya diambil elemen sejumlah $k$ ?\n",
    "\n",
    "<center><img src=\"../assets/perm_element_k.png\" alt=\"Drawing\" style=\"width: 200px;\"/></center>\n",
    "\n",
    "Secara matematis dapat ditulis:\n",
    "<center><img src=\"../assets/permutation_formula.png\" alt=\"Drawing\" style=\"width: 100px;\"/></center>"
   ]
  },
  {
   "cell_type": "code",
   "execution_count": 4,
   "metadata": {},
   "outputs": [
    {
     "name": "stdout",
     "output_type": "stream",
     "text": [
      "('O', 'H')\n",
      "('O', 'L')\n",
      "('O', 'A')\n",
      "('H', 'O')\n",
      "('H', 'L')\n",
      "('H', 'A')\n",
      "('L', 'O')\n",
      "('L', 'H')\n",
      "('L', 'A')\n",
      "('A', 'O')\n",
      "('A', 'H')\n",
      "('A', 'L')\n"
     ]
    }
   ],
   "source": [
    "k = 2\n",
    "perm_k = permutations(huruf, k)\n",
    "\n",
    "# Menampilkan hasil permutasi\n",
    "# code ini tidak perlu dihafal\n",
    "for i in list(perm_k):\n",
    "    print(i)"
   ]
  },
  {
   "cell_type": "markdown",
   "metadata": {},
   "source": [
    "---\n",
    "## **Kombinasi**\n",
    "\n",
    "* Banyaknya subset yang dapat dibentuk dari suatu set awal:\n",
    "* Misal, anda memiliki 3 teman $\\{ \\text{Joko, Budi, Seno} \\}$\n",
    "* Namun, anda hanya bisa mengajak 2 dari mereka untuk naik mobil anda.\n",
    "* Kombinasi yang mungkin adalah:\n",
    "  * $\\{ \\text{Joko, Budi} \\}$\n",
    "  * $\\{ \\text{Joko, Seno} \\}$\n",
    "  * $\\{ \\text{Budi, Seno} \\}$"
   ]
  },
  {
   "cell_type": "markdown",
   "metadata": {},
   "source": [
    "---\n",
    "## **Kombinasi vs Permutasi**\n",
    "\n",
    "* Kombinasi tidak terpengaruh oleh urutan.\n",
    "* Dalam kombinasi: $\\{ \\text{Joko, Budi} \\} = \\{ \\text{Budi, Joko} \\} $\n",
    "* Dalam permutasi: $\\{ \\text{Joko, Budi} \\} \\neq \\{ \\text{Budi, Joko} \\} $"
   ]
  },
  {
   "cell_type": "code",
   "execution_count": 6,
   "metadata": {},
   "outputs": [],
   "source": [
    "from itertools import combinations\n",
    "\n",
    "teman = {'Joko', 'Budi', 'Seno'}"
   ]
  },
  {
   "cell_type": "code",
   "execution_count": 7,
   "metadata": {},
   "outputs": [],
   "source": [
    "comb = combinations(teman,2)"
   ]
  },
  {
   "cell_type": "code",
   "execution_count": 9,
   "metadata": {},
   "outputs": [
    {
     "data": {
      "text/plain": [
       "<itertools.combinations at 0x7fccb407d900>"
      ]
     },
     "execution_count": 9,
     "metadata": {},
     "output_type": "execute_result"
    }
   ],
   "source": [
    "comb"
   ]
  },
  {
   "cell_type": "code",
   "execution_count": 8,
   "metadata": {},
   "outputs": [
    {
     "name": "stdout",
     "output_type": "stream",
     "text": [
      "('Budi', 'Seno')\n",
      "('Budi', 'Joko')\n",
      "('Seno', 'Joko')\n"
     ]
    }
   ],
   "source": [
    "# Menampilkan hasil kombinasi\n",
    "# code ini tidak perlu dihafal\n",
    "for i in list(comb):\n",
    "    print(i)"
   ]
  },
  {
   "cell_type": "markdown",
   "metadata": {},
   "source": [
    "Untuk menghitung jumlah kombinasi dapat digunakan ekspresi matematis:\n",
    "<center><img src=\"../assets/combination_formula.png\" alt=\"Drawing\" style=\"width: 300px;\"/></center>"
   ]
  }
 ],
 "metadata": {
  "kernelspec": {
   "display_name": ".venv",
   "language": "python",
   "name": "python3"
  },
  "language_info": {
   "codemirror_mode": {
    "name": "ipython",
    "version": 3
   },
   "file_extension": ".py",
   "mimetype": "text/x-python",
   "name": "python",
   "nbconvert_exporter": "python",
   "pygments_lexer": "ipython3",
   "version": "3.9.5"
  }
 },
 "nbformat": 4,
 "nbformat_minor": 2
}
