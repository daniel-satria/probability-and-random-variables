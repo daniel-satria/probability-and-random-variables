{
 "cells": [
  {
   "cell_type": "markdown",
   "metadata": {
    "id": "hKKabMKiypdM"
   },
   "source": [
    "# **Discrete Random Variables 1**\n",
    "\n",
    "Introduction to Probability Course - Sekolah Data - Pacmann Academy"
   ]
  },
  {
   "cell_type": "markdown",
   "metadata": {
    "id": "4ieA0ISMyuyO"
   },
   "source": [
    "**Outline**\n",
    "\n",
    "1. Random Variables 1\n",
    "2. Case 1 - Transaksi di Restoran\n",
    "3. Case 2 - Sum of Two Dice"
   ]
  },
  {
   "cell_type": "code",
   "execution_count": 1,
   "metadata": {
    "id": "B0hc3Finy5Tb"
   },
   "outputs": [],
   "source": [
    "# load data\n",
    "import itertools\n",
    "import random\n",
    "import sys\n",
    "import pandas as pd\n",
    "import numpy as np\n",
    "from tabulate import tabulate\n",
    "\n",
    "sys.path.insert(0, \"/home/ubuntu/learning/probability-and-random-variables/\")\n",
    "\n",
    "from probs_module.module_python_dis_random_variable_9 import playground_pelemparan_dadu"
   ]
  },
  {
   "cell_type": "markdown",
   "metadata": {
    "id": "OYqoi1G-zHqD"
   },
   "source": [
    "## **Review Topik**\n",
    "---\n",
    "\n",
    "Dari materi yang sudah dipelajari di video:\n",
    "\n",
    "- Kita bisa menggunakan conditional probability dalam variable random dengan menggunakan conditional PMF\n",
    "- Kita bisa menggunakan conditional expectation jika ingin mencari expectation di variable random di kondisi tertentu\n",
    "- Kita bisa mencari total expectation variable random X dari conditional expectation $\\text{E}[X|A_i]$\n",
    "- Jika ingin mengetahui peluang bersama dari lebih 1 variabel random, kita bisa gunakan joint pmf"
   ]
  },
  {
   "cell_type": "markdown",
   "metadata": {
    "id": "Ly64wt1u0AsQ"
   },
   "source": [
    "## **Case Stude 1: Transaksi di Restoran**\n",
    "___\n",
    "\n",
    "- Conditional PMF & Conditional Expectation\n",
    "- Joint and Marginal PMF"
   ]
  },
  {
   "cell_type": "markdown",
   "metadata": {
    "id": "OlBx5PYDjibB"
   },
   "source": [
    "Sebuah Restoran ingin menagnalisis data 1000 transaksi. Tujuannya mereka ingin mengetahui bagaimana perilaku pelanggannya dalam memesan menu makanan dan minuman.\n",
    "\n",
    "### Data\n",
    "\n",
    "<table>\n",
    "    <thead>\n",
    "        <tr>\n",
    "            <th></th>\n",
    "            <th colspan=5>Minuman</th>\n",
    "        </tr>\n",
    "        <tr>\n",
    "            <th></th>\n",
    "            <th></th>\n",
    "            <th>0</th>\n",
    "            <th>1</th>\n",
    "            <th>2</th>\n",
    "            <th>3</th>\n",
    "            <th>4</th>\n",
    "        </tr>\n",
    "    </thead>\n",
    "    <tbody>\n",
    "        <tr>\n",
    "            <td rowspan=5><b>Makanan</b></td>\n",
    "            <td>0</td>\n",
    "            <td>0</td>\n",
    "            <td>10</td>\n",
    "            <td>55</td>\n",
    "            <td>10</td>\n",
    "            <td>5</td>\n",
    "        </tr>\n",
    "        <tr>\n",
    "            <td>1</td>\n",
    "            <td>5</td>\n",
    "            <td>10</td>\n",
    "            <td>45</td>\n",
    "            <td>20</td>\n",
    "            <td>10</td>\n",
    "        </tr>\n",
    "        <tr>\n",
    "            <td>2</td>\n",
    "            <td>3</td>\n",
    "            <td>30</td>\n",
    "            <td>100</td>\n",
    "            <td>50</td>\n",
    "            <td>47</td>\n",
    "        </tr>\n",
    "        <tr>\n",
    "            <td>3</td>\n",
    "            <td>0</td>\n",
    "            <td>30</td>\n",
    "            <td>50</td>\n",
    "            <td>160</td>\n",
    "            <td>130</td>\n",
    "        </tr>\n",
    "        <tr>\n",
    "            <td>4</td>\n",
    "            <td>0</td>\n",
    "            <td>20</td>\n",
    "            <td>58</td>\n",
    "            <td>52</td>\n",
    "            <td>100</td>\n",
    "        </tr>\n",
    "    </tbody>\n",
    "</table>"
   ]
  },
  {
   "cell_type": "markdown",
   "metadata": {
    "id": "av-41H7x62a9"
   },
   "source": [
    "Data tersebut memuat 1000 transaksi yang masing masing mempunya detail banyak porsi makanan/minuman yang dipesan, misalnya:\n",
    "- Terdapat 160 transaksi yang memesan 3 porsi makanan dan 3 minuman\n",
    "- Terdapat 3 transaksi yang memesan hanya 2 minuman"
   ]
  },
  {
   "cell_type": "markdown",
   "metadata": {
    "id": "-XGJPUK90Ntj"
   },
   "source": [
    "### **Pertanyaan 1.**\n",
    "\n",
    "Jika diketahui restoran hanya bisa melayani maksimal 3 porsi makanan, berapa peluang ada 2 porsi yang dipesan per transaksinya?\n",
    "\n",
    "- Disini kita ingin mengetahui hanya transaksi makanan saja, jadi distribusi transaksi makanan bisa didapatkan jika kita menjumlahkan banyak traksaksi per nilai porsi makanan\n"
   ]
  },
  {
   "cell_type": "markdown",
   "metadata": {
    "id": "eIEZg_4zAABS"
   },
   "source": [
    "<table>\n",
    "<tr>\n",
    "  <th>Data Transaksi Makanan & Minuman</th>\n",
    "  <th>Data Transaksi Makanan </th>\n",
    "</tr>\n",
    "<tr><td>\n",
    "  <table>\n",
    "      <thead>\n",
    "          <tr>\n",
    "              <th></th>\n",
    "              <th colspan=6>Minuman</th>\n",
    "          </tr>\n",
    "          <tr>\n",
    "              <th></th>\n",
    "              <th></th>\n",
    "              <th>0</th>\n",
    "              <th>1</th>\n",
    "              <th>2</th>\n",
    "              <th>3</th>\n",
    "              <th>4</th>\n",
    "          </tr>\n",
    "      </thead>\n",
    "      <tbody>\n",
    "          <tr>\n",
    "              <td rowspan=5><b>Makanan</b></td>\n",
    "              <td>0</td>\n",
    "              <td>0</td>\n",
    "              <td>10</td>\n",
    "              <td>55</td>\n",
    "              <td>10</td>\n",
    "              <td>5</td>\n",
    "          </tr>\n",
    "          <tr>\n",
    "              <td>1</td>\n",
    "              <td>5</td>\n",
    "              <td>10</td>\n",
    "              <td>45</td>\n",
    "              <td>20</td>\n",
    "              <td>10</td>\n",
    "          </tr>\n",
    "          <tr>\n",
    "              <td>2</td>\n",
    "              <td>3</td>\n",
    "              <td>30</td>\n",
    "              <td>100</td>\n",
    "              <td>50</td>\n",
    "              <td>47</td>\n",
    "          </tr>\n",
    "          <tr>\n",
    "              <td>3</td>\n",
    "              <td>0</td>\n",
    "              <td>30</td>\n",
    "              <td>50</td>\n",
    "              <td>160</td>\n",
    "              <td>130</td>\n",
    "          </tr>\n",
    "          <tr>\n",
    "              <td>4</td>\n",
    "              <td>0</td>\n",
    "              <td>20</td>\n",
    "              <td>58</td>\n",
    "              <td>52</td>\n",
    "              <td>100</td>\n",
    "          </tr>\n",
    "      </tbody>\n",
    "  </table>\n",
    "</td><td>\n",
    "\n",
    "\n",
    "<table>\n",
    "    <thead>\n",
    "        <tr>\n",
    "            <th></th>\n",
    "        </tr>\n",
    "        <tr>\n",
    "            <th></th>\n",
    "            <th></th>\n",
    "            <th>Transaksi</th>\n",
    "        </tr>\n",
    "    </thead>\n",
    "    <tbody>\n",
    "        <tr>\n",
    "            <td rowspan=6><b>Makanan</b></td>\n",
    "            <td>0</td>\n",
    "            <td>80</td>\n",
    "        </tr>\n",
    "        <tr>\n",
    "            <td>1</td>\n",
    "            <td>90</td>\n",
    "        </tr>\n",
    "        <tr>\n",
    "            <td>2</td>\n",
    "            <td>230</td>\n",
    "        </tr>\n",
    "        <tr>\n",
    "            <td>3</td>\n",
    "            <td>370</td>\n",
    "        </tr>\n",
    "        <tr>\n",
    "            <td>4</td>\n",
    "            <td>230</td>\n",
    "        </tr>\n",
    "        <tr>\n",
    "            <td><b>Total</b></td>\n",
    "            <td>1000</td>\n",
    "        </tr>\n",
    "    </tbody>\n",
    "</table>\n",
    "</td></tr> </table>"
   ]
  },
  {
   "cell_type": "markdown",
   "metadata": {
    "id": "tSYeUFLyBsuy"
   },
   "source": [
    "- Misalkan banyak porsi makanan adalah variable random $X$ dimana $X=\\{0,1,2,3,4\\}$, maka bisa kita tuliskan seperti ini\n",
    "<table>\n",
    "    <thead>\n",
    "        <tr>\n",
    "            <th></th>\n",
    "        </tr>\n",
    "        <tr>\n",
    "            <th></th>\n",
    "            <th></th>\n",
    "            <th>Transaksi</th>\n",
    "        </tr>\n",
    "    </thead>\n",
    "    <tbody>\n",
    "        <tr>\n",
    "            <td rowspan=6><b>X</b></td>\n",
    "            <td>0</td>\n",
    "            <td>80</td>\n",
    "        </tr>\n",
    "        <tr>\n",
    "            <td>1</td>\n",
    "            <td>90</td>\n",
    "        </tr>\n",
    "        <tr>\n",
    "            <td>2</td>\n",
    "            <td>230</td>\n",
    "        </tr>\n",
    "        <tr>\n",
    "            <td>3</td>\n",
    "            <td>370</td>\n",
    "        </tr>\n",
    "        <tr>\n",
    "            <td>4</td>\n",
    "            <td>230</td>\n",
    "        </tr>\n",
    "        <tr>\n",
    "            <td><b>Total</b></td>\n",
    "            <td>1000</td>\n",
    "        </tr>\n",
    "    </tbody>\n",
    "</table>\n",
    "\n",
    "\n",
    "- Yang ditanyakan adalah peluang porsi makanan X adalah 2 jika diketahui porsi makanan yang bisa disediakan maksimal, 3 $X\\leq3$\n",
    "$$\\text{P}(X=2|X\\leq3)$$\n",
    "- Bisa dicari dengan\n",
    "\n",
    "$$\\text{P}(X=2|X\\leq3)=\\frac{\\text{P}(X=2 \\cap X\\leq3)}{\\text{P}(X\\leq3)}$$"
   ]
  },
  {
   "cell_type": "markdown",
   "metadata": {
    "id": "YJI0N6_E8gjM"
   },
   "source": [
    "- Mari kita hitung satu per satu \n",
    "##### 1. Cari  $P(X\\leq3)$ \n",
    "  - Data transaksi makanan jika hanya bisa melayani maksimal 3 porsi, $X\\leq3$ \n",
    "      <table>\n",
    "          <thead>\n",
    "              <tr>\n",
    "                  <th></th>\n",
    "              </tr>\n",
    "              <tr>\n",
    "                  <th></th>\n",
    "                  <th></th>\n",
    "                  <th>Transaksi</th>\n",
    "              </tr>\n",
    "          </thead>\n",
    "          <tbody>\n",
    "              <tr>\n",
    "                  <td rowspan=5><b>X</b></td>\n",
    "                  <td>0</td>\n",
    "                  <td>80</td>\n",
    "              </tr>\n",
    "              <tr>\n",
    "                  <td>1</td>\n",
    "                  <td>90</td>\n",
    "              </tr>\n",
    "              <tr>\n",
    "                  <td>2</td>\n",
    "                  <td>230</td>\n",
    "              </tr>\n",
    "              <tr>\n",
    "                  <td>3</td>\n",
    "                  <td>370</td>\n",
    "              </tr>\n",
    "              <tr>\n",
    "                  <td><b>Total</b></td>\n",
    "                  <td>770</td>\n",
    "              </tr>\n",
    "          </tbody>\n",
    "      </table>"
   ]
  },
  {
   "cell_type": "markdown",
   "metadata": {
    "id": "QAxWdClcDWWu"
   },
   "source": [
    "$$\\text{P}(X\\leq3)=\\frac{\\text{n(transaksi yang memesan kurang dari 3 porsi)}}{\\text{n(total transaksi)}}=0.77$$\n",
    "\n",
    "\n",
    "$$\\text{P}(X\\leq3)=\\frac{770}{1000}=0.77$$"
   ]
  },
  {
   "cell_type": "markdown",
   "metadata": {
    "id": "VZ_70j530Qy3"
   },
   "source": [
    "##### 2. Cari $\\text{P}(X=2 \\cap X\\leq3)$\n",
    "   - Irisan dari $X=2$ dan $X\\leq3$ adalah $X=2$\n",
    "   - $\\text{P}(X=2 \\cap X\\leq3)=\\text{P}(X=2)$\n",
    "   - maka cukup mencari X=2\n",
    "\n",
    "$$\\text{P}(X=2)=\\frac{\\text{n(transaksi yang memesan 2 porsi)}}{\\text{n(total transaksi)}}$$\n",
    "\n",
    "\n",
    "$$\\text{P}(X=2)=\\frac{230}{1000}=0.23$$"
   ]
  },
  {
   "cell_type": "markdown",
   "metadata": {
    "id": "eVvfvtnYF3NG"
   },
   "source": [
    "##### 3. Cari $\\text{P}(X=2|X\\leq3)$\n",
    "\n",
    "\n",
    "$$\\text{P}(X=2|X\\leq3)=\\frac{0.23}{0.77}=0.299$$\n"
   ]
  },
  {
   "cell_type": "markdown",
   "metadata": {
    "id": "mP5sKlP5GcG8"
   },
   "source": [
    "- Atau bisa juga dengan mencari berapa banyak transaksi 2 porsi makanan = 230, dibagi dengan banyak transaksi kurang atau sama dengan 3 porsi\n",
    "\n",
    "$$\\text{P}(X=2|X\\leq3)=\\frac{\\text{n(transaksi yang memesan 2 porsi)}}{\\text{n(transaksi yang pesan kurang atau sama dengan 3 porsi)}}$$\n",
    "\n",
    "$$\\text{P}(X=2|X\\leq3)=\\frac{230}{770}$$"
   ]
  },
  {
   "cell_type": "markdown",
   "metadata": {
    "id": "jLjovjPG0Vge"
   },
   "source": [
    "### Exercise"
   ]
  },
  {
   "cell_type": "markdown",
   "metadata": {
    "id": "X9UZx1dx0bem"
   },
   "source": [
    "1. Jika diketahui restoran hanya bisa melayani maksimal 3 porsi makanan, berapa peluang ada 1 porsi yang dipesan per transaksinya?"
   ]
  },
  {
   "cell_type": "code",
   "execution_count": 3,
   "metadata": {
    "id": "TJnHMd7L0cSu"
   },
   "outputs": [
    {
     "data": {
      "text/plain": [
       "0.11688311688311688"
      ]
     },
     "execution_count": 3,
     "metadata": {},
     "output_type": "execute_result"
    }
   ],
   "source": [
    "# Mencari P(X=1|X<=3)\n",
    "\n",
    "90/770"
   ]
  },
  {
   "cell_type": "markdown",
   "metadata": {
    "id": "MPFWuuvhQ_oH"
   },
   "source": [
    "2. Peluang porsi makanan X adalah 2 jika diketahui porsi minuman yang dipesan 4 porsi\n",
    "\n",
    "$$\\text{P}(X=2|Y=4)$$"
   ]
  },
  {
   "cell_type": "code",
   "execution_count": 5,
   "metadata": {},
   "outputs": [
    {
     "data": {
      "text/plain": [
       "0.16095890410958905"
      ]
     },
     "execution_count": 5,
     "metadata": {},
     "output_type": "execute_result"
    }
   ],
   "source": [
    "47/(5+10+47+130+100)\n",
    "#0.047/(0.005+0.01+0.047+0.13+0.1)"
   ]
  },
  {
   "cell_type": "markdown",
   "metadata": {
    "id": "5muB3QdkRXxQ"
   },
   "source": [
    "3. Peluang porsi makanan X adalah 2 jika diketahui porsi minuman yang dipesan lebih dari 2 porsi\n",
    "\n",
    "$$\\text{P}(X=2|Y>2)$$"
   ]
  },
  {
   "cell_type": "code",
   "execution_count": 7,
   "metadata": {},
   "outputs": [
    {
     "data": {
      "text/plain": [
       "0.16609589041095887"
      ]
     },
     "execution_count": 7,
     "metadata": {},
     "output_type": "execute_result"
    }
   ],
   "source": [
    "(0.05+0.047)/(0.01+0.005+0.02+0.01+0.05+0.047+0.13+0.16+0.052+0.1)"
   ]
  },
  {
   "cell_type": "markdown",
   "metadata": {
    "id": "Q8m1sMi3RU1k"
   },
   "source": [
    "4. Peluang porsi minuman yang dipesan sama dengan 2 porsi\n",
    "\n",
    "$$\\text{P}(Y=2)$$"
   ]
  },
  {
   "cell_type": "code",
   "execution_count": 9,
   "metadata": {},
   "outputs": [
    {
     "data": {
      "text/plain": [
       "0.308"
      ]
     },
     "execution_count": 9,
     "metadata": {},
     "output_type": "execute_result"
    }
   ],
   "source": [
    "0.055+0.045+0.1+0.05+0.058"
   ]
  },
  {
   "cell_type": "markdown",
   "metadata": {
    "id": "QgwsSipRRQZu"
   },
   "source": [
    "5. Peluang porsi minuman yang dipesan lebih dari 2 porsi\n",
    "\n",
    "$$\\text{P}(Y>2)$$"
   ]
  },
  {
   "cell_type": "code",
   "execution_count": 8,
   "metadata": {},
   "outputs": [
    {
     "data": {
      "text/plain": [
       "0.584"
      ]
     },
     "execution_count": 8,
     "metadata": {},
     "output_type": "execute_result"
    }
   ],
   "source": [
    "(10+5+20+10+50+47+160+130+52+100)/1000"
   ]
  },
  {
   "cell_type": "markdown",
   "metadata": {
    "id": "rN4DCBcGRNvo"
   },
   "source": [
    "6. Peluang porsi minuman yang dipesan sama dengan 2 porsi jika diketahui porsi makanan yang dipesan 4 porsi\n",
    "\n",
    "$$\\text{P}(Y=2|X=4)$$"
   ]
  },
  {
   "cell_type": "code",
   "execution_count": 10,
   "metadata": {},
   "outputs": [
    {
     "data": {
      "text/plain": [
       "0.25217391304347825"
      ]
     },
     "execution_count": 10,
     "metadata": {},
     "output_type": "execute_result"
    }
   ],
   "source": [
    "0.058/(0+0.02+0.058+0.052+0.1)"
   ]
  },
  {
   "cell_type": "markdown",
   "metadata": {
    "id": "IF5x5BPuRLOv"
   },
   "source": [
    "7. Peluang porsi minuman yang dipesan sama dengan 2 porsi jika diketahui porsi minuman yang dipesan kurang dari 2 porsi\n",
    "\n",
    "$$\\text{P}(Y=2|Y<2)$$"
   ]
  },
  {
   "cell_type": "markdown",
   "metadata": {
    "id": "m5hOncGdHAjI"
   },
   "source": [
    "### **Pertanyaan 2.**\n",
    "\n",
    "Masih di kondisi yang sama, jika diketahui restoran hanya bisa melayani maksimal 3 porsi, berapa ekpektasi porsi yang dipesan?"
   ]
  },
  {
   "cell_type": "markdown",
   "metadata": {
    "id": "OSUovGpYX8tl"
   },
   "source": [
    "- Eksektasi porsi yang dipesan jika hanya melayani maksimal 3 porsi\n",
    "- Hitung Conditional PMF $P(X=x|X\\leq3)$ \n",
    "  - Data transaksi makanan jika hanya bisa melayani maksimal 3 porsi, $X\\leq3$ dan conditional PMF nya\n",
    "      <table>\n",
    "          <thead>\n",
    "              <tr>\n",
    "                  <th></th>\n",
    "              </tr>\n",
    "              <tr>\n",
    "                  <th></th>\n",
    "                  <th></th>\n",
    "                  <th>Transaksi</th>\n",
    "                  <th>P(X=x|X<=3)</th>\n",
    "              </tr>\n",
    "          </thead>\n",
    "          <tbody>\n",
    "              <tr>\n",
    "                  <td rowspan=5><b>X</b></td>\n",
    "                  <td>0</td>\n",
    "                  <td>80</td>\n",
    "                  <td>0.104</td>\n",
    "              </tr>\n",
    "              <tr>\n",
    "                  <td>1</td>\n",
    "                  <td>90</td>\n",
    "                  <td>0.117</td>\n",
    "              </tr>\n",
    "              <tr>\n",
    "                  <td>2</td>\n",
    "                  <td>230</td>\n",
    "                  <td>0.299</td>\n",
    "              </tr>\n",
    "              <tr>\n",
    "                  <td>3</td>\n",
    "                  <td>370</td>\n",
    "                  <td>0.481</td>\n",
    "              </tr>\n",
    "              <tr>\n",
    "                  <td><b>Total</b></td>\n",
    "                  <td>770</td>\n",
    "                  <td>1</td>\n",
    "              </tr>\n",
    "          </tbody>\n",
    "      </table>\n",
    "\n",
    "- Hitung Conditional Expectationnya \n",
    "$$\\text{E}[X|X\\leq3]=\\sum_ix_ip_{X|X\\leq3}(x_i)$$\n",
    "\n",
    "$\\text{E}[X|X\\leq3]=(0\\times0.104)+(1\\times0.117)+(2\\times0.299)+(3\\times0.481)$\n",
    "\n",
    "$\\text{E}[X|X\\leq3]=2.158$"
   ]
  },
  {
   "cell_type": "markdown",
   "metadata": {
    "id": "H9n_7dQbdNRx"
   },
   "source": [
    "### **Pertanyaan 3.**\n",
    "\n",
    "Berapa peluang porsi makanan yang dipesan sama dengan minuman?"
   ]
  },
  {
   "cell_type": "markdown",
   "metadata": {
    "id": "G2GhpkKZd1LH"
   },
   "source": [
    "- Untuk mencari peluang ini kita perlu tahu peluang bersama ketika makanan dipesan dengan minuman\n",
    "- Kita kembali ke data awal\n",
    "\n",
    "<table>\n",
    "    <thead>\n",
    "        <tr>\n",
    "            <th></th>\n",
    "            <th colspan=5>Minuman</th>\n",
    "        </tr>\n",
    "        <tr>\n",
    "            <th></th>\n",
    "            <th></th>\n",
    "            <th>0</th>\n",
    "            <th>1</th>\n",
    "            <th>2</th>\n",
    "            <th>3</th>\n",
    "            <th>4</th>\n",
    "        </tr>\n",
    "    </thead>\n",
    "    <tbody>\n",
    "        <tr>\n",
    "            <td rowspan=5><b>Makanan</b></td>\n",
    "            <td>0</td>\n",
    "            <td>0</td>\n",
    "            <td>10</td>\n",
    "            <td>55</td>\n",
    "            <td>10</td>\n",
    "            <td>5</td>\n",
    "        </tr>\n",
    "        <tr>\n",
    "            <td>1</td>\n",
    "            <td>5</td>\n",
    "            <td>10</td>\n",
    "            <td>45</td>\n",
    "            <td>20</td>\n",
    "            <td>10</td>\n",
    "        </tr>\n",
    "        <tr>\n",
    "            <td>2</td>\n",
    "            <td>3</td>\n",
    "            <td>30</td>\n",
    "            <td>100</td>\n",
    "            <td>50</td>\n",
    "            <td>47</td>\n",
    "        </tr>\n",
    "        <tr>\n",
    "            <td>3</td>\n",
    "            <td>0</td>\n",
    "            <td>30</td>\n",
    "            <td>50</td>\n",
    "            <td>160</td>\n",
    "            <td>130</td>\n",
    "        </tr>\n",
    "        <tr>\n",
    "            <td>4</td>\n",
    "            <td>0</td>\n",
    "            <td>20</td>\n",
    "            <td>58</td>\n",
    "            <td>52</td>\n",
    "            <td>100</td>\n",
    "        </tr>\n",
    "    </tbody>\n",
    "</table>\n",
    "\n",
    "- Dari data tersebut cari peluang bersama atau joint PMF nya"
   ]
  },
  {
   "cell_type": "markdown",
   "metadata": {
    "id": "ejgjAgUu2CTP"
   },
   "source": [
    "##### 1. Joint PMF\n",
    "- Misalkan banyak porsi makanan adalah variable random $X$ dimana $X=\\{0,1,2,3,4\\}$, dan $Y$ adalah banyak minuman yang dipesan maka bisa kita tuliskan seperti ini joint PMF dari X dan Y\n",
    "- Joint PMF $p_{X,Y}(x,y)$ didapatkan dari frekuensi kemunculan bersama dibagi dengan total transaksi yaitu 1000\n",
    "<table>\n",
    "    <thead>\n",
    "        <tr>\n",
    "            <th></th>\n",
    "            <th colspan=7>Y</th>\n",
    "        </tr>\n",
    "        <tr>\n",
    "            <th></th>\n",
    "            <th></th>\n",
    "            <th>0</th>\n",
    "            <th>1</th>\n",
    "            <th>2</th>\n",
    "            <th>3</th>\n",
    "            <th>4</th>\n",
    "        </tr>\n",
    "    </thead>\n",
    "    <tbody>\n",
    "        <tr>\n",
    "            <td rowspan=5><b>X</b></td>\n",
    "            <td>0</td>\n",
    "            <td>0</td>\n",
    "            <td>0.01</td>\n",
    "            <td>0.055</td>\n",
    "            <td>0.01</td>\n",
    "            <td>0.005</td>\n",
    "        </tr>\n",
    "        <tr>\n",
    "            <td>1</td>\n",
    "            <td>0.005</td>\n",
    "            <td>0.01</td>\n",
    "            <td>0.045</td>\n",
    "            <td>0.02</td>\n",
    "            <td>0.01</td>\n",
    "        </tr>\n",
    "        <tr>\n",
    "            <td>2</td>\n",
    "            <td>0.003</td>\n",
    "            <td>0.03</td>\n",
    "            <td>0.1</td>\n",
    "            <td>0.05</td>\n",
    "            <td>0.047</td>\n",
    "        </tr>\n",
    "        <tr>\n",
    "            <td>3</td>\n",
    "            <td>0</td>\n",
    "            <td>0.03</td>\n",
    "            <td>0.05</td>\n",
    "            <td>0.16</td>\n",
    "            <td>0.13</td>\n",
    "        </tr>\n",
    "        <tr>\n",
    "            <td>4</td>\n",
    "            <td>0</td>\n",
    "            <td>0.02</td>\n",
    "            <td>0.058</td>\n",
    "            <td>0.052</td>\n",
    "            <td>0.1</td>\n",
    "        </tr>\n",
    "    </tbody>\n",
    "</table>\n"
   ]
  },
  {
   "cell_type": "markdown",
   "metadata": {
    "id": "l-5dnxMH2CTP"
   },
   "source": [
    "##### 2. Cari peluang ketika X=Y\n",
    "\n",
    "<table>\n",
    "    <thead>\n",
    "        <tr>\n",
    "            <th></th>\n",
    "            <th colspan=5>Y</th>\n",
    "        </tr>\n",
    "        <tr>\n",
    "            <th></th>\n",
    "            <th></th>\n",
    "            <th>0</th>\n",
    "            <th>1</th>\n",
    "            <th>2</th>\n",
    "            <th>3</th>\n",
    "            <th>4</th>\n",
    "        </tr>\n",
    "    </thead>\n",
    "    <tbody>\n",
    "        <tr>\n",
    "            <td rowspan=5><b>X</b></td>\n",
    "            <td>0</td>\n",
    "            <td><mark>0</mark></td>\n",
    "            <td>0.01</td>\n",
    "            <td>0.055</td>\n",
    "            <td>0.01</td>\n",
    "            <td>0.005</td>\n",
    "        </tr>\n",
    "        <tr>\n",
    "            <td>1</td>\n",
    "            <td>0.005</td>\n",
    "            <td><mark>0.01</mark></td>\n",
    "            <td>0.045</td>\n",
    "            <td>0.02</td>\n",
    "            <td>0.01</td>\n",
    "        </tr>\n",
    "        <tr>\n",
    "            <td>2</td>\n",
    "            <td>0.003</td>\n",
    "            <td>0.03</td>\n",
    "            <td><mark>0.1</mark></td>\n",
    "            <td>0.05</td>\n",
    "            <td>0.047</td>\n",
    "        </tr>\n",
    "        <tr>\n",
    "            <td>3</td>\n",
    "            <td>0</td>\n",
    "            <td>0.03</td>\n",
    "            <td>0.05</td>\n",
    "            <td><mark>0.16</mark></td>\n",
    "            <td>0.13</td>\n",
    "        </tr>\n",
    "        <tr>\n",
    "            <td>4</td>\n",
    "            <td>0</td>\n",
    "            <td>0.02</td>\n",
    "            <td>0.058</td>\n",
    "            <td>0.052</td>\n",
    "            <td><mark>0.1</mark></td>\n",
    "        </tr>\n",
    "    </tbody>\n",
    "</table>\n",
    "\n"
   ]
  },
  {
   "cell_type": "markdown",
   "metadata": {
    "id": "Gd4W5S0lqFgs"
   },
   "source": [
    "##### 3. Hitung jumlahan peluang ketika X=Y\n",
    "$\\text{P}(X=Y)=\\text{P}(X=0,Y=0)+\\text{P}(X=1,Y=1)+\\text{P}(X=2,Y=2)+\\text{P}(X=3,Y=3)+\\text{P}(X=4,Y=4)$\n",
    "\n",
    "  $\\text{P}(X=Y)=0.01+0.1+0.16+0.1$\n",
    "\n",
    "  $\\text{P}(X=Y)=0.37$"
   ]
  },
  {
   "cell_type": "markdown",
   "metadata": {
    "id": "vBZ3HwJBhcVN"
   },
   "source": [
    "### **Pertanyaan 4.**\n",
    "\n",
    "Restoran tersebut ingin mengetahui mana yang lebih disukai memesan lebih banyak menu minuman atau menu makanan?\n",
    "\n",
    "- Hitung peluang banyak porsi makanan lebih banyak dari porsi minuman yang dipesan\n",
    "- Hitung peluang banyak porsi makanan lebih sedikit dari porsi minuman yang dipesan\n",
    "- Bandingkan keduanya"
   ]
  },
  {
   "cell_type": "markdown",
   "metadata": {
    "id": "REEWJED-hiDc"
   },
   "source": [
    "##### 1. Hitung peluang P(X>Y)\n",
    "\n",
    "<table>\n",
    "    <thead>\n",
    "        <tr>\n",
    "            <th></th>\n",
    "            <th colspan=5>Y</th>\n",
    "        </tr>\n",
    "        <tr>\n",
    "            <th></th>\n",
    "            <th></th>\n",
    "            <th>0</th>\n",
    "            <th>1</th>\n",
    "            <th>2</th>\n",
    "            <th>3</th>\n",
    "            <th>4</th>\n",
    "        </tr>\n",
    "    </thead>\n",
    "    <tbody>\n",
    "        <tr>\n",
    "            <td rowspan=5><b>X</b></td>\n",
    "            <td>0</td>\n",
    "            <td>0</td>\n",
    "            <td>0.01</td>\n",
    "            <td>0.055</td>\n",
    "            <td>0.01</td>\n",
    "            <td>0.005</td>\n",
    "        </tr>\n",
    "        <tr>\n",
    "            <td>1</td>\n",
    "            <td><mark>0.005</mark></td>\n",
    "            <td>0.01</td>\n",
    "            <td>0.045</td>\n",
    "            <td>0.02</td>\n",
    "            <td>0.01</td>\n",
    "        </tr>\n",
    "        <tr>\n",
    "            <td>2</td>\n",
    "            <td><mark>0.003</mark></td>\n",
    "            <td><mark>0.03</mark></td>\n",
    "            <td>0.1</td>\n",
    "            <td>0.05</td>\n",
    "            <td>0.047</td>\n",
    "        </tr>\n",
    "        <tr>\n",
    "            <td>3</td>\n",
    "            <td><mark>0</mark></td>\n",
    "            <td><mark>0.03</mark></td>\n",
    "            <td><mark>0.05</mark></td>\n",
    "            <td>0.16</td>\n",
    "            <td>0.13</td>\n",
    "        </tr>\n",
    "        <tr>\n",
    "            <td>4</td>\n",
    "            <td><mark>0</mark></td>\n",
    "            <td><mark>0.02</mark></td>\n",
    "            <td><mark>0.058</mark></td>\n",
    "            <td><mark>0.052</mark></td>\n",
    "            <td>0.1</td>\n",
    "        </tr>\n",
    "    </tbody>\n",
    "</table>"
   ]
  },
  {
   "cell_type": "markdown",
   "metadata": {
    "id": "NnUWoyIWnFmg"
   },
   "source": [
    "$\\text{P}(X>Y)=0.005+0.003+0.03+0.03+0.05+0.02+0.058+0.052+0.1$\n",
    "\n",
    "$\\text{P}(X>Y)=0.248$"
   ]
  },
  {
   "cell_type": "markdown",
   "metadata": {
    "id": "NWD1HjGbhkis"
   },
   "source": [
    "#####  2. Hitung peluang (X<Y)"
   ]
  },
  {
   "cell_type": "markdown",
   "metadata": {
    "id": "og_R_yrjnwY2"
   },
   "source": [
    "<table>\n",
    "    <thead>\n",
    "        <tr>\n",
    "            <th></th>\n",
    "            <th colspan=5>Y</th>\n",
    "        </tr>\n",
    "        <tr>\n",
    "            <th></th>\n",
    "            <th></th>\n",
    "            <th>0</th>\n",
    "            <th>1</th>\n",
    "            <th>2</th>\n",
    "            <th>3</th>\n",
    "            <th>4</th>\n",
    "        </tr>\n",
    "    </thead>\n",
    "    <tbody>\n",
    "        <tr>\n",
    "            <td rowspan=5><b>X</b></td>\n",
    "            <td>0</td>\n",
    "            <td>0</td>\n",
    "            <td><mark>0.01</mark></td>\n",
    "            <td><mark>0.055</mark></td>\n",
    "            <td><mark>0.01</mark></td>\n",
    "            <td><mark>0.005</mark></td>\n",
    "        </tr>\n",
    "        <tr>\n",
    "            <td>1</td>\n",
    "            <td>0.005</td>\n",
    "            <td>0.01</td>\n",
    "            <td><mark>0.045</mark></td>\n",
    "            <td><mark>0.02</mark></td>\n",
    "            <td><mark>0.01</mark></td>\n",
    "        </tr>\n",
    "        <tr>\n",
    "            <td>2</td>\n",
    "            <td>0.003</td>\n",
    "            <td>0.03</td>\n",
    "            <td>0.1</td>\n",
    "            <td><mark>0.05</mark></td>\n",
    "            <td><mark>0.047</mark></td>\n",
    "        </tr>\n",
    "        <tr>\n",
    "            <td>3</td>\n",
    "            <td>0</td>\n",
    "            <td>0.03</td>\n",
    "            <td>0.05</td>\n",
    "            <td>0.16</td>\n",
    "            <td><mark>0.13</mark></td>\n",
    "        </tr>\n",
    "        <tr>\n",
    "            <td>4</td>\n",
    "            <td>0</td>\n",
    "            <td>0.02</td>\n",
    "            <td>0.058</td>\n",
    "            <td>0.052</td>\n",
    "            <td>0.1</td>\n",
    "        </tr>\n",
    "    </tbody>\n",
    "</table>"
   ]
  },
  {
   "cell_type": "markdown",
   "metadata": {
    "id": "qqeUVJU7nef-"
   },
   "source": [
    "$\\text{P}(X<Y)=0.01+0.0055+0.01+0.005+0.045+0.02+0.01+0.05+0.047+0.13$\n",
    "\n",
    "$\\text{P}(X<Y)=0.382$"
   ]
  },
  {
   "cell_type": "markdown",
   "metadata": {
    "id": "oz-bv-R72CTP"
   },
   "source": [
    "  ##### Kesimpulan \n",
    "\n",
    "  - Ternyata pengunjung lebih suka memesan minuman lebih banyak dari porsi makanan\n",
    "  - Mungkin saja tempatnya cocok dibuat ngopi santai, sehingga tidak banyak yang memesan makanan\n"
   ]
  },
  {
   "cell_type": "markdown",
   "metadata": {
    "id": "dhPoVAN82CTQ"
   },
   "source": [
    "### Exercise"
   ]
  },
  {
   "cell_type": "markdown",
   "metadata": {
    "id": "IbyyxG6-2CTQ"
   },
   "source": [
    "1. Berapa peluang pengunjung memesan 3 porsi makanan dan 2 minuman?"
   ]
  },
  {
   "cell_type": "code",
   "execution_count": 11,
   "metadata": {},
   "outputs": [
    {
     "data": {
      "text/plain": [
       "0.05"
      ]
     },
     "execution_count": 11,
     "metadata": {},
     "output_type": "execute_result"
    }
   ],
   "source": [
    "# Mencari P(X=3,Y=2)\n",
    "0.05"
   ]
  },
  {
   "cell_type": "markdown",
   "metadata": {
    "id": "lzyKbRXeqoHy"
   },
   "source": [
    "## **Case Stude 1: Sum of Two Dice**\n",
    "___\n",
    "\n",
    "- Expectation of Multiple Random Variable"
   ]
  },
  {
   "cell_type": "markdown",
   "metadata": {
    "id": "aRA0WsY7q88k"
   },
   "source": [
    "- Misal kita melempar **dua** dadu bermata 6 Secara Bersamaan\n",
    "\n",
    "<img src=\"https://imgix2.ruangguru.com/assets/miscellaneous/jpg_7jaczf_4578.jpg\" width=200> -- Dadu pertama\n",
    "\n",
    "<img src=\"https://static7.depositphotos.com/1001759/733/i/600/depositphotos_7339064-stock-photo-red-and-white-dice.jpg\" width=200> -- Dadu kedua"
   ]
  },
  {
   "cell_type": "markdown",
   "metadata": {
    "id": "9KCgs9syrCdH"
   },
   "source": [
    "- Ditanya, berapa ekspektasi jumlah angka mata dadu yang keluar dari 2 dadu tersebut?\n",
    "\n",
    "- Kita misalkan:\n",
    "  - X adalah variable random yang menyatakan angka mata dadu 1, $X ={1,2,3,4,5,6}$\n",
    "  - Y adalah variable random yang menyatakan angka mata dadu 2, $Y ={1,2,3,4,5,6}$"
   ]
  },
  {
   "cell_type": "markdown",
   "metadata": {
    "id": "aR4T3oN8rljK"
   },
   "source": [
    "---\n",
    "**Pendekatan 1 - Simulasi**\n",
    "- Untuk menjawabnya, kita bisa melakukan simulasi dengan cara melemparkan 2 dadu tersebut berkali-kali\n",
    "- Hitung Joint PMF dari simulasi\n",
    "- Hitung ekspektasinya"
   ]
  },
  {
   "cell_type": "code",
   "execution_count": 2,
   "metadata": {
    "colab": {
     "base_uri": "https://localhost:8080/",
     "height": 842,
     "referenced_widgets": [
      "dd7284bf057f4976973cb8553e9d5bb4",
      "16e7ea37c78f43db9a9233cfbc8ba98a",
      "232f3c196dbb45498b0afbc400bdb2ff",
      "6a6c3a78f90c402db97ecdc194a2517b",
      "00442777f1344007abe7ecacb0d4610d",
      "da718d4b82b04164a48f300a4570ab01",
      "01504bf8f5be4be296a20b62df45c261"
     ]
    },
    "executionInfo": {
     "elapsed": 3115,
     "status": "ok",
     "timestamp": 1662090194640,
     "user": {
      "displayName": "Ana Alimatus Zaqiyah",
      "userId": "13257616599832003835"
     },
     "user_tz": -420
    },
    "id": "BikyCNglJE87",
    "outputId": "667b0569-c546-4be2-c5f0-1b836d0c4068"
   },
   "outputs": [
    {
     "name": "stdout",
     "output_type": "stream",
     "text": [
      "Masukkan Jumlah Pelemparan:\n"
     ]
    },
    {
     "data": {
      "application/vnd.jupyter.widget-view+json": {
       "model_id": "59888f2df4b546fbbee6c648fa87fe6d",
       "version_major": 2,
       "version_minor": 0
      },
      "text/plain": [
       "interactive(children=(SelectionSlider(continuous_update=False, description='jumlah:', options=(10, 100, 500, 1…"
      ]
     },
     "metadata": {},
     "output_type": "display_data"
    }
   ],
   "source": [
    "playground_pelemparan_dadu()"
   ]
  },
  {
   "cell_type": "markdown",
   "metadata": {
    "id": "CcrIMEMFr5wm"
   },
   "source": [
    "---\n",
    "**Pendekatan 2 - Mengunakan Formula Expected Rule**\n",
    "- Selain menggunakan simulasi, kita bisa langsung mencari dengan nilai peluang analitis keluarnya angka dari 2 dadu masing masing punya peluang yang sama yaitu 1/36 "
   ]
  },
  {
   "cell_type": "markdown",
   "metadata": {
    "id": "ll1xVUjVq0zC"
   },
   "source": [
    "<table>\n",
    "    <thead>\n",
    "        <tr>\n",
    "            <th></th>\n",
    "            <th colspan=6>Y</th>\n",
    "        </tr>\n",
    "        <tr>\n",
    "            <th></th>\n",
    "            <th></th>\n",
    "            <th>1</th>\n",
    "            <th>2</th>\n",
    "            <th>3</th>\n",
    "            <th>4</th>\n",
    "            <th>5</th>\n",
    "            <th>6</th>\n",
    "        </tr>\n",
    "    </thead>\n",
    "    <tbody>\n",
    "        <tr>\n",
    "            <td rowspan=6><b>X</b></td>\n",
    "            <td>1</td>\n",
    "            <td>(1,1)</td>\n",
    "            <td>(1,2)</td>\n",
    "            <td>(1,3)</td>\n",
    "            <td>(1,4)</td>\n",
    "            <td>(1,5)</td>\n",
    "            <td>(1,6)</td>\n",
    "        </tr>\n",
    "        <tr>\n",
    "            <td>2</td>\n",
    "            <td>(2,1)</td>\n",
    "            <td>(2,2)</td>\n",
    "            <td>(2,3)</td>\n",
    "            <td>(2,4)</td>\n",
    "            <td>(2,5)</td>\n",
    "            <td>(2,6)</td>\n",
    "        </tr>\n",
    "        <tr>\n",
    "            <td>3</td>\n",
    "            <td>(3,1)</td>\n",
    "            <td>(3,2)</td>\n",
    "            <td>(3,3)</td>\n",
    "            <td>(3,4)</td>\n",
    "            <td>(3,5)</td>\n",
    "            <td>(3,6)</td>\n",
    "        </tr>\n",
    "        <tr>\n",
    "            <td>4</td>\n",
    "            <td>(4,1)</td>\n",
    "            <td>(4,2)</td>\n",
    "            <td>(4,3)</td>\n",
    "            <td>(4,4)</td>\n",
    "            <td>(4,5)</td>\n",
    "            <td>(4,6)</td>\n",
    "        </tr>\n",
    "        <tr>\n",
    "            <td>5</td>\n",
    "            <td>(5,1)</td>\n",
    "            <td>(5,2)</td>\n",
    "            <td>(5,3)</td>\n",
    "            <td>(5,4)</td>\n",
    "            <td>(5,5)</td>\n",
    "            <td>(5,6)</td>\n",
    "        </tr>\n",
    "        <tr>\n",
    "            <td>6</td>\n",
    "            <td>(6,1)</td>\n",
    "            <td>(6,2)</td>\n",
    "            <td>(6,3)</td>\n",
    "            <td>(6,4)</td>\n",
    "            <td>(6,5)</td>\n",
    "            <td>(6,6)</td>\n",
    "        </tr>\n",
    "    </tbody>\n",
    "</table>"
   ]
  },
  {
   "cell_type": "markdown",
   "metadata": {
    "id": "h8vAxLmusIqP"
   },
   "source": [
    "- Selanjutnya kita cari jumlahan dari kedua mata dadu"
   ]
  },
  {
   "cell_type": "markdown",
   "metadata": {
    "id": "I2G4f3IbsNGo"
   },
   "source": [
    "<table>\n",
    "    <thead>\n",
    "        <tr>\n",
    "            <th></th>\n",
    "            <th colspan=6>Y</th>\n",
    "        </tr>\n",
    "        <tr>\n",
    "            <th></th>\n",
    "            <th></th>\n",
    "            <th>1</th>\n",
    "            <th>2</th>\n",
    "            <th>3</th>\n",
    "            <th>4</th>\n",
    "            <th>5</th>\n",
    "            <th>6</th>\n",
    "        </tr>\n",
    "    </thead>\n",
    "    <tbody>\n",
    "        <tr>\n",
    "            <td rowspan=6><b>X</b></td>\n",
    "            <td>1</td>\n",
    "            <td>2</td>\n",
    "            <td>3</td>\n",
    "            <td>4</td>\n",
    "            <td>5</td>\n",
    "            <td>6</td>\n",
    "            <td>7</td>\n",
    "        </tr>\n",
    "        <tr>\n",
    "            <td>2</td>\n",
    "            <td>3</td>\n",
    "            <td>4</td>\n",
    "            <td>5</td>\n",
    "            <td>6</td>\n",
    "            <td>7</td>\n",
    "            <td>8</td>\n",
    "        </tr>\n",
    "        <tr>\n",
    "            <td>3</td>\n",
    "            <td>4</td>\n",
    "            <td>5</td>\n",
    "            <td>6</td>\n",
    "            <td>7</td>\n",
    "            <td>8</td>\n",
    "            <td>9</td>\n",
    "        </tr>\n",
    "        <tr>\n",
    "            <td>4</td>\n",
    "            <td>5</td>\n",
    "            <td>6</td>\n",
    "            <td>7</td>\n",
    "            <td>8</td>\n",
    "            <td>9</td>\n",
    "            <td>10</td>\n",
    "        </tr>\n",
    "        <tr>\n",
    "            <td>5</td>\n",
    "            <td>6</td>\n",
    "            <td>7</td>\n",
    "            <td>8</td>\n",
    "            <td>9</td>\n",
    "            <td>10</td>\n",
    "            <td>11</td>\n",
    "        </tr>\n",
    "        <tr>\n",
    "            <td>6</td>\n",
    "            <td>7</td>\n",
    "            <td>8</td>\n",
    "            <td>9</td>\n",
    "            <td>10</td>\n",
    "            <td>11</td>\n",
    "            <td>12</td>\n",
    "        </tr>\n",
    "    </tbody>\n",
    "</table>"
   ]
  },
  {
   "cell_type": "markdown",
   "metadata": {
    "id": "KV_yFB4SsrXQ"
   },
   "source": [
    "- misalkan Z adalah jumlah X+Y\n",
    "- distribusi peluang Z adalah"
   ]
  },
  {
   "cell_type": "markdown",
   "metadata": {
    "id": "47wr4-2Fs0eJ"
   },
   "source": [
    "|Z|Frek Muncul|P(Z=z)|\n",
    "|-|--------------------|------|\n",
    "|2|1|1/36|\n",
    "|3|2|2/36|\n",
    "|4|3|3/36|\n",
    "|5|4|4/36|\n",
    "|6|5|5/36|\n",
    "|7|6|6/36|\n",
    "|8|5|5/36|\n",
    "|9|4|4/36|\n",
    "|10|3|3/36|\n",
    "|11|2|2/36|\n",
    "|12|1|1/36|\n"
   ]
  },
  {
   "cell_type": "markdown",
   "metadata": {
    "id": "TURc5zgEt8ga"
   },
   "source": [
    "- Ekspected Value dari Z\n",
    "\n",
    "  $\\text{E}[Z]=\\sum_izp_Z(z)$\n",
    "\n",
    "  $\\text{E}[Z]=(2×1/36)+(3×2/36)+...+(12×1/36)$\n",
    "\n",
    "  $\\text{E}[Z]=7$"
   ]
  },
  {
   "cell_type": "markdown",
   "metadata": {
    "id": "oZar_8L-uauC"
   },
   "source": [
    "- Atau bisa juga dengan cara seperti ini (Cara Lain)"
   ]
  },
  {
   "cell_type": "markdown",
   "metadata": {
    "id": "tYUCKdEPufio"
   },
   "source": [
    "  <table>\n",
    "      <thead>\n",
    "          <tr>\n",
    "              <th></th>\n",
    "              <th colspan=6>Y</th>\n",
    "          </tr>\n",
    "          <tr>\n",
    "              <th></th>\n",
    "              <th></th>\n",
    "              <th>1</th>\n",
    "              <th>2</th>\n",
    "              <th>3</th>\n",
    "              <th>4</th>\n",
    "              <th>5</th>\n",
    "              <th>6</th>\n",
    "          </tr>\n",
    "      </thead>\n",
    "      <tbody>\n",
    "          <tr>\n",
    "              <td rowspan=6><b>X</b></td>\n",
    "              <td>1</td>\n",
    "              <td>2</td>\n",
    "              <td>3</td>\n",
    "              <td>4</td>\n",
    "              <td>5</td>\n",
    "              <td>6</td>\n",
    "              <td>7</td>\n",
    "          </tr>\n",
    "          <tr>\n",
    "              <td>2</td>\n",
    "              <td>3</td>\n",
    "              <td>4</td>\n",
    "              <td>5</td>\n",
    "              <td>6</td>\n",
    "              <td>7</td>\n",
    "              <td>8</td>\n",
    "          </tr>\n",
    "          <tr>\n",
    "              <td>3</td>\n",
    "              <td>4</td>\n",
    "              <td>5</td>\n",
    "              <td>6</td>\n",
    "              <td>7</td>\n",
    "              <td>8</td>\n",
    "              <td>9</td>\n",
    "          </tr>\n",
    "          <tr>\n",
    "              <td>4</td>\n",
    "              <td>5</td>\n",
    "              <td>6</td>\n",
    "              <td>7</td>\n",
    "              <td>8</td>\n",
    "              <td>9</td>\n",
    "              <td>10</td>\n",
    "          </tr>\n",
    "          <tr>\n",
    "              <td>5</td>\n",
    "              <td>6</td>\n",
    "              <td>7</td>\n",
    "              <td>8</td>\n",
    "              <td>9</td>\n",
    "              <td>10</td>\n",
    "              <td>11</td>\n",
    "          </tr>\n",
    "          <tr>\n",
    "              <td>6</td>\n",
    "              <td>7</td>\n",
    "              <td>8</td>\n",
    "              <td>9</td>\n",
    "              <td>10</td>\n",
    "              <td>11</td>\n",
    "              <td>12</td>\n",
    "          </tr>\n",
    "      </tbody>\n",
    "  </table>"
   ]
  },
  {
   "cell_type": "markdown",
   "metadata": {
    "id": "XzFK5at5uh8g"
   },
   "source": [
    "- hitung joint PMF dan jumlahan X+Y"
   ]
  },
  {
   "cell_type": "markdown",
   "metadata": {
    "id": "xf6qVtIvukiJ"
   },
   "source": [
    "<table>\n",
    "    <thead>\n",
    "        <tr>\n",
    "            <th></th>\n",
    "            <th colspan=6>Y</th>\n",
    "        </tr>\n",
    "        <tr>\n",
    "            <th></th>\n",
    "            <th></th>\n",
    "            <th>1</th>\n",
    "            <th>2</th>\n",
    "            <th>3</th>\n",
    "            <th>4</th>\n",
    "            <th>5</th>\n",
    "            <th>6</th>\n",
    "        </tr>\n",
    "    </thead>\n",
    "    <tbody>\n",
    "        <tr>\n",
    "            <td rowspan=6><b>X</b></td>\n",
    "            <td>1</td>\n",
    "            <td>1/36</td>\n",
    "            <td>1/36</td>\n",
    "            <td>1/36</td>\n",
    "            <td>1/36</td>\n",
    "            <td>1/36</td>\n",
    "            <td>1/36</td>\n",
    "        </tr>\n",
    "        <tr>\n",
    "            <td>2</td>\n",
    "            <td>1/36</td>\n",
    "            <td>1/36</td>\n",
    "            <td>1/36</td>\n",
    "            <td>1/36</td>\n",
    "            <td>1/36</td>\n",
    "            <td>1/36</td>\n",
    "        </tr>\n",
    "        <tr>\n",
    "            <td>3</td>\n",
    "            <td>1/36</td>\n",
    "            <td>1/36</td>\n",
    "            <td>1/36</td>\n",
    "            <td>1/36</td>\n",
    "            <td>1/36</td>\n",
    "            <td>1/36</td>\n",
    "        </tr>\n",
    "        <tr>\n",
    "            <td>4</td>\n",
    "            <td>1/36</td>\n",
    "            <td>1/36</td>\n",
    "            <td>1/36</td>\n",
    "            <td>1/36</td>\n",
    "            <td>1/36</td>\n",
    "            <td>1/36</td>\n",
    "        </tr>\n",
    "        <tr>\n",
    "            <td>5</td>\n",
    "            <td>1/36</td>\n",
    "            <td>1/36</td>\n",
    "            <td>1/36</td>\n",
    "            <td>1/36</td>\n",
    "            <td>1/36</td>\n",
    "            <td>1/36</td>\n",
    "        </tr>\n",
    "        <tr>\n",
    "            <td>6</td>\n",
    "            <td>1/36</td>\n",
    "            <td>1/36</td>\n",
    "            <td>1/36</td>\n",
    "            <td>1/36</td>\n",
    "            <td>1/36</td>\n",
    "            <td>1/36</td>\n",
    "        </tr>\n",
    "    </tbody>\n",
    "</table>"
   ]
  },
  {
   "cell_type": "markdown",
   "metadata": {
    "id": "ON6qEpC6u_1e"
   },
   "source": [
    "<table>\n",
    "    <thead>\n",
    "        <tr>\n",
    "            <th></th>\n",
    "            <th colspan=6>Y</th>\n",
    "        </tr>\n",
    "        <tr>\n",
    "            <th></th>\n",
    "            <th></th>\n",
    "            <th>1</th>\n",
    "            <th>2</th>\n",
    "            <th>3</th>\n",
    "            <th>4</th>\n",
    "            <th>5</th>\n",
    "            <th>6</th>\n",
    "        </tr>\n",
    "    </thead>\n",
    "    <tbody>\n",
    "        <tr>\n",
    "            <td rowspan=6><b>X</b></td>\n",
    "            <td>1</td>\n",
    "            <td>2</td>\n",
    "            <td>3</td>\n",
    "            <td>4</td>\n",
    "            <td>5</td>\n",
    "            <td>6</td>\n",
    "            <td>7</td>\n",
    "        </tr>\n",
    "        <tr>\n",
    "            <td>2</td>\n",
    "            <td>3</td>\n",
    "            <td>4</td>\n",
    "            <td>5</td>\n",
    "            <td>6</td>\n",
    "            <td>7</td>\n",
    "            <td>8</td>\n",
    "        </tr>\n",
    "        <tr>\n",
    "            <td>3</td>\n",
    "            <td>4</td>\n",
    "            <td>5</td>\n",
    "            <td>6</td>\n",
    "            <td>7</td>\n",
    "            <td>8</td>\n",
    "            <td>9</td>\n",
    "        </tr>\n",
    "        <tr>\n",
    "            <td>4</td>\n",
    "            <td>5</td>\n",
    "            <td>6</td>\n",
    "            <td>7</td>\n",
    "            <td>8</td>\n",
    "            <td>9</td>\n",
    "            <td>10</td>\n",
    "        </tr>\n",
    "        <tr>\n",
    "            <td>5</td>\n",
    "            <td>6</td>\n",
    "            <td>7</td>\n",
    "            <td>8</td>\n",
    "            <td>9</td>\n",
    "            <td>10</td>\n",
    "            <td>11</td>\n",
    "        </tr>\n",
    "        <tr>\n",
    "            <td>6</td>\n",
    "            <td>7</td>\n",
    "            <td>8</td>\n",
    "            <td>9</td>\n",
    "            <td>10</td>\n",
    "            <td>11</td>\n",
    "            <td>12</td>\n",
    "        </tr>\n",
    "    </tbody>\n",
    "</table>"
   ]
  },
  {
   "cell_type": "markdown",
   "metadata": {
    "id": "wKN2zsYDvF3U"
   },
   "source": [
    "- Ekspected Value dari Z\n",
    "\n",
    "  $\\text{E}[Z]=\\sum_ig(x,y)p_{X,Y}(x,y)$\n",
    "\n",
    "  $\\text{E}[g(X,Y)]=(2×1/36)+(3×1/36)+(3×1/36)...+(12×1/36)$\n",
    "\n",
    "  $\\text{E}[X+Y]=7$"
   ]
  },
  {
   "cell_type": "markdown",
   "metadata": {
    "id": "CFBM56uhUTK6"
   },
   "source": [
    "---\n",
    "**Pendekatan 3**"
   ]
  },
  {
   "cell_type": "markdown",
   "metadata": {
    "id": "hRYT5kTmUbgV"
   },
   "source": [
    "$$\\text{E}[Z] = \\text{E}[X+Y]$$\n",
    "- Berdasarkan linearity of expectation (lihat video materi 8)\n",
    "\n",
    "$$\\text{E}[Z] = \\text{E}[X]+\\text{E}[Y]$$\n",
    "\n",
    "- Ekspektasi keluar nya angka mata dadu dari 1 dadu adalah 3.5\n",
    "\n",
    "  $\\text{E}[X]=(1×\\frac{1}{6})+(2×\\frac{1}{6})+(3×\\frac{1}{6})+...+(6×\\frac{1}{6})$\n",
    "\n",
    "  $\\text{E}[X]=3.5$\n",
    "\n",
    "  $\\text{E}[X] = \\text{E}[Y]$\n",
    "\n",
    "  $\\text{E}[Z] = \\text{E}[X] + \\text{E}[Y]$\n",
    "\n",
    "  $\\text{E}[Z] = 3.5+3.5$\n",
    "\n",
    "  $\\text{E}[Z] = 7$\n"
   ]
  },
  {
   "cell_type": "markdown",
   "metadata": {},
   "source": []
  }
 ],
 "metadata": {
  "colab": {
   "authorship_tag": "ABX9TyNiFcTsnb3SNWI5ut6xvw2n",
   "collapsed_sections": [
    "YJI0N6_E8gjM",
    "oz-bv-R72CTP"
   ],
   "provenance": []
  },
  "kernelspec": {
   "display_name": "Python 3 (ipykernel)",
   "language": "python",
   "name": "python3"
  },
  "language_info": {
   "codemirror_mode": {
    "name": "ipython",
    "version": 3
   },
   "file_extension": ".py",
   "mimetype": "text/x-python",
   "name": "python",
   "nbconvert_exporter": "python",
   "pygments_lexer": "ipython3",
   "version": "3.9.5"
  },
  "widgets": {
   "application/vnd.jupyter.widget-state+json": {
    "00442777f1344007abe7ecacb0d4610d": {
     "model_module": "@jupyter-widgets/base",
     "model_module_version": "1.2.0",
     "model_name": "LayoutModel",
     "state": {
      "_model_module": "@jupyter-widgets/base",
      "_model_module_version": "1.2.0",
      "_model_name": "LayoutModel",
      "_view_count": null,
      "_view_module": "@jupyter-widgets/base",
      "_view_module_version": "1.2.0",
      "_view_name": "LayoutView",
      "align_content": null,
      "align_items": null,
      "align_self": null,
      "border": null,
      "bottom": null,
      "display": null,
      "flex": null,
      "flex_flow": null,
      "grid_area": null,
      "grid_auto_columns": null,
      "grid_auto_flow": null,
      "grid_auto_rows": null,
      "grid_column": null,
      "grid_gap": null,
      "grid_row": null,
      "grid_template_areas": null,
      "grid_template_columns": null,
      "grid_template_rows": null,
      "height": null,
      "justify_content": null,
      "justify_items": null,
      "left": null,
      "margin": null,
      "max_height": null,
      "max_width": null,
      "min_height": null,
      "min_width": null,
      "object_fit": null,
      "object_position": null,
      "order": null,
      "overflow": null,
      "overflow_x": null,
      "overflow_y": null,
      "padding": null,
      "right": null,
      "top": null,
      "visibility": null,
      "width": null
     }
    },
    "01504bf8f5be4be296a20b62df45c261": {
     "model_module": "@jupyter-widgets/base",
     "model_module_version": "1.2.0",
     "model_name": "LayoutModel",
     "state": {
      "_model_module": "@jupyter-widgets/base",
      "_model_module_version": "1.2.0",
      "_model_name": "LayoutModel",
      "_view_count": null,
      "_view_module": "@jupyter-widgets/base",
      "_view_module_version": "1.2.0",
      "_view_name": "LayoutView",
      "align_content": null,
      "align_items": null,
      "align_self": null,
      "border": null,
      "bottom": null,
      "display": null,
      "flex": null,
      "flex_flow": null,
      "grid_area": null,
      "grid_auto_columns": null,
      "grid_auto_flow": null,
      "grid_auto_rows": null,
      "grid_column": null,
      "grid_gap": null,
      "grid_row": null,
      "grid_template_areas": null,
      "grid_template_columns": null,
      "grid_template_rows": null,
      "height": null,
      "justify_content": null,
      "justify_items": null,
      "left": null,
      "margin": null,
      "max_height": null,
      "max_width": null,
      "min_height": null,
      "min_width": null,
      "object_fit": null,
      "object_position": null,
      "order": null,
      "overflow": null,
      "overflow_x": null,
      "overflow_y": null,
      "padding": null,
      "right": null,
      "top": null,
      "visibility": null,
      "width": null
     }
    },
    "16e7ea37c78f43db9a9233cfbc8ba98a": {
     "model_module": "@jupyter-widgets/controls",
     "model_module_version": "1.5.0",
     "model_name": "SelectionSliderModel",
     "state": {
      "_dom_classes": [],
      "_model_module": "@jupyter-widgets/controls",
      "_model_module_version": "1.5.0",
      "_model_name": "SelectionSliderModel",
      "_options_labels": [
       "10",
       "100",
       "500",
       "1000",
       "10000",
       "100000"
      ],
      "_view_count": null,
      "_view_module": "@jupyter-widgets/controls",
      "_view_module_version": "1.5.0",
      "_view_name": "SelectionSliderView",
      "continuous_update": false,
      "description": "jumlah:",
      "description_tooltip": null,
      "disabled": false,
      "index": 0,
      "layout": "IPY_MODEL_00442777f1344007abe7ecacb0d4610d",
      "orientation": "horizontal",
      "readout": true,
      "style": "IPY_MODEL_da718d4b82b04164a48f300a4570ab01"
     }
    },
    "232f3c196dbb45498b0afbc400bdb2ff": {
     "model_module": "@jupyter-widgets/output",
     "model_module_version": "1.0.0",
     "model_name": "OutputModel",
     "state": {
      "_dom_classes": [],
      "_model_module": "@jupyter-widgets/output",
      "_model_module_version": "1.0.0",
      "_model_name": "OutputModel",
      "_view_count": null,
      "_view_module": "@jupyter-widgets/output",
      "_view_module_version": "1.0.0",
      "_view_name": "OutputView",
      "layout": "IPY_MODEL_01504bf8f5be4be296a20b62df45c261",
      "msg_id": "",
      "outputs": [
       {
        "data": {
         "image/png": "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\n",
         "text/plain": "<Figure size 1440x1008 with 8 Axes>"
        },
        "metadata": {},
        "output_type": "display_data"
       },
       {
        "name": "stdout",
        "output_type": "stream",
        "text": [
         "Ekspektasi jumlah dadu yang keluar 7.6\n"
        ]
       }
      ]
     }
    },
    "6a6c3a78f90c402db97ecdc194a2517b": {
     "model_module": "@jupyter-widgets/base",
     "model_module_version": "1.2.0",
     "model_name": "LayoutModel",
     "state": {
      "_model_module": "@jupyter-widgets/base",
      "_model_module_version": "1.2.0",
      "_model_name": "LayoutModel",
      "_view_count": null,
      "_view_module": "@jupyter-widgets/base",
      "_view_module_version": "1.2.0",
      "_view_name": "LayoutView",
      "align_content": null,
      "align_items": null,
      "align_self": null,
      "border": null,
      "bottom": null,
      "display": null,
      "flex": null,
      "flex_flow": null,
      "grid_area": null,
      "grid_auto_columns": null,
      "grid_auto_flow": null,
      "grid_auto_rows": null,
      "grid_column": null,
      "grid_gap": null,
      "grid_row": null,
      "grid_template_areas": null,
      "grid_template_columns": null,
      "grid_template_rows": null,
      "height": null,
      "justify_content": null,
      "justify_items": null,
      "left": null,
      "margin": null,
      "max_height": null,
      "max_width": null,
      "min_height": null,
      "min_width": null,
      "object_fit": null,
      "object_position": null,
      "order": null,
      "overflow": null,
      "overflow_x": null,
      "overflow_y": null,
      "padding": null,
      "right": null,
      "top": null,
      "visibility": null,
      "width": null
     }
    },
    "da718d4b82b04164a48f300a4570ab01": {
     "model_module": "@jupyter-widgets/controls",
     "model_module_version": "1.5.0",
     "model_name": "DescriptionStyleModel",
     "state": {
      "_model_module": "@jupyter-widgets/controls",
      "_model_module_version": "1.5.0",
      "_model_name": "DescriptionStyleModel",
      "_view_count": null,
      "_view_module": "@jupyter-widgets/base",
      "_view_module_version": "1.2.0",
      "_view_name": "StyleView",
      "description_width": ""
     }
    },
    "dd7284bf057f4976973cb8553e9d5bb4": {
     "model_module": "@jupyter-widgets/controls",
     "model_module_version": "1.5.0",
     "model_name": "VBoxModel",
     "state": {
      "_dom_classes": [
       "widget-interact"
      ],
      "_model_module": "@jupyter-widgets/controls",
      "_model_module_version": "1.5.0",
      "_model_name": "VBoxModel",
      "_view_count": null,
      "_view_module": "@jupyter-widgets/controls",
      "_view_module_version": "1.5.0",
      "_view_name": "VBoxView",
      "box_style": "",
      "children": [
       "IPY_MODEL_16e7ea37c78f43db9a9233cfbc8ba98a",
       "IPY_MODEL_232f3c196dbb45498b0afbc400bdb2ff"
      ],
      "layout": "IPY_MODEL_6a6c3a78f90c402db97ecdc194a2517b"
     }
    }
   }
  }
 },
 "nbformat": 4,
 "nbformat_minor": 1
}
