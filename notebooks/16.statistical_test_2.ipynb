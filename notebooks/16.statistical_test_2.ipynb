{
 "cells": [
  {
   "cell_type": "markdown",
   "metadata": {
    "id": "hKKabMKiypdM"
   },
   "source": [
    "# **16. Statistical Test I**"
   ]
  },
  {
   "cell_type": "markdown",
   "metadata": {
    "id": "fHHqQKBgLjxK"
   },
   "source": [
    "# Outline\n",
    "---"
   ]
  },
  {
   "cell_type": "markdown",
   "metadata": {
    "id": "4ieA0ISMyuyO"
   },
   "source": [
    "1. Case 1 - Apakah lebih dari 70% penduduk kota A bahagia?\n",
    "2. Case 2 - Perencanaan Gedung Serba Guna (GSG)\n",
    "3. Case 3 - Resep baru di restoran A\n",
    "4. Case 4 - Perusahaan Tuna"
   ]
  },
  {
   "cell_type": "markdown",
   "metadata": {
    "id": "8WRmsRy3y5CN"
   },
   "source": [
    "- Kita perlu memanggil library dan fungsi yang diperlukan untuk menjalankan code dalam notebook ini."
   ]
  },
  {
   "cell_type": "code",
   "execution_count": 1,
   "metadata": {
    "id": "B0hc3Finy5Tb"
   },
   "outputs": [],
   "source": [
    "# Process data\n",
    "import pandas as pd\n",
    "import numpy as np\n",
    "\n",
    "# Visualize data\n",
    "import matplotlib.pyplot as plt\n",
    "import seaborn as sns\n",
    "sns.set_theme()"
   ]
  },
  {
   "cell_type": "markdown",
   "metadata": {
    "id": "OYqoi1G-zHqD"
   },
   "source": [
    "# Review materi\n",
    "---\n",
    "\n",
    "Dari materi yang sudah dipelajari di video:"
   ]
  },
  {
   "cell_type": "markdown",
   "metadata": {
    "id": "aNl--MYmL7zE"
   },
   "source": [
    "## Hypothesis testing for Proportion\n",
    "---"
   ]
  },
  {
   "cell_type": "markdown",
   "metadata": {
    "id": "EVhk8XO8zAg_"
   },
   "source": [
    "- **Proporsi** adalah perbandingan antara terjadinya suatu kejadian dengan semua kemungkinan kejadian yang bisa terjadi.\n",
    "- Langkah-langkah uji hipotesis sama seperti materi 15.\n",
    "- Uji proporsi dapat menggunakan t-test atau z-test."
   ]
  },
  {
   "cell_type": "markdown",
   "metadata": {
    "id": "XG9TJqq3Mbn5"
   },
   "source": [
    "## Hypothesis testing for Variance\n",
    "---"
   ]
  },
  {
   "cell_type": "markdown",
   "metadata": {
    "id": "BXmWwLs6zNbo"
   },
   "source": [
    "- Kita dapat uji varians dari populasi/sample.\n",
    "- Uji varians menggunakan *chi-square test*"
   ]
  },
  {
   "cell_type": "markdown",
   "metadata": {
    "id": "Ly64wt1u0AsQ"
   },
   "source": [
    "# Case Study 1 - Proporsi Bahagia!\n",
    "---"
   ]
  },
  {
   "cell_type": "markdown",
   "metadata": {
    "id": "-XGJPUK90Ntj"
   },
   "source": [
    "- Seorang walikota di suatu kota ingin mengetahui apakah lebih dari 70% warganya sudah bahagia atau tidak.\n",
    "\n",
    "- Dia meminta seorang konsultan dengan menggunakan biaya yang terbatas dan waktu yang singkat.\n",
    "\n",
    "- Dari 100.000 sampel penduduk diperoleh bahwa 70.1% sampel tersebut bahagia.\n",
    "\n",
    "- Apakah 70.1% telah menjadi bukti bahwa lebih dari 70% penduduk di kota tersebut itu sudah bahagia? Gunakan taraf signifikansi 5%\n",
    "\n",
    "\n",
    "\n"
   ]
  },
  {
   "cell_type": "markdown",
   "metadata": {
    "id": "IuNxuy6TNpJJ"
   },
   "source": [
    "## Hipotesis\n",
    "---"
   ]
  },
  {
   "cell_type": "markdown",
   "metadata": {
    "id": "0tCJhqfUNqyr"
   },
   "source": [
    "Dari latar belakang itu, kita dapat membangun hipotesis sebagai berikut:\n",
    "- $H_{0}$: $\\bar{p} = p_{0}$\n",
    "- $H_{1}$: $\\bar{p} > p_{0}$"
   ]
  },
  {
   "cell_type": "markdown",
   "metadata": {
    "id": "scmy16i1ORFk"
   },
   "source": [
    "## Uji statistik\n",
    "---"
   ]
  },
  {
   "cell_type": "markdown",
   "metadata": {
    "id": "QV2UAb-TPFnf"
   },
   "source": [
    "- Apa yang kita bandingkan? **Proporsi**, bisa gunakan z-test"
   ]
  },
  {
   "cell_type": "markdown",
   "metadata": {
    "id": "6AwTEvefKBqJ"
   },
   "source": [
    "Permasalahan tersebut dapat diselesaikan dengan menggunakan uji hipotesis proporsi satu populasi. Kita dapat menggunakan distribusi z untuk menyelesaikan permasalahan tersebut :\n",
    "$$\n",
    "z = \\frac{\\bar{p}-{p}_{0}}{\\sqrt{\\frac{p_{0}(1-p_{0})}{n}}}\n",
    "$$\n",
    "\n",
    "dengan,\n",
    "$$\n",
    "\\bar{p} = \\frac{x}{n}\n",
    "$$"
   ]
  },
  {
   "cell_type": "code",
   "execution_count": 2,
   "metadata": {
    "colab": {
     "base_uri": "https://localhost:8080/"
    },
    "id": "I3Fl7EGlOmAV",
    "outputId": "0e68e1aa-6dcd-411e-88f6-e96b034637be"
   },
   "outputs": [
    {
     "name": "stdout",
     "output_type": "stream",
     "text": [
      "Proporsi sample   : 0.71\n",
      "Proporsi populasi : 0.70\n",
      "Jumlah sample     : 100000 penduduk\n"
     ]
    }
   ],
   "source": [
    "# Buat variable\n",
    "p_bar = 0.71\n",
    "p_0 = 0.7\n",
    "n = 100_000\n",
    "\n",
    "print(f'Proporsi sample   : {p_bar:.2f}')\n",
    "print(f'Proporsi populasi : {p_0:.2f}')\n",
    "print(f'Jumlah sample     : {n} penduduk')"
   ]
  },
  {
   "cell_type": "markdown",
   "metadata": {
    "id": "gQ6fUP8WPDbP"
   },
   "source": [
    "Hitung z score"
   ]
  },
  {
   "cell_type": "code",
   "execution_count": 3,
   "metadata": {
    "colab": {
     "base_uri": "https://localhost:8080/"
    },
    "id": "nl2AYvt9PXtv",
    "outputId": "b9dc2e81-4b1b-44b8-d447-42ea6d7299c0"
   },
   "outputs": [
    {
     "name": "stdout",
     "output_type": "stream",
     "text": [
      "Z score : 6.9007\n"
     ]
    }
   ],
   "source": [
    "z_score = (p_bar-p_0) / np.sqrt(p_0 * (1-p_0) / n)\n",
    "print(f'Z score : {z_score:.4f}')"
   ]
  },
  {
   "cell_type": "markdown",
   "metadata": {
    "id": "elcwd6I1PpvX"
   },
   "source": [
    "- Nilai positif karena $\\bar{p}$ lebih besar dibanding $p_{0}$\n",
    "- Dalam visualisasi"
   ]
  },
  {
   "cell_type": "code",
   "execution_count": 4,
   "metadata": {
    "id": "73LByjUvPvO-"
   },
   "outputs": [],
   "source": [
    "from scipy.stats import norm"
   ]
  },
  {
   "cell_type": "code",
   "execution_count": 5,
   "metadata": {
    "colab": {
     "base_uri": "https://localhost:8080/",
     "height": 458
    },
    "id": "_aYNGdr2P3u3",
    "outputId": "f58a615b-3724-4eda-a30a-e7cd6edeeb63"
   },
   "outputs": [
    {
     "data": {
      "image/png": "[encoded data removed]",
      "text/plain": [
       "<Figure size 640x480 with 1 Axes>"
      ]
     },
     "metadata": {},
     "output_type": "display_data"
    }
   ],
   "source": [
    "# Visualisasi distribusi t-score\n",
    "p_ = np.arange(-8, 8, 0.01)\n",
    "pdf_ = norm.pdf(p_)\n",
    "\n",
    "plt.fill_between(p_, pdf_, facecolor='blue', alpha=0.35)\n",
    "\n",
    "plt.axvline(0.0, linestyle='--', color='black', label=f'Prop. pop: {p_0:.2f}')\n",
    "plt.axvline(z_score, linestyle='--', color='green', label=f'Prop. sample: {p_bar:.2f}')\n",
    "\n",
    "plt.xlabel('Z score')\n",
    "plt.ylabel('PDF')\n",
    "plt.legend()\n",
    "plt.show()"
   ]
  },
  {
   "cell_type": "markdown",
   "metadata": {
    "id": "nBQGtXWAQPJA"
   },
   "source": [
    "## Membuat keputusan\n",
    "---"
   ]
  },
  {
   "cell_type": "markdown",
   "metadata": {
    "id": "BxIEpRmoQRRh"
   },
   "source": [
    "- Definisikan significance level, misal $\\alpha = 0.05$ atau confidence level 95%"
   ]
  },
  {
   "cell_type": "code",
   "execution_count": 6,
   "metadata": {
    "id": "-e1Wq8NUQQ4g"
   },
   "outputs": [],
   "source": [
    "alpha = 0.05"
   ]
  },
  {
   "cell_type": "markdown",
   "metadata": {
    "id": "qTdSUXK95T-d"
   },
   "source": [
    "#### Cara 1: Gunakan `z_critical`\n",
    "---"
   ]
  },
  {
   "cell_type": "markdown",
   "metadata": {
    "id": "oSKh6opowWXn"
   },
   "source": [
    "- Informasi $\\alpha$ harus dikonversi dalam sudut pandang Z-score agar bisa menjadi threshold penentu signifikansi uji.\n",
    "- **Ingat**, $\\alpha$ serupa dengan confidence level (CDF) dari distribusi Z-score.\n",
    "- Maka, $\\alpha = 0.05$ atau confidence level 95% adalah `z_score` yang menyebabkan CDF = 0.95."
   ]
  },
  {
   "cell_type": "code",
   "execution_count": 7,
   "metadata": {
    "colab": {
     "base_uri": "https://localhost:8080/"
    },
    "id": "crJM32sh2ylO",
    "outputId": "9571d73e-530d-4be0-e65c-f23a956c575b"
   },
   "outputs": [
    {
     "name": "stdout",
     "output_type": "stream",
     "text": [
      "Saat alpha=0.05, z_critical=1.6449\n"
     ]
    }
   ],
   "source": [
    "# Hitung ppf\n",
    "# ppf dihitung 1-alpha karena H1 mengandung operator \">\"\n",
    "z_critical = norm.ppf(1.-alpha)\n",
    "\n",
    "print(f'Saat alpha={alpha}, z_critical={z_critical:.4f}')"
   ]
  },
  {
   "cell_type": "markdown",
   "metadata": {
    "id": "quwcfj9v3HuT"
   },
   "source": [
    "- `z_critical` positif karena $\\bar{p} > p_{0}$\n",
    "- Coba visualkan $\\alpha$ atau `z_critical`"
   ]
  },
  {
   "cell_type": "code",
   "execution_count": 8,
   "metadata": {
    "colab": {
     "base_uri": "https://localhost:8080/",
     "height": 458
    },
    "id": "8d-HD4n-3QEg",
    "outputId": "52f35898-aaac-4043-cf4e-4a152340384b"
   },
   "outputs": [
    {
     "data": {
      "image/png": "[encoded data removed]",
      "text/plain": [
       "<Figure size 640x480 with 1 Axes>"
      ]
     },
     "metadata": {},
     "output_type": "display_data"
    }
   ],
   "source": [
    "plt.fill_between(p_, pdf_, facecolor='blue', alpha=0.35)\n",
    "\n",
    "plt.fill_between(np.arange(z_critical, 8.0, 0.01),\n",
    "                 norm.pdf(np.arange(z_critical, 8.0, 0.01)),\n",
    "                 facecolor='red',\n",
    "                 alpha=0.35,\n",
    "                 label='Area penolakan H0')\n",
    "\n",
    "plt.axvline(0.0, linestyle='--', color='black', label=f'Prop. pop: {p_0:.2f}')\n",
    "plt.axvline(z_score, linestyle='--', color='green', label=f'Prop. sample: {p_bar:.2f}')\n",
    "plt.axvline(z_critical, linestyle='--', color='red', label=f'z_critical saat alpha: {alpha}')\n",
    "\n",
    "plt.xlabel('Z score')\n",
    "plt.ylabel('PDF')\n",
    "plt.legend()\n",
    "plt.show()"
   ]
  },
  {
   "cell_type": "markdown",
   "metadata": {
    "id": "XqY6JEud4RlZ"
   },
   "source": [
    "- Sekarang kita bisa buat keputusan.\n",
    "\n",
    "$$\n",
    "\\text{decision} =\n",
    "\\begin{cases}\n",
    " & \\text{H0 ditolak,} \\text{ jika } z_{\\text{test}} > z_{\\text{crit}} \\\\\n",
    " & \\text{H0 gagal ditolak,} \\text{ jika } z_{\\text{test}} \\leq z_{\\text{crit}}\n",
    "\\end{cases}\n",
    "$$"
   ]
  },
  {
   "cell_type": "code",
   "execution_count": 9,
   "metadata": {
    "colab": {
     "base_uri": "https://localhost:8080/"
    },
    "id": "N5WV6fES5Dh9",
    "outputId": "30e84a35-0246-4743-c326-44b51baef2c3"
   },
   "outputs": [
    {
     "name": "stdout",
     "output_type": "stream",
     "text": [
      "Pengambilan Keputusan:\n",
      "Tolak H0\n"
     ]
    }
   ],
   "source": [
    "print('Pengambilan Keputusan:')\n",
    "if z_score > z_critical:\n",
    "    print('Tolak H0')\n",
    "else:\n",
    "    print('Gagal tolak H0')"
   ]
  },
  {
   "cell_type": "markdown",
   "metadata": {
    "id": "E3t3mgFa5RQ6"
   },
   "source": [
    "#### Cara 2: Gunakan $\\alpha$\n",
    "---"
   ]
  },
  {
   "cell_type": "markdown",
   "metadata": {
    "id": "lQtZzwCA5cHI"
   },
   "source": [
    "- $\\alpha$ analog dengan CDF dari distribusi z.\n",
    "- Maka kita bisa konversi `Z_score` ke dalam CDF\n",
    "- Ini bisa didapat menggunakan fungsi `z.cdf()`\n",
    "- Hasil konversi ini disebut dengan **p_value**"
   ]
  },
  {
   "cell_type": "code",
   "execution_count": 10,
   "metadata": {
    "colab": {
     "base_uri": "https://localhost:8080/"
    },
    "id": "6SzodGGv5tt3",
    "outputId": "630aa34d-c0be-4c90-b65c-3b651c9cb322"
   },
   "outputs": [
    {
     "name": "stdout",
     "output_type": "stream",
     "text": [
      "p_value : 2.5882e-12\n"
     ]
    }
   ],
   "source": [
    "# Hitung p_value dari z_score\n",
    "# 1 - cdf karena right-sided\n",
    "p_value = 1-norm.cdf(z_score)\n",
    "print(f'p_value : {p_value:.4e}')"
   ]
  },
  {
   "cell_type": "markdown",
   "metadata": {
    "id": "LVNSXJ576EmZ"
   },
   "source": [
    "- Sekarang kita bisa buat keputusan.\n",
    "\n",
    "$$\n",
    "\\text{decision} =\n",
    "\\begin{cases}\n",
    " & \\text{H0 ditolak,} \\text{ jika } \\text{p-value} < \\alpha \\\\\n",
    " & \\text{H0 gagal ditolak,} \\text{ jika } \\text{p-value} \\geq \\alpha\n",
    "\\end{cases}\n",
    "$$"
   ]
  },
  {
   "cell_type": "code",
   "execution_count": 11,
   "metadata": {
    "colab": {
     "base_uri": "https://localhost:8080/"
    },
    "id": "CHQEtS3f6R5Q",
    "outputId": "c631099c-b0c7-4799-da43-507ddc8e0435"
   },
   "outputs": [
    {
     "name": "stdout",
     "output_type": "stream",
     "text": [
      "Pengambilan Keputusan:\n",
      "Tolak H0\n"
     ]
    }
   ],
   "source": [
    "print('Pengambilan Keputusan:')\n",
    "if p_value < alpha:\n",
    "    print('Tolak H0')\n",
    "else:\n",
    "    print('Gagal tolak H0')"
   ]
  },
  {
   "cell_type": "markdown",
   "metadata": {
    "id": "EhstWg_wSTbg"
   },
   "source": [
    "## Gunakan Library untuk uji hipotesis\n",
    "---"
   ]
  },
  {
   "cell_type": "markdown",
   "metadata": {
    "id": "pwtkO_9xSxKo"
   },
   "source": [
    "- Kita gunakan library `statsmodels.stats.proportion.proportions_ztest`"
   ]
  },
  {
   "cell_type": "code",
   "execution_count": null,
   "metadata": {
    "id": "rOPLkmufS2aT"
   },
   "outputs": [],
   "source": [
    "# Import library\n",
    "from statsmodels.stats.proportion import proportions_ztest"
   ]
  },
  {
   "cell_type": "code",
   "execution_count": 13,
   "metadata": {
    "colab": {
     "base_uri": "https://localhost:8080/"
    },
    "id": "MgqtqUyPTAKZ",
    "outputId": "3cbaa5ce-f533-414d-e691-81ce9151ca60"
   },
   "outputs": [
    {
     "name": "stdout",
     "output_type": "stream",
     "text": [
      "Z score : 6.9690\n",
      "P value : 0.0000\n"
     ]
    }
   ],
   "source": [
    "z_score, p_value = proportions_ztest(\n",
    "    count = int(p_bar*n),\n",
    "    nobs = n,\n",
    "    value = p_0,\n",
    "    alternative = 'larger'\n",
    ")\n",
    "\n",
    "print(f'Z score : {z_score:.4f}')\n",
    "print(f'P value : {p_value:.4f}')"
   ]
  },
  {
   "cell_type": "markdown",
   "metadata": {
    "id": "CVFazjwjTcPW"
   },
   "source": [
    "Pengambilan keputusan"
   ]
  },
  {
   "cell_type": "code",
   "execution_count": 14,
   "metadata": {
    "colab": {
     "base_uri": "https://localhost:8080/"
    },
    "id": "LeX3UVrcTdxE",
    "outputId": "143ab0ff-069d-42f8-d76f-09fe4bc2f67a"
   },
   "outputs": [
    {
     "name": "stdout",
     "output_type": "stream",
     "text": [
      "Pengambilan Keputusan:\n",
      "Tolak H0\n"
     ]
    }
   ],
   "source": [
    "print('Pengambilan Keputusan:')\n",
    "if z_score > z_critical:\n",
    "    print('Tolak H0')\n",
    "else:\n",
    "    print('Gagal tolak H0')"
   ]
  },
  {
   "cell_type": "code",
   "execution_count": 15,
   "metadata": {
    "colab": {
     "base_uri": "https://localhost:8080/"
    },
    "id": "Dbief2ezTe_r",
    "outputId": "ede77914-10b8-433e-c014-f69bb15ae9db"
   },
   "outputs": [
    {
     "name": "stdout",
     "output_type": "stream",
     "text": [
      "Pengambilan Keputusan:\n",
      "Tolak H0\n"
     ]
    }
   ],
   "source": [
    "print('Pengambilan Keputusan:')\n",
    "if p_value < alpha:\n",
    "    print('Tolak H0')\n",
    "else:\n",
    "    print('Gagal tolak H0')"
   ]
  },
  {
   "cell_type": "markdown",
   "metadata": {
    "id": "YW6caoAj06wl"
   },
   "source": [
    "# Case Study 2 - Gedung Serba Guna (GSG)\n",
    "---"
   ]
  },
  {
   "cell_type": "markdown",
   "metadata": {
    "id": "hCNesZLT06wo"
   },
   "source": [
    "- Walikota berencana mendirikan sebuah gedung pertemuan serba guna.\n",
    "- Lokasi gedung yang akan dibangun itu berada di dalam kota.\n",
    "- Dilakukan pemungutan suara pada penduduk kota dan penduduk sekitar kota.\n",
    "- Para penduduk yang tinggal di sekitar kota itu merasa bahwa rencana itu akan lolos karena besarnya proporsi penduduk kota yang menyetujuinya.\n",
    "- Konsultan tersebut diminta kembali oleh walikota untuk membuktikan bahwa proporsi penduduk kota yang menyetujui rencana tersebut lebih tinggi daripada proporsi penduduk di sekitar kota yang menyetujui rencana tersebut.\n",
    "- Untuk mengetahui apakah ada selisih yang nyata antara proporsi penduduk kota dan penduduk di sekitar kota itu yang menyetujui rencana tersebut, diambil suatu sampel acak.\n",
    "- Didapat yang menyetujui rencana tersebut adalah\n",
    "  - 120 di antara 200 penduduk kota dan\n",
    "  - 240 di antara 500 penduduk di sekitar kota\n",
    "\n",
    "\n",
    "\n"
   ]
  },
  {
   "cell_type": "markdown",
   "metadata": {
    "id": "1-teEJ1MUDHJ"
   },
   "source": [
    "## Hipotesis\n",
    "---"
   ]
  },
  {
   "cell_type": "markdown",
   "metadata": {
    "id": "vuhV62sQUDIF"
   },
   "source": [
    "Dari latar belakang itu, kita dapat membangun hipotesis sebagai berikut:\n",
    "- $H_{0}$: $p_{1} = p_{2}$\n",
    "- $H_{1}$: $p_{1} \\neq p_{2}$\n",
    "\n",
    "Dengan\n",
    "- $1$: dalam kota\n",
    "- $2$: sekitar kota"
   ]
  },
  {
   "cell_type": "markdown",
   "metadata": {
    "id": "F7xWgcF-Ud0B"
   },
   "source": [
    "## Uji statistik\n",
    "---"
   ]
  },
  {
   "cell_type": "markdown",
   "metadata": {
    "id": "Z7n1O1ACUd0o"
   },
   "source": [
    "- Apa yang kita bandingkan? **Proporsi**, bisa gunakan z-test\n",
    "- Apa populasi sama? **Tidak**, dari dalam kota dan sekitar kota"
   ]
  },
  {
   "cell_type": "markdown",
   "metadata": {
    "id": "roaX-xONDqcI"
   },
   "source": [
    "- Permasalahan tersebut dapat diselesaikan dengan menggunakan uji hipotesis proporsi dua populasi. Kita dapat menggunakan distribusi z untuk menyelesaikan permasalahan tersebut :\n",
    "$$\n",
    "z = \\frac\n",
    "{\\bar{p}_{1}-\\bar{p}_{2}}\n",
    "{\\sqrt{\\bar{p}(1-\\bar{p})(\\frac{1}{n_{1}}+\\frac{1}{n_{2}})}} $$\n",
    "\n",
    "- dengan,\n",
    "$$\n",
    "\\bar{p} = \\frac{x_{1} + x_{2}}{n_{1} + n_{2}}\n",
    "$$\n"
   ]
  },
  {
   "cell_type": "markdown",
   "metadata": {
    "id": "Ild3TplWVFJU"
   },
   "source": [
    "- Mari lakukan pengujian"
   ]
  },
  {
   "cell_type": "code",
   "execution_count": 16,
   "metadata": {
    "colab": {
     "base_uri": "https://localhost:8080/"
    },
    "id": "grywwsRfVGfI",
    "outputId": "9c1dbcfc-68b3-4b56-f076-b0facf9b6839"
   },
   "outputs": [
    {
     "name": "stdout",
     "output_type": "stream",
     "text": [
      "Dalam kota:\n",
      "  - Setuju (x)   : 120\n",
      "  - Total  (n)   : 200\n",
      "  - Proporsi (p) : 0.6\n",
      "Sekitar kota:\n",
      "  - Setuju (x)   : 240\n",
      "  - Total  (n)   : 500\n",
      "  - Proporsi (p) : 0.48\n"
     ]
    }
   ],
   "source": [
    "# Hitung semua variabel yang dibutuhkan\n",
    "# Ingat\n",
    "# 1: Dalam kota, 2: Sekitar kota\n",
    "n_1 = 200\n",
    "n_2 = 500\n",
    "x_1 = 120\n",
    "x_2 = 240\n",
    "\n",
    "p1_bar = x_1/n_1\n",
    "p2_bar = x_2/n_2\n",
    "\n",
    "print('Dalam kota:')\n",
    "print(f'  - Setuju (x)   : {x_1}')\n",
    "print(f'  - Total  (n)   : {n_1}')\n",
    "print(f'  - Proporsi (p) : {p1_bar}')\n",
    "print('Sekitar kota:')\n",
    "print(f'  - Setuju (x)   : {x_2}')\n",
    "print(f'  - Total  (n)   : {n_2}')\n",
    "print(f'  - Proporsi (p) : {p2_bar}')"
   ]
  },
  {
   "cell_type": "code",
   "execution_count": 17,
   "metadata": {
    "colab": {
     "base_uri": "https://localhost:8080/"
    },
    "id": "cvw1YPrVV4XI",
    "outputId": "0a12d646-b8b7-440d-f3f5-ce10985f8d11"
   },
   "outputs": [
    {
     "name": "stdout",
     "output_type": "stream",
     "text": [
      "Z score : 2.8697\n"
     ]
    }
   ],
   "source": [
    "# Hitung z-score\n",
    "p_bar = (x_1+x_2) / (n_1+n_2)\n",
    "z_score = (p1_bar-p2_bar) / np.sqrt(p_bar * (1.-p_bar) * ((1./n_1) + (1./n_2)))\n",
    "\n",
    "print(f'Z score : {z_score:.4f}')"
   ]
  },
  {
   "cell_type": "markdown",
   "metadata": {
    "id": "3N4t07Thx5xU"
   },
   "source": [
    "- Nilai positif karena $p_{1}$ lebih besar dibanding $p_{2}$\n",
    "- Dalam visualisasi"
   ]
  },
  {
   "cell_type": "code",
   "execution_count": 18,
   "metadata": {
    "colab": {
     "base_uri": "https://localhost:8080/",
     "height": 458
    },
    "id": "U2hYEHzK0jej",
    "outputId": "4f6395f4-52bb-4bac-d2c4-b4011633f465"
   },
   "outputs": [
    {
     "data": {
      "image/png": "[encoded data removed]",
      "text/plain": [
       "<Figure size 640x480 with 1 Axes>"
      ]
     },
     "metadata": {},
     "output_type": "display_data"
    }
   ],
   "source": [
    "# Visualisasi distribusi t-score\n",
    "z_ = np.arange(-5, 5, 0.01)\n",
    "pdf_ = norm.pdf(z_)\n",
    "\n",
    "plt.fill_between(z_, pdf_, facecolor='blue', alpha=0.35)\n",
    "\n",
    "plt.axvline(0.0, linestyle='--', color='black', label=f'Prop. 2: {p2_bar:.2f}')\n",
    "plt.axvline(z_score, linestyle='--', color='green', label=f'Prop. 1: {p1_bar:.2f}')\n",
    "\n",
    "plt.xlabel('Z score')\n",
    "plt.ylabel('PDF')\n",
    "plt.legend()\n",
    "plt.show()"
   ]
  },
  {
   "cell_type": "markdown",
   "metadata": {
    "id": "6yRCRUst6Wvy"
   },
   "source": [
    "### Membuat keputusan\n",
    "---"
   ]
  },
  {
   "cell_type": "markdown",
   "metadata": {
    "id": "rSEgfjj4wNvI"
   },
   "source": [
    "- Definisikan significance level, misal $\\alpha = 0.05$ atau confidence level 95%"
   ]
  },
  {
   "cell_type": "code",
   "execution_count": 19,
   "metadata": {
    "id": "W6R0b3b0wU8g"
   },
   "outputs": [],
   "source": [
    "alpha = 0.05"
   ]
  },
  {
   "cell_type": "markdown",
   "metadata": {
    "id": "nhfVk-QkZVuM"
   },
   "source": [
    "#### Cara 1: Gunakan `z_critical`\n",
    "---"
   ]
  },
  {
   "cell_type": "markdown",
   "metadata": {
    "id": "DDpxxE-AZVuM"
   },
   "source": [
    "- Informasi $\\alpha$ harus dikonversi dalam sudut pandang Z-score agar bisa menjadi threshold penentu signifikansi uji.\n",
    "- **Ingat**, $\\alpha$ serupa dengan confidence level (CDF) dari distribusi Z-score.\n",
    "- Maka, $\\alpha = 0.05$ atau confidence level 95% adalah `Z_score` yang menyebabkan CDF = 0.95."
   ]
  },
  {
   "cell_type": "code",
   "execution_count": 20,
   "metadata": {
    "colab": {
     "base_uri": "https://localhost:8080/"
    },
    "id": "br60aKzoZVuN",
    "outputId": "0d8ab47a-0b64-4690-d3bd-43426bdef39f"
   },
   "outputs": [
    {
     "name": "stdout",
     "output_type": "stream",
     "text": [
      "Saat alpha=0.05, z_crit_lower=-1.9600\n",
      "Saat alpha=0.05, z_crit_upper=1.9600\n"
     ]
    }
   ],
   "source": [
    "# Hitung ppf\n",
    "# Karena ini two-sided, nilai alpha dibagi 2\n",
    "# sehingga ada 2 nilai kritikal\n",
    "z_crit_lower = norm.ppf(alpha/2.)\n",
    "z_crit_upper = norm.ppf(1 - (alpha/2.))\n",
    "\n",
    "print(f'Saat alpha={alpha}, z_crit_lower={z_crit_lower:.4f}')\n",
    "print(f'Saat alpha={alpha}, z_crit_upper={z_crit_upper:.4f}')"
   ]
  },
  {
   "cell_type": "markdown",
   "metadata": {
    "id": "17c66MmQZVuN"
   },
   "source": [
    "- Coba visualkan $\\alpha$ atau `z_critical`"
   ]
  },
  {
   "cell_type": "code",
   "execution_count": 21,
   "metadata": {
    "colab": {
     "base_uri": "https://localhost:8080/",
     "height": 458
    },
    "id": "bb-JA_6_ZVuN",
    "outputId": "f9b389a9-e609-43a5-b57d-2a1ba76c41e5"
   },
   "outputs": [
    {
     "data": {
      "image/png": "[encoded data removed]",
      "text/plain": [
       "<Figure size 640x480 with 1 Axes>"
      ]
     },
     "metadata": {},
     "output_type": "display_data"
    }
   ],
   "source": [
    "plt.fill_between(z_, pdf_, facecolor='blue', alpha=0.35)\n",
    "plt.fill_between(np.arange(-5.0, z_crit_lower, 0.01),\n",
    "                 norm.pdf(np.arange(-5.0, z_crit_lower, 0.01)),\n",
    "                 facecolor='red',\n",
    "                 alpha=0.35,\n",
    "                 label='Area penolakan H0, lower')\n",
    "plt.fill_between(np.arange(z_crit_upper, 5.0, 0.01),\n",
    "                 norm.pdf(np.arange(z_crit_upper, 5.0, 0.01)),\n",
    "                 facecolor='orange',\n",
    "                 alpha=0.35,\n",
    "                 label='Area penolakan H0, upper')\n",
    "\n",
    "plt.axvline(0.0, linestyle='--', color='black', label=f'Prop. 2: {p2_bar:.2f}')\n",
    "plt.axvline(z_score, linestyle='--', color='green', label=f'Prop. 1: {p1_bar:.2f}')\n",
    "plt.axvline(z_crit_lower, linestyle='--', color='red', label=f'z_crit_lower saat alpha: {alpha}')\n",
    "plt.axvline(z_crit_upper, linestyle='--', color='orange', label=f'z_crit_upper saat alpha: {alpha}')\n",
    "\n",
    "plt.xlabel('Z score')\n",
    "plt.ylabel('PDF')\n",
    "plt.legend()\n",
    "plt.show()"
   ]
  },
  {
   "cell_type": "markdown",
   "metadata": {
    "id": "49TEbCLOE2Fe"
   },
   "source": [
    "- Sekarang kita bisa buat keputusan.\n",
    "\n",
    "$$\n",
    "\\text{decision} =\n",
    "\\begin{cases}\n",
    " & \\text{H0 ditolak,} \\text{ jika } z_{\\text{test}} < z_{\\text{crit lower}} \\\\\n",
    "  & \\text{H0 ditolak,} \\text{ jika } z_{\\text{test}} > z_{\\text{crit upper}} \\\\\n",
    " & \\text{H0 gagal ditolak,} \\text{ jika } z_{\\text{crit lower}} \\leq z_{\\text{test}} \\leq z_{\\text{crit upper}}\n",
    "\\end{cases}\n",
    "$$"
   ]
  },
  {
   "cell_type": "code",
   "execution_count": 22,
   "metadata": {
    "colab": {
     "base_uri": "https://localhost:8080/"
    },
    "id": "b7HOq2N3E2Ff",
    "outputId": "99ac79f8-fdcc-4f2b-9aa3-fafb71b8f9ea"
   },
   "outputs": [
    {
     "name": "stdout",
     "output_type": "stream",
     "text": [
      "Pengambilan Keputusan:\n",
      "Tolak H0\n"
     ]
    }
   ],
   "source": [
    "print('Pengambilan Keputusan:')\n",
    "if z_score < z_crit_lower:\n",
    "    print('Tolak H0')\n",
    "elif z_score > z_crit_upper:\n",
    "    print('Tolak H0')\n",
    "else:\n",
    "    print('Gagal tolak H0')"
   ]
  },
  {
   "cell_type": "markdown",
   "metadata": {
    "id": "K49rRDSLFgs7"
   },
   "source": [
    "#### Cara 2: Gunakan $\\alpha$\n",
    "---"
   ]
  },
  {
   "cell_type": "markdown",
   "metadata": {
    "id": "YLkJF4swFgs8"
   },
   "source": [
    "- $\\alpha$ analog dengan CDF dari distribusi z.\n",
    "- Maka kita bisa konversi `z_score` ke dalam CDF\n",
    "- Ini bisa didapat menggunakan fungsi `z.cdf()`\n",
    "- Hasil konversi ini disebut dengan **p_value**"
   ]
  },
  {
   "cell_type": "code",
   "execution_count": 23,
   "metadata": {
    "colab": {
     "base_uri": "https://localhost:8080/"
    },
    "id": "tyA4R1Z1Fgs8",
    "outputId": "a83abe06-3ef1-4bfd-93cc-fbba0cdef7f6"
   },
   "outputs": [
    {
     "name": "stdout",
     "output_type": "stream",
     "text": [
      "p_value : 0.0041\n"
     ]
    }
   ],
   "source": [
    "# Hitung p_value dari t_score\n",
    "p_val_lower = norm.cdf(z_score)\n",
    "p_val_upper = 1.0-norm.cdf(z_score)\n",
    "p_value = 2 * np.min([p_val_lower, p_val_upper])\n",
    "\n",
    "print(f'p_value : {p_value:.4f}')"
   ]
  },
  {
   "cell_type": "markdown",
   "metadata": {
    "id": "qx75e320Fgs9"
   },
   "source": [
    "- Sekarang kita bisa buat keputusan.\n",
    "\n",
    "$$\n",
    "\\text{decision} =\n",
    "\\begin{cases}\n",
    " & \\text{H0 ditolak,} \\text{ jika } \\text{p-value} < \\alpha \\\\\n",
    " & \\text{H0 gagal ditolak,} \\text{ jika } \\text{p-value} \\geq \\alpha\n",
    "\\end{cases}\n",
    "$$"
   ]
  },
  {
   "cell_type": "code",
   "execution_count": 24,
   "metadata": {
    "colab": {
     "base_uri": "https://localhost:8080/"
    },
    "id": "5aiXi51yFgs9",
    "outputId": "db88385d-f0e5-41bd-96f8-7f931bff54c1"
   },
   "outputs": [
    {
     "name": "stdout",
     "output_type": "stream",
     "text": [
      "Pengambilan Keputusan:\n",
      "Tolak H0\n"
     ]
    }
   ],
   "source": [
    "print('Pengambilan Keputusan:')\n",
    "if p_value < alpha:\n",
    "    print('Tolak H0')\n",
    "else:\n",
    "    print('Gagal tolak H0')"
   ]
  },
  {
   "cell_type": "markdown",
   "metadata": {
    "id": "wVTjcDCCbhOB"
   },
   "source": [
    "## Gunakan Library untuk uji hipotesis\n",
    "---"
   ]
  },
  {
   "cell_type": "markdown",
   "metadata": {
    "id": "HxZUhcoibhON"
   },
   "source": [
    "- Kita gunakan library `statsmodels.stats.proportion.proportions_ztest`"
   ]
  },
  {
   "cell_type": "code",
   "execution_count": 25,
   "metadata": {
    "id": "JuKljqxGbhOO"
   },
   "outputs": [],
   "source": [
    "# Import library\n",
    "from statsmodels.stats.proportion import proportions_ztest"
   ]
  },
  {
   "cell_type": "code",
   "execution_count": 26,
   "metadata": {
    "colab": {
     "base_uri": "https://localhost:8080/"
    },
    "id": "wTP1945ybhOO",
    "outputId": "4f50c7ee-da5b-43fe-eb5d-60d54e945913"
   },
   "outputs": [
    {
     "name": "stdout",
     "output_type": "stream",
     "text": [
      "Z score : 2.8697\n",
      "P value : 0.0041\n"
     ]
    }
   ],
   "source": [
    "z_score, p_value = proportions_ztest(\n",
    "    count = [x_1, x_2],\n",
    "    nobs = [n_1, n_2],\n",
    "    alternative = 'two-sided'\n",
    ")\n",
    "\n",
    "print(f'Z score : {z_score:.4f}')\n",
    "print(f'P value : {p_value:.4f}')"
   ]
  },
  {
   "cell_type": "markdown",
   "metadata": {
    "id": "rVxeAhBUbhOP"
   },
   "source": [
    "Pengambilan keputusan"
   ]
  },
  {
   "cell_type": "code",
   "execution_count": 27,
   "metadata": {
    "colab": {
     "base_uri": "https://localhost:8080/"
    },
    "id": "9Plt1VQabhOP",
    "outputId": "72a24b4d-b298-41f9-fc87-07d42f960775"
   },
   "outputs": [
    {
     "name": "stdout",
     "output_type": "stream",
     "text": [
      "Pengambilan Keputusan:\n",
      "Tolak H0\n"
     ]
    }
   ],
   "source": [
    "print('Pengambilan Keputusan:')\n",
    "if z_score > z_critical:\n",
    "    print('Tolak H0')\n",
    "else:\n",
    "    print('Gagal tolak H0')"
   ]
  },
  {
   "cell_type": "code",
   "execution_count": 28,
   "metadata": {
    "colab": {
     "base_uri": "https://localhost:8080/"
    },
    "id": "ae9QcJ0RbhOP",
    "outputId": "c158e817-c92a-45e7-fefe-8ee566707167"
   },
   "outputs": [
    {
     "name": "stdout",
     "output_type": "stream",
     "text": [
      "Pengambilan Keputusan:\n",
      "Tolak H0\n"
     ]
    }
   ],
   "source": [
    "print('Pengambilan Keputusan:')\n",
    "if p_value < alpha:\n",
    "    print('Tolak H0')\n",
    "else:\n",
    "    print('Gagal tolak H0')"
   ]
  },
  {
   "cell_type": "markdown",
   "metadata": {
    "id": "fTNredlx06wq"
   },
   "source": [
    "Kesimpulan\n",
    "- Dapat disimpulkan bahwa **ada cukup bukti** bahwa proporsi yang menyetujui pembangunan GSG antara penduduk kota dan sekitar kota **berbeda**."
   ]
  },
  {
   "cell_type": "markdown",
   "metadata": {
    "id": "4SkhBsDg06wr"
   },
   "source": [
    "**Exercise**"
   ]
  },
  {
   "cell_type": "markdown",
   "metadata": {
    "id": "WOgLZFnU06ws"
   },
   "source": [
    "Lakukan uji hipotesis untuk memeriksa apakah proporsi yang menyetujui pembangunan GSG dalam kota **lebih dari** sekitar kota!"
   ]
  },
  {
   "cell_type": "code",
   "execution_count": 29,
   "metadata": {
    "id": "vkicJqCpchq3"
   },
   "outputs": [],
   "source": [
    "# Tulis code disini\n"
   ]
  },
  {
   "cell_type": "markdown",
   "metadata": {
    "id": "zKfK_S7c4Zii"
   },
   "source": [
    "# Case Study 3 - Resep Baru Restoran A\n",
    "---"
   ]
  },
  {
   "cell_type": "markdown",
   "metadata": {
    "id": "m6rNgrGZeot-"
   },
   "source": [
    "- Koki di restoran A ingin membuat resep baru dengan harapan bisa meningkatkan konsistensi durasi pembuatan makanan.\n",
    "- Kondisi saat ini, standard deviasi lama memasak adalah 40 menit.\n",
    "- Koki melakukan eksperimen 25x membuat masakan dengan resep baru dan mendapatkan standard deviasi sebesar 25 menit.\n",
    "- Bantu koki mencari tau apakah resep baru lebih oke dibanding resep lama."
   ]
  },
  {
   "cell_type": "markdown",
   "metadata": {
    "id": "R0B8kt-8fayE"
   },
   "source": [
    "## Hipotesis\n",
    "---"
   ]
  },
  {
   "cell_type": "markdown",
   "metadata": {
    "id": "7rXZv2FDf9A8"
   },
   "source": [
    "- Berdasarkan latar belakang tadi didapat\n",
    "  - $H_{0}$: $s^{2} = \\sigma^{2}$\n",
    "  - $H_{1}$: $s^{2} < \\sigma^{2}$\n",
    "\n",
    "- dengan\n",
    "  - $s^{2}$: varians sample\n",
    "  - $\\sigma^{2}$: varians populasi\n"
   ]
  },
  {
   "cell_type": "markdown",
   "metadata": {
    "id": "UepQB9X1gMmj"
   },
   "source": [
    "## Statistik uji yang digunakan\n",
    "---"
   ]
  },
  {
   "cell_type": "markdown",
   "metadata": {
    "id": "K4CiXoo0fhop"
   },
   "source": [
    "- Apa yang ingin diuji? **Variasi** lama waktu masak. Gunakan uji varians yakni *chi-square test*\n",
    "- Apakah tau populasi? Iya"
   ]
  },
  {
   "cell_type": "markdown",
   "metadata": {
    "id": "4kPsOkCP74hF"
   },
   "source": [
    "- Kita dapat menggunakan chi-square distribution untuk menyelesaikan permasalahan tersebut :\n",
    "$$\n",
    "\\chi^{2} = \\frac{(n-1) s^2}{\\sigma^2}\n",
    "$$\n",
    "\n",
    "- dengan\n",
    "  - $n$: banyak sample\n",
    "  - $s^{2}$: varians sample\n",
    "  - $\\sigma^{2}$: varians populasi\n"
   ]
  },
  {
   "cell_type": "markdown",
   "metadata": {
    "id": "RQW4myrFgXAH"
   },
   "source": [
    "- Mari kita lakukan pengujian"
   ]
  },
  {
   "cell_type": "code",
   "execution_count": 30,
   "metadata": {
    "colab": {
     "base_uri": "https://localhost:8080/"
    },
    "id": "8Zhz2n4XgYmP",
    "outputId": "9754985e-fc70-4231-9f55-932bad9b7bd8"
   },
   "outputs": [
    {
     "name": "stdout",
     "output_type": "stream",
     "text": [
      "Jumlah sample (n)               : 25\n",
      "Varians sample (s_square)       : 625\n",
      "Varians populasi (sigma_square) : 1600\n"
     ]
    }
   ],
   "source": [
    "# Masukkan variable\n",
    "n = 25\n",
    "s_square = 25**2\n",
    "sigma_square = 40**2\n",
    "\n",
    "print(f'Jumlah sample (n)               : {n}')\n",
    "print(f'Varians sample (s_square)       : {s_square}')\n",
    "print(f'Varians populasi (sigma_square) : {sigma_square}')"
   ]
  },
  {
   "cell_type": "code",
   "execution_count": 31,
   "metadata": {
    "colab": {
     "base_uri": "https://localhost:8080/"
    },
    "id": "xzqCFffpgwPe",
    "outputId": "4a9af7f7-4e53-461e-d932-187c9c1175cf"
   },
   "outputs": [
    {
     "name": "stdout",
     "output_type": "stream",
     "text": [
      "Chi score : 9.3750\n"
     ]
    }
   ],
   "source": [
    "# Hitung chi_score\n",
    "chi_score = (n-1) * (s_square/sigma_square)\n",
    "print(f'Chi score : {chi_score:.4f}')"
   ]
  },
  {
   "cell_type": "markdown",
   "metadata": {
    "id": "1cQAetenBwOc"
   },
   "source": [
    "- Nilai positif karena $s^{2}$ lebih besar dibanding $\\sigma^{2}$ (referensi)\n",
    "- Dalam visualisasi"
   ]
  },
  {
   "cell_type": "code",
   "execution_count": 32,
   "metadata": {
    "id": "iBpTy6IIhMpV"
   },
   "outputs": [],
   "source": [
    "# Import library\n",
    "from scipy.stats import chi2"
   ]
  },
  {
   "cell_type": "code",
   "execution_count": null,
   "metadata": {
    "colab": {
     "base_uri": "https://localhost:8080/",
     "height": 458
    },
    "id": "glXXK1Z4BwOc",
    "outputId": "6cbd7b15-44c3-4106-fa7b-dd06c93d85f0"
   },
   "outputs": [
    {
     "data": {
      "image/png": "[encoded data removed]",
      "text/plain": [
       "<Figure size 640x480 with 1 Axes>"
      ]
     },
     "metadata": {},
     "output_type": "display_data"
    }
   ],
   "source": [
    "# Visualisasi distribusi t-score\n",
    "chi_ = np.arange(0, 60, 0.01)\n",
    "pdf_ = chi2.pdf(chi_, df=n-1)\n",
    "\n",
    "plt.fill_between(chi_, pdf_, facecolor='blue', alpha=0.35)\n",
    "\n",
    "plt.axvline(n-2, linestyle='--', color='black', label=f'Std. resep lama: {np.sqrt(sigma_square):.2f} menit')\n",
    "plt.axvline(chi_score, linestyle='--', color='green', label=f'Std. resep baru: {np.sqrt(s_square):.2f} menit')\n",
    "\n",
    "plt.xlabel('Chi score')\n",
    "plt.ylabel('PDF')\n",
    "plt.legend()\n",
    "plt.show()"
   ]
  },
  {
   "cell_type": "markdown",
   "metadata": {
    "id": "BElgzuczC7OK"
   },
   "source": [
    "## Membuat keputusan\n",
    "---"
   ]
  },
  {
   "cell_type": "markdown",
   "metadata": {
    "id": "PR40ortxC7OW"
   },
   "source": [
    "- Definisikan significance level, misal $\\alpha = 0.05$ atau confidence level 95%"
   ]
  },
  {
   "cell_type": "code",
   "execution_count": 34,
   "metadata": {
    "id": "BfKJsnKzC7OW"
   },
   "outputs": [],
   "source": [
    "alpha = 0.05"
   ]
  },
  {
   "cell_type": "markdown",
   "metadata": {
    "id": "hmRG3-UiC7OX"
   },
   "source": [
    "#### Cara 1: Gunakan `chi_crit`\n",
    "---"
   ]
  },
  {
   "cell_type": "markdown",
   "metadata": {
    "id": "2xWiniaZC7OX"
   },
   "source": [
    "- Informasi $\\alpha$ harus dikonversi dalam sudut pandang Chi-score agar bisa menjadi threshold penentu signifikansi uji.\n",
    "- **Ingat**, $\\alpha$ serupa dengan confidence level (CDF) dari distribusi Chi squared.\n",
    "- Maka, $\\alpha = 0.05$ atau confidence level 95% adalah `chi_score` yang menyebabkan CDF = 0.95."
   ]
  },
  {
   "cell_type": "code",
   "execution_count": 35,
   "metadata": {
    "colab": {
     "base_uri": "https://localhost:8080/"
    },
    "id": "C4mgynuuC7OX",
    "outputId": "28efc702-55b4-4ed8-cb50-b7d6c7c93e9e"
   },
   "outputs": [
    {
     "name": "stdout",
     "output_type": "stream",
     "text": [
      "Chi_critical = 13.8484\n"
     ]
    }
   ],
   "source": [
    "# Hitung ppf\n",
    "chi_crit = chi2.ppf(alpha, df=n-1)\n",
    "print(f'Chi_critical = {chi_crit:.4f}')"
   ]
  },
  {
   "cell_type": "markdown",
   "metadata": {
    "id": "NO-ghsibC7OY"
   },
   "source": [
    "- Coba visualkan $\\alpha$ atau `t_critical`"
   ]
  },
  {
   "cell_type": "code",
   "execution_count": 36,
   "metadata": {
    "colab": {
     "base_uri": "https://localhost:8080/",
     "height": 458
    },
    "id": "LozN0mEaC7OY",
    "outputId": "118497c7-978a-416e-b5b9-0bcebbb2c5b3"
   },
   "outputs": [
    {
     "data": {
      "image/png": "[encoded data removed]",
      "text/plain": [
       "<Figure size 640x480 with 1 Axes>"
      ]
     },
     "metadata": {},
     "output_type": "display_data"
    }
   ],
   "source": [
    "# Visualisasi distribusi t-score\n",
    "plt.fill_between(chi_, pdf_, facecolor='blue', alpha=0.35)\n",
    "plt.fill_between(np.arange(0.0, chi_crit, 0.01),\n",
    "                 chi2.pdf(np.arange(0.0, chi_crit, 0.01), df=n-1),\n",
    "                 facecolor='red',\n",
    "                 alpha=0.35,\n",
    "                 label='Area penolakan H0')\n",
    "\n",
    "plt.axvline(n-2, linestyle='--', color='black', label=f'Std. resep lama: {np.sqrt(sigma_square):.2f} menit')\n",
    "plt.axvline(chi_score, linestyle='--', color='green', label=f'Std. resep baru: {np.sqrt(s_square):.2f} menit')\n",
    "plt.axvline(chi_crit, linestyle='--', color='red', label=f'Chi-critical saat alpha={alpha:.2f}')\n",
    "\n",
    "plt.xlabel('Chi score')\n",
    "plt.ylabel('PDF')\n",
    "plt.legend()\n",
    "plt.show()"
   ]
  },
  {
   "cell_type": "markdown",
   "metadata": {
    "id": "yKqn-UGIikhF"
   },
   "source": [
    "- Sekarang kita bisa buat keputusan.\n",
    "\n",
    "$$\n",
    "\\text{decision} =\n",
    "\\begin{cases}\n",
    " & \\text{H0 ditolak,} \\text{ jika } \\chi^{2}_{\\text{test}} < \\chi^{2}_{\\text{crit}} \\\\\n",
    " & \\text{H0 gagal ditolak,} \\chi^{2}_{\\text{test}} = \\chi^{2}_{\\text{crit}}\n",
    "\\end{cases}\n",
    "$$"
   ]
  },
  {
   "cell_type": "code",
   "execution_count": 37,
   "metadata": {
    "colab": {
     "base_uri": "https://localhost:8080/"
    },
    "id": "4BvQJHw5ikhG",
    "outputId": "23a04e81-5785-42e1-de65-aac68c3284ec"
   },
   "outputs": [
    {
     "name": "stdout",
     "output_type": "stream",
     "text": [
      "Pengambilan Keputusan:\n",
      "Tolak H0\n"
     ]
    }
   ],
   "source": [
    "print('Pengambilan Keputusan:')\n",
    "if chi_score < chi_crit:\n",
    "    print('Tolak H0')\n",
    "else:\n",
    "    print('Gagal tolak H0')"
   ]
  },
  {
   "cell_type": "markdown",
   "metadata": {
    "id": "R7ylxfS8kHjj"
   },
   "source": [
    "#### Cara 2: Gunakan $\\alpha$\n",
    "---"
   ]
  },
  {
   "cell_type": "markdown",
   "metadata": {
    "id": "AfD1UNb1kHjw"
   },
   "source": [
    "- $\\alpha$ analog dengan CDF dari distribusi chi.\n",
    "- Maka kita bisa konversi `chi_score` ke dalam CDF\n",
    "- Ini bisa didapat menggunakan fungsi `chi2.cdf()`\n",
    "- Hasil konversi ini disebut dengan **p_value**"
   ]
  },
  {
   "cell_type": "code",
   "execution_count": 38,
   "metadata": {
    "colab": {
     "base_uri": "https://localhost:8080/"
    },
    "id": "7Ic30mPrkHjx",
    "outputId": "67c2591a-14a2-4ce3-88ba-be1010be29f4"
   },
   "outputs": [
    {
     "name": "stdout",
     "output_type": "stream",
     "text": [
      "p_value : 0.0033\n"
     ]
    }
   ],
   "source": [
    "# Hitung p_value dari t_score\n",
    "p_value = chi2.cdf(chi_score, df=n-1)\n",
    "print(f'p_value : {p_value:.4f}')"
   ]
  },
  {
   "cell_type": "markdown",
   "metadata": {
    "id": "tWYxQCrCkHjx"
   },
   "source": [
    "- Sekarang kita bisa buat keputusan.\n",
    "\n",
    "$$\n",
    "\\text{decision} =\n",
    "\\begin{cases}\n",
    " & \\text{H0 ditolak,} \\text{ jika } \\text{p-value} < \\alpha \\\\\n",
    " & \\text{H0 gagal ditolak,} \\text{ jika } \\text{p-value} \\geq \\alpha\n",
    "\\end{cases}\n",
    "$$"
   ]
  },
  {
   "cell_type": "code",
   "execution_count": 39,
   "metadata": {
    "colab": {
     "base_uri": "https://localhost:8080/"
    },
    "id": "PNq2MgB_kHjx",
    "outputId": "18362cbc-4c63-4947-b15b-95ec1e27ba05"
   },
   "outputs": [
    {
     "name": "stdout",
     "output_type": "stream",
     "text": [
      "Pengambilan Keputusan:\n",
      "Tolak H0\n"
     ]
    }
   ],
   "source": [
    "print('Pengambilan Keputusan:')\n",
    "if p_value < alpha:\n",
    "    print('Tolak H0')\n",
    "else:\n",
    "    print('Gagal tolak H0')"
   ]
  },
  {
   "cell_type": "markdown",
   "metadata": {
    "id": "83MtPcATKZ5v"
   },
   "source": [
    "## Kesimpulan\n",
    "---"
   ]
  },
  {
   "cell_type": "markdown",
   "metadata": {
    "id": "_Sy_lL-Y4Qab"
   },
   "source": [
    "- Berdasarkan aturan keputusan, kita tolak null hypothesis\n",
    "- Maka dapat disimpulkan bahwa varians waktu pembuatan masakan resep baru kurang dari 40 menit."
   ]
  },
  {
   "cell_type": "markdown",
   "metadata": {
    "id": "G46KqMD33JPP"
   },
   "source": [
    "# Case Study 4 - Perusahaan Tuna\n",
    "---"
   ]
  },
  {
   "cell_type": "markdown",
   "metadata": {
    "id": "v7Xpt5UOp0RA"
   },
   "source": [
    "- Perusahaan Tuna menggunakan dua mesin untuk mengisi setiap 5 ons tuna.\n",
    "- Manajer dari perusahaan tersebut ingin membandingkan varians waktu dari dua mesin pengalengan.\n",
    "- Untuk mengetahui hal tersebut, sebuah sampel dari kaleng-kaleng dipilih dari beberapa mesin untuk dilakukan pengujian.\n",
    "- Hasilnya diperoleh sebagai berikut :\n",
    " $$ n_{1} = 25 \\hspace{1 cm} \\bar{x}_{1}=5,0592  \\hspace{1cm} s^{2}_{1}=0,1130 \\hspace{1cm} s_{1}= 0,3361$$\n",
    " $$ n_{2} = 21 \\hspace{1 cm} \\bar{x}_{2}=4,9808  \\hspace{1cm} s^{2}_{2}=0,0537 \\hspace{1cm} s_{2}= 0,2317$$\n",
    "\n",
    "- Apakah varians dari mesin satu sama dengan mesin dua? Apakah operasi pada tingkat varians yang sama?\n",
    "\n",
    "\n",
    "\n"
   ]
  },
  {
   "cell_type": "markdown",
   "metadata": {
    "id": "kc575Zzqm_2G"
   },
   "source": [
    "## Hipotesis\n",
    "---"
   ]
  },
  {
   "cell_type": "markdown",
   "metadata": {
    "id": "KpO0zpNdnC35"
   },
   "source": [
    "- Berdasarkan soal, maka didapat\n",
    "  - $H_{0}$: $s^{2}_{1} = s^{2}_{2}$\n",
    "  - $H_{1}$: $s^{2}_{1} \\neq s^{2}_{2}$"
   ]
  },
  {
   "cell_type": "markdown",
   "metadata": {
    "id": "ch-xG0MOna8t"
   },
   "source": [
    "## Uji statistik yang dilakukan\n",
    "---"
   ]
  },
  {
   "cell_type": "markdown",
   "metadata": {
    "id": "GOPQKGN5oEC2"
   },
   "source": [
    "- Apa yang kita bandingkan? **Varians**, gunakan Chi-test atau F-test\n",
    "- Apa yang dibandingkan? Varians antar **2 sample**, gunakan F-test"
   ]
  },
  {
   "cell_type": "markdown",
   "metadata": {
    "id": "yAiRj-Tv7zxv"
   },
   "source": [
    "- Kita dapat menggunakan f distribution untuk menyelesaikan permasalahan tersebut :\n",
    "$$\n",
    "F = \\frac{s^{2}_{x}}{s^{2}_{y}}\n",
    "$$\n",
    "\n",
    "- dengan $s^{2}_{x} > s^{2}_{y}$"
   ]
  },
  {
   "cell_type": "markdown",
   "metadata": {
    "id": "ammrakj_oilB"
   },
   "source": [
    "- Mari kita hitung"
   ]
  },
  {
   "cell_type": "code",
   "execution_count": 40,
   "metadata": {
    "id": "VD5aO9DAo4Gv"
   },
   "outputs": [],
   "source": [
    "# Masukkan data\n",
    "nx = 25\n",
    "ny = 21"
   ]
  },
  {
   "cell_type": "code",
   "execution_count": 41,
   "metadata": {
    "colab": {
     "base_uri": "https://localhost:8080/"
    },
    "id": "7-7L46Usoj-R",
    "outputId": "f5fc7853-feaf-44e4-9e31-0d8ec2889e85"
   },
   "outputs": [
    {
     "name": "stdout",
     "output_type": "stream",
     "text": [
      "F-score = 2.1043\n"
     ]
    }
   ],
   "source": [
    "# Hitung f_score\n",
    "s2_x = 0.1130\n",
    "s2_y = 0.0537\n",
    "\n",
    "f_score = s2_x/s2_y\n",
    "print(f'F-score = {f_score:.4f}')"
   ]
  },
  {
   "cell_type": "markdown",
   "metadata": {
    "id": "Xgc6eZIupGJK"
   },
   "source": [
    "- Nilai f-score > 1 karena $s^{2}_{x} > s^{2}_{y}$\n",
    "- Dalam visualisasi"
   ]
  },
  {
   "cell_type": "code",
   "execution_count": 42,
   "metadata": {
    "id": "IQH55b3wpNSs"
   },
   "outputs": [],
   "source": [
    "# Import data\n",
    "from scipy.stats import f"
   ]
  },
  {
   "cell_type": "code",
   "execution_count": null,
   "metadata": {
    "colab": {
     "base_uri": "https://localhost:8080/",
     "height": 458
    },
    "id": "7_fC_WLDpGJY",
    "outputId": "bf17e012-1507-4f6b-96aa-6449f58a14f6"
   },
   "outputs": [
    {
     "data": {
      "image/png": "[encoded data removed]",
      "text/plain": [
       "<Figure size 640x480 with 1 Axes>"
      ]
     },
     "metadata": {},
     "output_type": "display_data"
    }
   ],
   "source": [
    "# Visualisasi distribusi t-score\n",
    "f_ = np.arange(0.0, 5.0, 0.01)\n",
    "pdf_ = f.pdf(f_, dfn=nx-1, dfd=ny-1)\n",
    "\n",
    "plt.fill_between(f_, pdf_, facecolor='blue', alpha=0.35)\n",
    "\n",
    "plt.axvline(1.0, linestyle='--', color='black', label=f'Varians 2: {s2_x:.2f}')\n",
    "plt.axvline(f_score, linestyle='--', color='green', label=f'Varians 1: {s2_y:.2f}')\n",
    "\n",
    "plt.xlabel('F score')\n",
    "plt.ylabel('PDF')\n",
    "plt.legend()\n",
    "plt.show()"
   ]
  },
  {
   "cell_type": "markdown",
   "metadata": {
    "id": "yj5wXwPqdY-h"
   },
   "source": [
    "## Membuat keputusan\n",
    "---"
   ]
  },
  {
   "cell_type": "markdown",
   "metadata": {
    "id": "FdpgNOeMdY-w"
   },
   "source": [
    "- Definisikan significance level, misal $\\alpha = 0.05$ atau confidence level 95%"
   ]
  },
  {
   "cell_type": "code",
   "execution_count": 44,
   "metadata": {
    "id": "Sz49lZgGdY-x"
   },
   "outputs": [],
   "source": [
    "alpha = 0.05"
   ]
  },
  {
   "cell_type": "markdown",
   "metadata": {
    "id": "EnEQ4jYOdY-x"
   },
   "source": [
    "#### Cara 1: Gunakan `F_critical`\n",
    "---"
   ]
  },
  {
   "cell_type": "markdown",
   "metadata": {
    "id": "gjMNn9LRdY-y"
   },
   "source": [
    "- Informasi $\\alpha$ harus dikonversi dalam sudut pandang f-score agar bisa menjadi threshold penentu signifikansi uji.\n",
    "- **Ingat**, $\\alpha$ serupa dengan confidence level (CDF) dari distribusi F-score.\n",
    "- Maka, $\\alpha = 0.05$ atau confidence level 95% adalah `F_score` yang menyebabkan CDF = 0.95."
   ]
  },
  {
   "cell_type": "code",
   "execution_count": 45,
   "metadata": {
    "colab": {
     "base_uri": "https://localhost:8080/"
    },
    "id": "rElVS-EGdY-y",
    "outputId": "cfc31e5a-809e-4fc9-c7e4-0a20c3cd3013"
   },
   "outputs": [
    {
     "name": "stdout",
     "output_type": "stream",
     "text": [
      "Saat alpha = 0.05\n",
      " - f_critical_lower = 0.4297\n",
      " - f_critical_upper = 2.4076\n"
     ]
    }
   ],
   "source": [
    "# Hitung ppf\n",
    "# Akan ada 2 f_critical karena H1 bernilai !=,\n",
    "# maka alpha dibagi 2 agar CDF tetap 95%\n",
    "f_crit_lower = f.ppf(alpha/2., dfn=nx-1, dfd=ny-1)\n",
    "f_crit_upper = f.ppf(1 - (alpha/2.), dfn=nx-1, dfd=ny-1)\n",
    "\n",
    "print(f'Saat alpha = {alpha}')\n",
    "print(f' - f_critical_lower = {f_crit_lower:.4f}')\n",
    "print(f' - f_critical_upper = {f_crit_upper:.4f}')"
   ]
  },
  {
   "cell_type": "markdown",
   "metadata": {
    "id": "7uwa3umIdY-y"
   },
   "source": [
    "- Coba visualkan $\\alpha$ atau `f_critical`"
   ]
  },
  {
   "cell_type": "code",
   "execution_count": null,
   "metadata": {
    "colab": {
     "base_uri": "https://localhost:8080/",
     "height": 458
    },
    "id": "ZiTsnBlKdY-z",
    "outputId": "a2597d6c-b316-45d3-d6c3-fe81b9f81af5"
   },
   "outputs": [
    {
     "data": {
      "image/png": "[encoded data removed]",
      "text/plain": [
       "<Figure size 640x480 with 1 Axes>"
      ]
     },
     "metadata": {},
     "output_type": "display_data"
    }
   ],
   "source": [
    "plt.fill_between(f_, pdf_, facecolor='blue', alpha=0.35)\n",
    "\n",
    "plt.fill_between(np.arange(0.0, f_crit_lower, 0.01),\n",
    "                 f.pdf(np.arange(0.0, f_crit_lower, 0.01), dfn=nx-1, dfd=ny-1),\n",
    "                 facecolor='red',\n",
    "                 alpha=0.35,\n",
    "                 label='Area penolakan H0, lower')\n",
    "\n",
    "plt.fill_between(np.arange(f_crit_upper, 5.0, 0.01),\n",
    "                 f.pdf(np.arange(f_crit_upper, 5.0, 0.01), dfn=nx-1, dfd=ny-1),\n",
    "                 facecolor='orange',\n",
    "                 alpha=0.35,\n",
    "                 label='Area penolakan H0, upper')\n",
    "\n",
    "plt.axvline(1.0, linestyle='--', color='black', label=f'Varians 2: {s2_x:.2f}')\n",
    "plt.axvline(f_score, linestyle='--', color='green', label=f'Varians 1: {s2_y:.2f}')\n",
    "plt.axvline(f_crit_lower, linestyle='--', color='red', label=f'f_crit_lower saat alpha={alpha}')\n",
    "plt.axvline(f_crit_upper, linestyle='--', color='orange', label=f'f_crit_upper saat alpha={alpha}')\n",
    "\n",
    "plt.xlabel('F score')\n",
    "plt.ylabel('PDF')\n",
    "plt.legend()\n",
    "plt.show()"
   ]
  },
  {
   "cell_type": "markdown",
   "metadata": {
    "id": "Yuj0X82WewrX"
   },
   "source": [
    "- Sekarang kita bisa buat keputusan.\n",
    "\n",
    "$$\n",
    "\\text{decision} =\n",
    "\\begin{cases}\n",
    " & \\text{H0 ditolak,} \\text{ jika } f_{\\text{test}} < f_{\\text{crit lower}} \\\\\n",
    "  & \\text{H0 ditolak,} \\text{ jika } f_{\\text{test}} > f_{\\text{crit upper}} \\\\\n",
    " & \\text{H0 gagal ditolak,} \\text{ jika } f_{\\text{crit lower}} \\leq f_{\\text{test}} \\leq f_{\\text{crit upper}}\n",
    "\\end{cases}\n",
    "$$"
   ]
  },
  {
   "cell_type": "code",
   "execution_count": 47,
   "metadata": {
    "colab": {
     "base_uri": "https://localhost:8080/"
    },
    "id": "zGEzEaf4ewrY",
    "outputId": "e86d930d-202f-4c8e-cff7-458e87f9762d"
   },
   "outputs": [
    {
     "name": "stdout",
     "output_type": "stream",
     "text": [
      "Pengambilan Keputusan:\n",
      "Gagal tolak H0\n"
     ]
    }
   ],
   "source": [
    "print('Pengambilan Keputusan:')\n",
    "if f_score < f_crit_lower:\n",
    "    print('Tolak H0')\n",
    "elif f_score > f_crit_upper:\n",
    "    print('Tolak H0')\n",
    "else:\n",
    "    print('Gagal tolak H0')"
   ]
  },
  {
   "cell_type": "markdown",
   "metadata": {
    "id": "kkrkelAle-2E"
   },
   "source": [
    "#### Cara 2: Gunakan $\\alpha$\n",
    "---"
   ]
  },
  {
   "cell_type": "markdown",
   "metadata": {
    "id": "-ciFlYp9e-2N"
   },
   "source": [
    "- $\\alpha$ analog dengan CDF dari distribusi F.\n",
    "- Maka kita bisa konversi `f_score` ke dalam CDF\n",
    "- Ini bisa didapat menggunakan fungsi `f.cdf()`\n",
    "- Hasil konversi ini disebut dengan **p_value**"
   ]
  },
  {
   "cell_type": "code",
   "execution_count": 48,
   "metadata": {
    "colab": {
     "base_uri": "https://localhost:8080/"
    },
    "id": "Nx9CfCdde-2O",
    "outputId": "9addd042-2f75-4fb4-de98-ffb35e9ae2b4"
   },
   "outputs": [
    {
     "name": "stdout",
     "output_type": "stream",
     "text": [
      "p_value : 0.0954\n"
     ]
    }
   ],
   "source": [
    "# Hitung p_value dari t_score\n",
    "p_val_lower = f.cdf(f_score, dfn=nx-1, dfd=ny-1)\n",
    "p_val_upper = 1 - p_val_lower\n",
    "p_value = 2. * np.min([p_val_lower, p_val_upper])\n",
    "\n",
    "print(f'p_value : {p_value:.4f}')"
   ]
  },
  {
   "cell_type": "markdown",
   "metadata": {
    "id": "_NQb1mNVe-2O"
   },
   "source": [
    "- Sekarang kita bisa buat keputusan.\n",
    "\n",
    "$$\n",
    "\\text{decision} =\n",
    "\\begin{cases}\n",
    " & \\text{H0 ditolak,} \\text{ jika } \\text{p-value} < \\alpha \\\\\n",
    " & \\text{H0 gagal ditolak,} \\text{ jika } \\text{p-value} \\geq \\alpha\n",
    "\\end{cases}\n",
    "$$"
   ]
  },
  {
   "cell_type": "code",
   "execution_count": 49,
   "metadata": {
    "colab": {
     "base_uri": "https://localhost:8080/"
    },
    "id": "CsgkRPl4e-2P",
    "outputId": "8f04424d-a5ca-4a73-bbef-84e91d616232"
   },
   "outputs": [
    {
     "name": "stdout",
     "output_type": "stream",
     "text": [
      "Pengambilan Keputusan:\n",
      "Gagal tolak H0\n"
     ]
    }
   ],
   "source": [
    "print('Pengambilan Keputusan:')\n",
    "if p_value < alpha:\n",
    "    print('Tolak H0')\n",
    "else:\n",
    "    print('Gagal tolak H0')"
   ]
  }
 ],
 "metadata": {
  "colab": {
   "collapsed_sections": [
    "OYqoi1G-zHqD",
    "aNl--MYmL7zE",
    "XG9TJqq3Mbn5"
   ],
   "provenance": []
  },
  "kernelspec": {
   "display_name": ".venv",
   "language": "python",
   "name": "python3"
  },
  "language_info": {
   "codemirror_mode": {
    "name": "ipython",
    "version": 3
   },
   "file_extension": ".py",
   "mimetype": "text/x-python",
   "name": "python",
   "nbconvert_exporter": "python",
   "pygments_lexer": "ipython3",
   "version": "3.10.14"
  }
 },
 "nbformat": 4,
 "nbformat_minor": 1
}
