{
 "cells": [
  {
   "cell_type": "markdown",
   "metadata": {
    "id": "4s9rznRKsDcD"
   },
   "source": [
    "# **Pertemuan 6 - Independent Probability**\n",
    "\n",
    "Introduction to Probability Course - Sekolah Data - Pacmann Academy"
   ]
  },
  {
   "cell_type": "markdown",
   "metadata": {
    "id": "Us5V9wTosOwm"
   },
   "source": [
    "# Peluang Independen\n",
    "\n",
    "Dari materi yang sudah dipelajari di video:\n",
    "* Event/kejadian independen merupakan sebuah konsep.\n",
    "* Dimana kejadian satu dan kejadian lainnya tidak saling mempengaruhi satu sama lain.\n",
    "\n",
    "Misal, pada pelemparan 2 koin. Kemungkinan koin pertama untuk mendapat \"angka\" tidak mempengaruhi peluang koin kedua.\n",
    "\n",
    "<center><img src=\"../assets/coin_toss_twice_tree.jpg\" alt=\"Drawing\" height=250/></center>"
   ]
  },
  {
   "cell_type": "markdown",
   "metadata": {
    "id": "3cznahwJH5xp"
   },
   "source": [
    "---\n",
    "## Coin Toss\n",
    "\n",
    "Untuk mendapatkan \"sense\" dari kejadian independen ini kita akan coba simulasikan kejadiannya. "
   ]
  },
  {
   "cell_type": "code",
   "execution_count": 2,
   "metadata": {
    "executionInfo": {
     "elapsed": 336,
     "status": "ok",
     "timestamp": 1660289687840,
     "user": {
      "displayName": "Ghifari Faza",
      "userId": "12808111184878397149"
     },
     "user_tz": -420
    },
    "id": "MCkUIzH8sNwZ"
   },
   "outputs": [],
   "source": [
    "import sys\n",
    "sys.path.insert(0, \"/home/ubuntu/learning/probability-and-random-variables/\")\n",
    "\n",
    "import probs_module.module_python_ind_probs_6 as module"
   ]
  },
  {
   "cell_type": "markdown",
   "metadata": {
    "id": "yFFJRe1GJ5V6"
   },
   "source": [
    "Dengan menggunakan modul yang sudah disediakan kita dapat melakukan perhitungan peluang. Pertama, kita akan coba gunakan modul tersebut untuk membuat distribusi ruang sampel dengan menggunakan fungsi `Dist` di dalam modul:"
   ]
  },
  {
   "cell_type": "code",
   "execution_count": 3,
   "metadata": {
    "colab": {
     "base_uri": "https://localhost:8080/"
    },
    "executionInfo": {
     "elapsed": 12,
     "status": "ok",
     "timestamp": 1660289689355,
     "user": {
      "displayName": "Ghifari Faza",
      "userId": "12808111184878397149"
     },
     "user_tz": -420
    },
    "id": "ZWykYqHEsM5Q",
    "outputId": "148ec4e5-5dfe-4b8b-ab1f-b9bde36c6a32"
   },
   "outputs": [
    {
     "data": {
      "text/plain": [
       "Dist({'HT': 2, 'TT': 1, 'TH': 1, 'HH': 1})"
      ]
     },
     "execution_count": 3,
     "metadata": {},
     "output_type": "execute_result"
    }
   ],
   "source": [
    "module.Dist(['TT','HT','TH','HH','HT'])"
   ]
  },
  {
   "cell_type": "markdown",
   "metadata": {
    "id": "o4kVud15L8PC"
   },
   "source": [
    "Sehingga, misal diberikan sebuah kasus sederhana:"
   ]
  },
  {
   "cell_type": "code",
   "execution_count": 4,
   "metadata": {
    "executionInfo": {
     "elapsed": 5,
     "status": "ok",
     "timestamp": 1660289690570,
     "user": {
      "displayName": "Ghifari Faza",
      "userId": "12808111184878397149"
     },
     "user_tz": -420
    },
    "id": "Q0Xy7MXQLGA-"
   },
   "outputs": [],
   "source": [
    "space = module.Dist([1,2,3,4,4,3,3,2,2,2,1,5,5,6,5,3,6,1,2,6])\n",
    "event = {2}"
   ]
  },
  {
   "cell_type": "markdown",
   "metadata": {
    "id": "-dgDoaYoxoYz"
   },
   "source": [
    "Pada kode diatas, kita membuat:\n",
    "* ruang sampel dengan nama `space`\n",
    "* sebuah event, yaitu keluar angka 2\n",
    "\n",
    "Sehingga, untuk menghitung peluang kita dapat menggunakan fungsi `peluang`"
   ]
  },
  {
   "cell_type": "code",
   "execution_count": 5,
   "metadata": {
    "colab": {
     "base_uri": "https://localhost:8080/"
    },
    "executionInfo": {
     "elapsed": 8,
     "status": "ok",
     "timestamp": 1660289691890,
     "user": {
      "displayName": "Ghifari Faza",
      "userId": "12808111184878397149"
     },
     "user_tz": -420
    },
    "id": "J6f514ZhLF83",
    "outputId": "1fbad044-f49e-4e46-9d62-da078f988e8d"
   },
   "outputs": [
    {
     "data": {
      "text/plain": [
       "0.25"
      ]
     },
     "execution_count": 5,
     "metadata": {},
     "output_type": "execute_result"
    }
   ],
   "source": [
    "module.Peluang(event,space)"
   ]
  },
  {
   "cell_type": "markdown",
   "metadata": {
    "id": "ObIve8pvRSG1"
   },
   "source": [
    "* Sekarang, coba kita simulasikan pelemparan 1 koin dahulu.\n",
    "* Koin ini dilempar sebanyak sepuluh kali, dan kita lihat hasilnya."
   ]
  },
  {
   "cell_type": "code",
   "execution_count": 6,
   "metadata": {
    "colab": {
     "base_uri": "https://localhost:8080/"
    },
    "executionInfo": {
     "elapsed": 334,
     "status": "ok",
     "timestamp": 1660289693938,
     "user": {
      "displayName": "Ghifari Faza",
      "userId": "12808111184878397149"
     },
     "user_tz": -420
    },
    "id": "RxV63a8BLF0P",
    "outputId": "953d4271-cb4e-4b33-c6d5-163ed615b253"
   },
   "outputs": [
    {
     "name": "stdout",
     "output_type": "stream",
     "text": [
      "Head Probability: 0.4 \n",
      " Tail Probability: 0.6\n",
      "Hasil pelemparan koin 10 kali = Dist({'T': 6, 'H': 4})\n"
     ]
    }
   ],
   "source": [
    "module.lempar_satu_koin(10)"
   ]
  },
  {
   "cell_type": "markdown",
   "metadata": {
    "id": "g_BnprbY8Q-E"
   },
   "source": [
    "Sekarang, kita coba besarkan jumlah simulasinya"
   ]
  },
  {
   "cell_type": "code",
   "execution_count": 7,
   "metadata": {
    "colab": {
     "base_uri": "https://localhost:8080/"
    },
    "executionInfo": {
     "elapsed": 599,
     "status": "ok",
     "timestamp": 1660289700825,
     "user": {
      "displayName": "Ghifari Faza",
      "userId": "12808111184878397149"
     },
     "user_tz": -420
    },
    "id": "h4np8QJ98V9k",
    "outputId": "943619c9-832f-49fe-82b1-27d3f573e4aa"
   },
   "outputs": [
    {
     "name": "stdout",
     "output_type": "stream",
     "text": [
      "Head Probability: 0.64 \n",
      " Tail Probability: 0.36\n",
      "Hasil pelemparan koin 100 kali = Dist({'H': 64, 'T': 36})\n"
     ]
    }
   ],
   "source": [
    "module.lempar_satu_koin(100)"
   ]
  },
  {
   "cell_type": "code",
   "execution_count": 8,
   "metadata": {
    "colab": {
     "base_uri": "https://localhost:8080/"
    },
    "executionInfo": {
     "elapsed": 1229,
     "status": "ok",
     "timestamp": 1660289703483,
     "user": {
      "displayName": "Ghifari Faza",
      "userId": "12808111184878397149"
     },
     "user_tz": -420
    },
    "id": "Lws0VNg98ckS",
    "outputId": "268b1ec5-c8a7-4736-9552-bc6d35591439"
   },
   "outputs": [
    {
     "name": "stdout",
     "output_type": "stream",
     "text": [
      "Head Probability: 0.499477 \n",
      " Tail Probability: 0.500523\n",
      "Hasil pelemparan koin 1000000 kali = Dist({'T': 500523, 'H': 499477})\n"
     ]
    }
   ],
   "source": [
    "module.lempar_satu_koin(1000000)"
   ]
  },
  {
   "cell_type": "markdown",
   "metadata": {
    "id": "6CxsO968ZMDo"
   },
   "source": [
    "Mengapa kita coba lakukan satu juta kali pelemparan? Coba kita simulasikan lagi."
   ]
  },
  {
   "cell_type": "code",
   "execution_count": 9,
   "metadata": {
    "colab": {
     "base_uri": "https://localhost:8080/",
     "height": 265
    },
    "executionInfo": {
     "elapsed": 1083,
     "status": "ok",
     "timestamp": 1660289707753,
     "user": {
      "displayName": "Ghifari Faza",
      "userId": "12808111184878397149"
     },
     "user_tz": -420
    },
    "id": "lnnDJq9gadIh",
    "outputId": "9e15afac-e4a3-47ca-a909-d02eb70e02f4"
   },
   "outputs": [
    {
     "data": {
      "image/png": "[encoded data removed]",
      "text/plain": [
       "<Figure size 640x480 with 1 Axes>"
      ]
     },
     "metadata": {},
     "output_type": "display_data"
    }
   ],
   "source": [
    "module.eksperimen_lempar(1000, 1)"
   ]
  },
  {
   "cell_type": "markdown",
   "metadata": {
    "id": "YQnwhCwaTLTu"
   },
   "source": [
    "Kita bisa melihat bahwa nilai keduanya sangat dekat dengan nilai peluang secara teori yaitu $0.5$.\n",
    "\n",
    "<center><img src=\"../assets/coin_toss_tree.jpg\" alt=\"Drawing\" height=200/></center>\n",
    "\n",
    "Lalu, jika keduanya independen. Menurut teori yang sudah dibahas di kelas:\n",
    "\n",
    "$$P(A \\cap B) = P(A) \\cdot P(B)$$\n",
    "\n",
    "Jika:\n",
    "- A adalah peluang koin pertama untuk dapat `Head`\n",
    "- B adalah peluang koin kedua untuk dapat `Head`\n",
    "\n",
    "Maka:\n",
    "\n",
    "$$P(A \\cap B) = 0.5 \\cdot 0.5 = 0.25$$\n",
    "\n",
    "<center><img src=\"../assets/coin_toss_twice_tree.jpg\" alt=\"Drawing\" height=250/></center>\n",
    "\n",
    "Sekarang, akan kita coba simulasikan pelemparan sebanyak satu juta kali "
   ]
  },
  {
   "cell_type": "code",
   "execution_count": 10,
   "metadata": {
    "executionInfo": {
     "elapsed": 1597,
     "status": "ok",
     "timestamp": 1660289925382,
     "user": {
      "displayName": "Ghifari Faza",
      "userId": "12808111184878397149"
     },
     "user_tz": -420
    },
    "id": "ktKGDLF4LFo-"
   },
   "outputs": [],
   "source": [
    "two_coins_tosses = module.lempar_koin(n_sim = 1000000, n_coins = 2)"
   ]
  },
  {
   "cell_type": "markdown",
   "metadata": {
    "id": "5SQTQPWkX3Is"
   },
   "source": [
    "Kita lihat nilai peluangnya"
   ]
  },
  {
   "cell_type": "code",
   "execution_count": 11,
   "metadata": {
    "colab": {
     "base_uri": "https://localhost:8080/"
    },
    "executionInfo": {
     "elapsed": 353,
     "status": "ok",
     "timestamp": 1660289947440,
     "user": {
      "displayName": "Ghifari Faza",
      "userId": "12808111184878397149"
     },
     "user_tz": -420
    },
    "id": "XIUVSo_lLFfn",
    "outputId": "6549142d-1a87-404a-c300-4f39e8412398"
   },
   "outputs": [
    {
     "name": "stdout",
     "output_type": "stream",
     "text": [
      "Two Heads Probability: 0.250007\n"
     ]
    }
   ],
   "source": [
    "p_double_head = module.Peluang({'HH'}, two_coins_tosses)\n",
    "\n",
    "print(f\"Two Heads Probability: {p_double_head}\")"
   ]
  },
  {
   "cell_type": "markdown",
   "metadata": {
    "id": "EjK6089PcKlV"
   },
   "source": [
    "---\n",
    "## Disjoint Event\n",
    "\n",
    "Kejadian disjoint merupakan kejadian berjumlah lebih dari satu dan masing-masing kejadian tidak memiliki irisan.\n",
    "\n",
    "<center><img src=\"../assets/disjoint-of-sets-using-Venn-diagram.png\" alt=\"Drawing\" height=250/></center>\n",
    "\n",
    "Dalam sesi ini kita akan coba simulasikan apakah event yang disjoint merupakan kejadian independen atau tidak.\n",
    "\n",
    "Misal, kita memiliki dua set:\n",
    "\n",
    "* Set pertama, adalah kartu dengan angka kurang dari sama dengan 6\n",
    "* Set kedua, adalah kartu bukan angka\n",
    "* Universal Set adalah keseluruhan *rank* kartu."
   ]
  },
  {
   "cell_type": "code",
   "execution_count": 12,
   "metadata": {
    "executionInfo": {
     "elapsed": 393,
     "status": "ok",
     "timestamp": 1660290048852,
     "user": {
      "displayName": "Ghifari Faza",
      "userId": "12808111184878397149"
     },
     "user_tz": -420
    },
    "id": "tBg8z1XzYIOD"
   },
   "outputs": [],
   "source": [
    "A = {'1','2','3','4','5','6'}\n",
    "B = {'J','Q','K','A'}\n",
    "U = {'1','2','3','4','5','6','7','8','9','10','J','Q','K','A'}"
   ]
  },
  {
   "cell_type": "markdown",
   "metadata": {
    "id": "9YzR9QkCmujI"
   },
   "source": [
    "Dalam kejadian independen. Jika dua kejadian terjadi bersamaan:\n",
    "\n",
    "<center>$P(A \\cap B) = P(A) \\cdot P(B)$</center>"
   ]
  },
  {
   "cell_type": "code",
   "execution_count": 13,
   "metadata": {
    "colab": {
     "base_uri": "https://localhost:8080/"
    },
    "executionInfo": {
     "elapsed": 423,
     "status": "ok",
     "timestamp": 1660290050523,
     "user": {
      "displayName": "Ghifari Faza",
      "userId": "12808111184878397149"
     },
     "user_tz": -420
    },
    "id": "iGKxyXHMYIfr",
    "outputId": "2958ab3f-7326-4f7e-8e5f-653a676c09e4"
   },
   "outputs": [
    {
     "name": "stdout",
     "output_type": "stream",
     "text": [
      "Jika dua kejadian independen, maka Peluang A dan B terjadi bersamaan adalah: 0.12244897959183672\n"
     ]
    }
   ],
   "source": [
    "PA = module.Peluang(A,U)\n",
    "PB = module.Peluang(B,U)\n",
    "PAnB = PA * PB\n",
    "\n",
    "print(f\"Jika dua kejadian independen, maka Peluang A dan B terjadi bersamaan adalah: {PAnB}\")"
   ]
  },
  {
   "cell_type": "markdown",
   "metadata": {
    "id": "xECmqFmPnwWX"
   },
   "source": [
    "Namun, dalam kasus ini, coba kita hitung peluang irisan dari kedua set:"
   ]
  },
  {
   "cell_type": "code",
   "execution_count": 14,
   "metadata": {
    "colab": {
     "base_uri": "https://localhost:8080/"
    },
    "executionInfo": {
     "elapsed": 383,
     "status": "ok",
     "timestamp": 1660290060008,
     "user": {
      "displayName": "Ghifari Faza",
      "userId": "12808111184878397149"
     },
     "user_tz": -420
    },
    "id": "xRTyEIHBYIxc",
    "outputId": "a60bcebd-73bf-46fe-e5fa-b13a5363724c"
   },
   "outputs": [
    {
     "name": "stdout",
     "output_type": "stream",
     "text": [
      "Peluang sebenarnya: 0.0\n"
     ]
    }
   ],
   "source": [
    "PAnB_2 = module.Peluang((A&B), U)\n",
    "print(f\"Peluang sebenarnya: {PAnB_2}\")"
   ]
  },
  {
   "cell_type": "markdown",
   "metadata": {
    "id": "pDcZsH7wpFpI"
   },
   "source": [
    "Peluang sebenarnya adalah $0$. Karena dalam **sekali penambilan kartu** tidak mungkin memiliki angka `6` dan `King` bersamaan, misalnya."
   ]
  },
  {
   "cell_type": "markdown",
   "metadata": {
    "id": "9W9y-uZZpXgk"
   },
   "source": [
    "---\n",
    "##Conditional Independence\n",
    "\n",
    "Misal sebuah perusahaan memiliki 2 mesin, dan dari data historis diketahui bahwa:\n",
    "* Selama 1.000 jam kerja, mesin A memiliki _downtime_ selama kurang lebih 20 jam.\n",
    "<center><img src=\"https://www.knic.co.id/uploads/6/easy-ways-to-maintain-your-manufacturing-machines-function-well.jpg\" alt=\"Drawing\" height=200/></center>\n",
    "\n",
    "* Selama 1.000 jam kerja, mesin B memiliki _downtime_ selama kurang lebih 25 jam.\n",
    "<center><img src=\"../assets/factory.jpg\" alt=\"Drawing\" height=200/></center>\n",
    "\n",
    "Distribusi ini dapat dituliskan sebagai:"
   ]
  },
  {
   "cell_type": "code",
   "execution_count": 15,
   "metadata": {
    "executionInfo": {
     "elapsed": 341,
     "status": "ok",
     "timestamp": 1660290170144,
     "user": {
      "displayName": "Ghifari Faza",
      "userId": "12808111184878397149"
     },
     "user_tz": -420
    },
    "id": "CLHB2dpY5q4J"
   },
   "outputs": [],
   "source": [
    "# U for up, D for Down\n",
    "machine_A = module.Dist({'U':980, 'D':20})\n",
    "machine_B = module.Dist({'U':975, 'D':25})"
   ]
  },
  {
   "cell_type": "markdown",
   "metadata": {
    "id": "IoQG7YLL7y6S"
   },
   "source": [
    "Kita definisikan fungsi untuk mensimulasikan kerja mesin ini:"
   ]
  },
  {
   "cell_type": "markdown",
   "metadata": {
    "id": "iHFXGTSq-e4k"
   },
   "source": [
    "Lalu kita coba untuk simulasikan selama satu juta jam kerja:\n"
   ]
  },
  {
   "cell_type": "code",
   "execution_count": 16,
   "metadata": {
    "executionInfo": {
     "elapsed": 7713,
     "status": "ok",
     "timestamp": 1660290635753,
     "user": {
      "displayName": "Ghifari Faza",
      "userId": "12808111184878397149"
     },
     "user_tz": -420
    },
    "id": "StkHrDai-HnS"
   },
   "outputs": [],
   "source": [
    "machine_states = module.simulasi_mesin(1000000, machine_A, machine_B)"
   ]
  },
  {
   "cell_type": "code",
   "execution_count": 17,
   "metadata": {
    "colab": {
     "base_uri": "https://localhost:8080/"
    },
    "executionInfo": {
     "elapsed": 524,
     "status": "ok",
     "timestamp": 1660290925618,
     "user": {
      "displayName": "Ghifari Faza",
      "userId": "12808111184878397149"
     },
     "user_tz": -420
    },
    "id": "XrhWI7j3DN-0",
    "outputId": "78e65722-9d83-41d6-9a8d-201ab5fe08a3"
   },
   "outputs": [
    {
     "name": "stdout",
     "output_type": "stream",
     "text": [
      "Dist({'UU': 955703, 'UD': 24402, 'DU': 19381, 'DD': 514})\n"
     ]
    }
   ],
   "source": [
    "print(machine_states)"
   ]
  },
  {
   "cell_type": "markdown",
   "metadata": {
    "id": "h_NngTU1_C3N"
   },
   "source": [
    "Dari simulasi tersebut coba kita hitung peluang untuk **keduanya down**"
   ]
  },
  {
   "cell_type": "code",
   "execution_count": 18,
   "metadata": {
    "colab": {
     "base_uri": "https://localhost:8080/"
    },
    "executionInfo": {
     "elapsed": 419,
     "status": "ok",
     "timestamp": 1660290959510,
     "user": {
      "displayName": "Ghifari Faza",
      "userId": "12808111184878397149"
     },
     "user_tz": -420
    },
    "id": "WLG-z8Vf-GTy",
    "outputId": "18fdf40a-8a22-4b21-a862-1dd135f75b65"
   },
   "outputs": [
    {
     "data": {
      "text/plain": [
       "0.000514"
      ]
     },
     "execution_count": 18,
     "metadata": {},
     "output_type": "execute_result"
    }
   ],
   "source": [
    "module.Peluang({'DD'}, machine_states)"
   ]
  },
  {
   "cell_type": "markdown",
   "metadata": {
    "id": "uzQprDjB_h3e"
   },
   "source": [
    "Berdasarkan perhitungan analitik:\n",
    "\n",
    "$$P(A \\cap B) = P(A) \\cdot P(B)$$\n",
    "$$P(A \\cap B) = \\frac{20}{1000} \\cdot \\frac{25}{1000} = 0.0005$$"
   ]
  },
  {
   "cell_type": "markdown",
   "metadata": {
    "id": "60v-wkQ4_-Vy"
   },
   "source": [
    "### Kasus Hujan\n",
    "\n",
    "Misal, diketahui informasi tambahan:\n",
    "* Di daerah pabrik tersebut, 25% dari waktu turun hujan. ($P(R) = 0.25$)\n",
    "* Ketika turun hujan: \n",
    "    * Lama downtime mesin A menjadi 4%. ($P(A|R) = 0.04$)\n",
    "    * Lama downtime mesin B menjadi 6%. ($P(B|R) = 0.06$)\n",
    "\n",
    "Jika dikonversi menjadi **hitungan jam**, kurang lebih menjadi seperti ini:\n",
    "* Selama 250 jam kerja, mesin A memiliki _downtime_ selama kurang lebih 10 jam.\n",
    "* Selama 250 jam kerja, mesin B memiliki _downtime_ selama kurang lebih 15 jam.\n"
   ]
  },
  {
   "cell_type": "code",
   "execution_count": 19,
   "metadata": {
    "executionInfo": {
     "elapsed": 333,
     "status": "ok",
     "timestamp": 1660290996900,
     "user": {
      "displayName": "Ghifari Faza",
      "userId": "12808111184878397149"
     },
     "user_tz": -420
    },
    "id": "wlrA0B83Ecnl"
   },
   "outputs": [],
   "source": [
    "# U for up, D for Down\n",
    "machine_A_rain = module.Dist({'U':240, 'D':10})\n",
    "machine_B_rain = module.Dist({'U':235, 'D':15})"
   ]
  },
  {
   "cell_type": "markdown",
   "metadata": {
    "id": "hpGlF-J3GAr_"
   },
   "source": [
    "Jika kita simulasikan, peluang bagi mesin A dan B sama-sama rusak adalah:"
   ]
  },
  {
   "cell_type": "code",
   "execution_count": 20,
   "metadata": {
    "executionInfo": {
     "elapsed": 12220,
     "status": "ok",
     "timestamp": 1660291020172,
     "user": {
      "displayName": "Ghifari Faza",
      "userId": "12808111184878397149"
     },
     "user_tz": -420
    },
    "id": "t3fq51UOGI1Y"
   },
   "outputs": [],
   "source": [
    "machine_states_rain = module.simulasi_mesin(1000000, machine_A_rain, machine_B_rain)"
   ]
  },
  {
   "cell_type": "code",
   "execution_count": 21,
   "metadata": {
    "colab": {
     "base_uri": "https://localhost:8080/"
    },
    "executionInfo": {
     "elapsed": 411,
     "status": "ok",
     "timestamp": 1660291024636,
     "user": {
      "displayName": "Ghifari Faza",
      "userId": "12808111184878397149"
     },
     "user_tz": -420
    },
    "id": "7yadNjQwDlVe",
    "outputId": "728e1ae0-b407-4bd3-900b-bf3e61659731"
   },
   "outputs": [
    {
     "name": "stdout",
     "output_type": "stream",
     "text": [
      "Dist({'UU': 902517, 'UD': 57399, 'DU': 37710, 'DD': 2374})\n"
     ]
    }
   ],
   "source": [
    "print(machine_states_rain)"
   ]
  },
  {
   "cell_type": "code",
   "execution_count": 22,
   "metadata": {
    "colab": {
     "base_uri": "https://localhost:8080/"
    },
    "executionInfo": {
     "elapsed": 385,
     "status": "ok",
     "timestamp": 1660291037541,
     "user": {
      "displayName": "Ghifari Faza",
      "userId": "12808111184878397149"
     },
     "user_tz": -420
    },
    "id": "E47GNIKJGONP",
    "outputId": "8e14455b-5272-4483-dfa4-1d2a967360be"
   },
   "outputs": [
    {
     "data": {
      "text/plain": [
       "0.002374"
      ]
     },
     "execution_count": 22,
     "metadata": {},
     "output_type": "execute_result"
    }
   ],
   "source": [
    "module.Peluang({'DD'}, machine_states_rain)"
   ]
  },
  {
   "cell_type": "markdown",
   "metadata": {
    "id": "SmnBC2QXGYEt"
   },
   "source": [
    "Secara analitik. kita tahu bahwa\n",
    "\n",
    "$$P(A \\cap B | R) = P(A|R) \\cdot P(B|R)$$\n",
    "$$P(A \\cap B | R) = \\frac{10}{250} \\cdot \\frac{15}{250} = 0.004$$"
   ]
  },
  {
   "cell_type": "markdown",
   "metadata": {
    "id": "pdFJqSmBpToz"
   },
   "source": [
    "---\n",
    "## Reliability Simulation\n",
    "\n",
    "Misal, dalam sebuah sistem terdapat 3 komponen independen yang bekerja secara serial.\n",
    "\n",
    "<center><img src=\"../assets/reliability_simulation_1.jpg\" alt=\"Drawing\" height=200/></center>\n",
    "\n",
    "Dari komponen ini diketahui **reliabilitas** atau peluang untuk tiap komponen untuk terus bekerja adalah:\n",
    "* Sensor: $P(up) = 0.998$\n",
    "* Autopilot: $P(up) = 0.9975$\n",
    "* Control Surfaces: $P(up) = 0.995$"
   ]
  },
  {
   "cell_type": "markdown",
   "metadata": {
    "id": "L7qVVnrQMP6e"
   },
   "source": [
    "Berapa peluang untuk keseluruhan sistem terus berjalan?\n",
    "\n",
    "Jika dikonversi menjadi bentuk _count_:\n",
    "- Sensor: 20 kali rusak dalam 10.000 penerbangan\n",
    "- Autopilot: 25 kali rusak dalam 10.000 penerbangan\n",
    "- Control Surfaces: 50 kali rusak dalam 10.000 penerbangan"
   ]
  },
  {
   "cell_type": "code",
   "execution_count": 23,
   "metadata": {
    "executionInfo": {
     "elapsed": 324,
     "status": "ok",
     "timestamp": 1660291308865,
     "user": {
      "displayName": "Ghifari Faza",
      "userId": "12808111184878397149"
     },
     "user_tz": -420
    },
    "id": "NTVFCZ5VdNd3"
   },
   "outputs": [],
   "source": [
    "# U for up, D for Down\n",
    "sensor = module.Dist({'U':9980, 'D':20})\n",
    "autopilot = module.Dist({'U':9975, 'D':25})\n",
    "surface = module.Dist({'U':9950, 'D':50})"
   ]
  },
  {
   "cell_type": "code",
   "execution_count": 24,
   "metadata": {
    "executionInfo": {
     "elapsed": 10062,
     "status": "ok",
     "timestamp": 1660291456080,
     "user": {
      "displayName": "Ghifari Faza",
      "userId": "12808111184878397149"
     },
     "user_tz": -420
    },
    "id": "Oxpddbf6S_Kg"
   },
   "outputs": [],
   "source": [
    "components = [sensor, autopilot, surface]\n",
    "sys_states_1 = module.simulasi_sistem(1000000, components)"
   ]
  },
  {
   "cell_type": "code",
   "execution_count": 25,
   "metadata": {
    "colab": {
     "base_uri": "https://localhost:8080/"
    },
    "executionInfo": {
     "elapsed": 3,
     "status": "ok",
     "timestamp": 1660291456439,
     "user": {
      "displayName": "Ghifari Faza",
      "userId": "12808111184878397149"
     },
     "user_tz": -420
    },
    "id": "3_LHw4SqTRqe",
    "outputId": "a22c1ae4-7035-426b-ee11-fdd855c2b3ad"
   },
   "outputs": [
    {
     "name": "stdout",
     "output_type": "stream",
     "text": [
      "Dist({'UUU': 990620, 'UUD': 4967, 'UDU': 2450, 'DUU': 1939, 'UDD': 11, 'DUD': 8, 'DDU': 5})\n"
     ]
    }
   ],
   "source": [
    "print(sys_states_1)"
   ]
  },
  {
   "cell_type": "code",
   "execution_count": 26,
   "metadata": {
    "colab": {
     "base_uri": "https://localhost:8080/"
    },
    "executionInfo": {
     "elapsed": 484,
     "status": "ok",
     "timestamp": 1660291502080,
     "user": {
      "displayName": "Ghifari Faza",
      "userId": "12808111184878397149"
     },
     "user_tz": -420
    },
    "id": "v4P0QL6FTKDS",
    "outputId": "3f0c1b2b-d77a-42c3-cc76-d6a480abb456"
   },
   "outputs": [
    {
     "data": {
      "text/plain": [
       "0.99062"
      ]
     },
     "execution_count": 26,
     "metadata": {},
     "output_type": "execute_result"
    }
   ],
   "source": [
    "module.Peluang({'UUU'}, sys_states_1)"
   ]
  },
  {
   "cell_type": "markdown",
   "metadata": {
    "id": "aNROQtEYTdvq"
   },
   "source": [
    "---\n",
    "Sekarang, kita memiliki sebuah sistem paralel yang terdiri dari 4 mesin.\n",
    "\n",
    "<center><img src=\"../assets/reliability_simulation_2.jpg\" alt=\"Drawing\" height=500/></center>"
   ]
  },
  {
   "cell_type": "markdown",
   "metadata": {
    "id": "ZSAhEp4QWkSp"
   },
   "source": [
    "Dimana peluang tiap mesin untuk up adalah:\n",
    "\n",
    "$P(up) = 0.99$\n",
    "\n",
    "Berapa kemungkinan untuk keseluruhan sistem tetap hidup?"
   ]
  },
  {
   "cell_type": "code",
   "execution_count": 27,
   "metadata": {
    "executionInfo": {
     "elapsed": 345,
     "status": "ok",
     "timestamp": 1660291618036,
     "user": {
      "displayName": "Ghifari Faza",
      "userId": "12808111184878397149"
     },
     "user_tz": -420
    },
    "id": "cv4HFSKzTOt1"
   },
   "outputs": [],
   "source": [
    "engine = module.Dist({'U':9900, 'D':100})"
   ]
  },
  {
   "cell_type": "code",
   "execution_count": 28,
   "metadata": {
    "executionInfo": {
     "elapsed": 15281,
     "status": "ok",
     "timestamp": 1660291641684,
     "user": {
      "displayName": "Ghifari Faza",
      "userId": "12808111184878397149"
     },
     "user_tz": -420
    },
    "id": "9uqVwEiccs9E"
   },
   "outputs": [],
   "source": [
    "engines = [engine]*4\n",
    "sys_states_2 = module.simulasi_sistem(1000000, engines)"
   ]
  },
  {
   "cell_type": "code",
   "execution_count": 29,
   "metadata": {
    "colab": {
     "base_uri": "https://localhost:8080/"
    },
    "executionInfo": {
     "elapsed": 14,
     "status": "ok",
     "timestamp": 1660291641685,
     "user": {
      "displayName": "Ghifari Faza",
      "userId": "12808111184878397149"
     },
     "user_tz": -420
    },
    "id": "_tAeIKUic4-o",
    "outputId": "ce2953c3-a7f0-4989-fca0-da132584ad70"
   },
   "outputs": [
    {
     "data": {
      "text/plain": [
       "Dist({'UUUU': 960687,\n",
       "      'UUDU': 9732,\n",
       "      'UDUU': 9731,\n",
       "      'UUUD': 9670,\n",
       "      'DUUU': 9563,\n",
       "      'DUDU': 111,\n",
       "      'DDUU': 108,\n",
       "      'UDDU': 101,\n",
       "      'DUUD': 100,\n",
       "      'UDUD': 98,\n",
       "      'UUDD': 97,\n",
       "      'DUDD': 2})"
      ]
     },
     "execution_count": 29,
     "metadata": {},
     "output_type": "execute_result"
    }
   ],
   "source": [
    "sys_states_2"
   ]
  },
  {
   "cell_type": "code",
   "execution_count": 30,
   "metadata": {
    "executionInfo": {
     "elapsed": 340,
     "status": "ok",
     "timestamp": 1660291660461,
     "user": {
      "displayName": "Ghifari Faza",
      "userId": "12808111184878397149"
     },
     "user_tz": -420
    },
    "id": "ONTIdWl-c_Zg"
   },
   "outputs": [],
   "source": [
    "P_fail_all = module.Peluang({'DDDD'}, sys_states_2)"
   ]
  },
  {
   "cell_type": "code",
   "execution_count": 31,
   "metadata": {
    "colab": {
     "base_uri": "https://localhost:8080/"
    },
    "executionInfo": {
     "elapsed": 353,
     "status": "ok",
     "timestamp": 1660291667437,
     "user": {
      "displayName": "Ghifari Faza",
      "userId": "12808111184878397149"
     },
     "user_tz": -420
    },
    "id": "oGNvTWz3dKFc",
    "outputId": "79489ff5-6357-449a-9318-219ec34320c5"
   },
   "outputs": [
    {
     "name": "stdout",
     "output_type": "stream",
     "text": [
      "Peluang sistem tetap bekerja adalah 1.0\n"
     ]
    }
   ],
   "source": [
    "print(f'Peluang sistem tetap bekerja adalah {1-P_fail_all}')"
   ]
  }
 ],
 "metadata": {
  "colab": {
   "collapsed_sections": [],
   "name": "New Independent Probability.ipynb",
   "provenance": []
  },
  "kernelspec": {
   "display_name": "Python 3 (ipykernel)",
   "language": "python",
   "name": "python3"
  },
  "language_info": {
   "codemirror_mode": {
    "name": "ipython",
    "version": 3
   },
   "file_extension": ".py",
   "mimetype": "text/x-python",
   "name": "python",
   "nbconvert_exporter": "python",
   "pygments_lexer": "ipython3",
   "version": "3.9.7"
  }
 },
 "nbformat": 4,
 "nbformat_minor": 1
}
