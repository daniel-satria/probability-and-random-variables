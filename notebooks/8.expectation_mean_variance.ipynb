{
 "cells": [
  {
   "cell_type": "markdown",
   "metadata": {},
   "source": [
    "# **8. Expectation, Mean and Variance**"
   ]
  },
  {
   "cell_type": "code",
   "execution_count": 1,
   "metadata": {
    "id": "0Voq3il-w1WA"
   },
   "outputs": [],
   "source": [
    "import itertools\n",
    "import random\n",
    "import numpy as np\n",
    "from collections import Counter\n",
    "import matplotlib.pyplot as plt"
   ]
  },
  {
   "cell_type": "markdown",
   "metadata": {
    "id": "voFU4GCLPj8b"
   },
   "source": [
    "**Outline**\n",
    "\n",
    "1. Variable Random\n",
    "2. Case 1 - Ekspektasi Bonus Gaji Data Scientist\n",
    "3. Case 2 - Roulette Problem\n",
    "4. Case 3 - The Quiz Problem"
   ]
  },
  {
   "cell_type": "markdown",
   "metadata": {
    "id": "uzRQYkwMQhYE"
   },
   "source": [
    "## **Review Variable Random**\n",
    "---"
   ]
  },
  {
   "cell_type": "markdown",
   "metadata": {
    "id": "6MLEYnNXQS0A"
   },
   "source": [
    "### **Expectation**\n",
    "\n",
    "Dari materi yang sudah dipelajari di video:\n",
    "\n",
    "- Expectation atau Expected Value adalah **rata rata** nilai dari Variable Random \n",
    "- Dimana nilai Variable Random merepresentasikan **kejadian dalam ruang sampel** dalam bentuk numerik. \n",
    "- Expected Value dari Variable Random bisa dicari dengan menghitung:\n",
    "$$ \\text{E}[X] = \\sum_i{x_ip_x(x_i)}$$"
   ]
  },
  {
   "cell_type": "markdown",
   "metadata": {
    "id": "gcCtJIqkQld_"
   },
   "source": [
    "### **Variance**\n",
    "- Variance adalah nilai kuadrat dari rata rata sebaran nilai variable random dari rata-ratanya (expected value)\n",
    "- Variance adalah merepresentasikan persebaran data\n",
    "- Variance sulit untuk diinterpretasikan, gunakan standar deviasi untuk memudahkan interpretasi dalam skala data asli\n",
    "- Variance dari Variable Random bisa dicari dengan menghitung:\n",
    "$$ \\text{Var}[X] = \\text{E}[(X-\\text{E}[X])^2]$$"
   ]
  },
  {
   "cell_type": "markdown",
   "metadata": {
    "id": "cioJJHy0UVyu"
   },
   "source": [
    "### **Expectation and Variance in Variable Random Distribution**\n",
    "\n",
    "|Distribution|Expectation|Variance|\n",
    "|------------|-----------|--------|\n",
    "|Bernoulli|$$\\text{E}[X] = p$$|$$\\text{Var}[X] = p(1-p)$$|\n",
    "|Uniform|$$\\text{E}[X] = \\frac{b-a}{2}$$|$$\\text{Var}[X] = \\frac{(b-a)(b-a+2)}{12}$$|\n",
    "|Binomial|$$\\text{E}[X] = np$$|$$\\text{Var}[X] = np(1-p)$$|\n",
    "|Geometric|$$\\text{E}[X] = \\frac{1}{p}$$|$$\\text{Var}[X] = \\frac{1-p}{p^2}$$|"
   ]
  },
  {
   "cell_type": "markdown",
   "metadata": {
    "id": "v0RWi1PVK4H0"
   },
   "source": [
    "## **Study Case 1: Expectasi Bonus Gaji Data Scientist**\n",
    "___"
   ]
  },
  {
   "cell_type": "markdown",
   "metadata": {
    "id": "VpKH_vA_P_Sq"
   },
   "source": [
    "\n",
    "Kita coba bahas kasus yang telah dijelaskan pada slide dalam video.\n",
    "\n",
    "Dalam kasus ini, Budi adalah seorang Data Scientist yang telah bekerja di Google selama 36 bulan.\n",
    "* Gaji pokok Budi adalah USD 11.000/bulan\n",
    "* Lalu, berdasarkan pengamatan ia bekerja selama 36 bulan. Peluang bonus yang ia terima adalah:\n",
    "    * USD 2000 P = 0.5\n",
    "    * USD 1000 P = 0.25\n",
    "    * USD 500 P = 1/6\n",
    "    * USD 100 P = 1/12\n",
    "\n",
    "Kira-kira berapa **total bonus** paling mungkin yang dia dapat selama setahun?\n",
    "\n",
    "\n"
   ]
  },
  {
   "cell_type": "markdown",
   "metadata": {
    "id": "yFFJRe1GJ5V6"
   },
   "source": [
    "Pertama, kita akan definisikan sebuah fungsi untuk menghitung jumlah kejadian di sebuah ruang sampel:"
   ]
  },
  {
   "cell_type": "code",
   "execution_count": 2,
   "metadata": {
    "id": "X8E-n_EasNeN"
   },
   "outputs": [],
   "source": [
    "class Dist(Counter): \n",
    "    \"A Distribution of {outcome: frequency} pairs.\""
   ]
  },
  {
   "cell_type": "markdown",
   "metadata": {
    "id": "Nq-8wESRK3MJ"
   },
   "source": [
    "Sehingga"
   ]
  },
  {
   "cell_type": "code",
   "execution_count": 3,
   "metadata": {
    "colab": {
     "base_uri": "https://localhost:8080/"
    },
    "executionInfo": {
     "elapsed": 19,
     "status": "ok",
     "timestamp": 1658308099317,
     "user": {
      "displayName": "Ghifari Faza",
      "userId": "12808111184878397149"
     },
     "user_tz": -420
    },
    "id": "ZWykYqHEsM5Q",
    "outputId": "28f54c9f-f9d9-4174-d521-c3004f11a23f"
   },
   "outputs": [
    {
     "data": {
      "text/plain": [
       "Dist({'HT': 2, 'TT': 1, 'TH': 1, 'HH': 1})"
      ]
     },
     "execution_count": 3,
     "metadata": {},
     "output_type": "execute_result"
    }
   ],
   "source": [
    "Dist(['TT','HT','TH','HH','HT'])"
   ]
  },
  {
   "cell_type": "markdown",
   "metadata": {
    "id": "dEPE_n6oLGSB"
   },
   "source": [
    "Lalu, kita juga akan definisikan fungsi-fungsi berikut untuk menghitung peluang dari kejadian"
   ]
  },
  {
   "cell_type": "code",
   "execution_count": 4,
   "metadata": {
    "id": "cdTWkxM2oSrL"
   },
   "outputs": [],
   "source": [
    "def cases(outcomes): \n",
    "    \"The total frequency of all the outcomes.\"\n",
    "    return sum(Dist(outcomes).values())\n",
    "\n",
    "def favorable(event, space):\n",
    "    \"A distribution of outcomes from the sample space that are in the event.\"\n",
    "    space = Dist(space)\n",
    "    return Dist({x: space[x] \n",
    "                 for x in space if x in event})\n",
    "\n",
    "def Fraction(n, d): \n",
    "    \"Calculating the probability given outcome n and sample space d\"\n",
    "    return n / d\n",
    "\n",
    "def P(event, space): \n",
    "    \"The probability of an event, given a sample space.\"\n",
    "    return Fraction(cases(favorable(event, space)), \n",
    "                    cases(space))"
   ]
  },
  {
   "cell_type": "markdown",
   "metadata": {
    "id": "7KhRoKZEK4Fg"
   },
   "source": [
    "Jika diketahui peluangnya seperti itu, kita dapat berasumsi bahwa:\n",
    "* Selama 36 bulan bekerja, total 18 bulan menerima bonus USD 2000 / bulan\n",
    "* Selama 36 bulan bekerja, total 9 bulan menerima bonus USD 1000 / bulan\n",
    "* Selama 36 bulan bekerja, total 6 bulan menerima bonus USD 500 / bulan\n",
    "* Selama 36 bulan bekerja, total 3 bulan menerima bonus USD 100 / bulan"
   ]
  },
  {
   "cell_type": "code",
   "execution_count": 5,
   "metadata": {
    "id": "7XcxHE9jIp_A"
   },
   "outputs": [],
   "source": [
    "bonus = Dist({2000: 18, 1000:9, 500:6, 100:3})"
   ]
  },
  {
   "cell_type": "markdown",
   "metadata": {
    "id": "Q5O1RHFCyCiW"
   },
   "source": [
    "Lalu, kita akan buat fungsi untuk mensimulasikan jumlah total bonus yang bisa diperoleh selama setahun:"
   ]
  },
  {
   "cell_type": "code",
   "execution_count": 6,
   "metadata": {
    "id": "tABikv1wxrUc"
   },
   "outputs": [],
   "source": [
    "def bonus_sim(n_sim, bonus_dist):\n",
    "    outcomes = []\n",
    "    for _ in range(n_sim):\n",
    "        total_bonus = 0\n",
    "        for month in range(12):\n",
    "            bonus_month = random.choices(*zip(*bonus_dist.items()))[0]\n",
    "            total_bonus += bonus_month\n",
    "        outcomes.append(total_bonus)\n",
    "    return Dist(outcomes)"
   ]
  },
  {
   "cell_type": "code",
   "execution_count": 7,
   "metadata": {
    "id": "MgtrtzeIzuMd"
   },
   "outputs": [],
   "source": [
    "total_bonus_dist = bonus_sim(100000, bonus)"
   ]
  },
  {
   "cell_type": "markdown",
   "metadata": {
    "id": "LVGXMB_B680x"
   },
   "source": [
    "Kita coba lihat, 5 nilai yang paling sering muncul beserta "
   ]
  },
  {
   "cell_type": "code",
   "execution_count": 8,
   "metadata": {
    "colab": {
     "base_uri": "https://localhost:8080/"
    },
    "executionInfo": {
     "elapsed": 417,
     "status": "ok",
     "timestamp": 1658308980650,
     "user": {
      "displayName": "Ghifari Faza",
      "userId": "12808111184878397149"
     },
     "user_tz": -420
    },
    "id": "nqP-Zqv_1AmC",
    "outputId": "dfe68a93-70a1-404f-ef8d-ceafd61a2006"
   },
   "outputs": [
    {
     "data": {
      "text/plain": [
       "[(16100, 3721), (15600, 3464), (17100, 3432), (16600, 3407), (17500, 3228)]"
      ]
     },
     "execution_count": 8,
     "metadata": {},
     "output_type": "execute_result"
    }
   ],
   "source": [
    "total_bonus_dist.most_common(5)"
   ]
  },
  {
   "cell_type": "markdown",
   "metadata": {
    "id": "NziexXj87USv"
   },
   "source": [
    "Nilai yang paling sering muncul adalah $16100$. Sama seperti perhitungan yang kita telah lakukan di materi video.\n",
    "\n",
    "Kita lihat distribusinya:"
   ]
  },
  {
   "cell_type": "code",
   "execution_count": 9,
   "metadata": {
    "colab": {
     "base_uri": "https://localhost:8080/",
     "height": 267
    },
    "executionInfo": {
     "elapsed": 1068,
     "status": "ok",
     "timestamp": 1658308994613,
     "user": {
      "displayName": "Ghifari Faza",
      "userId": "12808111184878397149"
     },
     "user_tz": -420
    },
    "id": "R-NsvRuHz-cT",
    "outputId": "5720be2b-5445-4ad6-8856-54661dc5f25f"
   },
   "outputs": [
    {
     "data": {
      "image/png": "[encoded data removed]",
      "text/plain": [
       "<Figure size 640x480 with 1 Axes>"
      ]
     },
     "metadata": {},
     "output_type": "display_data"
    }
   ],
   "source": [
    "list_bonus = [[labels]*values for labels, values in total_bonus_dist.items()]\n",
    "flat_bonus = [x for xs in list_bonus for x in xs]\n",
    "\n",
    "plt.hist(flat_bonus, bins=50)\n",
    "plt.show()"
   ]
  },
  {
   "cell_type": "markdown",
   "metadata": {
    "id": "2IaWY1lsAWJ_"
   },
   "source": [
    "## **Study Case 2: Roulette Problem**\n",
    "\n",
    "___"
   ]
  },
  {
   "cell_type": "markdown",
   "metadata": {
    "id": "9LPCaSuq8TiG"
   },
   "source": [
    "John merupakan seorang pria paruh baya yang kecanduan Judi. Dia kecanduan bermain _Roulette_ dengan selalu menaruh taruhan sebesar **1 Dollar** di angka 13.\n",
    "* Smith merupakan teman John dan dia ingin \"menyembuhkan\" kecanduan John dengan berusaha memberikan rasa \"kapok\".\n",
    "* Dia ingin memberi \"pelajaran\" dengan cara yang disukai John, yaitu dia bertaruh dengan John. \n",
    "* Jika John selalu kalah pada 36 kali putaran dadu, maka John membayar Smith 20 Dollar.\n",
    "* Jika John menang pada 36 kali putaran dadu, Smith membayar John 20 Dollar.\n",
    "* Kira-kira apakah cara ini efektif?\n",
    "\n",
    "> **Note:** Pada sebuah permainan _Roulette_, terdapat 38 angka dengan peluang muncul yang sama. Jika pada sebuah putaran angka dia terpilih. Maka dia akan mendapat 35x taruhan dia. Jika dia kalah, maka dia akan kehilangan uang yang dia taruhkan."
   ]
  },
  {
   "cell_type": "markdown",
   "metadata": {
    "id": "8UdbHi8UBvTX"
   },
   "source": [
    "Mari coba kita tulis apa yang diketahui \n",
    "1. Peluang John untuk menang pada 1 kali putaran adalah $\\frac{1}{38}$\n",
    "2. Jika John tidak pernah menang dalam 36 kali putaran maka dia **kehilangan** 36 dollar\n",
    "3. Jika dia menang **satu**. Dia akan mendapat 35 dollar. Namun akan kehilangan 35 dollar di putaran yang kalah. Sehingga impas.\n",
    "4. Namun, ini cukup untuk dia menang 20 dollar dari Smith.\n",
    "  \n",
    "\n"
   ]
  },
  {
   "cell_type": "markdown",
   "metadata": {
    "id": "FS3iXfHJBvR2"
   },
   "source": [
    "Kita akan coba simulasikan hal ini:\n",
    "\n",
    "Untuk mensimulasikan kemenangan dari _roulette_. Kita akan menggunakan distribusi **Binomial**. Misal:"
   ]
  },
  {
   "cell_type": "code",
   "execution_count": 10,
   "metadata": {
    "id": "uLETbEdEYdmM"
   },
   "outputs": [],
   "source": [
    "np.random.seed(42)"
   ]
  },
  {
   "cell_type": "code",
   "execution_count": 11,
   "metadata": {
    "colab": {
     "base_uri": "https://localhost:8080/"
    },
    "executionInfo": {
     "elapsed": 3,
     "status": "ok",
     "timestamp": 1658383906163,
     "user": {
      "displayName": "Ghifari Faza",
      "userId": "12808111184878397149"
     },
     "user_tz": -420
    },
    "id": "F22vd5md28Bz",
    "outputId": "b495f0c5-d861-4925-e72a-509b103706e9"
   },
   "outputs": [
    {
     "data": {
      "text/plain": [
       "array([0, 3, 1, 1, 0, 0, 0, 2, 1, 1, 0, 3, 2, 0, 0, 0, 0, 1, 1, 0, 1, 0,\n",
       "       0, 0, 1, 2, 0, 1, 1, 0, 1, 0, 0, 3, 3, 2, 0, 0, 1, 1, 0, 1, 0, 2,\n",
       "       0, 1, 0, 1, 1, 0])"
      ]
     },
     "execution_count": 11,
     "metadata": {},
     "output_type": "execute_result"
    }
   ],
   "source": [
    "roulette = np.random.binomial(36, 1/38, size=50)\n",
    "roulette"
   ]
  },
  {
   "cell_type": "markdown",
   "metadata": {
    "id": "o1N-80D0YPZJ"
   },
   "source": [
    "Kita dapat menginterpretasi hasilnya sebagai:\n",
    "* Pada percobaan pertama, kita putar _roulette_ sebanyak 36 kali dengan kemungkinan menang 1/38. Hasilnya adalah kita tidak pernah menang.\n",
    "* Pada percobaan kedua, kita putar _roulette_ sebanyak 36 kali dengan kemungkinan menang 1/38. Hasilnya adalah kita menang 3 kali.\n",
    "* Pada percobaan ketiga, kita putar _roulette_ sebanyak 36 kali dengan kemungkinan menang 1/38. Hasilnya adalah kita menang 1 kali.\n",
    "\n",
    "Untuk tiap percobaan akan kita hitung berapa uang yang akan diterima oleh John:"
   ]
  },
  {
   "cell_type": "code",
   "execution_count": 12,
   "metadata": {
    "colab": {
     "base_uri": "https://localhost:8080/"
    },
    "executionInfo": {
     "elapsed": 383,
     "status": "ok",
     "timestamp": 1658384932537,
     "user": {
      "displayName": "Ghifari Faza",
      "userId": "12808111184878397149"
     },
     "user_tz": -420
    },
    "id": "-irf_We3DQFs",
    "outputId": "a45b952d-c522-4a41-cab1-ab7e871c31dd"
   },
   "outputs": [
    {
     "data": {
      "text/plain": [
       "array([-36,  72,   0,   0, -36, -36, -36,  36,   0,   0, -36,  72,  36,\n",
       "       -36, -36, -36, -36,   0,   0, -36,   0, -36, -36, -36,   0,  36,\n",
       "       -36,   0,   0, -36,   0, -36, -36,  72,  72,  36, -36, -36,   0,\n",
       "         0, -36,   0, -36,  36, -36,   0, -36,   0,   0, -36])"
      ]
     },
     "execution_count": 12,
     "metadata": {},
     "output_type": "execute_result"
    }
   ],
   "source": [
    "kerugian_roul = -36 + roulette # Jika menang 0 kali, maka akan rugi 36, menang 1 kali rugi, 35, dst.\n",
    "keuntungan_roul = 35*roulette # Jika menang 0 kali, untung 0, menang 1: 35, menang 2: 70, dst.\n",
    "total_roul = kerugian_roul + keuntungan_roul\n",
    "total_roul"
   ]
  },
  {
   "cell_type": "markdown",
   "metadata": {
    "id": "CFhOCicXclEl"
   },
   "source": [
    "Lalu, bagaimana dengan keuntungan atau kerugian dari taruhan dengan Smith?\n",
    "* Pertama, John menang jika dia menang minimal 1 _roulette_ dalam 36 putaran."
   ]
  },
  {
   "cell_type": "code",
   "execution_count": 13,
   "metadata": {
    "colab": {
     "base_uri": "https://localhost:8080/"
    },
    "executionInfo": {
     "elapsed": 337,
     "status": "ok",
     "timestamp": 1658385282710,
     "user": {
      "displayName": "Ghifari Faza",
      "userId": "12808111184878397149"
     },
     "user_tz": -420
    },
    "id": "k8cPQCcjdlZq",
    "outputId": "89134faa-df98-45dc-fd24-b0809084f469"
   },
   "outputs": [
    {
     "data": {
      "text/plain": [
       "array([0, 1, 1, 1, 0, 0, 0, 1, 1, 1, 0, 1, 1, 0, 0, 0, 0, 1, 1, 0, 1, 0,\n",
       "       0, 0, 1, 1, 0, 1, 1, 0, 1, 0, 0, 1, 1, 1, 0, 0, 1, 1, 0, 1, 0, 1,\n",
       "       0, 1, 0, 1, 1, 0])"
      ]
     },
     "execution_count": 13,
     "metadata": {},
     "output_type": "execute_result"
    }
   ],
   "source": [
    "taruhan = (roulette > 0).astype(int)\n",
    "taruhan"
   ]
  },
  {
   "cell_type": "markdown",
   "metadata": {
    "id": "rl-8tbY8d9J8"
   },
   "source": [
    "Lalu kita hitung keuntungan dan kerugiannya"
   ]
  },
  {
   "cell_type": "code",
   "execution_count": 14,
   "metadata": {
    "colab": {
     "base_uri": "https://localhost:8080/"
    },
    "executionInfo": {
     "elapsed": 478,
     "status": "ok",
     "timestamp": 1658385429024,
     "user": {
      "displayName": "Ghifari Faza",
      "userId": "12808111184878397149"
     },
     "user_tz": -420
    },
    "id": "8iKlB8OpeAmT",
    "outputId": "ff7ad014-6b5e-460a-a7a8-39b51ba2ba63"
   },
   "outputs": [
    {
     "data": {
      "text/plain": [
       "array([-20,  20,  20,  20, -20, -20, -20,  20,  20,  20, -20,  20,  20,\n",
       "       -20, -20, -20, -20,  20,  20, -20,  20, -20, -20, -20,  20,  20,\n",
       "       -20,  20,  20, -20,  20, -20, -20,  20,  20,  20, -20, -20,  20,\n",
       "        20, -20,  20, -20,  20, -20,  20, -20,  20,  20, -20])"
      ]
     },
     "execution_count": 14,
     "metadata": {},
     "output_type": "execute_result"
    }
   ],
   "source": [
    "keuntungan_taruh = 20 * taruhan\n",
    "kerugian_taruh = -20 * (1-taruhan)\n",
    "total_taruhan = keuntungan_taruh + kerugian_taruh\n",
    "total_taruhan"
   ]
  },
  {
   "cell_type": "markdown",
   "metadata": {
    "id": "HKBh1bOeclC6"
   },
   "source": [
    "Lalu kita hitung total uang yang diterima di setiap percobaan. Dan kita rata-rata"
   ]
  },
  {
   "cell_type": "code",
   "execution_count": 15,
   "metadata": {
    "colab": {
     "base_uri": "https://localhost:8080/"
    },
    "executionInfo": {
     "elapsed": 548,
     "status": "ok",
     "timestamp": 1658385525554,
     "user": {
      "displayName": "Ghifari Faza",
      "userId": "12808111184878397149"
     },
     "user_tz": -420
    },
    "id": "2_tcHQCjAfaQ",
    "outputId": "9dbf5515-d6dd-4d80-881f-5b2c45fb906a"
   },
   "outputs": [
    {
     "data": {
      "text/plain": [
       "array([-56,  92,  20,  20, -56, -56, -56,  56,  20,  20, -56,  92,  56,\n",
       "       -56, -56, -56, -56,  20,  20, -56,  20, -56, -56, -56,  20,  56,\n",
       "       -56,  20,  20, -56,  20, -56, -56,  92,  92,  56, -56, -56,  20,\n",
       "        20, -56,  20, -56,  56, -56,  20, -56,  20,  20, -56])"
      ]
     },
     "execution_count": 15,
     "metadata": {},
     "output_type": "execute_result"
    }
   ],
   "source": [
    "total_uang = total_roul + total_taruhan\n",
    "total_uang"
   ]
  },
  {
   "cell_type": "code",
   "execution_count": 16,
   "metadata": {
    "colab": {
     "base_uri": "https://localhost:8080/"
    },
    "executionInfo": {
     "elapsed": 339,
     "status": "ok",
     "timestamp": 1658385547874,
     "user": {
      "displayName": "Ghifari Faza",
      "userId": "12808111184878397149"
     },
     "user_tz": -420
    },
    "id": "ryNZ72pnZl4z",
    "outputId": "52d94e8f-c73c-4447-88fa-ef160e7160ae"
   },
   "outputs": [
    {
     "data": {
      "text/plain": [
       "np.float64(-7.12)"
      ]
     },
     "execution_count": 16,
     "metadata": {},
     "output_type": "execute_result"
    }
   ],
   "source": [
    "rata_pendapatan = np.mean(total_uang)\n",
    "rata_pendapatan"
   ]
  },
  {
   "cell_type": "markdown",
   "metadata": {
    "id": "RKiKGcs8e1oV"
   },
   "source": [
    "secara rata-rata, John **rugi** sebesar 7.12 dollar. Namun itu adalah rata-rata dari 50 percobaan. Kita coba rangkum dan lakukan percobaan dengan jumlah yang lebih banyak. "
   ]
  },
  {
   "cell_type": "code",
   "execution_count": 17,
   "metadata": {
    "id": "Swo94wEnfMD3"
   },
   "outputs": [],
   "source": [
    "def roulette_sim(n):\n",
    "    roulette = np.random.binomial(36, 1/38, size=n)\n",
    "    kerugian_roul = -36 + roulette # Jika menang 0 kali, maka akan rugi 36, menang 1 kali rugi, 35, dst.\n",
    "    keuntungan_roul = 35*roulette # Jika menang 0 kali, untung 0, menang 1: 35, menang 2: 70, dst.\n",
    "    total_roul = kerugian_roul + keuntungan_roul\n",
    "\n",
    "    taruhan = (roulette > 0).astype(int)\n",
    "\n",
    "    keuntungan_taruh = 20 * taruhan\n",
    "    kerugian_taruh = -20 * (1-taruhan)\n",
    "    total_taruhan = keuntungan_taruh + kerugian_taruh\n",
    "\n",
    "    total_uang = total_roul + total_taruhan\n",
    "    rata_pendapatan = np.mean(total_uang)\n",
    "    return rata_pendapatan"
   ]
  },
  {
   "cell_type": "code",
   "execution_count": 18,
   "metadata": {
    "colab": {
     "base_uri": "https://localhost:8080/"
    },
    "executionInfo": {
     "elapsed": 325,
     "status": "ok",
     "timestamp": 1658386483776,
     "user": {
      "displayName": "Ghifari Faza",
      "userId": "12808111184878397149"
     },
     "user_tz": -420
    },
    "id": "hrCnwyeeiSPM",
    "outputId": "73480c79-16cb-48df-f3f7-9613e17e02ec"
   },
   "outputs": [
    {
     "data": {
      "text/plain": [
       "np.float64(2.829988)"
      ]
     },
     "execution_count": 18,
     "metadata": {},
     "output_type": "execute_result"
    }
   ],
   "source": [
    "rata_rata = roulette_sim(1000000)\n",
    "rata_rata"
   ]
  },
  {
   "cell_type": "markdown",
   "metadata": {
    "id": "qKE5p7bvifDq"
   },
   "source": [
    "Dari sejuta kali simulasi, secara rata-rata John bisa mendapatkan uang sebanyak 2.77 dollar di setiap percobaan.\n",
    "\n",
    "Sehingga \"treatment\" yang dilakukan Smith tidak efektif!"
   ]
  },
  {
   "cell_type": "markdown",
   "metadata": {
    "id": "9ROpLN7ZBUAo"
   },
   "source": [
    "\n",
    "## **Study Case 3: The Quiz Problem (Decision Making Simulation)**\n",
    "---"
   ]
  },
  {
   "cell_type": "markdown",
   "metadata": {
    "id": "EV99TPdbUkle"
   },
   "source": [
    "- Misalnya anda diberikan 2 pertanyaan dan diminta memutuskan pertanyaan mana yang harus dijawab terlebih dahulu\n",
    "  - Peluang pertanyaan 1 dijawab dengan benar adalah 0.8 dan anda akan mendapatkan hadiah $\\$100$\n",
    "  - Peluang pertanyaan 2 dijawab dengan benar adalah 0.5 dan anda akan mendapatkan hadiah $\\$200$\n",
    "- Jika pertanyaan pertama yang diambil tidak dijawab dengan benar, quiz akan diberhentikan dan anda tidak boleh menjawab pertanyaan selanjutnya.\n",
    "- Jika pertanyaan pertama yang diambil dijawab dengan benar, anda boleh menjawab pertanyaan kedua\n",
    "- Pertanyaan nomor berapa yang anda akan jawab pertama kali agar memaksimalkan harapan hadian uang yang diterima?\n",
    "___"
   ]
  },
  {
   "cell_type": "markdown",
   "metadata": {
    "id": "_1I0oYdnQpOg"
   },
   "source": [
    "Untuk mejawab permasalahan diatas kita bisa melakukan pendekatan simulasi menjawab pertanyaan:\n",
    "- Generate data hasil jawaban pertanyaan 1 dengan probabilitas dapat terjawab sebesar 0.8 menggunakan Variable Random Bernoulli, manfaatkan Variable Random Binomial dengan n = 1. \n",
    "- Data yang dibuat adalah hasil jawaban dari 100000 pertanyaan 1"
   ]
  },
  {
   "cell_type": "code",
   "execution_count": 19,
   "metadata": {
    "colab": {
     "base_uri": "https://localhost:8080/"
    },
    "executionInfo": {
     "elapsed": 660,
     "status": "ok",
     "timestamp": 1658716605328,
     "user": {
      "displayName": "Pacmann Curriculum DS",
      "userId": "04407366163820713802"
     },
     "user_tz": -420
    },
    "id": "jGEhQDQSBV8e",
    "outputId": "9cc30934-599d-4e9f-d4dd-e6152e0fc92b"
   },
   "outputs": [
    {
     "data": {
      "text/plain": [
       "array([1, 0, 1, ..., 1, 1, 1])"
      ]
     },
     "execution_count": 19,
     "metadata": {},
     "output_type": "execute_result"
    }
   ],
   "source": [
    "q1 = np.random.binomial(n = 1, p = 0.8, size=100000)\n",
    "q1"
   ]
  },
  {
   "cell_type": "markdown",
   "metadata": {
    "id": "KcC0pCgJRGJG"
   },
   "source": [
    "- Generate data hasil jawaban pertanyaan 2 dengan probabilitas dapat terjawab sebesar 0.5 menggunakan Variable Random Bernoulli, manfaatkan Variable Random Binomial dengan n = 1. \n",
    "- Data yang dibuat adalah hasil jawaban dari 100000 pertanyaan 2"
   ]
  },
  {
   "cell_type": "code",
   "execution_count": 20,
   "metadata": {
    "colab": {
     "base_uri": "https://localhost:8080/"
    },
    "executionInfo": {
     "elapsed": 635,
     "status": "ok",
     "timestamp": 1658716605956,
     "user": {
      "displayName": "Pacmann Curriculum DS",
      "userId": "04407366163820713802"
     },
     "user_tz": -420
    },
    "id": "zq398pf0WgxL",
    "outputId": "caed1752-5ba8-484b-bf53-03d843021b0a"
   },
   "outputs": [
    {
     "data": {
      "text/plain": [
       "array([1, 1, 0, ..., 1, 1, 1])"
      ]
     },
     "execution_count": 20,
     "metadata": {},
     "output_type": "execute_result"
    }
   ],
   "source": [
    "q2 = np.random.binomial(n = 1, p = 0.8, size=100000)\n",
    "q2"
   ]
  },
  {
   "cell_type": "markdown",
   "metadata": {
    "id": "ej1niVoERJLk"
   },
   "source": [
    "Hitung total uang yang didapatkan jika ada 2 skenario:\n",
    "\n",
    "- Skenario 1: Jika pertanyaan 1 dijawab terlebih dahulu:\n",
    "    - case pertanyaan 1 salah : mendapatkan $\\$0$\n",
    "    - case pertanyaan 1 benar pertanyaan 2 salah : mendapatkan $\\$100$\n",
    "    - case pertanyaan 1 benar pertanyaan 2 benar : mendapatkan $\\$300$\n",
    "\n",
    "- Skenario 2: Jika pertanyaan 2 dijawab terlebih dahulu:\n",
    "    - case pertanyaan 2 salah : mendapatkan $\\$0$\n",
    "    - case pertanyaan 2 benar pertanyaan 1 salah : mendapatkan $\\$200$\n",
    "    - case pertanyaan 2 benar pertanyaan 1 benar : mendapatkan $\\$300$"
   ]
  },
  {
   "cell_type": "code",
   "execution_count": 21,
   "metadata": {
    "id": "1BPB0L8AWzJj"
   },
   "outputs": [],
   "source": [
    "#ganti summary aja\n",
    "\n",
    "earn_q1_q2 = 0\n",
    "earn_q1 = 0\n",
    "earn_q2_q1 = 0\n",
    "earn_q2 = 0\n",
    "earn_ = 0\n",
    "for i in range(100000):  \n",
    "  # Uang yang didapatkan jika pertanyaan 1 salah, pertanyaan 2 salah\n",
    "  if (q1[i]==0 and q2[i]==0):\n",
    "    earn_+=0\n",
    "  # Uang yang didapatkan jika pertanyaan 1 benar, pertanyaan 2 salah\n",
    "  elif (q1[i]==1 and q2[i]==0):\n",
    "    earn_q1+=100\n",
    "  # Uang yang didapatkan jika pertanyaan 1 benar, pertanyaan 2 benar  \n",
    "  elif (q1[i]==1 and q2[i]==1):\n",
    "    earn_q1_q2+=300\n",
    "  # Uang yang didapatkan jika pertanyaan 2 benar, pertanyaan 1 salah \n",
    "  elif (q1[i]==0 and q2[i]==1):\n",
    "    earn_q2+=200"
   ]
  },
  {
   "cell_type": "markdown",
   "metadata": {
    "id": "hy-M3zAcLLtv"
   },
   "source": [
    "### Skenario pertanyaan 1 dijawab terlebih dahulu"
   ]
  },
  {
   "cell_type": "code",
   "execution_count": 22,
   "metadata": {
    "colab": {
     "base_uri": "https://localhost:8080/"
    },
    "executionInfo": {
     "elapsed": 7,
     "status": "ok",
     "timestamp": 1658718108483,
     "user": {
      "displayName": "Pacmann Curriculum DS",
      "userId": "04407366163820713802"
     },
     "user_tz": -420
    },
    "id": "cAU3Rw83TXz8",
    "outputId": "5611f2f5-9b6a-4a23-eb14-620b49995573"
   },
   "outputs": [
    {
     "data": {
      "text/plain": [
       "20828000"
      ]
     },
     "execution_count": 22,
     "metadata": {},
     "output_type": "execute_result"
    }
   ],
   "source": [
    "# pendapatan uang jika memakai skenario 1\n",
    "skenario_1 = earn_ + earn_q1_q2 + earn_q1\n",
    "skenario_1"
   ]
  },
  {
   "cell_type": "code",
   "execution_count": 23,
   "metadata": {
    "colab": {
     "base_uri": "https://localhost:8080/"
    },
    "executionInfo": {
     "elapsed": 10,
     "status": "ok",
     "timestamp": 1658718236754,
     "user": {
      "displayName": "Pacmann Curriculum DS",
      "userId": "04407366163820713802"
     },
     "user_tz": -420
    },
    "id": "GOGQcoIFOpiv",
    "outputId": "c54fc5c7-c848-4658-a483-902e77088707"
   },
   "outputs": [
    {
     "data": {
      "text/plain": [
       "208.28"
      ]
     },
     "execution_count": 23,
     "metadata": {},
     "output_type": "execute_result"
    }
   ],
   "source": [
    "# rata-rata pendapatan skenario 1\n",
    "expected_earn_1 = skenario_1/100000\n",
    "expected_earn_1"
   ]
  },
  {
   "cell_type": "markdown",
   "metadata": {
    "id": "CkjnuI8jQbCe"
   },
   "source": [
    "### Skenario pertanyaan 2 dijawab terlebih dahulu"
   ]
  },
  {
   "cell_type": "code",
   "execution_count": 24,
   "metadata": {
    "colab": {
     "base_uri": "https://localhost:8080/"
    },
    "executionInfo": {
     "elapsed": 553,
     "status": "ok",
     "timestamp": 1658718141534,
     "user": {
      "displayName": "Pacmann Curriculum DS",
      "userId": "04407366163820713802"
     },
     "user_tz": -420
    },
    "id": "k82HPq0UQGzI",
    "outputId": "cd196d2a-9064-41dd-c68f-658856efef27"
   },
   "outputs": [
    {
     "data": {
      "text/plain": [
       "22444300"
      ]
     },
     "execution_count": 24,
     "metadata": {},
     "output_type": "execute_result"
    }
   ],
   "source": [
    "# pendapatan uang jika memakai skenario 1 dari 100 ribu percobaan\n",
    "skenario_2 = earn_ + earn_q1_q2 + earn_q2\n",
    "skenario_2"
   ]
  },
  {
   "cell_type": "code",
   "execution_count": 25,
   "metadata": {
    "colab": {
     "base_uri": "https://localhost:8080/"
    },
    "executionInfo": {
     "elapsed": 430,
     "status": "ok",
     "timestamp": 1658718239003,
     "user": {
      "displayName": "Pacmann Curriculum DS",
      "userId": "04407366163820713802"
     },
     "user_tz": -420
    },
    "id": "xcuYwWCKQIUw",
    "outputId": "4c10a48e-ae5d-4f73-fef1-6c3e0aa83df5"
   },
   "outputs": [
    {
     "data": {
      "text/plain": [
       "224.443"
      ]
     },
     "execution_count": 25,
     "metadata": {},
     "output_type": "execute_result"
    }
   ],
   "source": [
    "# rata-rata pendapatan skenario 2 dari 100 ribu percobaan\n",
    "expected_earn_2 = skenario_2/100000\n",
    "expected_earn_2"
   ]
  },
  {
   "cell_type": "markdown",
   "metadata": {
    "id": "Ruz9ryC6T8xl"
   },
   "source": [
    "Total pendapatkan menunjukkan akan lebih untung jika kita menggunakan skenario menjawab pertanyaan 1 terlebih dahulu"
   ]
  }
 ],
 "metadata": {
  "colab": {
   "collapsed_sections": [],
   "name": "Expectation, Mean, and Variance.ipynb",
   "provenance": []
  },
  "kernelspec": {
   "display_name": "Python 3 (ipykernel)",
   "language": "python",
   "name": "python3"
  },
  "language_info": {
   "codemirror_mode": {
    "name": "ipython",
    "version": 3
   },
   "file_extension": ".py",
   "mimetype": "text/x-python",
   "name": "python",
   "nbconvert_exporter": "python",
   "pygments_lexer": "ipython3",
   "version": "3.10.14"
  }
 },
 "nbformat": 4,
 "nbformat_minor": 1
}
