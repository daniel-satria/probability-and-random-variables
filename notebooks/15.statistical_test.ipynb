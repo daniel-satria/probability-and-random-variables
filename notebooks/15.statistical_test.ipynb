{
 "cells": [
  {
   "cell_type": "markdown",
   "metadata": {
    "id": "hKKabMKiypdM"
   },
   "source": [
    "# **15. Statistical Test I**"
   ]
  },
  {
   "cell_type": "markdown",
   "metadata": {
    "id": "vduw4wooiSt_"
   },
   "source": [
    "# Outline\n",
    "---"
   ]
  },
  {
   "cell_type": "markdown",
   "metadata": {
    "id": "qZJcrzDuiXwd"
   },
   "source": [
    "1. Statistical Test\n",
    "2. Case 1 - How to sample data\n",
    "3. Case 2 - Jogging dengan Sam\n",
    "4. Case 3 - Sam vs Atlet"
   ]
  },
  {
   "cell_type": "markdown",
   "metadata": {
    "id": "8WRmsRy3y5CN"
   },
   "source": [
    "- Kita perlu memanggil library dan fungsi yang diperlukan untuk menjalankan code dalam notebook ini."
   ]
  },
  {
   "cell_type": "code",
   "execution_count": 1,
   "metadata": {
    "id": "B0hc3Finy5Tb"
   },
   "outputs": [],
   "source": [
    "# Process data\n",
    "import pandas as pd\n",
    "import numpy as np\n",
    "\n",
    "# Visualize data\n",
    "import matplotlib.pyplot as plt\n",
    "import seaborn as sns\n",
    "sns.set_theme()"
   ]
  },
  {
   "cell_type": "markdown",
   "metadata": {
    "id": "OR1egwVqjCiY"
   },
   "source": [
    "<center>\n",
    "<img src=\"../assets/population_sample.jpg\">\n",
    "</center>"
   ]
  },
  {
   "cell_type": "markdown",
   "metadata": {
    "id": "MhtWCAhQjGHS"
   },
   "source": [
    "**Populasi** adalah semua objek yang diteliti ($N$). Angka yang diperoleh pada populasi disebut dengan **parameter**"
   ]
  },
  {
   "cell_type": "markdown",
   "metadata": {
    "id": "mcNI_36sjdVT"
   },
   "source": [
    "**Permasalahan**\n",
    "\n",
    "Saat bekerja dengan data, kita sering tidak memiliki akses ke semua kemungkinan pengamatan. Ini bisa karena berbagai alasan, Misalnya:\n",
    "- Sulit atau mahal untuk membuat lebih banyak pengamatan.\n",
    "- Sulit untuk mengumpulkan semua pengamatan bersama-sama.\n",
    "- Pengamatan lebih lanjut diharapkan akan dilakukan di masa depan."
   ]
  },
  {
   "cell_type": "markdown",
   "metadata": {
    "id": "AAHOYKVLjkWZ"
   },
   "source": [
    "Sehingga dalam prakteknya, peneliti akan menggunakan data **sampel**.\n",
    "- **Sampel** merupakan bagian kecil dari populasi yang diambil sebagai objek dalam sebuah pengamatan karena dianggap mampu mewakili populasi ($n$).\n",
    "- Angka yang diperoleh ketika bekerja dengan sampel disebut **statistik**."
   ]
  },
  {
   "cell_type": "markdown",
   "metadata": {
    "id": "mOMwwVt9j5eo"
   },
   "source": [
    "## Hypothesis Testing\n",
    "---"
   ]
  },
  {
   "cell_type": "markdown",
   "metadata": {
    "id": "izJhCTx3kHLR"
   },
   "source": [
    "- Uji hipotesis (hypothesis testing) adalah **metode** pengambilan keputusan.\n",
    "- Hasil dari uji hipotesis adalah \"signifikansi\" secara statistik jika kejadian tersebut hampir tidak mungkin terjadi karena kebetulan.\n",
    "- Contoh: *Ingin membuktikan apakah mengirim email marketing akan meningkatkan penjualan / tidak*"
   ]
  },
  {
   "cell_type": "markdown",
   "metadata": {
    "id": "iUPgj8WVk7tG"
   },
   "source": [
    "### Istilah dalam uji hipotesis\n",
    "---\n",
    "\n",
    "Berikut adalah beberapa istilah yang ditemukan dalam uji hipotesis."
   ]
  },
  {
   "cell_type": "markdown",
   "metadata": {
    "id": "2kBLSkA0UQpe"
   },
   "source": [
    "**Hipotesis**\n",
    "\n",
    "---\n",
    "\n",
    "- Asumsi tentang suatu hal yang belum tentu terbukti kebenarannya.\n",
    "- Selama uji hipotesis, kita biasa untuk membuat 2 hipotesis.\n",
    "  - $H_{0}$: Hipotesis pembanding yang ingin kita tolak, *devil's advocate*\n",
    "  - $H_{1}$: Hipotesis yang ingin dibuktikan kebenarannya\n",
    "\n",
    "- Contoh kita ingin memeriksa fitur **Coba Gratis** akan meningkatkan conversion rate (CVR) dari suatu penjualan.\n",
    "\n",
    "- Maka hipotesis yang dibuat adalah\n",
    "  - $H_{0}$: $\\text{CVR}_{\\text{coba gratis}}$ = $\\text{CVR}_{\\text{lama}}$\n",
    "  - $H_{1}$: $\\text{CVR}_{\\text{coba gratis}}$ > $\\text{CVR}_{\\text{lama}}$"
   ]
  },
  {
   "cell_type": "markdown",
   "metadata": {
    "id": "g1Ik6FrsUUeT"
   },
   "source": [
    "**Significance Level** ($\\alpha$)\n",
    "\n",
    "---\n",
    "\n",
    "- Semakin rendah signifincance level, semakin kita percaya terhadap penelitian kita\n",
    "- Jika penelitian memiliki resiko yang tinggi, bisa set significance level serendah mungkin\n",
    "- Tingkat signifikansi yang umum adalah 0.05\n"
   ]
  },
  {
   "cell_type": "markdown",
   "metadata": {
    "id": "jryeq326UaE0"
   },
   "source": [
    "**Statistik Uji**\n",
    "\n",
    "---\n",
    "\n",
    "- Metode pengujian statistik (rata-rata, proporsi, varians, dan lain-lain) dalam hipotesis.\n",
    "- Ada banyak macam uji statistik bergantung kebutuhan seperti z test, t test, chi-square test, dan lain-lain.\n",
    "- Statistik uji dihitung dengan menggunakan informasi dari data sampel"
   ]
  },
  {
   "cell_type": "markdown",
   "metadata": {
    "id": "hYaSAHoImiHl"
   },
   "source": [
    "**Aturan membuat keputusan**\n",
    "\n",
    "---\n",
    "\n",
    "- Alur melakukan uji hipotesis adalah sebagai berikut:\n",
    "\n",
    "<center>\n",
    "<img src=\"../assets/hypothese_method.png\">"
   ]
  },
  {
   "cell_type": "markdown",
   "metadata": {
    "id": "UAtqCJ7knkFp"
   },
   "source": [
    "Aturan keputusan didasarkan tiga hal, level signifikansi, distribusi statistik uji, dan tipe uji\n",
    "- level signifikansi menentukan titik kritis, atau daerah penolakan\n",
    "- distribusi statistik uji menentukan titik kritis berdasarkan distribusi uji\n",
    "- tipe uji menentukan daerah penolakan di sebelah mana\n",
    "  - jika pada $H_1$ ada tanda '$<$,$\\leq$' maka, daerah penolakan ada di sebelah kiri\n",
    "  - jika pada $H_1$ ada tanda '$>$,$\\geq$' maka, daerah penolakan ada di sebelah kanan\n",
    "  - jika pada $H_1$ ada tanda '$\\not=$' maka, daerah penolakan ada di sebelah kanan dan kiri"
   ]
  },
  {
   "cell_type": "markdown",
   "metadata": {
    "id": "2ngB2SqWnsLF"
   },
   "source": [
    "Aturan keputusan bisa dilakukan dengan 2 cara:\n",
    "  - Membandingkan nilai statistik uji dan nilai kritis\n",
    "   - Uji Pihak Kiri, stats uji $<$ nilai kritis ; tolak $H_0$\n",
    "   - Uji Pihak Kanan, stats uji $>$ nilai kritis ; tolak $H_0$\n",
    "   - Uji Dua Pihak, stats uji $>$ nilai kritis atau stats uji $<$ -nilai kritis (untuk distribusi t & z saja); tolak $H_0$\n",
    "  - Membandingkan p-value dan $\\alpha$\n",
    "   - Untuk semua uji, p-value < $\\alpha$ ; tolak $H_0$"
   ]
  },
  {
   "cell_type": "markdown",
   "metadata": {
    "id": "dPy3RKlCUf-6"
   },
   "source": [
    "Cara menghitung p-value\n",
    "  - pada Uji Pihak Kiri: <br> $\\text{p}_{\\text{value}}=P(T \\leq t_{\\text{hitung}})$\n",
    "\n",
    "  - pada Uji Pihak Kanan: <br> $\\text{p}_{\\text{value}}=P(T \\geq t_{\\text{hitung}})$\n",
    "\n",
    "  - pada Uji 2 Pihak: <br> $\\text{p}_{\\text{value}}=2 \\cdot \\min (P(T \\leq t_{\\text{hitung}}), 1-P(T \\leq t_{\\text{hitung}}))$"
   ]
  },
  {
   "cell_type": "markdown",
   "metadata": {
    "id": "EcqaGNJ1ny64"
   },
   "source": [
    "Dimana:\n",
    "- `T` = variable random distribusi statistik uji\n",
    "- `t_hitung` = nilai statistik uji yang didapatkan"
   ]
  },
  {
   "cell_type": "markdown",
   "metadata": {
    "id": "Ly64wt1u0AsQ"
   },
   "source": [
    "# Case Study 1 - How to sample data\n",
    "---\n"
   ]
  },
  {
   "cell_type": "markdown",
   "metadata": {
    "id": "wZCpvDHwIUsH"
   },
   "source": [
    "- Saat melakukan penelitian, kita cenderung tidak dapat untuk mengakses seluruh data yang ingin kita teliti.\n",
    "- Contohnya jika kita ingin mengetahui berapa berat badan remaja di Indonesia?\n",
    "- Kita tidak mungkin untuk mengukur satu-satu seluruh remaja yang ada di Indonesia.\n",
    "- Untuk mengatasi itu, kita dapat melakukan penelitian terhadap sampel dari populasi."
   ]
  },
  {
   "cell_type": "markdown",
   "metadata": {
    "id": "dn1qFqtL6Wvf"
   },
   "source": [
    "- Mari coba lihat contoh pengambilan sample dari data berikut `california housing`"
   ]
  },
  {
   "cell_type": "code",
   "execution_count": 2,
   "metadata": {
    "colab": {
     "base_uri": "https://localhost:8080/",
     "height": 206
    },
    "id": "6P3ycvC9EqgW",
    "outputId": "57b4300d-e076-4db1-9ed2-59575fe13596"
   },
   "outputs": [
    {
     "data": {
      "application/vnd.google.colaboratory.intrinsic+json": {
       "summary": "{\n  \"name\": \"data\",\n  \"rows\": 17000,\n  \"fields\": [\n    {\n      \"column\": \"longitude\",\n      \"properties\": {\n        \"dtype\": \"number\",\n        \"std\": 2.0051664084261778,\n        \"min\": -124.35,\n        \"max\": -114.31,\n        \"num_unique_values\": 827,\n        \"samples\": [\n          -117.56,\n          -123.32,\n          -118.26\n        ],\n        \"semantic_type\": \"\",\n        \"description\": \"\"\n      }\n    },\n    {\n      \"column\": \"latitude\",\n      \"properties\": {\n        \"dtype\": \"number\",\n        \"std\": 2.1373397946570836,\n        \"min\": 32.54,\n        \"max\": 41.95,\n        \"num_unique_values\": 840,\n        \"samples\": [\n          38.44,\n          40.79,\n          32.69\n        ],\n        \"semantic_type\": \"\",\n        \"description\": \"\"\n      }\n    },\n    {\n      \"column\": \"housing_median_age\",\n      \"properties\": {\n        \"dtype\": \"number\",\n        \"std\": 12.586936981660399,\n        \"min\": 1.0,\n        \"max\": 52.0,\n        \"num_unique_values\": 52,\n        \"samples\": [\n          23.0,\n          52.0,\n          47.0\n        ],\n        \"semantic_type\": \"\",\n        \"description\": \"\"\n      }\n    },\n    {\n      \"column\": \"total_rooms\",\n      \"properties\": {\n        \"dtype\": \"number\",\n        \"std\": 2179.947071452767,\n        \"min\": 2.0,\n        \"max\": 37937.0,\n        \"num_unique_values\": 5533,\n        \"samples\": [\n          3564.0,\n          6955.0,\n          5451.0\n        ],\n        \"semantic_type\": \"\",\n        \"description\": \"\"\n      }\n    },\n    {\n      \"column\": \"total_bedrooms\",\n      \"properties\": {\n        \"dtype\": \"number\",\n        \"std\": 421.4994515798646,\n        \"min\": 1.0,\n        \"max\": 6445.0,\n        \"num_unique_values\": 1848,\n        \"samples\": [\n          729.0,\n          719.0,\n          2075.0\n        ],\n        \"semantic_type\": \"\",\n        \"description\": \"\"\n      }\n    },\n    {\n      \"column\": \"population\",\n      \"properties\": {\n        \"dtype\": \"number\",\n        \"std\": 1147.8529591595266,\n        \"min\": 3.0,\n        \"max\": 35682.0,\n        \"num_unique_values\": 3683,\n        \"samples\": [\n          249.0,\n          1735.0,\n          235.0\n        ],\n        \"semantic_type\": \"\",\n        \"description\": \"\"\n      }\n    },\n    {\n      \"column\": \"households\",\n      \"properties\": {\n        \"dtype\": \"number\",\n        \"std\": 384.5208408559009,\n        \"min\": 1.0,\n        \"max\": 6082.0,\n        \"num_unique_values\": 1740,\n        \"samples\": [\n          390.0,\n          1089.0,\n          1351.0\n        ],\n        \"semantic_type\": \"\",\n        \"description\": \"\"\n      }\n    },\n    {\n      \"column\": \"median_income\",\n      \"properties\": {\n        \"dtype\": \"number\",\n        \"std\": 1.9081565183791036,\n        \"min\": 0.4999,\n        \"max\": 15.0001,\n        \"num_unique_values\": 11175,\n        \"samples\": [\n          7.2655,\n          5.6293,\n          4.2262\n        ],\n        \"semantic_type\": \"\",\n        \"description\": \"\"\n      }\n    },\n    {\n      \"column\": \"median_house_value\",\n      \"properties\": {\n        \"dtype\": \"number\",\n        \"std\": 115983.76438720885,\n        \"min\": 14999.0,\n        \"max\": 500001.0,\n        \"num_unique_values\": 3694,\n        \"samples\": [\n          162300.0,\n          346800.0,\n          116700.0\n        ],\n        \"semantic_type\": \"\",\n        \"description\": \"\"\n      }\n    }\n  ]\n}",
       "type": "dataframe",
       "variable_name": "data"
      },
      "text/html": [
       "\n",
       "  <div id=\"df-2f0b13bb-15f2-4e1d-ab5c-75b23584a2ce\" class=\"colab-df-container\">\n",
       "    <div>\n",
       "<style scoped>\n",
       "    .dataframe tbody tr th:only-of-type {\n",
       "        vertical-align: middle;\n",
       "    }\n",
       "\n",
       "    .dataframe tbody tr th {\n",
       "        vertical-align: top;\n",
       "    }\n",
       "\n",
       "    .dataframe thead th {\n",
       "        text-align: right;\n",
       "    }\n",
       "</style>\n",
       "<table border=\"1\" class=\"dataframe\">\n",
       "  <thead>\n",
       "    <tr style=\"text-align: right;\">\n",
       "      <th></th>\n",
       "      <th>longitude</th>\n",
       "      <th>latitude</th>\n",
       "      <th>housing_median_age</th>\n",
       "      <th>total_rooms</th>\n",
       "      <th>total_bedrooms</th>\n",
       "      <th>population</th>\n",
       "      <th>households</th>\n",
       "      <th>median_income</th>\n",
       "      <th>median_house_value</th>\n",
       "    </tr>\n",
       "  </thead>\n",
       "  <tbody>\n",
       "    <tr>\n",
       "      <th>0</th>\n",
       "      <td>-114.31</td>\n",
       "      <td>34.19</td>\n",
       "      <td>15.0</td>\n",
       "      <td>5612.0</td>\n",
       "      <td>1283.0</td>\n",
       "      <td>1015.0</td>\n",
       "      <td>472.0</td>\n",
       "      <td>1.4936</td>\n",
       "      <td>66900.0</td>\n",
       "    </tr>\n",
       "    <tr>\n",
       "      <th>1</th>\n",
       "      <td>-114.47</td>\n",
       "      <td>34.40</td>\n",
       "      <td>19.0</td>\n",
       "      <td>7650.0</td>\n",
       "      <td>1901.0</td>\n",
       "      <td>1129.0</td>\n",
       "      <td>463.0</td>\n",
       "      <td>1.8200</td>\n",
       "      <td>80100.0</td>\n",
       "    </tr>\n",
       "    <tr>\n",
       "      <th>2</th>\n",
       "      <td>-114.56</td>\n",
       "      <td>33.69</td>\n",
       "      <td>17.0</td>\n",
       "      <td>720.0</td>\n",
       "      <td>174.0</td>\n",
       "      <td>333.0</td>\n",
       "      <td>117.0</td>\n",
       "      <td>1.6509</td>\n",
       "      <td>85700.0</td>\n",
       "    </tr>\n",
       "    <tr>\n",
       "      <th>3</th>\n",
       "      <td>-114.57</td>\n",
       "      <td>33.64</td>\n",
       "      <td>14.0</td>\n",
       "      <td>1501.0</td>\n",
       "      <td>337.0</td>\n",
       "      <td>515.0</td>\n",
       "      <td>226.0</td>\n",
       "      <td>3.1917</td>\n",
       "      <td>73400.0</td>\n",
       "    </tr>\n",
       "    <tr>\n",
       "      <th>4</th>\n",
       "      <td>-114.57</td>\n",
       "      <td>33.57</td>\n",
       "      <td>20.0</td>\n",
       "      <td>1454.0</td>\n",
       "      <td>326.0</td>\n",
       "      <td>624.0</td>\n",
       "      <td>262.0</td>\n",
       "      <td>1.9250</td>\n",
       "      <td>65500.0</td>\n",
       "    </tr>\n",
       "  </tbody>\n",
       "</table>\n",
       "</div>\n",
       "    <div class=\"colab-df-buttons\">\n",
       "\n",
       "  <div class=\"colab-df-container\">\n",
       "    <button class=\"colab-df-convert\" onclick=\"convertToInteractive('df-2f0b13bb-15f2-4e1d-ab5c-75b23584a2ce')\"\n",
       "            title=\"Convert this dataframe to an interactive table.\"\n",
       "            style=\"display:none;\">\n",
       "\n",
       "  <svg xmlns=\"http://www.w3.org/2000/svg\" height=\"24px\" viewBox=\"0 -960 960 960\">\n",
       "    <path d=\"M120-120v-720h720v720H120Zm60-500h600v-160H180v160Zm220 220h160v-160H400v160Zm0 220h160v-160H400v160ZM180-400h160v-160H180v160Zm440 0h160v-160H620v160ZM180-180h160v-160H180v160Zm440 0h160v-160H620v160Z\"/>\n",
       "  </svg>\n",
       "    </button>\n",
       "\n",
       "  <style>\n",
       "    .colab-df-container {\n",
       "      display:flex;\n",
       "      gap: 12px;\n",
       "    }\n",
       "\n",
       "    .colab-df-convert {\n",
       "      background-color: #E8F0FE;\n",
       "      border: none;\n",
       "      border-radius: 50%;\n",
       "      cursor: pointer;\n",
       "      display: none;\n",
       "      fill: #1967D2;\n",
       "      height: 32px;\n",
       "      padding: 0 0 0 0;\n",
       "      width: 32px;\n",
       "    }\n",
       "\n",
       "    .colab-df-convert:hover {\n",
       "      background-color: #E2EBFA;\n",
       "      box-shadow: 0px 1px 2px rgba(60, 64, 67, 0.3), 0px 1px 3px 1px rgba(60, 64, 67, 0.15);\n",
       "      fill: #174EA6;\n",
       "    }\n",
       "\n",
       "    .colab-df-buttons div {\n",
       "      margin-bottom: 4px;\n",
       "    }\n",
       "\n",
       "    [theme=dark] .colab-df-convert {\n",
       "      background-color: #3B4455;\n",
       "      fill: #D2E3FC;\n",
       "    }\n",
       "\n",
       "    [theme=dark] .colab-df-convert:hover {\n",
       "      background-color: #434B5C;\n",
       "      box-shadow: 0px 1px 3px 1px rgba(0, 0, 0, 0.15);\n",
       "      filter: drop-shadow(0px 1px 2px rgba(0, 0, 0, 0.3));\n",
       "      fill: #FFFFFF;\n",
       "    }\n",
       "  </style>\n",
       "\n",
       "    <script>\n",
       "      const buttonEl =\n",
       "        document.querySelector('#df-2f0b13bb-15f2-4e1d-ab5c-75b23584a2ce button.colab-df-convert');\n",
       "      buttonEl.style.display =\n",
       "        google.colab.kernel.accessAllowed ? 'block' : 'none';\n",
       "\n",
       "      async function convertToInteractive(key) {\n",
       "        const element = document.querySelector('#df-2f0b13bb-15f2-4e1d-ab5c-75b23584a2ce');\n",
       "        const dataTable =\n",
       "          await google.colab.kernel.invokeFunction('convertToInteractive',\n",
       "                                                    [key], {});\n",
       "        if (!dataTable) return;\n",
       "\n",
       "        const docLinkHtml = 'Like what you see? Visit the ' +\n",
       "          '<a target=\"_blank\" href=https://colab.research.google.com/notebooks/data_table.ipynb>data table notebook</a>'\n",
       "          + ' to learn more about interactive tables.';\n",
       "        element.innerHTML = '';\n",
       "        dataTable['output_type'] = 'display_data';\n",
       "        await google.colab.output.renderOutput(dataTable, element);\n",
       "        const docLink = document.createElement('div');\n",
       "        docLink.innerHTML = docLinkHtml;\n",
       "        element.appendChild(docLink);\n",
       "      }\n",
       "    </script>\n",
       "  </div>\n",
       "\n",
       "\n",
       "<div id=\"df-d6082f35-9ef8-45c0-937b-73f206824692\">\n",
       "  <button class=\"colab-df-quickchart\" onclick=\"quickchart('df-d6082f35-9ef8-45c0-937b-73f206824692')\"\n",
       "            title=\"Suggest charts\"\n",
       "            style=\"display:none;\">\n",
       "\n",
       "<svg xmlns=\"http://www.w3.org/2000/svg\" height=\"24px\"viewBox=\"0 0 24 24\"\n",
       "     width=\"24px\">\n",
       "    <g>\n",
       "        <path d=\"M19 3H5c-1.1 0-2 .9-2 2v14c0 1.1.9 2 2 2h14c1.1 0 2-.9 2-2V5c0-1.1-.9-2-2-2zM9 17H7v-7h2v7zm4 0h-2V7h2v10zm4 0h-2v-4h2v4z\"/>\n",
       "    </g>\n",
       "</svg>\n",
       "  </button>\n",
       "\n",
       "<style>\n",
       "  .colab-df-quickchart {\n",
       "      --bg-color: #E8F0FE;\n",
       "      --fill-color: #1967D2;\n",
       "      --hover-bg-color: #E2EBFA;\n",
       "      --hover-fill-color: #174EA6;\n",
       "      --disabled-fill-color: #AAA;\n",
       "      --disabled-bg-color: #DDD;\n",
       "  }\n",
       "\n",
       "  [theme=dark] .colab-df-quickchart {\n",
       "      --bg-color: #3B4455;\n",
       "      --fill-color: #D2E3FC;\n",
       "      --hover-bg-color: #434B5C;\n",
       "      --hover-fill-color: #FFFFFF;\n",
       "      --disabled-bg-color: #3B4455;\n",
       "      --disabled-fill-color: #666;\n",
       "  }\n",
       "\n",
       "  .colab-df-quickchart {\n",
       "    background-color: var(--bg-color);\n",
       "    border: none;\n",
       "    border-radius: 50%;\n",
       "    cursor: pointer;\n",
       "    display: none;\n",
       "    fill: var(--fill-color);\n",
       "    height: 32px;\n",
       "    padding: 0;\n",
       "    width: 32px;\n",
       "  }\n",
       "\n",
       "  .colab-df-quickchart:hover {\n",
       "    background-color: var(--hover-bg-color);\n",
       "    box-shadow: 0 1px 2px rgba(60, 64, 67, 0.3), 0 1px 3px 1px rgba(60, 64, 67, 0.15);\n",
       "    fill: var(--button-hover-fill-color);\n",
       "  }\n",
       "\n",
       "  .colab-df-quickchart-complete:disabled,\n",
       "  .colab-df-quickchart-complete:disabled:hover {\n",
       "    background-color: var(--disabled-bg-color);\n",
       "    fill: var(--disabled-fill-color);\n",
       "    box-shadow: none;\n",
       "  }\n",
       "\n",
       "  .colab-df-spinner {\n",
       "    border: 2px solid var(--fill-color);\n",
       "    border-color: transparent;\n",
       "    border-bottom-color: var(--fill-color);\n",
       "    animation:\n",
       "      spin 1s steps(1) infinite;\n",
       "  }\n",
       "\n",
       "  @keyframes spin {\n",
       "    0% {\n",
       "      border-color: transparent;\n",
       "      border-bottom-color: var(--fill-color);\n",
       "      border-left-color: var(--fill-color);\n",
       "    }\n",
       "    20% {\n",
       "      border-color: transparent;\n",
       "      border-left-color: var(--fill-color);\n",
       "      border-top-color: var(--fill-color);\n",
       "    }\n",
       "    30% {\n",
       "      border-color: transparent;\n",
       "      border-left-color: var(--fill-color);\n",
       "      border-top-color: var(--fill-color);\n",
       "      border-right-color: var(--fill-color);\n",
       "    }\n",
       "    40% {\n",
       "      border-color: transparent;\n",
       "      border-right-color: var(--fill-color);\n",
       "      border-top-color: var(--fill-color);\n",
       "    }\n",
       "    60% {\n",
       "      border-color: transparent;\n",
       "      border-right-color: var(--fill-color);\n",
       "    }\n",
       "    80% {\n",
       "      border-color: transparent;\n",
       "      border-right-color: var(--fill-color);\n",
       "      border-bottom-color: var(--fill-color);\n",
       "    }\n",
       "    90% {\n",
       "      border-color: transparent;\n",
       "      border-bottom-color: var(--fill-color);\n",
       "    }\n",
       "  }\n",
       "</style>\n",
       "\n",
       "  <script>\n",
       "    async function quickchart(key) {\n",
       "      const quickchartButtonEl =\n",
       "        document.querySelector('#' + key + ' button');\n",
       "      quickchartButtonEl.disabled = true;  // To prevent multiple clicks.\n",
       "      quickchartButtonEl.classList.add('colab-df-spinner');\n",
       "      try {\n",
       "        const charts = await google.colab.kernel.invokeFunction(\n",
       "            'suggestCharts', [key], {});\n",
       "      } catch (error) {\n",
       "        console.error('Error during call to suggestCharts:', error);\n",
       "      }\n",
       "      quickchartButtonEl.classList.remove('colab-df-spinner');\n",
       "      quickchartButtonEl.classList.add('colab-df-quickchart-complete');\n",
       "    }\n",
       "    (() => {\n",
       "      let quickchartButtonEl =\n",
       "        document.querySelector('#df-d6082f35-9ef8-45c0-937b-73f206824692 button');\n",
       "      quickchartButtonEl.style.display =\n",
       "        google.colab.kernel.accessAllowed ? 'block' : 'none';\n",
       "    })();\n",
       "  </script>\n",
       "</div>\n",
       "\n",
       "    </div>\n",
       "  </div>\n"
      ],
      "text/plain": [
       "   longitude  latitude  housing_median_age  total_rooms  total_bedrooms  \\\n",
       "0    -114.31     34.19                15.0       5612.0          1283.0   \n",
       "1    -114.47     34.40                19.0       7650.0          1901.0   \n",
       "2    -114.56     33.69                17.0        720.0           174.0   \n",
       "3    -114.57     33.64                14.0       1501.0           337.0   \n",
       "4    -114.57     33.57                20.0       1454.0           326.0   \n",
       "\n",
       "   population  households  median_income  median_house_value  \n",
       "0      1015.0       472.0         1.4936             66900.0  \n",
       "1      1129.0       463.0         1.8200             80100.0  \n",
       "2       333.0       117.0         1.6509             85700.0  \n",
       "3       515.0       226.0         3.1917             73400.0  \n",
       "4       624.0       262.0         1.9250             65500.0  "
      ]
     },
     "execution_count": 2,
     "metadata": {},
     "output_type": "execute_result"
    }
   ],
   "source": [
    "# Import data\n",
    "filename = 'california_housing_train.csv'\n",
    "data = pd.read_csv(filename)\n",
    "\n",
    "data.head()"
   ]
  },
  {
   "cell_type": "markdown",
   "metadata": {
    "id": "tYp6GSaopq3l"
   },
   "source": [
    "## Parameter populasi\n",
    "---"
   ]
  },
  {
   "cell_type": "markdown",
   "metadata": {
    "id": "79XCSBajpM90"
   },
   "source": [
    "- Anggap data ini adalah **populasi**, maka parameter rata-rata dari populasi dapat dicari menggunakan fungsi `mean()`"
   ]
  },
  {
   "cell_type": "code",
   "execution_count": 3,
   "metadata": {
    "colab": {
     "base_uri": "https://localhost:8080/"
    },
    "id": "s-R5LDSQFU8d",
    "outputId": "1d6eea6e-407b-4fb1-ed60-61b814af6d00"
   },
   "outputs": [
    {
     "name": "stdout",
     "output_type": "stream",
     "text": [
      "Rata-rata populasi: 28.59\n"
     ]
    }
   ],
   "source": [
    "# Cari rata-rata populasi dari usia rumah (housing_median_age)\n",
    "mean_pop = data['housing_median_age'].mean()\n",
    "\n",
    "print(f'Rata-rata populasi: {mean_pop:.2f}')"
   ]
  },
  {
   "cell_type": "markdown",
   "metadata": {
    "id": "2ShwJMJUpuGM"
   },
   "source": [
    "## Statistik sample\n",
    "---"
   ]
  },
  {
   "cell_type": "markdown",
   "metadata": {
    "id": "3J5hyEE3p0vH"
   },
   "source": [
    "- Sekarang kita coba mencari statistik dari sample (yakni rata-rata `housing_median_age`).\n",
    "- Gunakan fungsi `sample()` untuk mencarinya."
   ]
  },
  {
   "cell_type": "code",
   "execution_count": 4,
   "metadata": {
    "colab": {
     "base_uri": "https://localhost:8080/"
    },
    "id": "yN1VcqiUqEmX",
    "outputId": "8b9e08b7-7f5c-4acc-b7e1-224d04cb1449"
   },
   "outputs": [
    {
     "name": "stdout",
     "output_type": "stream",
     "text": [
      "Rata-rata 10 sample: 18.60\n",
      "Rata-rata populasi: 28.59\n"
     ]
    }
   ],
   "source": [
    "# Hitung rata-rata housing_median_age dari 10 sampel\n",
    "n_sample = 10\n",
    "\n",
    "mean_sample = (\n",
    "    data['housing_median_age']\n",
    "    .sample(n = n_sample)\n",
    "    .mean()\n",
    ")\n",
    "print(f'Rata-rata {n_sample} sample: {mean_sample:.2f}')\n",
    "print(f'Rata-rata populasi: {mean_pop:.2f}')"
   ]
  },
  {
   "cell_type": "code",
   "execution_count": 5,
   "metadata": {
    "colab": {
     "base_uri": "https://localhost:8080/"
    },
    "id": "AoTTMiO4FVcG",
    "outputId": "ec495604-7f2d-4a1d-9a55-766f2a9a6ab9"
   },
   "outputs": [
    {
     "name": "stdout",
     "output_type": "stream",
     "text": [
      "Rata-rata 100 sample: 29.24\n",
      "Rata-rata populasi: 28.59\n"
     ]
    }
   ],
   "source": [
    "# Hitung rata-rata housing_median_age dari 100 sampel\n",
    "n_sample = 100\n",
    "\n",
    "mean_sample = (\n",
    "    data['housing_median_age']\n",
    "    .sample(n = n_sample)\n",
    "    .mean()\n",
    ")\n",
    "print(f'Rata-rata {n_sample} sample: {mean_sample:.2f}')\n",
    "print(f'Rata-rata populasi: {mean_pop:.2f}')"
   ]
  },
  {
   "cell_type": "code",
   "execution_count": 6,
   "metadata": {
    "colab": {
     "base_uri": "https://localhost:8080/"
    },
    "id": "eCrjc3d1FVeo",
    "outputId": "32532b2c-19e0-4a39-d44d-6ae28470b199"
   },
   "outputs": [
    {
     "name": "stdout",
     "output_type": "stream",
     "text": [
      "Rata-rata 1000 sample: 28.75\n",
      "Rata-rata populasi: 28.59\n"
     ]
    }
   ],
   "source": [
    "# Hitung rata-rata housing_median_age dari 1000 sampel\n",
    "n_sample = 1_000\n",
    "\n",
    "mean_sample = (\n",
    "    data['housing_median_age']\n",
    "    .sample(n = n_sample)\n",
    "    .mean()\n",
    ")\n",
    "print(f'Rata-rata {n_sample} sample: {mean_sample:.2f}')\n",
    "print(f'Rata-rata populasi: {mean_pop:.2f}')"
   ]
  },
  {
   "cell_type": "code",
   "execution_count": 7,
   "metadata": {
    "colab": {
     "base_uri": "https://localhost:8080/"
    },
    "id": "OwcqM9_eFVg8",
    "outputId": "5fa3f4a3-4fe1-413e-defa-0adf13a5d8e3"
   },
   "outputs": [
    {
     "name": "stdout",
     "output_type": "stream",
     "text": [
      "Rata-rata 10000 sample: 28.62\n",
      "Rata-rata populasi: 28.59\n"
     ]
    }
   ],
   "source": [
    "# Hitung rata-rata housing_median_age dari 10.000 sampel\n",
    "n_sample = 10_000\n",
    "\n",
    "mean_sample = (\n",
    "    data['housing_median_age']\n",
    "    .sample(n = n_sample)\n",
    "    .mean()\n",
    ")\n",
    "print(f'Rata-rata {n_sample} sample: {mean_sample:.2f}')\n",
    "print(f'Rata-rata populasi: {mean_pop:.2f}')"
   ]
  },
  {
   "cell_type": "markdown",
   "metadata": {
    "id": "a8u3JDw9UX92"
   },
   "source": [
    "## Error dalam melakukan sampling\n",
    "---"
   ]
  },
  {
   "cell_type": "markdown",
   "metadata": {
    "id": "5HGdGlDYq5QJ"
   },
   "source": [
    "- Dalam setiap pengambilan sampel, kemungkinan besar peneliti akan menimbulkan error.\n",
    "- Error/kesalahan pengambilan sampel adalah penyimpangan dalam nilai sampel versus nilai populasi sebenarnya.\n",
    "- Kesalahan pengambilan sampel terjadi karena sampel tidak mewakili populasi atau bias dalam beberapa hal.\n",
    "- Bahkan sampel yang diacak pun akan memiliki beberapa tingkat kesalahan pengambilan sampel karena sampel hanya merupakan perkiraan populasi dari mana sampel itu diambil.\n",
    "- Dalam kenyataannya, kita sering kali tidak mengetahui nilai dari populasi sehingga kita tidak dapat menghitung error yang akan terjadi secara persis. (pada contoh soal berikut kita dianggap mengetahui parameter populasi)"
   ]
  },
  {
   "cell_type": "markdown",
   "metadata": {
    "id": "u8vt1FEJrU5J"
   },
   "source": [
    "### Simulasi error"
   ]
  },
  {
   "cell_type": "markdown",
   "metadata": {
    "id": "Or-ccEzUrXUe"
   },
   "source": [
    "- Error dapat kita dekati sebagai selisih antara parameter populasi dengan statistik sample.\n",
    "\n",
    "$$\n",
    "\\text{error} = \\mu - \\bar{x}\n",
    "$$\n",
    "\n",
    "- Dengan\n",
    "  - $\\mu$: rata-rata populasi\n",
    "  - $\\bar{x}$: rata-rata sample"
   ]
  },
  {
   "cell_type": "code",
   "execution_count": 8,
   "metadata": {
    "id": "7EQVb2Yzro6H"
   },
   "outputs": [],
   "source": [
    "# JALANKAN FUNGSI INI\n",
    "def simulasi_error(data):\n",
    "    \"\"\"\n",
    "    Simulasi error dari pengambilan sample pada data.\n",
    "    Sample diambil dari ukuran 1 hingga n secara random dengan n adalah banyak data.\n",
    "    \"\"\"\n",
    "    # Cari parameter data\n",
    "    n_data = len(data)\n",
    "    mean_pop = data['housing_median_age'].mean()\n",
    "\n",
    "    # Mulai simulasi\n",
    "    list_error = []\n",
    "    for i, n_sample in enumerate(range(1, n_data+1)):\n",
    "        # Cari statistik sample\n",
    "        mean_sample = (\n",
    "            data['housing_median_age']\n",
    "            .sample(n=n_sample, random_state=i)\n",
    "            .mean()\n",
    "        )\n",
    "\n",
    "        # Cari relative error\n",
    "        error = mean_pop - mean_sample\n",
    "        rel_error = 100 * abs(error) / mean_pop\n",
    "        list_error.append(rel_error)\n",
    "\n",
    "    return pd.DataFrame(\n",
    "        {'n_sample': range(1, n_data+1),\n",
    "         'relative_error': list_error}\n",
    "    )\n"
   ]
  },
  {
   "cell_type": "code",
   "execution_count": 9,
   "metadata": {
    "colab": {
     "base_uri": "https://localhost:8080/",
     "height": 424
    },
    "id": "iqUqYHmus7MW",
    "outputId": "d322e2ad-4266-48e7-ac97-494252333f1e"
   },
   "outputs": [
    {
     "data": {
      "application/vnd.google.colaboratory.intrinsic+json": {
       "summary": "{\n  \"name\": \"df_error\",\n  \"rows\": 17000,\n  \"fields\": [\n    {\n      \"column\": \"n_sample\",\n      \"properties\": {\n        \"dtype\": \"number\",\n        \"std\": 4907,\n        \"min\": 1,\n        \"max\": 17000,\n        \"num_unique_values\": 17000,\n        \"samples\": [\n          10942,\n          5251,\n          10293\n        ],\n        \"semantic_type\": \"\",\n        \"description\": \"\"\n      }\n    },\n    {\n      \"column\": \"relative_error\",\n      \"properties\": {\n        \"dtype\": \"number\",\n        \"std\": 0.9007642950378316,\n        \"min\": 0.0,\n        \"max\": 37.58035522616743,\n        \"num_unique_values\": 16945,\n        \"samples\": [\n          0.018595342767082478,\n          0.812669437510756,\n          0.013313083579877961\n        ],\n        \"semantic_type\": \"\",\n        \"description\": \"\"\n      }\n    }\n  ]\n}",
       "type": "dataframe",
       "variable_name": "df_error"
      },
      "text/html": [
       "\n",
       "  <div id=\"df-31a5ba97-1a64-48ae-b733-9758673f1d03\" class=\"colab-df-container\">\n",
       "    <div>\n",
       "<style scoped>\n",
       "    .dataframe tbody tr th:only-of-type {\n",
       "        vertical-align: middle;\n",
       "    }\n",
       "\n",
       "    .dataframe tbody tr th {\n",
       "        vertical-align: top;\n",
       "    }\n",
       "\n",
       "    .dataframe thead th {\n",
       "        text-align: right;\n",
       "    }\n",
       "</style>\n",
       "<table border=\"1\" class=\"dataframe\">\n",
       "  <thead>\n",
       "    <tr style=\"text-align: right;\">\n",
       "      <th></th>\n",
       "      <th>n_sample</th>\n",
       "      <th>relative_error</th>\n",
       "    </tr>\n",
       "  </thead>\n",
       "  <tbody>\n",
       "    <tr>\n",
       "      <th>0</th>\n",
       "      <td>1</td>\n",
       "      <td>37.039498</td>\n",
       "    </tr>\n",
       "    <tr>\n",
       "      <th>1</th>\n",
       "      <td>2</td>\n",
       "      <td>26.546082</td>\n",
       "    </tr>\n",
       "    <tr>\n",
       "      <th>2</th>\n",
       "      <td>3</td>\n",
       "      <td>5.559248</td>\n",
       "    </tr>\n",
       "    <tr>\n",
       "      <th>3</th>\n",
       "      <td>4</td>\n",
       "      <td>36.165047</td>\n",
       "    </tr>\n",
       "    <tr>\n",
       "      <th>4</th>\n",
       "      <td>5</td>\n",
       "      <td>14.728025</td>\n",
       "    </tr>\n",
       "    <tr>\n",
       "      <th>...</th>\n",
       "      <td>...</td>\n",
       "      <td>...</td>\n",
       "    </tr>\n",
       "    <tr>\n",
       "      <th>16995</th>\n",
       "      <td>16996</td>\n",
       "      <td>0.005630</td>\n",
       "    </tr>\n",
       "    <tr>\n",
       "      <th>16996</th>\n",
       "      <td>16997</td>\n",
       "      <td>0.005097</td>\n",
       "    </tr>\n",
       "    <tr>\n",
       "      <th>16997</th>\n",
       "      <td>16998</td>\n",
       "      <td>0.002095</td>\n",
       "    </tr>\n",
       "    <tr>\n",
       "      <th>16998</th>\n",
       "      <td>16999</td>\n",
       "      <td>0.003414</td>\n",
       "    </tr>\n",
       "    <tr>\n",
       "      <th>16999</th>\n",
       "      <td>17000</td>\n",
       "      <td>0.000000</td>\n",
       "    </tr>\n",
       "  </tbody>\n",
       "</table>\n",
       "<p>17000 rows × 2 columns</p>\n",
       "</div>\n",
       "    <div class=\"colab-df-buttons\">\n",
       "\n",
       "  <div class=\"colab-df-container\">\n",
       "    <button class=\"colab-df-convert\" onclick=\"convertToInteractive('df-31a5ba97-1a64-48ae-b733-9758673f1d03')\"\n",
       "            title=\"Convert this dataframe to an interactive table.\"\n",
       "            style=\"display:none;\">\n",
       "\n",
       "  <svg xmlns=\"http://www.w3.org/2000/svg\" height=\"24px\" viewBox=\"0 -960 960 960\">\n",
       "    <path d=\"M120-120v-720h720v720H120Zm60-500h600v-160H180v160Zm220 220h160v-160H400v160Zm0 220h160v-160H400v160ZM180-400h160v-160H180v160Zm440 0h160v-160H620v160ZM180-180h160v-160H180v160Zm440 0h160v-160H620v160Z\"/>\n",
       "  </svg>\n",
       "    </button>\n",
       "\n",
       "  <style>\n",
       "    .colab-df-container {\n",
       "      display:flex;\n",
       "      gap: 12px;\n",
       "    }\n",
       "\n",
       "    .colab-df-convert {\n",
       "      background-color: #E8F0FE;\n",
       "      border: none;\n",
       "      border-radius: 50%;\n",
       "      cursor: pointer;\n",
       "      display: none;\n",
       "      fill: #1967D2;\n",
       "      height: 32px;\n",
       "      padding: 0 0 0 0;\n",
       "      width: 32px;\n",
       "    }\n",
       "\n",
       "    .colab-df-convert:hover {\n",
       "      background-color: #E2EBFA;\n",
       "      box-shadow: 0px 1px 2px rgba(60, 64, 67, 0.3), 0px 1px 3px 1px rgba(60, 64, 67, 0.15);\n",
       "      fill: #174EA6;\n",
       "    }\n",
       "\n",
       "    .colab-df-buttons div {\n",
       "      margin-bottom: 4px;\n",
       "    }\n",
       "\n",
       "    [theme=dark] .colab-df-convert {\n",
       "      background-color: #3B4455;\n",
       "      fill: #D2E3FC;\n",
       "    }\n",
       "\n",
       "    [theme=dark] .colab-df-convert:hover {\n",
       "      background-color: #434B5C;\n",
       "      box-shadow: 0px 1px 3px 1px rgba(0, 0, 0, 0.15);\n",
       "      filter: drop-shadow(0px 1px 2px rgba(0, 0, 0, 0.3));\n",
       "      fill: #FFFFFF;\n",
       "    }\n",
       "  </style>\n",
       "\n",
       "    <script>\n",
       "      const buttonEl =\n",
       "        document.querySelector('#df-31a5ba97-1a64-48ae-b733-9758673f1d03 button.colab-df-convert');\n",
       "      buttonEl.style.display =\n",
       "        google.colab.kernel.accessAllowed ? 'block' : 'none';\n",
       "\n",
       "      async function convertToInteractive(key) {\n",
       "        const element = document.querySelector('#df-31a5ba97-1a64-48ae-b733-9758673f1d03');\n",
       "        const dataTable =\n",
       "          await google.colab.kernel.invokeFunction('convertToInteractive',\n",
       "                                                    [key], {});\n",
       "        if (!dataTable) return;\n",
       "\n",
       "        const docLinkHtml = 'Like what you see? Visit the ' +\n",
       "          '<a target=\"_blank\" href=https://colab.research.google.com/notebooks/data_table.ipynb>data table notebook</a>'\n",
       "          + ' to learn more about interactive tables.';\n",
       "        element.innerHTML = '';\n",
       "        dataTable['output_type'] = 'display_data';\n",
       "        await google.colab.output.renderOutput(dataTable, element);\n",
       "        const docLink = document.createElement('div');\n",
       "        docLink.innerHTML = docLinkHtml;\n",
       "        element.appendChild(docLink);\n",
       "      }\n",
       "    </script>\n",
       "  </div>\n",
       "\n",
       "\n",
       "<div id=\"df-e3859fc6-bd93-49cb-9f7e-1c3b4e5015ac\">\n",
       "  <button class=\"colab-df-quickchart\" onclick=\"quickchart('df-e3859fc6-bd93-49cb-9f7e-1c3b4e5015ac')\"\n",
       "            title=\"Suggest charts\"\n",
       "            style=\"display:none;\">\n",
       "\n",
       "<svg xmlns=\"http://www.w3.org/2000/svg\" height=\"24px\"viewBox=\"0 0 24 24\"\n",
       "     width=\"24px\">\n",
       "    <g>\n",
       "        <path d=\"M19 3H5c-1.1 0-2 .9-2 2v14c0 1.1.9 2 2 2h14c1.1 0 2-.9 2-2V5c0-1.1-.9-2-2-2zM9 17H7v-7h2v7zm4 0h-2V7h2v10zm4 0h-2v-4h2v4z\"/>\n",
       "    </g>\n",
       "</svg>\n",
       "  </button>\n",
       "\n",
       "<style>\n",
       "  .colab-df-quickchart {\n",
       "      --bg-color: #E8F0FE;\n",
       "      --fill-color: #1967D2;\n",
       "      --hover-bg-color: #E2EBFA;\n",
       "      --hover-fill-color: #174EA6;\n",
       "      --disabled-fill-color: #AAA;\n",
       "      --disabled-bg-color: #DDD;\n",
       "  }\n",
       "\n",
       "  [theme=dark] .colab-df-quickchart {\n",
       "      --bg-color: #3B4455;\n",
       "      --fill-color: #D2E3FC;\n",
       "      --hover-bg-color: #434B5C;\n",
       "      --hover-fill-color: #FFFFFF;\n",
       "      --disabled-bg-color: #3B4455;\n",
       "      --disabled-fill-color: #666;\n",
       "  }\n",
       "\n",
       "  .colab-df-quickchart {\n",
       "    background-color: var(--bg-color);\n",
       "    border: none;\n",
       "    border-radius: 50%;\n",
       "    cursor: pointer;\n",
       "    display: none;\n",
       "    fill: var(--fill-color);\n",
       "    height: 32px;\n",
       "    padding: 0;\n",
       "    width: 32px;\n",
       "  }\n",
       "\n",
       "  .colab-df-quickchart:hover {\n",
       "    background-color: var(--hover-bg-color);\n",
       "    box-shadow: 0 1px 2px rgba(60, 64, 67, 0.3), 0 1px 3px 1px rgba(60, 64, 67, 0.15);\n",
       "    fill: var(--button-hover-fill-color);\n",
       "  }\n",
       "\n",
       "  .colab-df-quickchart-complete:disabled,\n",
       "  .colab-df-quickchart-complete:disabled:hover {\n",
       "    background-color: var(--disabled-bg-color);\n",
       "    fill: var(--disabled-fill-color);\n",
       "    box-shadow: none;\n",
       "  }\n",
       "\n",
       "  .colab-df-spinner {\n",
       "    border: 2px solid var(--fill-color);\n",
       "    border-color: transparent;\n",
       "    border-bottom-color: var(--fill-color);\n",
       "    animation:\n",
       "      spin 1s steps(1) infinite;\n",
       "  }\n",
       "\n",
       "  @keyframes spin {\n",
       "    0% {\n",
       "      border-color: transparent;\n",
       "      border-bottom-color: var(--fill-color);\n",
       "      border-left-color: var(--fill-color);\n",
       "    }\n",
       "    20% {\n",
       "      border-color: transparent;\n",
       "      border-left-color: var(--fill-color);\n",
       "      border-top-color: var(--fill-color);\n",
       "    }\n",
       "    30% {\n",
       "      border-color: transparent;\n",
       "      border-left-color: var(--fill-color);\n",
       "      border-top-color: var(--fill-color);\n",
       "      border-right-color: var(--fill-color);\n",
       "    }\n",
       "    40% {\n",
       "      border-color: transparent;\n",
       "      border-right-color: var(--fill-color);\n",
       "      border-top-color: var(--fill-color);\n",
       "    }\n",
       "    60% {\n",
       "      border-color: transparent;\n",
       "      border-right-color: var(--fill-color);\n",
       "    }\n",
       "    80% {\n",
       "      border-color: transparent;\n",
       "      border-right-color: var(--fill-color);\n",
       "      border-bottom-color: var(--fill-color);\n",
       "    }\n",
       "    90% {\n",
       "      border-color: transparent;\n",
       "      border-bottom-color: var(--fill-color);\n",
       "    }\n",
       "  }\n",
       "</style>\n",
       "\n",
       "  <script>\n",
       "    async function quickchart(key) {\n",
       "      const quickchartButtonEl =\n",
       "        document.querySelector('#' + key + ' button');\n",
       "      quickchartButtonEl.disabled = true;  // To prevent multiple clicks.\n",
       "      quickchartButtonEl.classList.add('colab-df-spinner');\n",
       "      try {\n",
       "        const charts = await google.colab.kernel.invokeFunction(\n",
       "            'suggestCharts', [key], {});\n",
       "      } catch (error) {\n",
       "        console.error('Error during call to suggestCharts:', error);\n",
       "      }\n",
       "      quickchartButtonEl.classList.remove('colab-df-spinner');\n",
       "      quickchartButtonEl.classList.add('colab-df-quickchart-complete');\n",
       "    }\n",
       "    (() => {\n",
       "      let quickchartButtonEl =\n",
       "        document.querySelector('#df-e3859fc6-bd93-49cb-9f7e-1c3b4e5015ac button');\n",
       "      quickchartButtonEl.style.display =\n",
       "        google.colab.kernel.accessAllowed ? 'block' : 'none';\n",
       "    })();\n",
       "  </script>\n",
       "</div>\n",
       "\n",
       "  <div id=\"id_4f711da8-11f3-48d4-ba7a-607fface067d\">\n",
       "    <style>\n",
       "      .colab-df-generate {\n",
       "        background-color: #E8F0FE;\n",
       "        border: none;\n",
       "        border-radius: 50%;\n",
       "        cursor: pointer;\n",
       "        display: none;\n",
       "        fill: #1967D2;\n",
       "        height: 32px;\n",
       "        padding: 0 0 0 0;\n",
       "        width: 32px;\n",
       "      }\n",
       "\n",
       "      .colab-df-generate:hover {\n",
       "        background-color: #E2EBFA;\n",
       "        box-shadow: 0px 1px 2px rgba(60, 64, 67, 0.3), 0px 1px 3px 1px rgba(60, 64, 67, 0.15);\n",
       "        fill: #174EA6;\n",
       "      }\n",
       "\n",
       "      [theme=dark] .colab-df-generate {\n",
       "        background-color: #3B4455;\n",
       "        fill: #D2E3FC;\n",
       "      }\n",
       "\n",
       "      [theme=dark] .colab-df-generate:hover {\n",
       "        background-color: #434B5C;\n",
       "        box-shadow: 0px 1px 3px 1px rgba(0, 0, 0, 0.15);\n",
       "        filter: drop-shadow(0px 1px 2px rgba(0, 0, 0, 0.3));\n",
       "        fill: #FFFFFF;\n",
       "      }\n",
       "    </style>\n",
       "    <button class=\"colab-df-generate\" onclick=\"generateWithVariable('df_error')\"\n",
       "            title=\"Generate code using this dataframe.\"\n",
       "            style=\"display:none;\">\n",
       "\n",
       "  <svg xmlns=\"http://www.w3.org/2000/svg\" height=\"24px\"viewBox=\"0 0 24 24\"\n",
       "       width=\"24px\">\n",
       "    <path d=\"M7,19H8.4L18.45,9,17,7.55,7,17.6ZM5,21V16.75L18.45,3.32a2,2,0,0,1,2.83,0l1.4,1.43a1.91,1.91,0,0,1,.58,1.4,1.91,1.91,0,0,1-.58,1.4L9.25,21ZM18.45,9,17,7.55Zm-12,3A5.31,5.31,0,0,0,4.9,8.1,5.31,5.31,0,0,0,1,6.5,5.31,5.31,0,0,0,4.9,4.9,5.31,5.31,0,0,0,6.5,1,5.31,5.31,0,0,0,8.1,4.9,5.31,5.31,0,0,0,12,6.5,5.46,5.46,0,0,0,6.5,12Z\"/>\n",
       "  </svg>\n",
       "    </button>\n",
       "    <script>\n",
       "      (() => {\n",
       "      const buttonEl =\n",
       "        document.querySelector('#id_4f711da8-11f3-48d4-ba7a-607fface067d button.colab-df-generate');\n",
       "      buttonEl.style.display =\n",
       "        google.colab.kernel.accessAllowed ? 'block' : 'none';\n",
       "\n",
       "      buttonEl.onclick = () => {\n",
       "        google.colab.notebook.generateWithVariable('df_error');\n",
       "      }\n",
       "      })();\n",
       "    </script>\n",
       "  </div>\n",
       "\n",
       "    </div>\n",
       "  </div>\n"
      ],
      "text/plain": [
       "       n_sample  relative_error\n",
       "0             1       37.039498\n",
       "1             2       26.546082\n",
       "2             3        5.559248\n",
       "3             4       36.165047\n",
       "4             5       14.728025\n",
       "...         ...             ...\n",
       "16995     16996        0.005630\n",
       "16996     16997        0.005097\n",
       "16997     16998        0.002095\n",
       "16998     16999        0.003414\n",
       "16999     17000        0.000000\n",
       "\n",
       "[17000 rows x 2 columns]"
      ]
     },
     "execution_count": 9,
     "metadata": {},
     "output_type": "execute_result"
    }
   ],
   "source": [
    "# Lakukan simulasi\n",
    "df_error = simulasi_error(data=data)\n",
    "df_error"
   ]
  },
  {
   "cell_type": "code",
   "execution_count": 10,
   "metadata": {
    "colab": {
     "base_uri": "https://localhost:8080/",
     "height": 458
    },
    "id": "4xU-FjgJtGtf",
    "outputId": "412f2bf8-3116-491b-b4c9-442e5b268503"
   },
   "outputs": [
    {
     "data": {
      "image/png": "[encoded data removed]",
      "text/plain": [
       "<Figure size 640x480 with 1 Axes>"
      ]
     },
     "metadata": {},
     "output_type": "display_data"
    }
   ],
   "source": [
    "# Visualkan\n",
    "plt.plot(df_error['n_sample'], df_error['relative_error'])\n",
    "\n",
    "plt.xlabel('Jumlah sample')\n",
    "plt.ylabel('Relative error, %')\n",
    "plt.show()"
   ]
  },
  {
   "cell_type": "markdown",
   "metadata": {
    "id": "5hy-s-n_0LdV"
   },
   "source": [
    "### Kesimpulan\n",
    "---"
   ]
  },
  {
   "cell_type": "markdown",
   "metadata": {
    "id": "s2_88KG9tp2s"
   },
   "source": [
    "- Saat kita mengambil sampel dengan jumlah yang sedikit, error yang dihasilkan akan cukup tinggi.\n",
    "- Relative error akan berkurang bahkan mendekati 0 ketika sample size = jumlah populasi\n",
    "-Jika sampel Anda **terlalu kecil**, Anda dapat memasukkan jumlah individu yang tidak proporsional yang merupakan outlier dan anomali. Ini mencondongkan hasil dan Anda tidak mendapatkan gambaran yang adil dari seluruh populasi.\n",
    "-Jika sampelnya terlalu besar, keseluruhan penelitian menjadi rumit, mahal, dan memakan waktu untuk dijalankan, dan meskipun hasilnya lebih akurat, manfaatnya tidak lebih besar daripada biayanya."
   ]
  },
  {
   "cell_type": "markdown",
   "metadata": {
    "id": "YW6caoAj06wl"
   },
   "source": [
    "# Case Study 2 - Jogging with Sam\n",
    "---"
   ]
  },
  {
   "cell_type": "markdown",
   "metadata": {
    "id": "NrF-RmfHpbW6"
   },
   "source": [
    "- Hari ini kamu janji ingin nge-gym bareng temen kamu bernama Sam.\n",
    "- Di perjalanan menuju gym, Sam mengatakan bahwa kecepatan dia dalam berlari adalah 8 km/jam.\n",
    "- Untuk mengetahui apakah Sam berbohong atau tidak, kamu memantau kecepatan berlari Sam selama 10 hari berturut-turut.\n"
   ]
  },
  {
   "cell_type": "markdown",
   "metadata": {
    "id": "cdyNo3lGuEG2"
   },
   "source": [
    "### Hipotesis\n",
    "---"
   ]
  },
  {
   "cell_type": "markdown",
   "metadata": {
    "id": "y5y__CWvuXC7"
   },
   "source": [
    "- Sam mengatakan bahwa kecepatan larinya adalah 8 km/jam\n",
    "- Dalam 10 kali gym bareng Sam, kamu mendapatkan data rata-rata larinya sebagai berikut <br>`x = [7.0, 7.5, 6.0, 7.7, 5.9, 8.0, 7.0, 7.8, 5.8, 6.6]`\n",
    "- Hipotesis kamu, Sam berlari lebih lambat dari yang dia bilang."
   ]
  },
  {
   "cell_type": "code",
   "execution_count": 11,
   "metadata": {
    "id": "vfaBS5uJwEFg"
   },
   "outputs": [],
   "source": [
    "# Jalankan untuk mendapatkan data x\n",
    "x = [7.0, 7.5, 6.0, 7.7, 5.9, 8.0, 7.0, 7.8, 5.8, 6.6]"
   ]
  },
  {
   "cell_type": "markdown",
   "metadata": {
    "id": "OxREM1Dfu7Ia"
   },
   "source": [
    "Maka hipotesis yang ingin kita uji adalah\n",
    "- $H_{0}$: $\\bar{x} = 8 \\text{ km/jam}$\n",
    "- $H_{1}$: $\\bar{x} < 8 \\text{ km/jam}$"
   ]
  },
  {
   "cell_type": "markdown",
   "metadata": {
    "id": "d7oByA_z6Wvx"
   },
   "source": [
    "### Statistik uji yang akan digunakan\n",
    "---"
   ]
  },
  {
   "cell_type": "markdown",
   "metadata": {
    "id": "8Idkz8IAvYrz"
   },
   "source": [
    "- Yang kita ingin uji adalah **rata-rata**, maka z-test atau t-test\n",
    "- Sample yang kita punya kecil, maka pilih t-test.\n",
    "\n",
    "$$\n",
    "T = \\frac{\\bar{x}-\\mu_0}{\\sqrt{s^2/n}} \\sim t_{n-1}.\n",
    "$$"
   ]
  },
  {
   "cell_type": "markdown",
   "metadata": {
    "id": "vbx0I3FQxD6H"
   },
   "source": [
    "- Mari kita lakukan pengujian"
   ]
  },
  {
   "cell_type": "code",
   "execution_count": 12,
   "metadata": {
    "colab": {
     "base_uri": "https://localhost:8080/"
    },
    "id": "RSkdsDZFxFg8",
    "outputId": "a055b80c-fc6a-484e-f349-b1c5d3cdb937"
   },
   "outputs": [
    {
     "name": "stdout",
     "output_type": "stream",
     "text": [
      "Rata-rata sample   : 6.93\n",
      "Rata-rata populasi : 8.00\n",
      "Varians sample     : 0.68\n",
      "Banyak sample      : 10\n"
     ]
    }
   ],
   "source": [
    "# Definisikan variable\n",
    "x_bar = np.mean(x)              # rata-rata sample\n",
    "mu_0 = 8.0                      # rata-rata populasi (dari Sam)\n",
    "s_square = np.var(x, ddof=1)    # varians sample\n",
    "n = len(x)                      # banyak data sample\n",
    "\n",
    "print(f'Rata-rata sample   : {x_bar:.2f}')\n",
    "print(f'Rata-rata populasi : {mu_0:.2f}')\n",
    "print(f'Varians sample     : {s_square:.2f}')\n",
    "print(f'Banyak sample      : {n}')"
   ]
  },
  {
   "cell_type": "code",
   "execution_count": 13,
   "metadata": {
    "colab": {
     "base_uri": "https://localhost:8080/"
    },
    "id": "rFA7aZA1xlD-",
    "outputId": "67622c15-6a02-426d-9c2c-629c7e2bac44"
   },
   "outputs": [
    {
     "name": "stdout",
     "output_type": "stream",
     "text": [
      "T_score : -4.0962\n"
     ]
    }
   ],
   "source": [
    "# Hitung t-test\n",
    "t_score = (x_bar-mu_0) / np.sqrt(s_square/n)\n",
    "print(f'T_score : {t_score:.4f}')"
   ]
  },
  {
   "cell_type": "markdown",
   "metadata": {
    "id": "3N4t07Thx5xU"
   },
   "source": [
    "- Nilai negatif karena $\\bar{x}$ lebih kecil dibanding $\\mu_{0}$\n",
    "- Dalam visualisasi"
   ]
  },
  {
   "cell_type": "code",
   "execution_count": 14,
   "metadata": {
    "id": "TOgGxFPJ0gUM"
   },
   "outputs": [],
   "source": [
    "from scipy.stats import t"
   ]
  },
  {
   "cell_type": "code",
   "execution_count": 15,
   "metadata": {
    "colab": {
     "base_uri": "https://localhost:8080/",
     "height": 458
    },
    "id": "U2hYEHzK0jej",
    "outputId": "6e0b10ee-a242-4625-e5e3-8106dd4f80f6"
   },
   "outputs": [
    {
     "data": {
      "image/png": "[encoded data removed]",
      "text/plain": [
       "<Figure size 640x480 with 1 Axes>"
      ]
     },
     "metadata": {},
     "output_type": "display_data"
    }
   ],
   "source": [
    "# Visualisasi distribusi t-score\n",
    "x_ = np.arange(-5, 5, 0.01)\n",
    "pdf_ = t.pdf(x_, df=len(x_))\n",
    "\n",
    "plt.fill_between(x_, pdf_, facecolor='blue', alpha=0.35)\n",
    "\n",
    "plt.axvline(0.0, linestyle='--', color='black', label=f'Mean pop: {mu_0:.2f} km/jam')\n",
    "plt.axvline(t_score, linestyle='--', color='green', label=f'Mean sample: {x_bar:.2f} km/jam')\n",
    "\n",
    "plt.xlabel('T score')\n",
    "plt.ylabel('PDF')\n",
    "plt.legend()\n",
    "plt.show()"
   ]
  },
  {
   "cell_type": "markdown",
   "metadata": {
    "id": "6yRCRUst6Wvy"
   },
   "source": [
    "### Membuat keputusan\n",
    "---"
   ]
  },
  {
   "cell_type": "markdown",
   "metadata": {
    "id": "rSEgfjj4wNvI"
   },
   "source": [
    "- Definisikan significance level, misal $\\alpha = 0.05$ atau confidence level 95%"
   ]
  },
  {
   "cell_type": "code",
   "execution_count": 16,
   "metadata": {
    "id": "W6R0b3b0wU8g"
   },
   "outputs": [],
   "source": [
    "alpha = 0.05"
   ]
  },
  {
   "cell_type": "markdown",
   "metadata": {
    "id": "qTdSUXK95T-d"
   },
   "source": [
    "#### Cara 1: Gunakan `t_critical`\n",
    "---"
   ]
  },
  {
   "cell_type": "markdown",
   "metadata": {
    "id": "oSKh6opowWXn"
   },
   "source": [
    "- Informasi $\\alpha$ harus dikonversi dalam sudut pandang T-score agar bisa menjadi threshold penentu signifikansi uji.\n",
    "- **Ingat**, $\\alpha$ serupa dengan confidence level (CDF) dari distribusi T-score.\n",
    "- Maka, $\\alpha = 0.05$ atau confidence level 95% adalah `t_score` yang menyebabkan CDF = 0.95."
   ]
  },
  {
   "cell_type": "code",
   "execution_count": 17,
   "metadata": {
    "colab": {
     "base_uri": "https://localhost:8080/"
    },
    "id": "crJM32sh2ylO",
    "outputId": "2a293a37-a27e-42d9-8e92-6f69d55c4596"
   },
   "outputs": [
    {
     "name": "stdout",
     "output_type": "stream",
     "text": [
      "Saat alpha=0.05, t_critical=-1.8331\n"
     ]
    }
   ],
   "source": [
    "# Hitung ppf\n",
    "t_critical = t.ppf(alpha, df=n-1)\n",
    "\n",
    "print(f'Saat alpha={alpha}, t_critical={t_critical:.4f}')"
   ]
  },
  {
   "cell_type": "markdown",
   "metadata": {
    "id": "quwcfj9v3HuT"
   },
   "source": [
    "- `t_critical` negative karena $\\bar{x} < \\mu_{0}$\n",
    "- Coba visualkan $\\alpha$ atau `t_critical`"
   ]
  },
  {
   "cell_type": "code",
   "execution_count": 18,
   "metadata": {
    "colab": {
     "base_uri": "https://localhost:8080/",
     "height": 458
    },
    "id": "8d-HD4n-3QEg",
    "outputId": "51fe9f95-9ee5-4013-fa64-0ea7e2b6750e"
   },
   "outputs": [
    {
     "data": {
      "image/png": "[encoded data removed]",
      "text/plain": [
       "<Figure size 640x480 with 1 Axes>"
      ]
     },
     "metadata": {},
     "output_type": "display_data"
    }
   ],
   "source": [
    "plt.fill_between(x_, pdf_, facecolor='blue', alpha=0.35)\n",
    "\n",
    "plt.fill_between(np.arange(-5.0, t_critical, 0.01),\n",
    "                 t.pdf(np.arange(-5.0, t_critical, 0.01), df=len(x_)),\n",
    "                 facecolor='red',\n",
    "                 alpha=0.35,\n",
    "                 label='Area penolakan H0')\n",
    "\n",
    "plt.axvline(0.0, linestyle='--', color='black', label=f'Mean pop: {mu_0:.2f} km/jam')\n",
    "plt.axvline(t_score, linestyle='--', color='green', label=f'Mean sample: {x_bar:.2f} km/jam')\n",
    "plt.axvline(t_critical, linestyle='--', color='red', label=f'T_critical saat alpha: {alpha}')\n",
    "\n",
    "plt.xlabel('T score')\n",
    "plt.ylabel('PDF')\n",
    "plt.legend()\n",
    "plt.show()"
   ]
  },
  {
   "cell_type": "markdown",
   "metadata": {
    "id": "XqY6JEud4RlZ"
   },
   "source": [
    "- Sekarang kita bisa buat keputusan.\n",
    "\n",
    "$$\n",
    "\\text{decision} =\n",
    "\\begin{cases}\n",
    " & \\text{H0 ditolak,} \\text{ jika } t_{\\text{test}} < t_{\\text{crit}} \\\\\n",
    " & \\text{H0 gagal ditolak,} \\text{ jika } t_{\\text{test}} \\geq t_{\\text{crit}}\n",
    "\\end{cases}\n",
    "$$"
   ]
  },
  {
   "cell_type": "code",
   "execution_count": 19,
   "metadata": {
    "colab": {
     "base_uri": "https://localhost:8080/"
    },
    "id": "N5WV6fES5Dh9",
    "outputId": "fee13508-1339-4246-c952-49407e2c531a"
   },
   "outputs": [
    {
     "name": "stdout",
     "output_type": "stream",
     "text": [
      "Pengambilan Keputusan:\n",
      "Tolak H0\n"
     ]
    }
   ],
   "source": [
    "print('Pengambilan Keputusan:')\n",
    "if t_score < t_critical:\n",
    "    print('Tolak H0')\n",
    "else:\n",
    "    print('Gagal tolak H0')"
   ]
  },
  {
   "cell_type": "markdown",
   "metadata": {
    "id": "E3t3mgFa5RQ6"
   },
   "source": [
    "#### Cara 2: Gunakan $\\alpha$\n",
    "---"
   ]
  },
  {
   "cell_type": "markdown",
   "metadata": {
    "id": "lQtZzwCA5cHI"
   },
   "source": [
    "- $\\alpha$ analog dengan CDF dari distribusi t.\n",
    "- Maka kita bisa konversi `t_score` ke dalam CDF\n",
    "- Ini bisa didapat menggunakan fungsi `t.cdf()`\n",
    "- Hasil konversi ini disebut dengan **p_value**"
   ]
  },
  {
   "cell_type": "code",
   "execution_count": 20,
   "metadata": {
    "colab": {
     "base_uri": "https://localhost:8080/"
    },
    "id": "6SzodGGv5tt3",
    "outputId": "b7cf60b0-f697-4252-84df-2033106f96af"
   },
   "outputs": [
    {
     "name": "stdout",
     "output_type": "stream",
     "text": [
      "p_value : 0.0013\n"
     ]
    }
   ],
   "source": [
    "# Hitung p_value dari t_score\n",
    "p_value = t.cdf(t_score, df=n-1)\n",
    "\n",
    "print(f'p_value : {p_value:.4f}')"
   ]
  },
  {
   "cell_type": "markdown",
   "metadata": {
    "id": "LVNSXJ576EmZ"
   },
   "source": [
    "- Sekarang kita bisa buat keputusan.\n",
    "\n",
    "$$\n",
    "\\text{decision} =\n",
    "\\begin{cases}\n",
    " & \\text{H0 ditolak,} \\text{ jika } \\text{p-value} < \\alpha \\\\\n",
    " & \\text{H0 gagal ditolak,} \\text{ jika } \\text{p-value} \\geq \\alpha\n",
    "\\end{cases}\n",
    "$$"
   ]
  },
  {
   "cell_type": "code",
   "execution_count": 21,
   "metadata": {
    "colab": {
     "base_uri": "https://localhost:8080/"
    },
    "id": "CHQEtS3f6R5Q",
    "outputId": "020cd655-2948-4439-a001-dfe7e52c0eeb"
   },
   "outputs": [
    {
     "name": "stdout",
     "output_type": "stream",
     "text": [
      "Pengambilan Keputusan:\n",
      "Tolak H0\n"
     ]
    }
   ],
   "source": [
    "print('Pengambilan Keputusan:')\n",
    "if p_value < alpha:\n",
    "    print('Tolak H0')\n",
    "else:\n",
    "    print('Gagal tolak H0')"
   ]
  },
  {
   "cell_type": "markdown",
   "metadata": {
    "id": "3H8HXH4r6Wv3"
   },
   "source": [
    "### Gunakan Library untuk uji hipotesis\n",
    "---"
   ]
  },
  {
   "cell_type": "markdown",
   "metadata": {
    "id": "7YdCIt939b_w"
   },
   "source": [
    "Cara menggunakan perhitungan uji statistik t untuk uji rata rata 1 sampel menggunakan scipy.stats"
   ]
  },
  {
   "cell_type": "markdown",
   "metadata": {
    "id": "vahWuJ3l9fYm"
   },
   "source": [
    "- Import library yang dibutuhkan `from scipy.stats import ttest_1samp`\n",
    "- Gunakan fungsi `ttest_1samp(a = ... , popmean = ... , alternative = ... )`"
   ]
  },
  {
   "cell_type": "markdown",
   "metadata": {
    "id": "16CTUvLP6WwD"
   },
   "source": [
    "Dengan memasukkan parameter:\n",
    "- `a` : data sampel yang diuji\n",
    "- `popmean` : rata rata populasi yang diklaim di $H_0$\n",
    "- `alternative` : uji pihak yang dilakukan, cek $H_1$\n",
    "  - jika pada $H_1$ ada tanda '$<$,$\\leq$' maka gunakan 'less' untuk uji pihak kiri\n",
    "  - jika pada $H_1$ ada tanda '$>$,$\\geq$' maka gunakan 'greater' : uji pihak kanan\n",
    "  - jika pada $H_1$ ada tanda '$\\not=$' maka gunakan 'two-side' : uji dua pihak"
   ]
  },
  {
   "cell_type": "markdown",
   "metadata": {
    "id": "sv1zOA1t9104"
   },
   "source": [
    "- Fungsi tersebut akan mengeluarkan 2 output yaitu nilai statistik uji, dan p-value"
   ]
  },
  {
   "cell_type": "code",
   "execution_count": 22,
   "metadata": {
    "id": "64AvagDf91Pu"
   },
   "outputs": [],
   "source": [
    "# Import library\n",
    "from scipy.stats import ttest_1samp"
   ]
  },
  {
   "cell_type": "code",
   "execution_count": 23,
   "metadata": {
    "colab": {
     "base_uri": "https://localhost:8080/"
    },
    "id": "fGO1fBj_98HX",
    "outputId": "2c3968e5-fcbf-4d14-dcc8-f40f3743909f"
   },
   "outputs": [
    {
     "name": "stdout",
     "output_type": "stream",
     "text": [
      "T score : -4.0962\n",
      "P value : 0.0013\n"
     ]
    }
   ],
   "source": [
    "# Hitung uji statistik\n",
    "t_score, p_value = ttest_1samp(\n",
    "    a = x,                  # Data dari sample\n",
    "    popmean = 8.0,          # Rata-rata populasi\n",
    "    alternative = 'less'    # Uji kiri, karena H1: sample < pop\n",
    ")\n",
    "\n",
    "print(f'T score : {t_score:.4f}')\n",
    "print(f'P value : {p_value:.4f}')"
   ]
  },
  {
   "cell_type": "markdown",
   "metadata": {
    "id": "sySmF-Ze6WwE"
   },
   "source": [
    "Pengambilan keputusan"
   ]
  },
  {
   "cell_type": "code",
   "execution_count": 24,
   "metadata": {
    "colab": {
     "base_uri": "https://localhost:8080/"
    },
    "id": "sVOr0QTL_MVN",
    "outputId": "09677911-316b-4369-f9a9-7b9b44166d10"
   },
   "outputs": [
    {
     "name": "stdout",
     "output_type": "stream",
     "text": [
      "Pengambilan Keputusan:\n",
      "Tolak H0\n"
     ]
    }
   ],
   "source": [
    "print('Pengambilan Keputusan:')\n",
    "if t_score < t_critical:\n",
    "    print('Tolak H0')\n",
    "else:\n",
    "    print('Gagal tolak H0')"
   ]
  },
  {
   "cell_type": "code",
   "execution_count": 25,
   "metadata": {
    "colab": {
     "base_uri": "https://localhost:8080/"
    },
    "id": "gsFu8moS_P9t",
    "outputId": "56f36097-0cb8-465f-df7d-ee1b16eb96b4"
   },
   "outputs": [
    {
     "name": "stdout",
     "output_type": "stream",
     "text": [
      "Pengambilan Keputusan:\n",
      "Tolak H0\n"
     ]
    }
   ],
   "source": [
    "print('Pengambilan Keputusan:')\n",
    "if p_value < alpha:\n",
    "    print('Tolak H0')\n",
    "else:\n",
    "    print('Gagal tolak H0')"
   ]
  },
  {
   "cell_type": "markdown",
   "metadata": {
    "id": "4IF9ePKs-2yY"
   },
   "source": [
    "# Case Study 3 - Sam vs Atlet\n",
    "---"
   ]
  },
  {
   "cell_type": "markdown",
   "metadata": {
    "id": "Wrp-h_hXARaT"
   },
   "source": [
    "- Sam mengatakan bahwa rata-rata lari dia **lebih cepat** dari pada rata-rata lari atlet.\n",
    "- Apakah pernyataan Sam tersebut benar?"
   ]
  },
  {
   "cell_type": "markdown",
   "metadata": {
    "id": "PHHew4g9AWfj"
   },
   "source": [
    "### Hipotesis\n",
    "---"
   ]
  },
  {
   "cell_type": "markdown",
   "metadata": {
    "id": "b_7R0w9J_CEl"
   },
   "source": [
    "- Kamu memantau 10x percobaa lari dari Sam dan atlet. Berikut data yang didapat"
   ]
  },
  {
   "cell_type": "code",
   "execution_count": 26,
   "metadata": {
    "id": "Cbxq-R1PB4wE"
   },
   "outputs": [],
   "source": [
    "# Data observasi\n",
    "sam = [7.0, 7.5, 6.0, 7.7, 5.9, 8.0, 7.0, 7.8, 5.8, 6.6]\n",
    "atlet = [9.0, 7.5, 10.0, 8.0, 8.9, 8.0, 11.0, 8.8, 9.8, 7.6]"
   ]
  },
  {
   "cell_type": "markdown",
   "metadata": {
    "id": "z0IsBaPWAquk"
   },
   "source": [
    "- Karena kita kasihan dengan Sam, kita akan menguji apakah rata-rata kecepatan lari Sam dan atlet berebda.\n",
    "- Maka hipotesi yang diuji adalah\n",
    "  - $H_{0}$ : $\\mu_{\\text{sam}} = \\mu_{\\text{atlet}}$\n",
    "  - $H_{1}$ : $\\mu_{\\text{sam}} \\neq \\mu_{\\text{atlet}}$"
   ]
  },
  {
   "cell_type": "markdown",
   "metadata": {
    "id": "d-g53Zh36WwP"
   },
   "source": [
    "### Statistik uji yang digunakan\n",
    "---"
   ]
  },
  {
   "cell_type": "markdown",
   "metadata": {
    "id": "e1hzcLSyBXFR"
   },
   "source": [
    "- Apa yang kita bandingkan? **Rata-rata**, maka bisa gunakan *z-test* atau *t-test*\n",
    "- Apa kita tau informasi populasi? **Tidak**, maka gunakan *t-test*\n",
    "- Apakah varians antar sample sama? **Tidak**, maka gunakan *t-test* dengan beda varians."
   ]
  },
  {
   "cell_type": "markdown",
   "metadata": {
    "id": "w1IPFEMABpMc"
   },
   "source": [
    "- Maka formula t-test yang digunakan adalah sebagai berikut\n",
    "\n",
    "$$\n",
    "t =\n",
    "\\cfrac\n",
    "{\\bar{x}_{1} - \\bar{x}_{2}}\n",
    "{\n",
    "    \\sqrt{\n",
    "        \\cfrac{s_{1}^{2}}{n_{1}}\n",
    "        +\n",
    "        \\cfrac{s_{2}^{2}}{n_{2}}\n",
    "    }\n",
    "}\n",
    "$$"
   ]
  },
  {
   "cell_type": "markdown",
   "metadata": {
    "id": "-4b57Wb0BwOO"
   },
   "source": [
    "- Mari kita lakukan pengujian"
   ]
  },
  {
   "cell_type": "code",
   "execution_count": 27,
   "metadata": {
    "colab": {
     "base_uri": "https://localhost:8080/"
    },
    "id": "x0ufFA-gByog",
    "outputId": "d6351d79-50d4-40ae-f516-991908e75231"
   },
   "outputs": [
    {
     "name": "stdout",
     "output_type": "stream",
     "text": [
      "Rata-rata\n",
      " - Sam   : 6.93\n",
      " - Atlet : 8.86\n",
      "Varians\n",
      " - Sam   : 0.68\n",
      " - Atlet : 1.30\n",
      "Banyak sample\n",
      " - Sam   : 10\n",
      " - Atlet : 10\n"
     ]
    }
   ],
   "source": [
    "# Cari statistik sam\n",
    "x1_bar = np.mean(sam)\n",
    "s1_square = np.var(sam, ddof=1)\n",
    "n1 = len(sam)\n",
    "\n",
    "# Cari statistik atlet\n",
    "x2_bar = np.mean(atlet)\n",
    "s2_square = np.var(atlet, ddof=1)\n",
    "n2 = len(atlet)\n",
    "\n",
    "print('Rata-rata')\n",
    "print(f' - Sam   : {x1_bar:.2f}')\n",
    "print(f' - Atlet : {x2_bar:.2f}')\n",
    "print('Varians')\n",
    "print(f' - Sam   : {s1_square:.2f}')\n",
    "print(f' - Atlet : {s2_square:.2f}')\n",
    "print('Banyak sample')\n",
    "print(f' - Sam   : {n1:.0f}')\n",
    "print(f' - Atlet : {n2:.0f}')"
   ]
  },
  {
   "cell_type": "markdown",
   "metadata": {
    "id": "DdmqOqhsCXwf"
   },
   "source": [
    "- Maka formula t-test yang digunakan adalah sebagai berikut\n",
    "\n",
    "$$\n",
    "t =\n",
    "\\cfrac\n",
    "{\\bar{x}_{1} - \\bar{x}_{2}}\n",
    "{\n",
    "    \\sqrt{\n",
    "        \\cfrac{s_{1}^{2}}{n_{1}}\n",
    "        +\n",
    "        \\cfrac{s_{2}^{2}}{n_{2}}\n",
    "    }\n",
    "}\n",
    "$$"
   ]
  },
  {
   "cell_type": "code",
   "execution_count": 28,
   "metadata": {
    "colab": {
     "base_uri": "https://localhost:8080/"
    },
    "id": "aGrY4X-0BwOc",
    "outputId": "054522f0-b872-4798-ea65-2b09b5d146c2"
   },
   "outputs": [
    {
     "name": "stdout",
     "output_type": "stream",
     "text": [
      "T_score : -4.3343\n"
     ]
    }
   ],
   "source": [
    "# Hitung t-test\n",
    "t_score = (x1_bar-x2_bar) / np.sqrt((s1_square/n1) + (s2_square/n2))\n",
    "print(f'T_score : {t_score:.4f}')"
   ]
  },
  {
   "cell_type": "markdown",
   "metadata": {
    "id": "1cQAetenBwOc"
   },
   "source": [
    "- Nilai negatif karena $\\bar{x}_{1}$ lebih kecil dibanding $\\bar{x}_{2}$ (referensi)\n",
    "- Dalam visualisasi"
   ]
  },
  {
   "cell_type": "code",
   "execution_count": 29,
   "metadata": {
    "colab": {
     "base_uri": "https://localhost:8080/",
     "height": 458
    },
    "id": "glXXK1Z4BwOc",
    "outputId": "221267de-5ad8-44c1-85ca-e27bd6fde165"
   },
   "outputs": [
    {
     "data": {
      "image/png": "[encoded data removed]",
      "text/plain": [
       "<Figure size 640x480 with 1 Axes>"
      ]
     },
     "metadata": {},
     "output_type": "display_data"
    }
   ],
   "source": [
    "# Visualisasi distribusi t-score\n",
    "x_ = np.arange(-5, 5, 0.01)\n",
    "pdf_ = t.pdf(x_, df=len(x_))\n",
    "\n",
    "plt.fill_between(x_, pdf_, facecolor='blue', alpha=0.35)\n",
    "\n",
    "plt.axvline(0.0, linestyle='--', color='black', label=f'Mean atlet: {x2_bar:.2f} km/jam')\n",
    "plt.axvline(t_score, linestyle='--', color='green', label=f'Mean Sam: {x1_bar:.2f} km/jam')\n",
    "\n",
    "plt.xlabel('T score')\n",
    "plt.ylabel('PDF')\n",
    "plt.legend()\n",
    "plt.show()"
   ]
  },
  {
   "cell_type": "markdown",
   "metadata": {
    "id": "BElgzuczC7OK"
   },
   "source": [
    "### Membuat keputusan\n",
    "---"
   ]
  },
  {
   "cell_type": "markdown",
   "metadata": {
    "id": "PR40ortxC7OW"
   },
   "source": [
    "- Definisikan significance level, misal $\\alpha = 0.05$ atau confidence level 95%"
   ]
  },
  {
   "cell_type": "code",
   "execution_count": 30,
   "metadata": {
    "id": "BfKJsnKzC7OW"
   },
   "outputs": [],
   "source": [
    "alpha = 0.05"
   ]
  },
  {
   "cell_type": "markdown",
   "metadata": {
    "id": "hmRG3-UiC7OX"
   },
   "source": [
    "#### Cara 1: Gunakan `t_critical`\n",
    "---"
   ]
  },
  {
   "cell_type": "markdown",
   "metadata": {
    "id": "2xWiniaZC7OX"
   },
   "source": [
    "- Informasi $\\alpha$ harus dikonversi dalam sudut pandang T-score agar bisa menjadi threshold penentu signifikansi uji.\n",
    "- **Ingat**, $\\alpha$ serupa dengan confidence level (CDF) dari distribusi T-score.\n",
    "- Maka, $\\alpha = 0.05$ atau confidence level 95% adalah `t_score` yang menyebabkan CDF = 0.95."
   ]
  },
  {
   "cell_type": "code",
   "execution_count": 31,
   "metadata": {
    "colab": {
     "base_uri": "https://localhost:8080/"
    },
    "id": "C4mgynuuC7OX",
    "outputId": "7dd11984-8b47-4106-ea59-45faa96ee78a"
   },
   "outputs": [
    {
     "name": "stdout",
     "output_type": "stream",
     "text": [
      "Saat alpha = 0.05\n",
      " - t_critical_lower = -2.2622\n",
      " - t_critical_upper = 2.2622\n"
     ]
    }
   ],
   "source": [
    "# Hitung ppf\n",
    "# Akan ada 2 t_critical karena H1 bernilai !=,\n",
    "# maka alpha dibagi 2 agar CDF tetap 95%\n",
    "t_critical_lower = t.ppf(alpha/2., df=n-1)\n",
    "t_critical_upper = t.ppf(1 - (alpha/2.), df=n-1)\n",
    "\n",
    "print(f'Saat alpha = {alpha}')\n",
    "print(f' - t_critical_lower = {t_critical_lower:.4f}')\n",
    "print(f' - t_critical_upper = {t_critical_upper:.4f}')"
   ]
  },
  {
   "cell_type": "markdown",
   "metadata": {
    "id": "NO-ghsibC7OY"
   },
   "source": [
    "- Coba visualkan $\\alpha$ atau `t_critical`"
   ]
  },
  {
   "cell_type": "code",
   "execution_count": 32,
   "metadata": {
    "colab": {
     "base_uri": "https://localhost:8080/",
     "height": 458
    },
    "id": "LozN0mEaC7OY",
    "outputId": "7a661565-fd69-47a2-969b-13a81b8cb533"
   },
   "outputs": [
    {
     "data": {
      "image/png": "[encoded data removed]",
      "text/plain": [
       "<Figure size 640x480 with 1 Axes>"
      ]
     },
     "metadata": {},
     "output_type": "display_data"
    }
   ],
   "source": [
    "plt.fill_between(x_, pdf_, facecolor='blue', alpha=0.35)\n",
    "\n",
    "plt.fill_between(np.arange(-5.0, t_critical_lower, 0.01),\n",
    "                 t.pdf(np.arange(-5.0, t_critical_lower, 0.01), df=len(x_)),\n",
    "                 facecolor='red',\n",
    "                 alpha=0.35,\n",
    "                 label='Area penolakan H0, lower')\n",
    "\n",
    "plt.fill_between(np.arange(t_critical_upper, 5.0, 0.01),\n",
    "                 t.pdf(np.arange(t_critical_upper, 5.0, 0.01), df=len(x_)),\n",
    "                 facecolor='orange',\n",
    "                 alpha=0.35,\n",
    "                 label='Area penolakan H0, upper')\n",
    "\n",
    "plt.axvline(0.0, linestyle='--', color='black', label=f'Mean atlet: {x2_bar:.2f} km/jam')\n",
    "plt.axvline(t_score, linestyle='--', color='green', label=f'Mean Sam: {x1_bar:.2f} km/jam')\n",
    "plt.axvline(t_critical_lower, linestyle='--', color='red', label=f'T_critical_lower saat alpha: {alpha}')\n",
    "plt.axvline(t_critical_upper, linestyle='--', color='orange', label=f'T_critical_upper saat alpha: {alpha}')\n",
    "\n",
    "plt.xlabel('T score')\n",
    "plt.ylabel('PDF')\n",
    "plt.legend()\n",
    "plt.show()"
   ]
  },
  {
   "cell_type": "markdown",
   "metadata": {
    "id": "49TEbCLOE2Fe"
   },
   "source": [
    "- Sekarang kita bisa buat keputusan.\n",
    "\n",
    "$$\n",
    "\\text{decision} =\n",
    "\\begin{cases}\n",
    " & \\text{H0 ditolak,} \\text{ jika } t_{\\text{test}} < t_{\\text{crit lower}} \\\\\n",
    "  & \\text{H0 ditolak,} \\text{ jika } t_{\\text{test}} > t_{\\text{crit upper}} \\\\\n",
    " & \\text{H0 gagal ditolak,} \\text{ jika } t_{\\text{crit lower}} \\leq t_{\\text{test}} \\leq t_{\\text{crit upper}}\n",
    "\\end{cases}\n",
    "$$"
   ]
  },
  {
   "cell_type": "code",
   "execution_count": 33,
   "metadata": {
    "colab": {
     "base_uri": "https://localhost:8080/"
    },
    "id": "b7HOq2N3E2Ff",
    "outputId": "0814e693-86fc-4be4-f6ac-77883103754b"
   },
   "outputs": [
    {
     "name": "stdout",
     "output_type": "stream",
     "text": [
      "Pengambilan Keputusan:\n",
      "Tolak H0\n"
     ]
    }
   ],
   "source": [
    "print('Pengambilan Keputusan:')\n",
    "if t_score < t_critical_lower:\n",
    "    print('Tolak H0')\n",
    "elif t_score > t_critical_upper:\n",
    "    print('Tolak H0')\n",
    "else:\n",
    "    print('Gagal tolak H0')"
   ]
  },
  {
   "cell_type": "markdown",
   "metadata": {
    "id": "K49rRDSLFgs7"
   },
   "source": [
    "#### Cara 2: Gunakan $\\alpha$\n",
    "---"
   ]
  },
  {
   "cell_type": "markdown",
   "metadata": {
    "id": "YLkJF4swFgs8"
   },
   "source": [
    "- $\\alpha$ analog dengan CDF dari distribusi t.\n",
    "- Maka kita bisa konversi `t_score` ke dalam CDF\n",
    "- Ini bisa didapat menggunakan fungsi `t.cdf()`\n",
    "- Hasil konversi ini disebut dengan **p_value**"
   ]
  },
  {
   "cell_type": "code",
   "execution_count": 34,
   "metadata": {
    "colab": {
     "base_uri": "https://localhost:8080/"
    },
    "id": "tyA4R1Z1Fgs8",
    "outputId": "baf2a510-e11d-4308-8c67-496fecbdcf6a"
   },
   "outputs": [
    {
     "name": "stdout",
     "output_type": "stream",
     "text": [
      "p_value : 0.0005\n"
     ]
    }
   ],
   "source": [
    "# Hitung p_value dari t_score\n",
    "p_value = t.cdf(t_score, df=n-1)/2.\n",
    "\n",
    "print(f'p_value : {p_value:.4f}')"
   ]
  },
  {
   "cell_type": "markdown",
   "metadata": {
    "id": "qx75e320Fgs9"
   },
   "source": [
    "- Sekarang kita bisa buat keputusan.\n",
    "\n",
    "$$\n",
    "\\text{decision} =\n",
    "\\begin{cases}\n",
    " & \\text{H0 ditolak,} \\text{ jika } \\text{p-value} < \\alpha \\\\\n",
    " & \\text{H0 gagal ditolak,} \\text{ jika } \\text{p-value} \\geq \\alpha\n",
    "\\end{cases}\n",
    "$$"
   ]
  },
  {
   "cell_type": "code",
   "execution_count": 35,
   "metadata": {
    "colab": {
     "base_uri": "https://localhost:8080/"
    },
    "id": "5aiXi51yFgs9",
    "outputId": "ed1ca557-1430-428b-9e97-2d0e4b843838"
   },
   "outputs": [
    {
     "name": "stdout",
     "output_type": "stream",
     "text": [
      "Pengambilan Keputusan:\n",
      "Tolak H0\n"
     ]
    }
   ],
   "source": [
    "print('Pengambilan Keputusan:')\n",
    "if p_value < alpha:\n",
    "    print('Tolak H0')\n",
    "else:\n",
    "    print('Gagal tolak H0')"
   ]
  },
  {
   "cell_type": "markdown",
   "metadata": {
    "id": "B7-T-eaVFvRY"
   },
   "source": [
    "### Gunakan Library untuk uji hipotesis\n",
    "---"
   ]
  },
  {
   "cell_type": "markdown",
   "metadata": {
    "id": "MsZNx_iFF0p-"
   },
   "source": [
    "Cara menggunakan perhitungan uji statistik t untuk uji rata rata 2 sampel menggunakan scipy.stats"
   ]
  },
  {
   "cell_type": "markdown",
   "metadata": {
    "id": "3EP0AN2KF2vN"
   },
   "source": [
    "- Import library yang dibutuhkan `from scipy.stats import ttest_ind`\n",
    "- Gunakan fungsi `ttest_ind(a = ... , b = ... , equal_var = ... , alternative = ... )`"
   ]
  },
  {
   "cell_type": "markdown",
   "metadata": {
    "id": "CrYCRa026WwV"
   },
   "source": [
    "Dengan memasukkan parameter:\n",
    "- `a` : data sampel yang diuji (data1)\n",
    "- `b` : data sampel yang diuji (data2)\n",
    "- `equal_var` : kondisi apakah kedua sampel punya varians yang sama atau tidak isi dengan `True` atau `False`\n",
    "- `alternative` : uji pihak yang dilakukan, cek $H_1$\n",
    "    - jika pada $H_1$ ada tanda '$<$,$\\leq$' maka gunakan 'less' untuk uji pihak kiri\n",
    "    - jika pada $H_1$ ada tanda '$>$,$\\geq$' maka gunakan 'greater' : uji pihak kanan\n",
    "    - jika pada $H_1$ ada tanda '$\\not=$' maka gunakan 'greater' : uji pihak kanan\n",
    "        \n",
    "- fungsi tersebut akan mengeluarkan 2 output yaitu nilai statistik uji, dan p-value"
   ]
  },
  {
   "cell_type": "code",
   "execution_count": 36,
   "metadata": {
    "id": "XH_sQWK3GF7C"
   },
   "outputs": [],
   "source": [
    "# Import library\n",
    "from scipy.stats import ttest_ind"
   ]
  },
  {
   "cell_type": "code",
   "execution_count": 37,
   "metadata": {
    "colab": {
     "base_uri": "https://localhost:8080/"
    },
    "id": "kS4oUG9fGJX6",
    "outputId": "78fd61c1-9313-4a33-98ca-3e6032d2136b"
   },
   "outputs": [
    {
     "name": "stdout",
     "output_type": "stream",
     "text": [
      "T score : -4.3343\n",
      "P value : 0.0005\n"
     ]
    }
   ],
   "source": [
    "# Lakukan testing\n",
    "t_score, p_value = ttest_ind(\n",
    "    a = sam,\n",
    "    b = atlet,\n",
    "    equal_var = False,\n",
    "    alternative = 'two-sided'\n",
    ")\n",
    "\n",
    "print(f'T score : {t_score:.4f}')\n",
    "print(f'P value : {p_value:.4f}')"
   ]
  },
  {
   "cell_type": "markdown",
   "metadata": {
    "id": "iYcurWXs6WwW"
   },
   "source": [
    "- Pengambilan Keputusan"
   ]
  },
  {
   "cell_type": "code",
   "execution_count": 38,
   "metadata": {
    "colab": {
     "base_uri": "https://localhost:8080/"
    },
    "id": "jNHj7O87IOn0",
    "outputId": "0fa0a8fe-9816-4094-8d92-2bf09ae94afa"
   },
   "outputs": [
    {
     "name": "stdout",
     "output_type": "stream",
     "text": [
      "Pengambilan Keputusan:\n",
      "Tolak H0\n"
     ]
    }
   ],
   "source": [
    "print('Pengambilan Keputusan:')\n",
    "if t_score < t_critical_lower:\n",
    "    print('Tolak H0')\n",
    "elif t_score > t_critical_upper:\n",
    "    print('Tolak H0')\n",
    "else:\n",
    "    print('Gagal tolak H0')"
   ]
  },
  {
   "cell_type": "code",
   "execution_count": 39,
   "metadata": {
    "colab": {
     "base_uri": "https://localhost:8080/"
    },
    "id": "-vn7CH15IP5W",
    "outputId": "8466fea1-3b7d-4d84-bade-bca8b5cc09c5"
   },
   "outputs": [
    {
     "name": "stdout",
     "output_type": "stream",
     "text": [
      "Pengambilan Keputusan:\n",
      "Tolak H0\n"
     ]
    }
   ],
   "source": [
    "print('Pengambilan Keputusan:')\n",
    "if p_value < alpha:\n",
    "    print('Tolak H0')\n",
    "else:\n",
    "    print('Gagal tolak H0')"
   ]
  }
 ],
 "metadata": {
  "colab": {
   "provenance": []
  },
  "kernelspec": {
   "display_name": ".venv",
   "language": "python",
   "name": "python3"
  },
  "language_info": {
   "codemirror_mode": {
    "name": "ipython",
    "version": 3
   },
   "file_extension": ".py",
   "mimetype": "text/x-python",
   "name": "python",
   "nbconvert_exporter": "python",
   "pygments_lexer": "ipython3",
   "version": "3.10.14"
  }
 },
 "nbformat": 4,
 "nbformat_minor": 1
}
